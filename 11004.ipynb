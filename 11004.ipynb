{
 "cells": [
  {
   "cell_type": "code",
   "execution_count": 12,
   "id": "5a7bdca9",
   "metadata": {},
   "outputs": [
    {
     "name": "stdout",
     "output_type": "stream",
     "text": [
      "5 2\n",
      "4 1 2 3 5\n",
      "2\n"
     ]
    }
   ],
   "source": [
    "stdin = input()\n",
    "stdin = stdin.split(\" \")\n",
    "N, K = int(stdin[0]), int(stdin[1])\n",
    "stdin_list = input()\n",
    "stdin_list = stdin_list.split(\" \")\n",
    "l = []\n",
    "for num in stdin_list:\n",
    "    l.append(int(num))\n",
    "l.sort()\n",
    "    \n",
    "print(l[K - 1])"
   ]
  }
 ],
 "metadata": {
  "kernelspec": {
   "display_name": "Python 3 (ipykernel)",
   "language": "python",
   "name": "python3"
  },
  "language_info": {
   "codemirror_mode": {
    "name": "ipython",
    "version": 3
   },
   "file_extension": ".py",
   "mimetype": "text/x-python",
   "name": "python",
   "nbconvert_exporter": "python",
   "pygments_lexer": "ipython3",
   "version": "3.10.4"
  }
 },
 "nbformat": 4,
 "nbformat_minor": 5
}
