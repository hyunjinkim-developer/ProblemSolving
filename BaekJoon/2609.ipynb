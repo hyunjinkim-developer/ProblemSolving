{
 "cells": [
  {
   "cell_type": "code",
   "execution_count": null,
   "id": "ce0d02ce",
   "metadata": {},
   "outputs": [],
   "source": [
    "# Calculate GCD(Greatest Common Divisor) recursively\n",
    "def gcd(a, b):\n",
    "    if a == 0:\n",
    "        return b\n",
    "    elif b == 0:\n",
    "        return a\n",
    "    else:\n",
    "        if a >= b:\n",
    "            return gcd(a % b, b)\n",
    "        elif a < b:\n",
    "            return gcd(a, b % a)\n",
    "        \n",
    "# Calculate LCM(Least Common Multiple)\n",
    "def lcm(a, b):\n",
    "    gcd_result = gcd(a, b)\n",
    "    a_divisor = a // gcd_result\n",
    "    b_divisor = b // gcd_result\n",
    "    return gcd_result * a_divisor * b_divisor\n",
    "        \n",
    "    \n",
    "def main():\n",
    "    # Get input\n",
    "    stdin = input()\n",
    "    A, B = stdin.split(\" \")\n",
    "    A, B = int(A), int(B)\n",
    "\n",
    "    # Calculate GCD\n",
    "    gcd_result = gcd(A, B)\n",
    "    lcm_result = lcm(A, B)\n",
    "    \n",
    "    # Print GCD, LCM\n",
    "    print(gcd_result)\n",
    "    print(lcm_result)\n",
    "    \n",
    "if __name__ == \"__main__\":\n",
    "    main()"
   ]
  },
  {
   "cell_type": "code",
   "execution_count": null,
   "id": "17068424",
   "metadata": {},
   "outputs": [],
   "source": []
  }
 ],
 "metadata": {
  "kernelspec": {
   "display_name": "Python 3 (ipykernel)",
   "language": "python",
   "name": "python3"
  },
  "language_info": {
   "codemirror_mode": {
    "name": "ipython",
    "version": 3
   },
   "file_extension": ".py",
   "mimetype": "text/x-python",
   "name": "python",
   "nbconvert_exporter": "python",
   "pygments_lexer": "ipython3",
   "version": "3.10.4"
  }
 },
 "nbformat": 4,
 "nbformat_minor": 5
}
