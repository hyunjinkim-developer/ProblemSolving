{
 "cells": [
  {
   "cell_type": "code",
   "execution_count": 70,
   "id": "d9291d95",
   "metadata": {
    "scrolled": true
   },
   "outputs": [
    {
     "name": "stdout",
     "output_type": "stream",
     "text": [
      "\n"
     ]
    }
   ],
   "source": [
    "import sys\n",
    "from collections import deque\n",
    "\n",
    "# Sieve of Eratosthenes: find all prime numbers\n",
    "def find_prime(n):\n",
    "    seive = [True] * n\n",
    "    m = int(n ** 0.5)\n",
    "    for i in range(2, m + 1):\n",
    "        if seive[i] == True: # If i is prime number\n",
    "            for j in range(i + i, n, i):\n",
    "                seive[j] = False\n",
    "    return seive\n",
    "\n",
    "def bfs(before, after, prime_list, visited):\n",
    "    q = deque()\n",
    "    q.append([str(before), 0]) # Append string to make process of converting every digit easier\n",
    "    visited[before - 1000] = True\n",
    "    while q:\n",
    "        X, count = q.popleft()\n",
    "        if X == str(after):\n",
    "            return count\n",
    "        else:\n",
    "            for digit in range(0, 4): # Convert only one digit\n",
    "                convert_digit = list(X)\n",
    "                for i in range(0, 10): \n",
    "                    convert_digit[digit] = str(i)\n",
    "                    new_num = \"\".join(convert_digit)\n",
    "                    int_new_num = int(new_num)\n",
    "                    # Every converted number should be prime number\n",
    "                    if new_num != X and int_new_num >= 1000 \\\n",
    "                        and not visited[int_new_num - 1000] and prime_list[int_new_num]: \n",
    "                            q.append([new_num, count + 1])\n",
    "                            visited[int_new_num - 1000] = True\n",
    "                        \n",
    "def main():\n",
    "    answer = []\n",
    "    # Get input\n",
    "    for _ in range(int(input())):\n",
    "        before, after = map(int, input().split(\" \"))\n",
    "        \n",
    "        prime_list = find_prime(10000)\n",
    "        visited = [False] * (10000 - 1000) # 1000 ~ 9999 to minimize memory usage\n",
    "        result = \"Impossible\"\n",
    "        ret = bfs(before, after, prime_list, visited)\n",
    "        if ret != None:\n",
    "            result = ret\n",
    "        print(result)\n",
    "        \n",
    "if __name__ ==  \"__main__\":\n",
    "    main()"
   ]
  },
  {
   "cell_type": "code",
   "execution_count": 67,
   "id": "86cb36b2",
   "metadata": {},
   "outputs": [],
   "source": [
    "# Write my own\n",
    "# Sieve of Eratosthenes\n",
    "def find_prime():\n",
    "    total_list = set([i for i in range(1000, 10000)])\n",
    "    not_prime_list = set()\n",
    "    for i in range(2, 100):\n",
    "        if 1000 % i == 0:\n",
    "            j = 1000 // i\n",
    "        else:\n",
    "            j = (1000 // i) + 1\n",
    "        while i * j < 10000:\n",
    "            not_prime_list.add(i * j)\n",
    "            j += 1\n",
    "    return list(total_list.difference())"
   ]
  }
 ],
 "metadata": {
  "kernelspec": {
   "display_name": "Python 3 (ipykernel)",
   "language": "python",
   "name": "python3"
  },
  "language_info": {
   "codemirror_mode": {
    "name": "ipython",
    "version": 3
   },
   "file_extension": ".py",
   "mimetype": "text/x-python",
   "name": "python",
   "nbconvert_exporter": "python",
   "pygments_lexer": "ipython3",
   "version": "3.10.4"
  }
 },
 "nbformat": 4,
 "nbformat_minor": 5
}
