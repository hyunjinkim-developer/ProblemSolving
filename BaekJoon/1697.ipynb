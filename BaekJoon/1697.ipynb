{
 "cells": [
  {
   "cell_type": "code",
   "execution_count": 12,
   "id": "d6e065ac",
   "metadata": {},
   "outputs": [
    {
     "name": "stdout",
     "output_type": "stream",
     "text": [
      "5 17\n",
      "4\n"
     ]
    }
   ],
   "source": [
    "from collections import deque\n",
    "\n",
    "def bfs(N, K):\n",
    "    q = deque()\n",
    "    q.append(N)\n",
    "    while q:\n",
    "        X = q.popleft()\n",
    "        if X == K:\n",
    "            print(time[K])\n",
    "            break\n",
    "        else:\n",
    "            for nextX in [X - 1, X + 1, 2 * X]:\n",
    "                if 0 <= nextX <= MAX and not time[nextX]:\n",
    "                    time[nextX] = time[X] + 1\n",
    "                    # Add node in the righthand of deque\n",
    "                    q.append(nextX)\n",
    "\n",
    "# Get input\n",
    "N, K = map(int, input().split(\" \"))\n",
    "\n",
    "MAX = 10 ** 5 # Maximum location\n",
    "time = [0] * (MAX + 1) # To count how much time it took\n",
    "bfs(N, K)"
   ]
  },
  {
   "cell_type": "code",
   "execution_count": null,
   "id": "76733119",
   "metadata": {},
   "outputs": [],
   "source": []
  }
 ],
 "metadata": {
  "kernelspec": {
   "display_name": "Python 3 (ipykernel)",
   "language": "python",
   "name": "python3"
  },
  "language_info": {
   "codemirror_mode": {
    "name": "ipython",
    "version": 3
   },
   "file_extension": ".py",
   "mimetype": "text/x-python",
   "name": "python",
   "nbconvert_exporter": "python",
   "pygments_lexer": "ipython3",
   "version": "3.10.4"
  }
 },
 "nbformat": 4,
 "nbformat_minor": 5
}
