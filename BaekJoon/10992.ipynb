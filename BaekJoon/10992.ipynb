{
 "cells": [
  {
   "cell_type": "code",
   "execution_count": null,
   "id": "6ef000ac",
   "metadata": {},
   "outputs": [],
   "source": [
    "N = int(input())\n",
    "\n",
    "for i in range(1, N + 1):\n",
    "    for j in range(N - i):\n",
    "        print(\" \", end=\"\")\n",
    "    if i == 1:\n",
    "        print(\"*\")\n",
    "    elif i == N:\n",
    "        for j in range(2 * N - 1):\n",
    "            print(\"*\", end=\"\") \n",
    "    else:\n",
    "        print(\"*\", end=\"\")\n",
    "        for j in range(2 * i - 3):\n",
    "            print(\" \", end=\"\")\n",
    "        print(\"*\")"
   ]
  },
  {
   "cell_type": "code",
   "execution_count": null,
   "id": "e1101cf0",
   "metadata": {},
   "outputs": [],
   "source": []
  }
 ],
 "metadata": {
  "kernelspec": {
   "display_name": "Python 3 (ipykernel)",
   "language": "python",
   "name": "python3"
  },
  "language_info": {
   "codemirror_mode": {
    "name": "ipython",
    "version": 3
   },
   "file_extension": ".py",
   "mimetype": "text/x-python",
   "name": "python",
   "nbconvert_exporter": "python",
   "pygments_lexer": "ipython3",
   "version": "3.10.4"
  }
 },
 "nbformat": 4,
 "nbformat_minor": 5
}
