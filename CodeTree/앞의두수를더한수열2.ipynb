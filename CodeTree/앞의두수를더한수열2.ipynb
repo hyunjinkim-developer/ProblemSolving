{
 "cells": [
  {
   "cell_type": "code",
   "execution_count": null,
   "metadata": {
    "collapsed": true
   },
   "outputs": [],
   "source": [
    "n = int(input())\n",
    "\n",
    "sum_list = [0, 1]\n",
    "for i in range(2, n + 1):\n",
    "    sum_list.append(sum_list[i - 2] + sum_list[i - 1])\n",
    "\n",
    "print(sum_list[-1])"
   ]
  }
 ],
 "metadata": {
  "kernelspec": {
   "display_name": "Python 3",
   "language": "python",
   "name": "python3"
  },
  "language_info": {
   "codemirror_mode": {
    "name": "ipython",
    "version": 2
   },
   "file_extension": ".py",
   "mimetype": "text/x-python",
   "name": "python",
   "nbconvert_exporter": "python",
   "pygments_lexer": "ipython2",
   "version": "2.7.6"
  }
 },
 "nbformat": 4,
 "nbformat_minor": 0
}
