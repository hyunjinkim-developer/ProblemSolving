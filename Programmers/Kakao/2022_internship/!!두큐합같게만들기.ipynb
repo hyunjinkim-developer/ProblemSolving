{
 "cells": [
  {
   "cell_type": "markdown",
   "source": [
    "# While loop end condition 주의"
   ],
   "metadata": {
    "collapsed": false
   }
  },
  {
   "cell_type": "code",
   "execution_count": null,
   "outputs": [],
   "source": [
    "import collections\n",
    "\n",
    "def solution(queue1, queue2):\n",
    "    answer = 0\n",
    "    total_count = len(queue1) + len(queue2)\n",
    "\n",
    "    # To reduce calculation\n",
    "    queue1 = collections.deque(queue1)\n",
    "    queue2 = collections.deque(queue2)\n",
    "    sum1 = sum(queue1)\n",
    "    sum2 = sum(queue2)\n",
    "    while answer <= total_count + 2:\n",
    "        # [1,1,1] [5,1,1] : 4\n",
    "        # [1,1,1,8,10,9] [1,1,1,1,1,1] : 14\n",
    "        if sum1 == sum2:\n",
    "            return answer\n",
    "        elif sum1 > sum2:\n",
    "            num = queue1.popleft()\n",
    "            queue2.append(num)\n",
    "            sum1 -= num\n",
    "            sum2 += num\n",
    "        else: # sum(queue1) < sum(queue2)\n",
    "            num = queue2.popleft()\n",
    "            queue1.append(num)\n",
    "            sum2 -= num\n",
    "            sum1 += num\n",
    "        answer += 1\n",
    "    return -1"
   ],
   "metadata": {
    "collapsed": false
   }
  }
 ],
 "metadata": {
  "kernelspec": {
   "display_name": "Python 3",
   "language": "python",
   "name": "python3"
  },
  "language_info": {
   "codemirror_mode": {
    "name": "ipython",
    "version": 2
   },
   "file_extension": ".py",
   "mimetype": "text/x-python",
   "name": "python",
   "nbconvert_exporter": "python",
   "pygments_lexer": "ipython2",
   "version": "2.7.6"
  }
 },
 "nbformat": 4,
 "nbformat_minor": 0
}
