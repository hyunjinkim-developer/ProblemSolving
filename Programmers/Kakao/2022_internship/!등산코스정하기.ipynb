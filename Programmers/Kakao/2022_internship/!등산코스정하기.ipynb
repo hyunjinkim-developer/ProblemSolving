{
 "cells": [
  {
   "cell_type": "markdown",
   "source": [
    "# <a href=https://school.programmers.co.kr/questions/37001>Reference Solution</a>\n"
   ],
   "metadata": {
    "collapsed": false
   }
  },
  {
   "cell_type": "code",
   "execution_count": null,
   "outputs": [],
   "source": [
    "from collections import defaultdict\n",
    "import heapq\n",
    "\n",
    "def solution(n, paths, gates, summits):\n",
    "    graph = defaultdict(list)\n",
    "    s = []\n",
    "    INF = float('inf')\n",
    "    node_intensity_info = [INF] * (n + 1)\n",
    "\n",
    "    # element in set : O(1)\n",
    "    # element in list : O(n)\n",
    "    summits = set(summits)\n",
    "    gates = set(gates)\n",
    "    # starting point: (intensity=0, gate number)\n",
    "    for gate in gates:\n",
    "        heapq.heappush(s, (0, gate))\n",
    "        node_intensity_info[gate] = 0\n",
    "    # starting point, destination, weight\n",
    "    for start, dst, weight in paths:\n",
    "        graph[start].append((dst, weight))\n",
    "        graph[dst].append((start, weight))\n",
    "\n",
    "    while s:\n",
    "        weight, node = heapq.heappop(s)\n",
    "        if node in summits or weight > node_intensity_info[node]:\n",
    "            continue\n",
    "        for next_node, next_weight in graph[node]:\n",
    "            intensity = max(weight, next_weight)\n",
    "            if intensity < node_intensity_info[next_node]:\n",
    "                node_intensity_info[next_node] = intensity\n",
    "                heapq.heappush(s, (node_intensity_info[next_node], next_node))\n",
    "    answer = []\n",
    "    for summit in summits:\n",
    "        answer.append([summit, node_intensity_info[summit]])\n",
    "    answer.sort(key=lambda x:(x[1], x[0]))\n",
    "    return answer[0]"
   ],
   "metadata": {
    "collapsed": false
   }
  }
 ],
 "metadata": {
  "kernelspec": {
   "display_name": "Python 3",
   "language": "python",
   "name": "python3"
  },
  "language_info": {
   "codemirror_mode": {
    "name": "ipython",
    "version": 2
   },
   "file_extension": ".py",
   "mimetype": "text/x-python",
   "name": "python",
   "nbconvert_exporter": "python",
   "pygments_lexer": "ipython2",
   "version": "2.7.6"
  }
 },
 "nbformat": 4,
 "nbformat_minor": 0
}
