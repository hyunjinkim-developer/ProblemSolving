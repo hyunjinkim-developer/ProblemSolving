{
 "cells": [
  {
   "cell_type": "code",
   "execution_count": null,
   "metadata": {
    "collapsed": true
   },
   "outputs": [],
   "source": [
    "from collections import defaultdict\n",
    "\n",
    "def solution(survey, choices):\n",
    "    answer = ''\n",
    "\n",
    "    personality_score = defaultdict(int)\n",
    "    n = len(survey)\n",
    "    for i in range(n):\n",
    "        if choices[i] == 4:\n",
    "            continue\n",
    "        elif choices[i] < 4:\n",
    "            personality = survey[i][0]\n",
    "            score = 4 - choices[i]\n",
    "            personality_score[personality] += score\n",
    "        elif choices[i] > 4:\n",
    "            personality = survey[i][1]\n",
    "            score = choices[i] % 4\n",
    "            personality_score[personality] += score\n",
    "\n",
    "    if personality_score[\"R\"] >= personality_score[\"T\"]:\n",
    "        answer += \"R\"\n",
    "    else:\n",
    "        answer += \"T\"\n",
    "    if personality_score[\"C\"] >= personality_score[\"F\"]:\n",
    "        answer += \"C\"\n",
    "    else:\n",
    "        answer += \"F\"\n",
    "    if personality_score[\"J\"] >= personality_score[\"M\"]:\n",
    "        answer += \"J\"\n",
    "    else:\n",
    "        answer += \"M\"\n",
    "    if personality_score[\"A\"] >= personality_score[\"N\"]:\n",
    "        answer += \"A\"\n",
    "    else:\n",
    "        answer += \"N\"\n",
    "\n",
    "    return answer"
   ]
  }
 ],
 "metadata": {
  "kernelspec": {
   "display_name": "Python 3",
   "language": "python",
   "name": "python3"
  },
  "language_info": {
   "codemirror_mode": {
    "name": "ipython",
    "version": 2
   },
   "file_extension": ".py",
   "mimetype": "text/x-python",
   "name": "python",
   "nbconvert_exporter": "python",
   "pygments_lexer": "ipython2",
   "version": "2.7.6"
  }
 },
 "nbformat": 4,
 "nbformat_minor": 0
}
