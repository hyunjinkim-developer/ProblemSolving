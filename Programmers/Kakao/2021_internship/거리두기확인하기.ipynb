{
 "cells": [
  {
   "cell_type": "code",
   "execution_count": null,
   "metadata": {
    "collapsed": true
   },
   "outputs": [],
   "source": [
    "# def print_matrix(matrix):\n",
    "#     for r in range(len(matrix)):\n",
    "#         print(matrix[r])\n",
    "\n",
    "def in_range(r, c):\n",
    "    return 0 <= r < 5 and 0 <= c < 5\n",
    "\n",
    "def distancing_straight(place, r, c):\n",
    "    # from up in clockwise\n",
    "    dirs = [(-2, 0), (0, 2), (2, 0), (0, -2)]\n",
    "    for dr, dc in dirs:\n",
    "        nr, nc = r + dr, c + dc\n",
    "        if not in_range(nr, nc): continue\n",
    "        if place[nr][nc] == \"P\":\n",
    "            if place[r + (dr // 2)][c + (dc // 2)] == \"X\":\n",
    "                continue\n",
    "            return False\n",
    "    return True\n",
    "\n",
    "def distancing_around(place, r, c):\n",
    "    # from up in clockwise\n",
    "    dirs = [(-1, 0), (-1, 1), (0, 1), (1, 1), (1, 0), (1, -1), (0, -1), (-1, -1)]\n",
    "    for dr, dc in dirs:\n",
    "        nr, nc = r + dr, c + dc\n",
    "        if not in_range(nr, nc): continue\n",
    "        if place[nr][nc] == \"P\":\n",
    "            if dr != 0 and dc != 0:\n",
    "                if place[r + dr][c] == \"X\" and place[r][c + dc] == \"X\":\n",
    "                    continue\n",
    "            return False\n",
    "    return True\n",
    "\n",
    "def social_distancing(place):\n",
    "    for r in range(5):\n",
    "        for c in range(5):\n",
    "            if place[r][c] != \"P\": continue\n",
    "            if distancing_around(place, r, c) == False:\n",
    "                return False\n",
    "            if distancing_straight(place, r, c) == False:\n",
    "                return False\n",
    "    return True\n",
    "\n",
    "def solution(places):\n",
    "    answer = []\n",
    "\n",
    "    for place in places:\n",
    "        if social_distancing(place) == True:\n",
    "            answer.append(1)\n",
    "        else:\n",
    "            answer.append(0)\n",
    "\n",
    "    return answer"
   ]
  }
 ],
 "metadata": {
  "kernelspec": {
   "display_name": "Python 3",
   "language": "python",
   "name": "python3"
  },
  "language_info": {
   "codemirror_mode": {
    "name": "ipython",
    "version": 2
   },
   "file_extension": ".py",
   "mimetype": "text/x-python",
   "name": "python",
   "nbconvert_exporter": "python",
   "pygments_lexer": "ipython2",
   "version": "2.7.6"
  }
 },
 "nbformat": 4,
 "nbformat_minor": 0
}
