{
 "cells": [
  {
   "cell_type": "code",
   "execution_count": null,
   "outputs": [],
   "source": [
    "def solution(s):\n",
    "    answer = \"\"\n",
    "\n",
    "    number_dict = {\"zero\": \"0\",\n",
    "                  \"one\": \"1\",\n",
    "                  \"two\": \"2\",\n",
    "                  \"three\": \"3\",\n",
    "                  \"four\": \"4\",\n",
    "                  \"five\": \"5\",\n",
    "                  \"six\": \"6\",\n",
    "                  \"seven\": \"7\",\n",
    "                  \"eight\": \"8\",\n",
    "                  \"nine\": \"9\"}\n",
    "\n",
    "    str_length = len(s)\n",
    "    idx = 0\n",
    "    while idx < str_length:\n",
    "        sub_s = s[idx]\n",
    "        if \"0\" <= sub_s <= \"9\":\n",
    "            answer += sub_s\n",
    "            idx += 1\n",
    "        else:\n",
    "            for length in range(3, 6):\n",
    "                sub_s = s[idx: idx + length]\n",
    "                if sub_s in number_dict:\n",
    "                    answer += number_dict[sub_s]\n",
    "                    idx += length\n",
    "                    break\n",
    "    return int(answer)"
   ],
   "metadata": {
    "collapsed": false
   }
  }
 ],
 "metadata": {
  "kernelspec": {
   "display_name": "Python 3",
   "language": "python",
   "name": "python3"
  },
  "language_info": {
   "codemirror_mode": {
    "name": "ipython",
    "version": 2
   },
   "file_extension": ".py",
   "mimetype": "text/x-python",
   "name": "python",
   "nbconvert_exporter": "python",
   "pygments_lexer": "ipython2",
   "version": "2.7.6"
  }
 },
 "nbformat": 4,
 "nbformat_minor": 0
}
