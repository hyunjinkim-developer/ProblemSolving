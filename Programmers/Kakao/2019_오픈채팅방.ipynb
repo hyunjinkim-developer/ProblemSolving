{
 "cells": [
  {
   "cell_type": "code",
   "execution_count": null,
   "metadata": {
    "collapsed": true
   },
   "outputs": [],
   "source": [
    "def solution(record):\n",
    "    answer = []\n",
    "\n",
    "    nickname_d = dict()\n",
    "    log = list()\n",
    "\n",
    "    for r in record:\n",
    "        r = r.split()\n",
    "        if r[0] == \"Enter\":\n",
    "            status, user_id, nickname = tuple(r)\n",
    "            nickname_d[user_id] = nickname\n",
    "            log.append((status, user_id))\n",
    "        elif r[0] == \"Leave\":\n",
    "            status, user_id = tuple(r)\n",
    "            log.append((status, user_id))\n",
    "        elif r[0] == \"Change\":\n",
    "            status, user_id, nickname = tuple(r)\n",
    "            nickname_d[user_id] = nickname\n",
    "\n",
    "    status_d = {\"Enter\": \"들어왔습니다.\", \"Leave\": \"나갔습니다.\"}\n",
    "    for status, user_id in log:\n",
    "        answer.append(f\"{nickname_d[user_id]}님이 {status_d[status]}\")\n",
    "\n",
    "    return answer"
   ]
  }
 ],
 "metadata": {
  "kernelspec": {
   "display_name": "Python 3",
   "language": "python",
   "name": "python3"
  },
  "language_info": {
   "codemirror_mode": {
    "name": "ipython",
    "version": 2
   },
   "file_extension": ".py",
   "mimetype": "text/x-python",
   "name": "python",
   "nbconvert_exporter": "python",
   "pygments_lexer": "ipython2",
   "version": "2.7.6"
  }
 },
 "nbformat": 4,
 "nbformat_minor": 0
}
