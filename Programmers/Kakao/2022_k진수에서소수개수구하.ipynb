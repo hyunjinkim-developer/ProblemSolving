{
 "cells": [
  {
   "cell_type": "code",
   "execution_count": null,
   "metadata": {
    "collapsed": true
   },
   "outputs": [],
   "source": [
    "from collections import deque\n",
    "\n",
    "# Sieve of Eratosthenes\n",
    "def find_all_prime_number(n):\n",
    "    prime = [True for i in range(n)]\n",
    "    m = int(n ** 0.5)\n",
    "    for i in range(2, m + 1):\n",
    "        if prime[i] == True:\n",
    "            for j in range(i + i, n, i):\n",
    "                prime[j] = False\n",
    "    return [i for i in range(2, n) if prime[i] == True]\n",
    "\n",
    "def is_prime_number(n):\n",
    "    if n == 1:\n",
    "        return False\n",
    "\n",
    "    m = int(n ** 0.5)\n",
    "    for i in range(2, m + 1):\n",
    "        if n % i == 0:\n",
    "            return False\n",
    "    return True\n",
    "\n",
    "def convert_base(n, k):\n",
    "    result = deque()\n",
    "\n",
    "    divisor = k\n",
    "    while n:\n",
    "        quotient, dividend = divmod(n, divisor)\n",
    "        result.appendleft(str(dividend))\n",
    "        n = quotient\n",
    "    return \"\".join(list(result))\n",
    "\n",
    "def solution(n, k):\n",
    "    answer = 0\n",
    "\n",
    "    k_base = \"\"\n",
    "    if k == 10:\n",
    "        k_base = str(n)\n",
    "    else:\n",
    "        k_base = convert_base(n, k)\n",
    "\n",
    "    # Method 1:\n",
    "    # Check each available number is a prime number\n",
    "    k_base = [int(num) for num in k_base.split(\"0\") if num != \"\"]\n",
    "    for num in k_base:\n",
    "        if is_prime_number(num):\n",
    "            answer += 1\n",
    "\n",
    "    # # Method 2: Test 1, 11 timeout\n",
    "    # # Find all prime numbers of max among availables\n",
    "    # k_base = [int(num) for num in k_base.split(\"0\") if num != \"\"]\n",
    "    # max_num = max(k_base)\n",
    "    # prime_numbers = find_all_prime_number(max_num + 1)\n",
    "    # for num in k_base:\n",
    "    #     if num == \"\": continue\n",
    "    #     if num not in prime_numbers: continue\n",
    "    #     answer += 1\n",
    "\n",
    "    return answer"
   ]
  }
 ],
 "metadata": {
  "kernelspec": {
   "display_name": "Python 3",
   "language": "python",
   "name": "python3"
  },
  "language_info": {
   "codemirror_mode": {
    "name": "ipython",
    "version": 2
   },
   "file_extension": ".py",
   "mimetype": "text/x-python",
   "name": "python",
   "nbconvert_exporter": "python",
   "pygments_lexer": "ipython2",
   "version": "2.7.6"
  }
 },
 "nbformat": 4,
 "nbformat_minor": 0
}
