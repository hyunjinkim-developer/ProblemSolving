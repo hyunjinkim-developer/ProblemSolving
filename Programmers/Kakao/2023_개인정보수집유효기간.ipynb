{
 "cells": [
  {
   "cell_type": "code",
   "execution_count": null,
   "metadata": {
    "collapsed": true
   },
   "outputs": [],
   "source": [
    "# debug\n",
    "def days_to_date(days):\n",
    "    # 모든 달은 28일까지 있다고 가정\n",
    "    year, month = divmod(days, 12 * 28)\n",
    "    month, day = divmod(month, 28)\n",
    "    if month == 0 and day == 0:\n",
    "        year -= 1\n",
    "        month = 12\n",
    "        day = 28\n",
    "    elif day == 0:\n",
    "        month -= 1\n",
    "        day = 28\n",
    "    return year, month, day\n",
    "\n",
    "\n",
    "def date_to_days(string):\n",
    "    year, month, day = string.split(\".\")\n",
    "    year, month, day = tuple(map(int, [year, month, day]))\n",
    "    # 모든 달은 28일까지 있다고 가정\n",
    "    return (year * 12 * 28) + (month * 28) + day\n",
    "\n",
    "def solution(today, terms, privacies):\n",
    "    answer = []\n",
    "\n",
    "    today_in_days = date_to_days(today)\n",
    "\n",
    "    terms_d = dict() # category: date(in days)\n",
    "    for term in terms:\n",
    "        category, date = term.split()\n",
    "        # 모든 달은 28일까지 있다고 가정\n",
    "        terms_d[category] = int(date) * 28\n",
    "    print(terms_d)\n",
    "\n",
    "    for idx, privacy in enumerate(privacies):\n",
    "        start_date, category = privacy.split()\n",
    "        start_date_in_days = date_to_days(start_date)\n",
    "        if start_date_in_days + terms_d[category] - 1 < today_in_days:\n",
    "            answer.append(idx + 1)\n",
    "    return answer"
   ]
  }
 ],
 "metadata": {
  "kernelspec": {
   "display_name": "Python 3",
   "language": "python",
   "name": "python3"
  },
  "language_info": {
   "codemirror_mode": {
    "name": "ipython",
    "version": 2
   },
   "file_extension": ".py",
   "mimetype": "text/x-python",
   "name": "python",
   "nbconvert_exporter": "python",
   "pygments_lexer": "ipython2",
   "version": "2.7.6"
  }
 },
 "nbformat": 4,
 "nbformat_minor": 0
}
