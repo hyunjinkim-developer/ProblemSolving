{
 "cells": [
  {
   "cell_type": "code",
   "execution_count": null,
   "outputs": [],
   "source": [
    "from collections import deque\n",
    "\n",
    "d = {k: v for (k, v) in zip(list(range(10, 16)), \"ABCDEF\")}\n",
    "\n",
    "def convert_base(num, n):\n",
    "    if num == 0:\n",
    "        return deque([0])\n",
    "\n",
    "    result = deque()\n",
    "    divisor = n\n",
    "    while num:\n",
    "        quotient, dividend = divmod(num, divisor)\n",
    "        # 단, 10~15는 각각 대문자 A~F로 출력\n",
    "        if dividend >= 10:\n",
    "            result.appendleft(d[dividend])\n",
    "        else:\n",
    "            result.appendleft(dividend)\n",
    "        num = quotient\n",
    "    return result\n",
    "\n",
    "def solution(n, t, m, p):\n",
    "    answer = ''\n",
    "    global d\n",
    "\n",
    "    len_ = p + m * t\n",
    "    result = deque()\n",
    "    num = 0\n",
    "    while len(result) <= len_:\n",
    "        result.extend(convert_base(num, n))\n",
    "        num += 1\n",
    "\n",
    "    idx = p - 1\n",
    "    for i in range(0, t):\n",
    "        answer += str(result[idx])\n",
    "        idx += m\n",
    "\n",
    "    return answer"
   ],
   "metadata": {
    "collapsed": false
   }
  }
 ],
 "metadata": {
  "kernelspec": {
   "display_name": "Python 3",
   "language": "python",
   "name": "python3"
  },
  "language_info": {
   "codemirror_mode": {
    "name": "ipython",
    "version": 2
   },
   "file_extension": ".py",
   "mimetype": "text/x-python",
   "name": "python",
   "nbconvert_exporter": "python",
   "pygments_lexer": "ipython2",
   "version": "2.7.6"
  }
 },
 "nbformat": 4,
 "nbformat_minor": 0
}
