{
 "cells": [
  {
   "cell_type": "code",
   "execution_count": null,
   "outputs": [],
   "source": [
    "from collections import deque\n",
    "\n",
    "def solution(cacheSize, cities):\n",
    "    answer = 0\n",
    "\n",
    "    if cacheSize == 0:\n",
    "        answer += 5 * len(cities)\n",
    "        return answer\n",
    "\n",
    "    cache = deque()\n",
    "    cities = deque(cities)\n",
    "    while cities:\n",
    "        city = cities.popleft().lower()\n",
    "        # cache miss\n",
    "        if city not in cache:\n",
    "            if len(cache) >= cacheSize:\n",
    "                cache.popleft() # Remove Least Recently Used\n",
    "            cache.append(city)\n",
    "            answer += 5\n",
    "\n",
    "        # cache hit\n",
    "        else:\n",
    "            if len(cache) >= cacheSize:\n",
    "                cache.remove(city) # Remove Least Recently Used\n",
    "            cache.append(city)\n",
    "            answer += 1\n",
    "    return answer"
   ],
   "metadata": {
    "collapsed": false
   }
  }
 ],
 "metadata": {
  "kernelspec": {
   "display_name": "Python 3",
   "language": "python",
   "name": "python3"
  },
  "language_info": {
   "codemirror_mode": {
    "name": "ipython",
    "version": 2
   },
   "file_extension": ".py",
   "mimetype": "text/x-python",
   "name": "python",
   "nbconvert_exporter": "python",
   "pygments_lexer": "ipython2",
   "version": "2.7.6"
  }
 },
 "nbformat": 4,
 "nbformat_minor": 0
}
