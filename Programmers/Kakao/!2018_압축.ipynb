{
 "cells": [
  {
   "cell_type": "code",
   "execution_count": null,
   "metadata": {
    "collapsed": true
   },
   "outputs": [],
   "source": [
    "# Solution 1:\n",
    "\n",
    "from collections import deque\n",
    "\n",
    "def solution(msg):\n",
    "    answer = []\n",
    "\n",
    "    # 1. 길이가 1인 모든 단어를 포함하도록 사전을 초기화한다.\n",
    "    # str_ = \"ABCDEFGHIJKLMNOPQRSTUVWXYZ\"\n",
    "    # dict_ = dict()\n",
    "    # for idx, c in enumerate(str_):\n",
    "    #     dict_[c] = idx + 1\n",
    "    dict_ = {'A': 1, 'B': 2, 'C': 3, 'D': 4, 'E': 5, 'F': 6, 'G': 7,\n",
    "             'H': 8, 'I': 9, 'J': 10, 'K': 11, 'L': 12, 'M': 13, 'N': 14,\n",
    "             'O': 15, 'P': 16, 'Q': 17, 'R': 18, 'S': 19, 'T': 20, 'U': 21,\n",
    "             'V': 22, 'W': 23, 'X': 24, 'Y': 25, 'Z': 26}\n",
    "    new_idx = 27\n",
    "\n",
    "    msg = deque(msg)\n",
    "    while msg:\n",
    "        w = msg.popleft()\n",
    "        # 2. 사전에서 현재 입력과 일치하는 가장 긴 문자열 w를 찾는다.\n",
    "        c = \"\"\n",
    "        idx = 0\n",
    "        while (w in dict_) and idx < len(msg):\n",
    "            c = msg[idx]\n",
    "            if w + c in dict_:\n",
    "                w = w + c\n",
    "                idx += 1\n",
    "            else:\n",
    "                break\n",
    "        # 3. w에 해당하는 사전의 색인 번호를 출력하고, 입력에서 w를 제거한다.\n",
    "        answer.append(dict_[w])\n",
    "        while idx:\n",
    "            msg.popleft()\n",
    "            idx -= 1\n",
    "        # 4. 입력에서 처리되지 않은 다음 글자가 남아있다면(c),\n",
    "        # w+c에 해당하는 단어를 사전에 등록한다.\n",
    "        if msg:\n",
    "            dict_[w + msg[0]] = new_idx\n",
    "            new_idx += 1\n",
    "    return answer"
   ]
  },
  {
   "cell_type": "code",
   "execution_count": null,
   "outputs": [],
   "source": [
    "# Solution 2:\n",
    "# Reference: https://school.programmers.co.kr/learn/courses/30/lessons/17684/solution_groups?language=python3\n",
    "\n",
    "def solution(msg):\n",
    "    answer = []\n",
    "\n",
    "    # 1. 길이가 1인 모든 단어를 포함하도록 사전을 초기화한다.\n",
    "    alphabet = \"ABCDEFGHIJKLMNOPQRSTUVWXYZ\"\n",
    "    d = {k:v for (k, v) in zip(alphabet, list(range(1, 27)))}\n",
    "\n",
    "    while True:\n",
    "        if msg in d:\n",
    "            answer.append(d[msg])\n",
    "            break\n",
    "        for i in range(1, len(msg) + 1):\n",
    "            # len(msg) + 1 :\n",
    "            # msg[j: k] := [j, k)\n",
    "\n",
    "            # 2. 사전에서 현재 입력과 일치하는 가장 긴 문자열 w를 찾는다.\n",
    "            if msg[: i] in d: continue\n",
    "            # 3. w에 해당하는 사전의 색인 번호를 출력하고,\n",
    "            answer.append(d[msg[: i - 1]])\n",
    "            # 4. 입력에서 처리되지 않은 다음 글자가 남아있다면(c),\n",
    "            # w+c에 해당하는 단어를 사전에 등록한다.\n",
    "            d[msg[: i]] = len(d) + 1\n",
    "            # 입력에서 w를 제거한다.\n",
    "            msg = msg[i - 1:]\n",
    "            break\n",
    "\n",
    "    return answer"
   ],
   "metadata": {
    "collapsed": false
   }
  }
 ],
 "metadata": {
  "kernelspec": {
   "display_name": "Python 3",
   "language": "python",
   "name": "python3"
  },
  "language_info": {
   "codemirror_mode": {
    "name": "ipython",
    "version": 2
   },
   "file_extension": ".py",
   "mimetype": "text/x-python",
   "name": "python",
   "nbconvert_exporter": "python",
   "pygments_lexer": "ipython2",
   "version": "2.7.6"
  }
 },
 "nbformat": 4,
 "nbformat_minor": 0
}
