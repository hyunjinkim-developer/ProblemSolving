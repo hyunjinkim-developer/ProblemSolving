{
 "cells": [
  {
   "cell_type": "code",
   "execution_count": null,
   "outputs": [],
   "source": [
    "def solution(n, arr1, arr2):\n",
    "    answer = []\n",
    "\n",
    "    for n1, n2 in zip(arr1, arr2):\n",
    "        divisor = 2 ** (n - 1)\n",
    "        map_line = \"\"\n",
    "        for i in range(n):\n",
    "            div = divisor // (2 ** i)\n",
    "            map1 = n1 // div\n",
    "            map2 = n2 // div\n",
    "            if map1 == 0 and map2 == 0:\n",
    "                map_line += \" \"\n",
    "            else:\n",
    "                map_line += \"#\"\n",
    "            n1 %= div\n",
    "            n2 %= div\n",
    "        answer.append(map_line)\n",
    "    return answer"
   ],
   "metadata": {
    "collapsed": false
   }
  }
 ],
 "metadata": {
  "kernelspec": {
   "display_name": "Python 3",
   "language": "python",
   "name": "python3"
  },
  "language_info": {
   "codemirror_mode": {
    "name": "ipython",
    "version": 2
   },
   "file_extension": ".py",
   "mimetype": "text/x-python",
   "name": "python",
   "nbconvert_exporter": "python",
   "pygments_lexer": "ipython2",
   "version": "2.7.6"
  }
 },
 "nbformat": 4,
 "nbformat_minor": 0
}
