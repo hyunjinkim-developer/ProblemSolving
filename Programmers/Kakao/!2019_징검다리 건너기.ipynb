{
 "cells": [
  {
   "cell_type": "code",
   "execution_count": null,
   "metadata": {
    "collapsed": true
   },
   "outputs": [],
   "source": [
    "\"\"\"\n",
    "Solution 3:\n",
    "binary search\n",
    "O(nlogm) : n(디딤돌 개수), m(디딤돌에 적힌 숫자의 최대값)\n",
    "\"\"\"\n",
    "def solution(stones, k):\n",
    "    answer = 0\n",
    "\n",
    "    left = 0\n",
    "    right = max(stones)\n",
    "\n",
    "    # Find mid(the number of friends)\n",
    "    # that the last friend could not cross the stepping stones\n",
    "    while left <= right:\n",
    "        count = 0\n",
    "        mid = (left + right) // 2\n",
    "\n",
    "        # Crossing the stepping stones\n",
    "        for stone in stones:\n",
    "            if stone - mid <= 0:\n",
    "                count += 1\n",
    "            else:\n",
    "                count = 0\n",
    "\n",
    "            if count == k:\n",
    "                break\n",
    "\n",
    "        # the character crossed the stones to the other end\n",
    "        if count < k:\n",
    "            left = mid + 1 # increase answer (the number of friends)\n",
    "        # the character could not cross to the other end\n",
    "        else:\n",
    "            right = mid - 1\n",
    "            answer = mid\n",
    "\n",
    "    return answer"
   ]
  },
  {
   "cell_type": "code",
   "execution_count": null,
   "outputs": [],
   "source": [
    "# \"\"\"\n",
    "# Solution 1:\n",
    "# 정확성 테스트 통과\n",
    "# 효율성 테스트 통과 안됨\n",
    "# \"\"\"\n",
    "# Stones = list()\n",
    "# K = 0\n",
    "\n",
    "# def crossing_stones():\n",
    "#     global Stones, K\n",
    "\n",
    "#     idx = -1\n",
    "#     while idx < len(Stones):\n",
    "#         count = 0\n",
    "#         for i in range(1, K + 1):\n",
    "#             if len(Stones) - 1 < idx + i:\n",
    "#                 idx += i\n",
    "#                 break\n",
    "#             if Stones[idx + i] > 0:\n",
    "#                 Stones[idx + i] -= 1\n",
    "#                 idx += i\n",
    "#                 break\n",
    "#             else:\n",
    "#                 count += 1\n",
    "#                 continue\n",
    "#         if count == K:\n",
    "#             return False\n",
    "#     return True\n",
    "\n",
    "\n",
    "# def solution(stones, k):\n",
    "#     answer = 0\n",
    "\n",
    "#     global Stones, K\n",
    "#     Stones = stones\n",
    "#     K = k\n",
    "\n",
    "#     while crossing_stones():\n",
    "#         answer += 1\n",
    "\n",
    "#     return answer"
   ],
   "metadata": {
    "collapsed": false
   }
  },
  {
   "cell_type": "code",
   "execution_count": null,
   "outputs": [],
   "source": [
    "# \"\"\"\n",
    "# Solution 2:\n",
    "# Find end condition with (\"string\" in \"string\")\n",
    "# 정확성 테스트 통과\n",
    "# 효율성 테스트 통과 안됨\n",
    "# \"\"\"\n",
    "# def solution(stones, k):\n",
    "#     answer = 0\n",
    "#     k = \"\".join([\"X\" for _ in range(k)])\n",
    "#     stones = list(map(str, stones))\n",
    "\n",
    "#     while True:\n",
    "#         for idx, stone in enumerate(stones):\n",
    "#             if stone == \"X\": continue\n",
    "#             elif int(stone) - 1 == 0:\n",
    "#                 stones[idx] = \"X\"\n",
    "#             else:\n",
    "#                 stones[idx] = str(int(stone) - 1)\n",
    "#         answer += 1\n",
    "#         if k in \"\".join(list(stones)):\n",
    "#             return answer\n"
   ],
   "metadata": {
    "collapsed": false
   }
  }
 ],
 "metadata": {
  "kernelspec": {
   "display_name": "Python 3",
   "language": "python",
   "name": "python3"
  },
  "language_info": {
   "codemirror_mode": {
    "name": "ipython",
    "version": 2
   },
   "file_extension": ".py",
   "mimetype": "text/x-python",
   "name": "python",
   "nbconvert_exporter": "python",
   "pygments_lexer": "ipython2",
   "version": "2.7.6"
  }
 },
 "nbformat": 4,
 "nbformat_minor": 0
}
