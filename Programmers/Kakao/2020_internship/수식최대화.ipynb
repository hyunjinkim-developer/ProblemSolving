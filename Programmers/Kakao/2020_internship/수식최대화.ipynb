{
 "cells": [
  {
   "cell_type": "markdown",
   "source": [
    "# idea\n",
    "- 3개의 operator에 대해서만 연산이 이루어지므로 가능한 모든 우선 순위는 3!\n",
    "    - itertools.permutations 이용해서 가능한 모든 우선 순위 구하기\n",
    "- 연산이 이루어질 때 중위표기법을 기반으로 하므로 stack을 이용해서 현재 연산자와 연산할 2개의 operand 구할 수 있음"
   ],
   "metadata": {
    "collapsed": false
   }
  },
  {
   "cell_type": "code",
   "execution_count": null,
   "outputs": [],
   "source": [
    "from collections import deque\n",
    "from itertools import permutations\n",
    "\n",
    "def calculate(op, exp):\n",
    "    result = deque()\n",
    "    while exp:\n",
    "        element = exp.popleft()\n",
    "        if element != op:\n",
    "            result.append(element)\n",
    "        else:\n",
    "            operand1 = result.pop()\n",
    "            operand2 = exp.popleft()\n",
    "            if element == \"+\":\n",
    "                result.append(operand1 + operand2)\n",
    "            elif element == \"-\":\n",
    "                result.append(operand1 - operand2)\n",
    "            elif element == \"*\":\n",
    "                result.append(operand1 * operand2)\n",
    "    return result\n",
    "\n",
    "\n",
    "def solution(expression):\n",
    "    answer = 0\n",
    "\n",
    "    exp = deque()\n",
    "    start = 0\n",
    "    for idx, s in enumerate(expression):\n",
    "        if s in [\"+\", \"-\", \"*\"]:\n",
    "            exp.append(int(expression[start: idx]))\n",
    "            exp.append(s)\n",
    "            start = idx + 1\n",
    "    exp.append(int(expression[start:])) # add last number\n",
    "\n",
    "    operand_priority = list(permutations([\"+\", \"-\", \"*\"], 3))\n",
    "    for priority in operand_priority:\n",
    "        op1, op2, op3 = priority\n",
    "        result = exp.copy()\n",
    "        for op in [op1, op2, op3]:\n",
    "            result = calculate(op, result)\n",
    "        answer = max(answer, abs(result[0]))\n",
    "    return answer"
   ],
   "metadata": {
    "collapsed": false
   }
  }
 ],
 "metadata": {
  "kernelspec": {
   "display_name": "Python 3",
   "language": "python",
   "name": "python3"
  },
  "language_info": {
   "codemirror_mode": {
    "name": "ipython",
    "version": 2
   },
   "file_extension": ".py",
   "mimetype": "text/x-python",
   "name": "python",
   "nbconvert_exporter": "python",
   "pygments_lexer": "ipython2",
   "version": "2.7.6"
  }
 },
 "nbformat": 4,
 "nbformat_minor": 0
}
