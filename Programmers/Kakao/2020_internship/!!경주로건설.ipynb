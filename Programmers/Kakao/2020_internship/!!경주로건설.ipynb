{
 "cells": [
  {
   "cell_type": "markdown",
   "source": [
    "# idea\n",
    "- 이전 방향과 현재 방향의 조합에 따라 현재 위치까지의 minimum cost가 달라짐\n",
    "- BFS > DFS in terms of time complexity\n",
    "- 4방향에 관한 3차원 배열을 기반으로 memoization"
   ],
   "metadata": {
    "collapsed": false
   }
  },
  {
   "cell_type": "code",
   "execution_count": null,
   "outputs": [],
   "source": [
    "from collections import deque\n",
    "\n",
    "# board는 2차원 정사각 배열로 배열의 크기는 3 이상 25 이하\n",
    "MAX = 600 * (25 * 25)\n",
    "LEN = 0\n",
    "answer = MAX\n",
    "\n",
    "# from down in counter-clockwise\n",
    "dirs = [(1, 0), (0, 1), (0, -1), (-1, 0)]\n",
    "\n",
    "def in_range(r, c):\n",
    "    return 0 <= r < LEN and 0 <= c < LEN\n",
    "\n",
    "def bfs(board):\n",
    "    global answer\n",
    "\n",
    "    # dp[y지점][x지점][방향] = minimum cost\n",
    "    visited = [[[MAX for y in range(LEN)] for x in range(LEN)] for z in range(4)] # range(4) : for every direction\n",
    "\n",
    "    q = deque() # [x, y, cost, previous_direction]\n",
    "    for z in range(4):\n",
    "        visited[z][0][0] = 0\n",
    "    # available location from (0, 0)\n",
    "    if board[0][1] != 1:\n",
    "        q.append([0, 1, 100, 1])\n",
    "        visited[1][0][1] = 100\n",
    "    if board[1][0] != 1:\n",
    "        q.append([1, 0, 100, 0])\n",
    "        visited[0][1][0] = 100\n",
    "\n",
    "    while q:\n",
    "        x, y, cost, dirs_index = q.pop()\n",
    "\n",
    "        for i in range(4): # i : current direction\n",
    "            dx, dy = dirs[i]\n",
    "            nx, ny = x + dx, y + dy\n",
    "            if not in_range(nx, ny): continue\n",
    "            if board[nx][ny] == 1: continue\n",
    "\n",
    "            if dirs_index != i: # 직선 도로(100) + 코너(500)\n",
    "                new_cost = cost + 600\n",
    "            else: # 직선 도로(100)\n",
    "                new_cost = cost + 100\n",
    "\n",
    "            if visited[i][nx][ny] > new_cost:\n",
    "                visited[i][nx][ny] = new_cost\n",
    "                q.append([nx, ny, new_cost, i]) # i : save previous_direction\n",
    "\n",
    "    for z in range(4):\n",
    "        answer = min(answer, visited[z][LEN - 1][LEN - 1])\n",
    "    return answer\n",
    "\n",
    "\n",
    "def solution(board):\n",
    "    global LEN\n",
    "    LEN = len(board)\n",
    "    return bfs(board)"
   ],
   "metadata": {
    "collapsed": false
   }
  }
 ],
 "metadata": {
  "kernelspec": {
   "display_name": "Python 3",
   "language": "python",
   "name": "python3"
  },
  "language_info": {
   "codemirror_mode": {
    "name": "ipython",
    "version": 2
   },
   "file_extension": ".py",
   "mimetype": "text/x-python",
   "name": "python",
   "nbconvert_exporter": "python",
   "pygments_lexer": "ipython2",
   "version": "2.7.6"
  }
 },
 "nbformat": 4,
 "nbformat_minor": 0
}
