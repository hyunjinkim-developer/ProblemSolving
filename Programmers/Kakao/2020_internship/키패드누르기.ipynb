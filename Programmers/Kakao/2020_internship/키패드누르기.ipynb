{
 "cells": [
  {
   "cell_type": "markdown",
   "source": [
    "# idea\n",
    "- 주어진 숫자가 10개 밖에 안 되기 때문에\n",
    "    - 숫자별 정해져 있는 손 방향\n",
    "    - 숫자별 키패드에서의 (r, c)\n",
    "을 구할 때 dictionary로 미리 선언해서 이용함"
   ],
   "metadata": {
    "collapsed": false
   }
  },
  {
   "cell_type": "code",
   "execution_count": null,
   "outputs": [],
   "source": [
    "def find_distance(hand_location, number_location):\n",
    "    hand_r, hand_c = hand_location\n",
    "    number_r, number_c = number_location\n",
    "    return abs(hand_r - number_r) + abs(hand_c - number_c)\n",
    "\n",
    "def solution(numbers, hand):\n",
    "    answer = ''\n",
    "\n",
    "    number_to_hand = {1: \"L\", 2: \"?\", 3: \"R\",\n",
    "                 4: \"L\", 5: \"?\", 6: \"R\",\n",
    "                 7: \"L\", 8: \"?\", 9: \"R\",\n",
    "                 0: \"?\"}\n",
    "    number_to_location = {1: (0, 0), 2: (0, 1), 3: (0, 2),\n",
    "                      4: (1, 0), 5: (1, 1), 6: (1, 2),\n",
    "                      7: (2, 0), 8: (2, 1), 9: (2, 2),\n",
    "                      0: (3, 1)}\n",
    "\n",
    "    l_loc, r_loc = (3, 0), (3, 2)\n",
    "    for number in numbers:\n",
    "        next_hand = number_to_hand[number]\n",
    "        if next_hand == \"L\":\n",
    "            answer += next_hand\n",
    "            l_loc = number_to_location[number]\n",
    "        elif next_hand == \"R\":\n",
    "            answer += next_hand\n",
    "            r_loc = number_to_location[number]\n",
    "        elif next_hand == \"?\":\n",
    "            number_loc = number_to_location[number]\n",
    "            righthand_distance = find_distance(r_loc, number_loc)\n",
    "            lefthand_distance = find_distance(l_loc, number_loc)\n",
    "            if righthand_distance < lefthand_distance:\n",
    "                answer += \"R\"\n",
    "                r_loc = number_loc\n",
    "            elif righthand_distance > lefthand_distance:\n",
    "                answer += \"L\"\n",
    "                l_loc = number_loc\n",
    "            else:\n",
    "                new_hand = hand[0].upper()\n",
    "                answer += new_hand\n",
    "                if new_hand == \"R\":\n",
    "                    r_loc = number_loc\n",
    "                elif new_hand == \"L\":\n",
    "                    l_loc = number_loc\n",
    "    return answer"
   ],
   "metadata": {
    "collapsed": false
   }
  }
 ],
 "metadata": {
  "kernelspec": {
   "display_name": "Python 3",
   "language": "python",
   "name": "python3"
  },
  "language_info": {
   "codemirror_mode": {
    "name": "ipython",
    "version": 2
   },
   "file_extension": ".py",
   "mimetype": "text/x-python",
   "name": "python",
   "nbconvert_exporter": "python",
   "pygments_lexer": "ipython2",
   "version": "2.7.6"
  }
 },
 "nbformat": 4,
 "nbformat_minor": 0
}
