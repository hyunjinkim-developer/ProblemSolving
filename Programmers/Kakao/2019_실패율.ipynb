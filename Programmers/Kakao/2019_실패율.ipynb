{
 "cells": [
  {
   "cell_type": "code",
   "execution_count": null,
   "outputs": [],
   "source": [
    "from collections import Counter\n",
    "def solution(N, stages):\n",
    "    answer = []\n",
    "\n",
    "    fail_rate = dict()\n",
    "    stages = Counter(stages)\n",
    "    competitors = 0\n",
    "    for n in range(N + 1, 0, -1):\n",
    "        competitors += stages[n]\n",
    "        # 스테이지에 도달한 유저가 없는 경우 해당 스테이지의 실패율은 0 으로 정의\n",
    "        if n <= N:\n",
    "            if n not in stages:\n",
    "                fail_rate[n] = 0\n",
    "            else:\n",
    "                fail_rate[n] = stages[n] / competitors\n",
    "\n",
    "    # 실패율이 높은 스테이지부터 내림차순으로 스테이지의 번호 return\n",
    "    # 실패율이 같은 스테이지가 있다면 작은 번호의 스테이지가 먼저 오도록\n",
    "    def custom_sort(item):\n",
    "        key, element = item\n",
    "        return element * -1, key\n",
    "    fail_rate = sorted(fail_rate.items(), key=custom_sort)\n",
    "\n",
    "    for stage_number, rate in fail_rate:\n",
    "        answer.append(stage_number)\n",
    "\n",
    "    return answer"
   ],
   "metadata": {
    "collapsed": false
   }
  }
 ],
 "metadata": {
  "kernelspec": {
   "display_name": "Python 3",
   "language": "python",
   "name": "python3"
  },
  "language_info": {
   "codemirror_mode": {
    "name": "ipython",
    "version": 2
   },
   "file_extension": ".py",
   "mimetype": "text/x-python",
   "name": "python",
   "nbconvert_exporter": "python",
   "pygments_lexer": "ipython2",
   "version": "2.7.6"
  }
 },
 "nbformat": 4,
 "nbformat_minor": 0
}
