{
 "cells": [
  {
   "cell_type": "code",
   "execution_count": null,
   "metadata": {
    "collapsed": true
   },
   "outputs": [],
   "source": [
    "# Solution 1:\n",
    "\n",
    "from collections import deque\n",
    "\n",
    "def calculate_bonus(score, option):\n",
    "    area = {\"S\": 1, \"D\": 2, \"T\": 3}\n",
    "    return score ** area[option]\n",
    "\n",
    "def solution(dartResult):\n",
    "    answer = 0\n",
    "\n",
    "    # 점수와 함께 Single(S), Double(D), Triple(T) 영역이 존재하고\n",
    "    # 각 영역 당첨 시 점수에서 1제곱, 2제곱, 3제곱 (점수1 , 점수2 , 점수3 )으로 계산된다.\n",
    "    queue = list()\n",
    "    num = \"\"\n",
    "    for s in dartResult:\n",
    "        if s in [\"*\", \"#\"]:\n",
    "            queue.append(s)\n",
    "        elif s in [\"S\", \"D\", \"T\"]:\n",
    "            score = int(num)\n",
    "            num = \"\"\n",
    "            queue.append(calculate_bonus(score, s))\n",
    "        else:\n",
    "            num += s\n",
    "    # 스타상(*) 당첨 시 \"해당 점수와 바로 전에 얻은 점수\"를 각 2배\n",
    "    # 아차상(#) 당첨 시 해당 점수는 마이너스된다\n",
    "    while queue:\n",
    "        element = queue.pop()\n",
    "        if element == \"*\": # 해당 점수를 각 2배\n",
    "            first_number = queue.pop()\n",
    "            answer += (first_number * 2)\n",
    "            # 바로 전에 얻은 점수를 2배\n",
    "            temp = deque()\n",
    "            second_number = 0\n",
    "            while queue:\n",
    "                e = queue.pop()\n",
    "                if e in [\"*\", \"#\"]:\n",
    "                    temp.append(e)\n",
    "                else:\n",
    "                    second_number = e\n",
    "                    break\n",
    "            queue.append(second_number * 2)\n",
    "            while temp:\n",
    "                e = temp.popleft()\n",
    "                queue.append(e)\n",
    "        elif element == \"#\":\n",
    "            number = queue.pop()\n",
    "            answer += (number * -1)\n",
    "        else:\n",
    "            answer += element\n",
    "\n",
    "    return answer"
   ]
  },
  {
   "cell_type": "code",
   "execution_count": null,
   "outputs": [],
   "source": [
    "# Solution 2:\n",
    "# Reference: https://school.programmers.co.kr/learn/courses/30/lessons/17682/solution_groups?language=python3\n",
    "import re\n",
    "\n",
    "def solution(dartResult):\n",
    "    answer = 0\n",
    "\n",
    "    bonus = {'S':1, 'D': 2, 'T': 3}\n",
    "    # 스타상(*), 아차상(#)은 점수마다 둘 중 하나만 존재할 수 있으며,\n",
    "    # 존재하지 않을 수도 있다.\n",
    "    option = {'': 1, '*': 2, '#': -1}\n",
    "\n",
    "    # Regular expression\n",
    "    # \\d := Returns a match where the string contains digits (numbers from 0-9)\n",
    "    # + := One or more occurrences\n",
    "    # [] := A set of characters\n",
    "    # ? := Zero or one occurrences\n",
    "    p = re.compile('(\\d+)([SDT])([*#]?)')\n",
    "    dart = p.findall(dartResult)\n",
    "    # dartResult := 1D#2S*3S\n",
    "    # dart := [('1', 'D', '#'), ('2', 'S', '*'), ('3', 'S', '')]\n",
    "\n",
    "    for i in range(len(dart)):\n",
    "        if dart[i][2] == \"*\" and i > 0:\n",
    "            # 스타상(*) 당첨 시 바로 전에 얻은 점수를 2배\n",
    "            # 이미 이전 index의 값들은 int형으로 계산이 되어있으므로\n",
    "            dart[i - 1] *= 2\n",
    "        # 스타상(*), 아차상(#)은 점수마다 둘 중 하나만 존재할 수 있기 때문에 이러한 풀이가 가능하다\n",
    "        dart[i] = int(dart[i][0]) ** bonus[dart[i][1]] * option[dart[i][2]]\n",
    "    answer = sum(dart)\n",
    "    return answer"
   ],
   "metadata": {
    "collapsed": false
   }
  }
 ],
 "metadata": {
  "kernelspec": {
   "display_name": "Python 3",
   "language": "python",
   "name": "python3"
  },
  "language_info": {
   "codemirror_mode": {
    "name": "ipython",
    "version": 2
   },
   "file_extension": ".py",
   "mimetype": "text/x-python",
   "name": "python",
   "nbconvert_exporter": "python",
   "pygments_lexer": "ipython2",
   "version": "2.7.6"
  }
 },
 "nbformat": 4,
 "nbformat_minor": 0
}
