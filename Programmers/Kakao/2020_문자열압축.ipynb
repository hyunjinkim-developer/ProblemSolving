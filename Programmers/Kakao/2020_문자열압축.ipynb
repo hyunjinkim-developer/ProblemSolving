{
 "cells": [
  {
   "cell_type": "code",
   "execution_count": null,
   "outputs": [],
   "source": [
    "def solution(s):\n",
    "    # max length of answer : s의 길이는 1 이상 1,000 이하 with count for each character\n",
    "    answer = s * 2\n",
    "    LEN = len(s)\n",
    "    min_len = len(s) # compression length := 1\n",
    "    for len_ in range(1, LEN + 1):\n",
    "        compressed = \"\"\n",
    "        count = 0\n",
    "        prev = s[: len_]\n",
    "        for i in range(0, LEN, len_):\n",
    "            if s[i: i + len_] == prev:\n",
    "                count += 1\n",
    "            else:\n",
    "                if count != 1: # 문자가 반복되지 않아 한번만 나타난 경우 1은 생략함\n",
    "                    compressed += str(count)\n",
    "                compressed += prev\n",
    "                count = 1\n",
    "            prev = s[i: i + len_]\n",
    "        # Add last fragment\n",
    "        if count != 1: # 문자가 반복되지 않아 한번만 나타난 경우 1은 생략함\n",
    "            compressed += str(count)\n",
    "        compressed += prev\n",
    "\n",
    "        if len(compressed) < len(answer):\n",
    "            answer = compressed\n",
    "        # Python Ternary operators\n",
    "        # answer = compressed if len(compressed) < len(answer) else answer\n",
    "\n",
    "    #  문자열 중 가장 짧은 것의 길이를 return\n",
    "    return len(answer)\n"
   ],
   "metadata": {
    "collapsed": false
   }
  }
 ],
 "metadata": {
  "kernelspec": {
   "display_name": "Python 3",
   "language": "python",
   "name": "python3"
  },
  "language_info": {
   "codemirror_mode": {
    "name": "ipython",
    "version": 2
   },
   "file_extension": ".py",
   "mimetype": "text/x-python",
   "name": "python",
   "nbconvert_exporter": "python",
   "pygments_lexer": "ipython2",
   "version": "2.7.6"
  }
 },
 "nbformat": 4,
 "nbformat_minor": 0
}
