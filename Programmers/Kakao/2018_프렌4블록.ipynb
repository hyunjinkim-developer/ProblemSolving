{
 "cells": [
  {
   "cell_type": "code",
   "execution_count": 23,
   "metadata": {
    "collapsed": true
   },
   "outputs": [
    {
     "name": "stdout",
     "output_type": "stream",
     "text": [
      "Test1: True\n",
      "Test2: True\n"
     ]
    }
   ],
   "source": [
    "from collections import deque\n",
    "\n",
    "r_len, c_len = 0, 0\n",
    "b = list()\n",
    "\n",
    "def in_range(r, c):\n",
    "    global b, r_len, c_len\n",
    "\n",
    "    if 0 <= r < r_len and 0 <= c < c_len:\n",
    "        if 0 <= r < len(b[c]) and 0 <= c < len(b):\n",
    "            return True\n",
    "        else:\n",
    "            return False\n",
    "    else:\n",
    "            return False\n",
    "\n",
    "def detect_match(r, c, character):\n",
    "    global b\n",
    "\n",
    "    for r_idx in range(2):\n",
    "        nr = r + r_idx\n",
    "        for c_idx in range(2):\n",
    "            nc = c + c_idx\n",
    "            if not in_range(nr, nc): return False\n",
    "            if character != b[nc][nr]: return False\n",
    "    return (c, r)\n",
    "\n",
    "def erase_blocks():\n",
    "    global b, r_len, c_len\n",
    "\n",
    "    # Find blocks to erase\n",
    "    matched = list()\n",
    "    for c in range(len(b)):\n",
    "        for r in range(len(b[c])):\n",
    "            result = detect_match(r, c, b[c][r])\n",
    "            if result != False:\n",
    "                matched.append(result)\n",
    "\n",
    "    # Count matched blocks,\n",
    "    # Mark blocks to erase as \"0\"\n",
    "    count = 0\n",
    "    for c, r in matched:\n",
    "        for dc in range(2):\n",
    "            for dr in range(2):\n",
    "                nc, nr = c + dc, r + dr\n",
    "                if b[nc][nr] != \"0\":\n",
    "                    count += 1\n",
    "                    b[nc][nr] = \"0\"\n",
    "    # Erase blocks by replacing string\n",
    "    for c in range(len(b)):\n",
    "        erased = (\"\".join(b[c]).replace(\"0\", \"\"))\n",
    "        b[c] = deque([c for c in erased])\n",
    "    return count\n",
    "\n",
    "def solution(m, n, board):\n",
    "    answer = 0\n",
    "    global b, r_len, c_len\n",
    "\n",
    "    r_len, c_len = m, n\n",
    "    b = [deque() for _ in range(n)]\n",
    "\n",
    "    # Save every column in deque\n",
    "    for c in range(c_len):\n",
    "        for r in range(r_len):\n",
    "            b[c].appendleft(board[r][c])\n",
    "\n",
    "    while True:\n",
    "        count = erase_blocks()\n",
    "        answer += count\n",
    "        # Run erase_blocks until there is no more blocks to erase\n",
    "        if count == 0:\n",
    "            break\n",
    "\n",
    "    return answer\n",
    "\n",
    "m, n, board = 4, 5, [\"CCBDE\", \"AAADE\", \"AAABF\", \"CCBBF\"]\n",
    "test1_answer = 14\n",
    "print(f\"Test1: {solution(m, n, board) == test1_answer}\")\n",
    "\n",
    "m, n, board = 6, 6, [\"TTTANT\", \"RRFACC\", \"RRRFCC\", \"TRRRAA\", \"TTMMMF\", \"TMMTTJ\"]\n",
    "test2_answer = 15\n",
    "print(f\"Test2: {solution(m, n, board) == test2_answer}\")"
   ]
  }
 ],
 "metadata": {
  "kernelspec": {
   "display_name": "Python 3",
   "language": "python",
   "name": "python3"
  },
  "language_info": {
   "codemirror_mode": {
    "name": "ipython",
    "version": 2
   },
   "file_extension": ".py",
   "mimetype": "text/x-python",
   "name": "python",
   "nbconvert_exporter": "python",
   "pygments_lexer": "ipython2",
   "version": "2.7.6"
  }
 },
 "nbformat": 4,
 "nbformat_minor": 0
}
