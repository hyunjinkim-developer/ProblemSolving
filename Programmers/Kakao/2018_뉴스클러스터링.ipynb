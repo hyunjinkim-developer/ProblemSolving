{
 "cells": [
  {
   "cell_type": "code",
   "execution_count": null,
   "outputs": [],
   "source": [
    "from collections import defaultdict\n",
    "\n",
    "# 두 글자씩 끊어서 다중집합의 원소로 만든다.\n",
    "# 이때 영문자로 된 글자 쌍만 유효하고,\n",
    "# 기타 공백이나 숫자, 특수 문자가 들어있는 경우는 그 글자 쌍을 버린다\n",
    "def split_string(s):\n",
    "    result = defaultdict(int)\n",
    "\n",
    "    for i in range(len(s) - 1):\n",
    "        if ('a' <= s[i] and s[i] <= 'z') \\\n",
    "            and ('a' <= s[i + 1] and s[i + 1] <= 'z'):\n",
    "                result[s[i: i + 2]] += 1\n",
    "    return result\n",
    "\n",
    "def solution(str1, str2):\n",
    "    answer = 0\n",
    "\n",
    "    # 다중집합 원소 사이를 비교할 때, 대문자와 소문자의 차이는 무시\n",
    "    str1, str2 = str1.lower(), str2.lower()\n",
    "\n",
    "    # 두 글자씩 끊어서 다중집합의 원소로 만든다.\n",
    "    # 이때 영문자로 된 글자 쌍만 유효하고,\n",
    "    # 기타 공백이나 숫자, 특수 문자가 들어있는 경우는 그 글자 쌍을 버린다\n",
    "    str1 = split_string(str1)\n",
    "    str2 = split_string(str2)\n",
    "\n",
    "    # 집합 A와 집합 B가 모두 공집합일 경우에는\n",
    "    # 나눗셈이 정의되지 않으니 따로 J(A, B) = 1로 정의\n",
    "    if len(str1) == 0 and len(str2) == 0:\n",
    "        return 1 * 65536\n",
    "\n",
    "    union = 0\n",
    "    intersection = 0\n",
    "    for (key1, item1) in str1.items():\n",
    "        if key1 in str2:\n",
    "            union += max(str1[key1], str2[key1])\n",
    "            intersection += min(str1[key1], str2[key1])\n",
    "        else:\n",
    "            union += item1\n",
    "    str1_key, str2_key = set(str1), set(str2)\n",
    "    diff = str2_key - str1_key\n",
    "    for key2 in diff:\n",
    "        union += str2[key2]\n",
    "\n",
    "    answer = int((intersection / union) * 65536)\n",
    "    return answer"
   ],
   "metadata": {
    "collapsed": false
   }
  }
 ],
 "metadata": {
  "kernelspec": {
   "display_name": "Python 3",
   "language": "python",
   "name": "python3"
  },
  "language_info": {
   "codemirror_mode": {
    "name": "ipython",
    "version": 2
   },
   "file_extension": ".py",
   "mimetype": "text/x-python",
   "name": "python",
   "nbconvert_exporter": "python",
   "pygments_lexer": "ipython2",
   "version": "2.7.6"
  }
 },
 "nbformat": 4,
 "nbformat_minor": 0
}
