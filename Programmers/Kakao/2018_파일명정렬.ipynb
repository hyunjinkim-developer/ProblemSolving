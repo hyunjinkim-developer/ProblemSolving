{
 "cells": [
  {
   "cell_type": "code",
   "execution_count": null,
   "metadata": {
    "collapsed": true
   },
   "outputs": [],
   "source": [
    "from collections import defaultdict, deque\n",
    "\n",
    "def solution(files):\n",
    "    answer = []\n",
    "\n",
    "    d = defaultdict(list)\n",
    "    for original_idx, file in enumerate(files):\n",
    "        head = \"\"\n",
    "        file = deque(file)\n",
    "        while file:\n",
    "            c = file.popleft()\n",
    "            # HEAD는 숫자가 아닌 문자로 이루어져 있으며, 최소한 한 글자 이상\n",
    "            if not c.isdigit():\n",
    "                head += c\n",
    "            # NUMBER는 한 글자에서 최대 다섯 글자 사이의 연속된 숫자로 이루어져 있으며,\n",
    "            # 앞쪽에 0이 올 수 있다.\n",
    "            if c.isdigit():\n",
    "                d[original_idx].append(head)\n",
    "                number = c\n",
    "                while file:\n",
    "                    n = file.popleft()\n",
    "                    if n.isdigit():\n",
    "                        number += n\n",
    "                    else:\n",
    "                        file.appendleft(n)\n",
    "                        break\n",
    "                d[original_idx].append(number)\n",
    "                # TAIL은 그 나머지 부분으로,\n",
    "                # 여기에는 숫자가 다시 나타날 수도 있으며, 아무 글자도 없을 수 있다.\n",
    "                d[original_idx].append(\"\".join(file))\n",
    "                break\n",
    "\n",
    "    # HEAD 부분을 기준으로 사전 순으로 정렬, 문자열 비교 시 대소문자 구분을 하지 않는다.\n",
    "    # NUMBER의 숫자 순으로 정렬\n",
    "    # 원래 입력에 주어진 순서를 유지\n",
    "    def custom_sort(item):\n",
    "        (key, value) = item\n",
    "        head, number, tail = tuple(value)\n",
    "        return head.lower(), int(number), key\n",
    "    d_sorted = sorted(d.items(), key=custom_sort)\n",
    "\n",
    "    for original_idx, filename in d_sorted:\n",
    "        answer.append(\"\".join(filename))\n",
    "    return answer"
   ]
  }
 ],
 "metadata": {
  "kernelspec": {
   "display_name": "Python 3",
   "language": "python",
   "name": "python3"
  },
  "language_info": {
   "codemirror_mode": {
    "name": "ipython",
    "version": 2
   },
   "file_extension": ".py",
   "mimetype": "text/x-python",
   "name": "python",
   "nbconvert_exporter": "python",
   "pygments_lexer": "ipython2",
   "version": "2.7.6"
  }
 },
 "nbformat": 4,
 "nbformat_minor": 0
}
