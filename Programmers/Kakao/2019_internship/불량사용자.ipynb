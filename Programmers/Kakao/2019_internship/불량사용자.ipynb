{
 "cells": [
  {
   "cell_type": "markdown",
   "source": [
    "# ! pair의 중복 제거 방밥\n",
    "    - sort한 결과를 set에 넣어 중복을 제거하는 아이디어\n",
    "        - answer = set()\n",
    "        - answer.add(tuple(sorted(pair)))\n",
    "    - 방법2가 왜 안되는지 아직 잘 모르겠다."
   ],
   "metadata": {
    "collapsed": false
   }
  },
  {
   "cell_type": "code",
   "execution_count": null,
   "outputs": [],
   "source": [
    "from collections import defaultdict\n",
    "from itertools import product\n",
    "from math import factorial\n",
    "\n",
    "def is_candiate(banned_id, user_id):\n",
    "    if len(banned_id) != len(user_id):\n",
    "        return False\n",
    "\n",
    "    for idx, c in enumerate(banned_id):\n",
    "        if c == \"*\": continue\n",
    "        if c != user_id[idx]:\n",
    "            return False\n",
    "    return True\n",
    "\n",
    "def solution(user_id, banned_id):\n",
    "    answer = 0\n",
    "\n",
    "    rudundancy = defaultdict(int) # 선택된 user_id쌍 (pair)의 중복확인을 위함\n",
    "    # 각 banned_id에 대하여 대체 가능한 user_id들\n",
    "    banned_candidates = [[] for _ in range(len(banned_id))]\n",
    "    for idx, b_id in enumerate(banned_id):\n",
    "        rudundancy[b_id] += 1\n",
    "        for u_id in user_id:\n",
    "            if is_candiate(b_id, u_id) == True:\n",
    "                banned_candidates[idx].append(u_id)\n",
    "\n",
    "    # 가능한 모든 겯우의 수\n",
    "    posibilities = list(product(*banned_candidates))\n",
    "\n",
    "    available_list = list()\n",
    "    for p in posibilities:\n",
    "        # 같은 user_id가 여러번 선택된 경우 제외\n",
    "        if len(set(p)) == len(banned_id):\n",
    "            available_list.append(p)\n",
    "\n",
    "    # 선택된 user_id쌍 (pair)의 중복확인 1 :\n",
    "    answer = set()\n",
    "    for pair in available_list:\n",
    "        answer.add(tuple(sorted(pair)))\n",
    "    answer = len(available_list)\n",
    "    return len(answer)\n",
    "\n",
    "    # # 선택된 user_id쌍 (pair)의 중복확인 2:\n",
    "    # answer = len(available_list)\n",
    "    # for key, count in rudundancy.items():\n",
    "    #     if count == 1: continue\n",
    "    #     # 같은 pair가 여러개 있는 경우 (같은 banned_id가 있는 경우)\n",
    "    #     answer = answer // factorial(count)\n",
    "    # return answer"
   ],
   "metadata": {
    "collapsed": false
   }
  }
 ],
 "metadata": {
  "kernelspec": {
   "display_name": "Python 3",
   "language": "python",
   "name": "python3"
  },
  "language_info": {
   "codemirror_mode": {
    "name": "ipython",
    "version": 2
   },
   "file_extension": ".py",
   "mimetype": "text/x-python",
   "name": "python",
   "nbconvert_exporter": "python",
   "pygments_lexer": "ipython2",
   "version": "2.7.6"
  }
 },
 "nbformat": 4,
 "nbformat_minor": 0
}
