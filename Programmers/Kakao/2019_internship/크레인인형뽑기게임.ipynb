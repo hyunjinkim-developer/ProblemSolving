{
 "cells": [
  {
   "cell_type": "markdown",
   "source": [
    "# idea\n",
    "- stack for each column\n",
    "    - additionally, don't need to create seperate stacklist, instead access directly to board using indexes\n",
    "- ! find first(top) doll when stack is empty"
   ],
   "metadata": {
    "collapsed": false
   }
  },
  {
   "cell_type": "code",
   "execution_count": null,
   "outputs": [],
   "source": [
    "from collections import deque\n",
    "\n",
    "def solution(board, moves):\n",
    "    answer = 0\n",
    "\n",
    "    len_ = len(board)\n",
    "    cols = [deque() for _ in range(len_)]\n",
    "    for c in range(len_):\n",
    "        for r in range(len_):\n",
    "            if board[r][c] != 0:\n",
    "                cols[c].append(board[r][c])\n",
    "\n",
    "    basket = []\n",
    "    moves = deque(moves)\n",
    "    for move in moves:\n",
    "        col_idx = move - 1\n",
    "\n",
    "        # 인형이 없는 곳에서 크레인을 작동시키는 경우에는 아무런 일도 일어나지 않습니다\n",
    "        if len(cols[col_idx]) == 0: continue\n",
    "        if len(basket) == 0: # if basket is empty find first element\n",
    "            if len(cols[col_idx]) == 0: continue\n",
    "            else:\n",
    "                basket.append(cols[col_idx])\n",
    "\n",
    "        top_doll = basket[-1]\n",
    "        next_doll = cols[col_idx].popleft()\n",
    "        if top_doll == next_doll:\n",
    "            basket.pop()\n",
    "            answer += 2\n",
    "        else:\n",
    "            basket.append(next_doll)\n",
    "\n",
    "    return answer"
   ],
   "metadata": {
    "collapsed": false
   }
  }
 ],
 "metadata": {
  "kernelspec": {
   "display_name": "Python 3",
   "language": "python",
   "name": "python3"
  },
  "language_info": {
   "codemirror_mode": {
    "name": "ipython",
    "version": 2
   },
   "file_extension": ".py",
   "mimetype": "text/x-python",
   "name": "python",
   "nbconvert_exporter": "python",
   "pygments_lexer": "ipython2",
   "version": "2.7.6"
  }
 },
 "nbformat": 4,
 "nbformat_minor": 0
}
