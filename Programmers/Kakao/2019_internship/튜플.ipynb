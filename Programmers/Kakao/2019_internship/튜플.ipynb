{
 "cells": [
  {
   "cell_type": "code",
   "execution_count": null,
   "outputs": [],
   "source": [
    "from collections import deque\n",
    "\n",
    "def solution(s):\n",
    "    answer = []\n",
    "\n",
    "#     # Parsing 1:\n",
    "#     s = deque(s[1: -1])\n",
    "#     list_ = list()\n",
    "#     while s:\n",
    "#         char = s.popleft()\n",
    "\n",
    "#         if char == \"{\":\n",
    "#             queue = deque()\n",
    "#             c = s.popleft()\n",
    "#             number = \"\"\n",
    "#             while c != \"}\":\n",
    "#                 if c == \",\":\n",
    "#                     queue.append(int(number))\n",
    "#                     number = \"\"\n",
    "#                 else:\n",
    "#                     number += c\n",
    "#                 c = s.popleft()\n",
    "#             queue.append(int(number)) # add last number\n",
    "#             list_.append(queue)\n",
    "\n",
    "    # Parsing 2: Using .split()\n",
    "    s = s[2: -2]\n",
    "    s = s.split(\"},{\")\n",
    "    list_ = list()\n",
    "    for set_ in s:\n",
    "        set_element = list(map(int, set_.split(',')))\n",
    "        list_.append(set_element)\n",
    "\n",
    "    # Using set to find next element of the given tuple\n",
    "    list_ = sorted(list_, key=len)\n",
    "    s = set()\n",
    "    for element in list_:\n",
    "        new_set = set(element)\n",
    "        answer.extend(list(new_set - s))\n",
    "        s = new_set\n",
    "\n",
    "    return answer"
   ],
   "metadata": {
    "collapsed": false
   }
  }
 ],
 "metadata": {
  "kernelspec": {
   "display_name": "Python 3",
   "language": "python",
   "name": "python3"
  },
  "language_info": {
   "codemirror_mode": {
    "name": "ipython",
    "version": 2
   },
   "file_extension": ".py",
   "mimetype": "text/x-python",
   "name": "python",
   "nbconvert_exporter": "python",
   "pygments_lexer": "ipython2",
   "version": "2.7.6"
  }
 },
 "nbformat": 4,
 "nbformat_minor": 0
}
