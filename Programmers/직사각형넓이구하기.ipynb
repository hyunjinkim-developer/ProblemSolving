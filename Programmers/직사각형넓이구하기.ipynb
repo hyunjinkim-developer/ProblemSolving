{
 "cells": [
  {
   "cell_type": "code",
   "execution_count": null,
   "metadata": {
    "collapsed": true
   },
   "outputs": [],
   "source": [
    "\"\"\"\n",
    "Solution 1:\n",
    "\"\"\"\n",
    "# def solution(dots):\n",
    "#     answer = 0\n",
    "\n",
    "#     width = set()\n",
    "#     height = set()\n",
    "#     for dot in dots:\n",
    "#         width.add(dot[0])\n",
    "#         height.add(dot[1])\n",
    "\n",
    "#     width = list(width)\n",
    "#     width_length = abs(width[0] - width[1])\n",
    "#     height = list(height)\n",
    "#     height_length = abs(height[0] - height[1])\n",
    "#     answer = width_length * height_length\n",
    "#     return answer\n",
    "\n",
    "\n",
    "\"\"\"\n",
    "Solution 2:\n",
    "\"\"\"\n",
    "def solution(dots):\n",
    "    answer = 0\n",
    "    answer = (max(dots)[0] - min(dots)[0]) * (max(dots)[1] - min(dots)[1])\n",
    "    return answer"
   ]
  }
 ],
 "metadata": {
  "kernelspec": {
   "display_name": "Python 3",
   "language": "python",
   "name": "python3"
  },
  "language_info": {
   "codemirror_mode": {
    "name": "ipython",
    "version": 2
   },
   "file_extension": ".py",
   "mimetype": "text/x-python",
   "name": "python",
   "nbconvert_exporter": "python",
   "pygments_lexer": "ipython2",
   "version": "2.7.6"
  }
 },
 "nbformat": 4,
 "nbformat_minor": 0
}
