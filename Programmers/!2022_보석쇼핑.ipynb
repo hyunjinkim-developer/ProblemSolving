{
 "cells": [
  {
   "cell_type": "markdown",
   "source": [
    "# <a href=https://tech.kakao.com/2020/07/01/2020-internship-test/>Official Solution</a>\n",
    "\n",
    "1. 맵 자료구조에서, ‘map[보석 이름] = 빈도수’로 정의를 합니다.\n",
    "2. 왼쪽 포인터 l과 오른쪽 포인터 r을 모두 1번 진열대에 위치시킵니다.\n",
    "3. 양 포인터 중, 둘 중 하나라도 진열대의 범위를 벗어나면 알고리즘을 종료합니다.\n",
    "4. 양 포인터가 가리키는 범위 안에 포함된 보석 종류의 개수를 세어 봅니다.(map의 사이즈를 체크합니다)\n",
    "5-1. 범위 안에 보석 종류가 전체 보석 종류와 일치하면 더 좋은 답인지 체크한 후 l를 증가시킵니다. 그리고 2로 갑니다.\n",
    "5-2. 범위 안에 보석 종류가 전체 보석 종류보다 작다면 r를 증가시킵니다. 그리고 3으로 갑니다.\n",
    "\n",
    "\n",
    "즉, 왼쪽을 가리키는 포인터 l과 오른쪽을 가리키는 포인터 r을 이용하여\n",
    "보석의 종류가 모자라면 r을 증가시키고, 보석의 종류가 충분하면 l을 증가시키는 과정을 반복하면서, 정답을 갱신시켜나갑니다.\n",
    "이때 l을 증가시키기 이전, map자료구조에서 l번 진열대에 있던 보석의 빈도수를 감소시켜주어야 하며\n",
    "특히 빈도수가 1에서 0이 될 때에는 map에서 완전히 제거하여야 합니다.\n",
    "r을 증가시킬 때는 map자료구조에서 증가된 r번 진열대에 있는 보석의 빈도수를 증가시켜줍니다."
   ],
   "metadata": {
    "collapsed": false
   }
  },
  {
   "cell_type": "code",
   "execution_count": null,
   "outputs": [],
   "source": [
    "# \"\"\"\n",
    "# Solution 1: Timeout\n",
    "# Check every possible ranges\n",
    "# -> O(n ** 2)\n",
    "# \"\"\"\n",
    "# from collections import defaultdict\n",
    "\n",
    "# def solution(gems):\n",
    "#     answer = []\n",
    "\n",
    "#     all_gems = set(gems)\n",
    "#     gems_count = len(all_gems)\n",
    "\n",
    "#     result = defaultdict(list)\n",
    "#     # slicing [start_idx, end_idx)\n",
    "#     for start_idx in range(len(gems)):\n",
    "#         for end_idx in range(start_idx + gems_count, len(gems) + 1):\n",
    "#             if all_gems == set(gems[start_idx: end_idx]):\n",
    "#                 result[end_idx - (start_idx + 1)].append((start_idx + 1, end_idx)) # index starts from 1\n",
    "#                 if end_idx - start_idx == gems_count:\n",
    "#                     return [start_idx + 1, end_idx]\n",
    "#     # 가장 짧은 구간의 시작 진열대 번호와 끝 진열대 번호를 차례대로 배열에 담아서 return 하도록 하며,\n",
    "#     # 만약 가장 짧은 구간이 여러 개라면 시작 진열대 번호가 가장 작은 구간을 return 합니다.\n",
    "#     min_len = min(result.keys())\n",
    "#     shortest_path = sorted(result[min_len], key=lambda item: item[0])\n",
    "#     answer.extend(shortest_path[0])\n",
    "#     return answer"
   ],
   "metadata": {
    "collapsed": false
   }
  },
  {
   "cell_type": "code",
   "execution_count": null,
   "outputs": [],
   "source": [
    "\"\"\"\n",
    "Solution 2:\n",
    "! Two pointer\n",
    "-> O(n)\n",
    "- ! using map data structure to compare whether the range contains all gems\n",
    "\"\"\"\n",
    "def solution(gems):\n",
    "    answer = [0, len(gems)]\n",
    "    total_counts = len(set(gems))\n",
    "\n",
    "    left, right = 0, 0\n",
    "    map_ = {gems[0]: 1}\n",
    "    while 0 <= left < len(gems) and 0 <= right < len(gems):\n",
    "        # all gems are included\n",
    "        if len(map_) == total_counts: # find the shortest range\n",
    "            if right - left < answer[1] - answer[0]:\n",
    "                answer = [left, right]\n",
    "            else:\n",
    "                # remove gem in left index\n",
    "                map_[gems[left]] -= 1\n",
    "                if map_[gems[left]] == 0:\n",
    "                    map_.pop(gems[left]) # del map_[gems[left]]\n",
    "\n",
    "                left += 1\n",
    "        else:\n",
    "            right += 1\n",
    "            if right == len(gems):\n",
    "                break\n",
    "\n",
    "            map_[gems[right]] = (map_.get(gems[right], 0) + 1)\n",
    "            # dictionary.get(\"key\", \"default\")\n",
    "            # := if there's \"key\", get value of the \"key\"\n",
    "            #    if there's no \"key\", get \"default\"\n",
    "\n",
    "    return [answer[0] + 1, answer[1] + 1]"
   ],
   "metadata": {
    "collapsed": false
   }
  }
 ],
 "metadata": {
  "kernelspec": {
   "display_name": "Python 3",
   "language": "python",
   "name": "python3"
  },
  "language_info": {
   "codemirror_mode": {
    "name": "ipython",
    "version": 2
   },
   "file_extension": ".py",
   "mimetype": "text/x-python",
   "name": "python",
   "nbconvert_exporter": "python",
   "pygments_lexer": "ipython2",
   "version": "2.7.6"
  }
 },
 "nbformat": 4,
 "nbformat_minor": 0
}
