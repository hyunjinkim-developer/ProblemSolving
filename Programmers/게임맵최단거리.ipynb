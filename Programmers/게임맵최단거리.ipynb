{
 "cells": [
  {
   "cell_type": "code",
   "execution_count": null,
   "metadata": {
    "collapsed": true
   },
   "outputs": [],
   "source": [
    "\"\"\"\n",
    "BFS: using deque()\n",
    "- set visited as set()\n",
    "- check visited when adding to queue\n",
    "\"\"\"\n",
    "from collections import deque\n",
    "\n",
    "N, M = 0, 0\n",
    "\n",
    "def in_range(r, c):\n",
    "    global N, M\n",
    "    return 0 <= r < N and 0 <= c < M\n",
    "\n",
    "\n",
    "def find_next_move(pos, maps):\n",
    "    possible_moves = []\n",
    "\n",
    "    cr, cc = pos\n",
    "    # 동, 서, 남, 북 방향으로 한 칸씩 이동\n",
    "    dirs = [(0, 1), (0, -1), (1, 0), (-1, 0)]\n",
    "    for dr, dc in dirs:\n",
    "        nr, nc = cr + dr, cc + dc\n",
    "        if not in_range(nr, nc): continue\n",
    "        if maps[nr][nc] == 0: continue\n",
    "        possible_moves.append((nr, nc))\n",
    "    return possible_moves\n",
    "\n",
    "def solution(maps):\n",
    "    answer = 0\n",
    "    global N, M\n",
    "\n",
    "    N, M = len(maps), len(maps[0])\n",
    "\n",
    "    start_pos = (0, 0)\n",
    "    queue = deque()\n",
    "    queue.append((start_pos, 1))\n",
    "    visited = set()\n",
    "    visited.add(start_pos)\n",
    "    while queue:\n",
    "        cur_pos, count = queue.popleft()\n",
    "        if cur_pos == (N - 1, M - 1):\n",
    "            return count\n",
    "        for next_pos in find_next_move(cur_pos, maps):\n",
    "            if next_pos in visited: continue\n",
    "            visited.add(next_pos) # Not to check path already queued or visited\n",
    "            queue.append((next_pos, count + 1))\n",
    "    return -1"
   ]
  }
 ],
 "metadata": {
  "kernelspec": {
   "display_name": "Python 3",
   "language": "python",
   "name": "python3"
  },
  "language_info": {
   "codemirror_mode": {
    "name": "ipython",
    "version": 2
   },
   "file_extension": ".py",
   "mimetype": "text/x-python",
   "name": "python",
   "nbconvert_exporter": "python",
   "pygments_lexer": "ipython2",
   "version": "2.7.6"
  }
 },
 "nbformat": 4,
 "nbformat_minor": 0
}
