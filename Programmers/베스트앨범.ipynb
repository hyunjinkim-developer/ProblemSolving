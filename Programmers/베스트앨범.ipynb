{
 "cells": [
  {
   "cell_type": "markdown",
   "source": [
    "# Using hash(Dictionary) with customized Sort\n",
    "## Conditions:\n",
    "1. sum of plays per genre in DESC order\n",
    "2. for each genre, sort by number of plays in DESC order\n",
    "3. songs with the same plays, sort by index in ASC order\n",
    "* return 2 songs that are played the most for every genre\n",
    "* if the genre contains only one sont, return the song"
   ],
   "metadata": {
    "collapsed": false
   }
  },
  {
   "cell_type": "code",
   "execution_count": 1,
   "metadata": {
    "collapsed": true
   },
   "outputs": [],
   "source": [
    "import collections\n",
    "\n",
    "# sort by numbers of plays first in DESC, then sort with index in ASC\n",
    "# items[1] : numbers of plays\n",
    "# items[0] : index of each song\n",
    "def custom_sort(items):\n",
    "    return items[1] * -1,  items[0]\n",
    "\n",
    "def solution(genres, plays):\n",
    "    answer = []\n",
    "\n",
    "    # Calculate each genres' sum of plays\n",
    "    genres_type = set(genres)\n",
    "    playes_per_genre = collections.defaultdict(int)\n",
    "    for idx in range(len(genres)):\n",
    "        playes_per_genre[genres[idx]] += plays[idx]\n",
    "    print(playes_per_genre)\n",
    "\n",
    "    # Sort by sum of plays (DESC order)\n",
    "    # sort by values of dictionary:\n",
    "    # plays_per_genre.items() returns key, value pair\n",
    "    # convert the result into dictionary\n",
    "    sorted_plays_per_genre = dict(sorted(playes_per_genre.items(), key=lambda item: item[1], reverse=True))\n",
    "    print(sorted_plays_per_genre)\n",
    "\n",
    "    for sorted_genre, count in sorted_plays_per_genre.items():\n",
    "        plays_dict = dict()\n",
    "        for idx, genre in enumerate(genres):\n",
    "            if sorted_genre == genre:\n",
    "                plays_dict[idx] = plays[idx]\n",
    "        # Sort song index by plays counts that all are in the same genre\n",
    "        # sort by numbers of plays first in DESC, then sort with index in ASC\n",
    "        sorted_plays_dict = sorted(plays_dict.items(), key=custom_sort)\n",
    "\n",
    "        # if the genre contains only one song\n",
    "        if len(sorted_plays_dict) == 1:\n",
    "            answer.append(sorted_plays_dict[0][0])\n",
    "            continue # move onto next genre\n",
    "\n",
    "        # Add only 2 songs in the best album\n",
    "        for i in range(2):\n",
    "            answer.append(sorted_plays_dict[i][0])\n",
    "\n",
    "    return answer"
   ]
  },
  {
   "cell_type": "code",
   "execution_count": null,
   "outputs": [],
   "source": [],
   "metadata": {
    "collapsed": false
   }
  }
 ],
 "metadata": {
  "kernelspec": {
   "display_name": "Python 3",
   "language": "python",
   "name": "python3"
  },
  "language_info": {
   "codemirror_mode": {
    "name": "ipython",
    "version": 2
   },
   "file_extension": ".py",
   "mimetype": "text/x-python",
   "name": "python",
   "nbconvert_exporter": "python",
   "pygments_lexer": "ipython2",
   "version": "2.7.6"
  }
 },
 "nbformat": 4,
 "nbformat_minor": 0
}
