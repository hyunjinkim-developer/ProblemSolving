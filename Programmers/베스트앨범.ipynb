{
 "cells": [
  {
   "cell_type": "code",
   "execution_count": null,
   "metadata": {
    "collapsed": true
   },
   "outputs": [],
   "source": [
    "# Runtime error on Test 1/ 2/ 4/ 8/ 9/ 11/ 12\n",
    "\n",
    "import collections\n",
    "\n",
    "def solution(genres, plays):\n",
    "    answer = []\n",
    "\n",
    "    # Calculate each genres' sum of plays\n",
    "    genres_type = set(genres)\n",
    "    playes_per_genre = collections.defaultdict(int)\n",
    "    for idx in range(len(genres)):\n",
    "        playes_per_genre[genres[idx]] += plays[idx]\n",
    "    # print(playes_per_genre)\n",
    "\n",
    "    # Sort by sum of plays (DESC order)\n",
    "    # sort by values of dictionary:\n",
    "    # playes_per_genre.items() returns key, value pair\n",
    "    # convert the result into dictionary\n",
    "    sorted_plays_per_genre = dict(sorted(playes_per_genre.items(), key=lambda item: item[1], reverse=True))\n",
    "    # print(sorted_plays_per_genre)\n",
    "\n",
    "    for sorted_genre, count in sorted_plays_per_genre.items():\n",
    "        plays_dict = dict()\n",
    "        for idx, genre in enumerate(genres):\n",
    "            if sorted_genre == genre:\n",
    "                plays_dict[idx] = plays[idx]\n",
    "            # Sort song index by plays counts that all are in the same genre\n",
    "        sorted_plays_dict = sorted(plays_dict.items(), key=lambda item: item[1], reverse=True)\n",
    "        # print(sorted_plays_dict)\n",
    "\n",
    "        # Add only 2 songs in the best album\n",
    "        for i in range(2):\n",
    "            answer.append(sorted_plays_dict[i][0])\n",
    "\n",
    "    return answer"
   ]
  }
 ],
 "metadata": {
  "kernelspec": {
   "display_name": "Python 3",
   "language": "python",
   "name": "python3"
  },
  "language_info": {
   "codemirror_mode": {
    "name": "ipython",
    "version": 2
   },
   "file_extension": ".py",
   "mimetype": "text/x-python",
   "name": "python",
   "nbconvert_exporter": "python",
   "pygments_lexer": "ipython2",
   "version": "2.7.6"
  }
 },
 "nbformat": 4,
 "nbformat_minor": 0
}
