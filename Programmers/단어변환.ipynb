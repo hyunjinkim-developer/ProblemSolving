{
 "cells": [
  {
   "cell_type": "code",
   "execution_count": 112,
   "metadata": {
    "collapsed": true
   },
   "outputs": [],
   "source": [
    "# Use DFS\n",
    "\n",
    "import collections\n",
    "import sys\n",
    "\n",
    "def solution(begin, target, words):\n",
    "    answer = 0\n",
    "    words = collections.deque(words)\n",
    "    min_count = sys.maxsize # to find minimum value, set as maximum number in the system\n",
    "    checked = [False] * len(words)\n",
    "\n",
    "    # Find words,\n",
    "    # only one different characters are different from begin\n",
    "    def count_diff(words, begin):\n",
    "        available_words = []\n",
    "        for word in words:\n",
    "            diff_char = 0\n",
    "            for i in range(len(word)):\n",
    "                if begin[i] != word[i]:\n",
    "                    diff_char += 1\n",
    "            if diff_char == 1:\n",
    "                available_words.append(word)\n",
    "        return available_words\n",
    "\n",
    "    def dfs(words, begin, target, count):\n",
    "        nonlocal min_count # use variables from outer function\n",
    "\n",
    "        if begin == target:\n",
    "            words.remove(begin)\n",
    "            min_count = min(min_count, count)\n",
    "            return\n",
    "\n",
    "        if len(words) == 0:\n",
    "            min_count = 0\n",
    "            return\n",
    "\n",
    "        else:\n",
    "            avail_words = count_diff(words, begin)\n",
    "\n",
    "            for word in avail_words:\n",
    "                if word != target:\n",
    "                    words.remove(word)\n",
    "                dfs(words, word, target, count + 1)\n",
    "                words.append(word)\n",
    "\n",
    "\n",
    "    # Exception handling:\n",
    "    # if there's any of the word in words can not be made from begin\n",
    "    if len(count_diff(words, begin)) == 0:\n",
    "        min_count = 0\n",
    "        return min_count\n",
    "\n",
    "    dfs(words, begin, target, 0)\n",
    "\n",
    "    return min_count"
   ]
  },
  {
   "cell_type": "code",
   "execution_count": 115,
   "outputs": [
    {
     "name": "stdout",
     "output_type": "stream",
     "text": [
      "4\n",
      "0\n",
      "0\n"
     ]
    }
   ],
   "source": [
    "print(solution(\"hit\", \"cog\", [\"hot\", \"dot\", \"dog\", \"lot\", \"log\", \"cog\"])) # 4\n",
    "print(solution(\"hit\", \"cog\", [\"hot\", \"dot\", \"dog\", \"lot\", \"log\"])) # 0\n",
    "print(solution(\"hit\", \"cog\", [\"abc\", \"cde\", \"def\"])) # 0"
   ],
   "metadata": {
    "collapsed": false
   }
  },
  {
   "cell_type": "code",
   "execution_count": null,
   "outputs": [],
   "source": [],
   "metadata": {
    "collapsed": false
   }
  }
 ],
 "metadata": {
  "kernelspec": {
   "display_name": "Python 3",
   "language": "python",
   "name": "python3"
  },
  "language_info": {
   "codemirror_mode": {
    "name": "ipython",
    "version": 2
   },
   "file_extension": ".py",
   "mimetype": "text/x-python",
   "name": "python",
   "nbconvert_exporter": "python",
   "pygments_lexer": "ipython2",
   "version": "2.7.6"
  }
 },
 "nbformat": 4,
 "nbformat_minor": 0
}
