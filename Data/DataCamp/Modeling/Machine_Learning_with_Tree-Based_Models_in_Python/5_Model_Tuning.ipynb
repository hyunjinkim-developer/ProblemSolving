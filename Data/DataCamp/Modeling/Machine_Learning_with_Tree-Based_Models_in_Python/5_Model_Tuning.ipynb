{
 "cells": [
  {
   "cell_type": "markdown",
   "source": [
    "# Model Tuning"
   ],
   "metadata": {
    "collapsed": false
   }
  },
  {
   "cell_type": "markdown",
   "source": [
    "## Tuning a CART's Hyperparameters"
   ],
   "metadata": {
    "collapsed": false
   }
  },
  {
   "cell_type": "code",
   "execution_count": null,
   "outputs": [],
   "source": [
    "# Given that this dataset is imbalanced, you'll be using the ROC AUC score as a metric instead of accuracy.\n",
    "\n",
    "# Show all hyperparameters\n",
    "print(dt.get_params())\n",
    "\n",
    "\n",
    "# Define params_dt\n",
    "params_dt = {\"max_depth\": [2, 3, 4],\n",
    "            \"min_samples_leaf\": [0.12, 0.14, 0.16, 0.18]}\n",
    "\n",
    "# Import GridSearchCV\n",
    "from sklearn.model_selection import GridSearchCV\n",
    "\n",
    "# Instantiate grid_dt\n",
    "grid_dt = GridSearchCV(estimator=dt,\n",
    "                       param_grid=params_dt,\n",
    "                       scoring=\"roc_auc\",\n",
    "                       cv=5,\n",
    "                       n_jobs=-1)\n",
    "\n",
    "# Import roc_auc_score from sklearn.metrics\n",
    "from sklearn.metrics import roc_auc_score\n",
    "\n",
    "# Extract the best estimator\n",
    "best_model = grid_dt.best_estimator_\n",
    "\n",
    "# Predict the test set probabilities of the positive class\n",
    "y_pred_proba = grid_dt.predict_proba(X_test)[:, 1]\n",
    "\n",
    "# Compute test_roc_auc\n",
    "test_roc_auc = roc_auc_score(y_test, y_pred_proba)\n",
    "\n",
    "# Print test_roc_auc\n",
    "print('Test set ROC AUC score: {:.3f}'.format(test_roc_auc))"
   ],
   "metadata": {
    "collapsed": false
   }
  },
  {
   "cell_type": "markdown",
   "source": [
    "## Tuning a RF's Hyperparameters"
   ],
   "metadata": {
    "collapsed": false
   }
  },
  {
   "cell_type": "code",
   "execution_count": null,
   "outputs": [],
   "source": [
    "# Inspect the hyperparameters of RandomForestRegressor\n",
    "rf.get_params()\n",
    "\n",
    "## Set the hyperparameter grid of RF\n",
    "# Define the dictionary 'params_rf'\n",
    "params_rf = {\"n_estimators\": [100, 350, 500],\n",
    "            \"max_features\": [\"log2\", \"auto\", \"sqrt\"],\n",
    "            \"min_samples_leaf\": [2, 10, 30]}\n",
    "\n",
    "## Search for the optimal forest\n",
    "# Import GridSearchCV\n",
    "from sklearn.model_selection import GridSearchCV\n",
    "\n",
    "# Instantiate grid_rf\n",
    "grid_rf = GridSearchCV(estimator=rf,\n",
    "                       param_grid=params_rf,\n",
    "                       scoring=\"neg_mean_squared_error\",\n",
    "                       cv=3,\n",
    "                       verbose=1,\n",
    "                       n_jobs=-1)\n",
    "\n",
    "## Evaluate the optimal forest\n",
    "# Import mean_squared_error from sklearn.metrics as MSE\n",
    "from sklearn.metrics import mean_squared_error as MSE\n",
    "\n",
    "# Extract the best estimator\n",
    "best_parameters = grid_rf.best_params_\n",
    "print(f\"Best parameters: {best_parameters}\")\n",
    "best_model = grid_rf.best_estimator_\n",
    "print(f\"Best model: {best_model}\")\n",
    "\n",
    "\n",
    "# Predict test set labels\n",
    "y_pred = best_model.predict(X_test)\n",
    "\n",
    "# Compute rmse_test\n",
    "rmse_test = MSE(y_test, y_pred) ** (0.5)\n",
    "\n",
    "# Print rmse_test\n",
    "print('Test RMSE of best model: {:.3f}'.format(rmse_test))"
   ],
   "metadata": {
    "collapsed": false
   }
  }
 ],
 "metadata": {
  "kernelspec": {
   "display_name": "Python 3",
   "language": "python",
   "name": "python3"
  },
  "language_info": {
   "codemirror_mode": {
    "name": "ipython",
    "version": 2
   },
   "file_extension": ".py",
   "mimetype": "text/x-python",
   "name": "python",
   "nbconvert_exporter": "python",
   "pygments_lexer": "ipython2",
   "version": "2.7.6"
  }
 },
 "nbformat": 4,
 "nbformat_minor": 0
}
