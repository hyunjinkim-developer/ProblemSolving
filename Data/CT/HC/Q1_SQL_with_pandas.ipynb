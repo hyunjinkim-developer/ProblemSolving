{
 "cells": [
  {
   "cell_type": "markdown",
   "source": [
    "# Q1: SQL with pandas\n",
    "* <a href=\"https://pandas.pydata.org/docs/getting_started/comparison/comparison_with_sql.html#comparison-with-sql\">Pandas Comparison with SQL</a>\n",
    "* <a href=\"https://pandas.pydata.org/docs/user_guide/10min.html#min\">10 minutes to pandas-Basic functions of Pandas</a>"
   ],
   "metadata": {
    "collapsed": false
   }
  },
  {
   "cell_type": "code",
   "execution_count": 4,
   "outputs": [],
   "source": [
    "import numpy as np\n",
    "import pandas as pd"
   ],
   "metadata": {
    "collapsed": false
   }
  },
  {
   "cell_type": "code",
   "execution_count": 26,
   "outputs": [
    {
     "data": {
      "text/plain": "   total_bill   tip     sex smoker  day    time  size\n0       16.99  1.01  Female     No  Sun  Dinner     2\n1       10.34  1.66    Male     No  Sun  Dinner     3\n2       21.01  3.50    Male     No  Sun  Dinner     3\n3       23.68  3.31    Male     No  Sun  Dinner     2\n4       24.59  3.61  Female     No  Sun  Dinner     4",
      "text/html": "<div>\n<style scoped>\n    .dataframe tbody tr th:only-of-type {\n        vertical-align: middle;\n    }\n\n    .dataframe tbody tr th {\n        vertical-align: top;\n    }\n\n    .dataframe thead th {\n        text-align: right;\n    }\n</style>\n<table border=\"1\" class=\"dataframe\">\n  <thead>\n    <tr style=\"text-align: right;\">\n      <th></th>\n      <th>total_bill</th>\n      <th>tip</th>\n      <th>sex</th>\n      <th>smoker</th>\n      <th>day</th>\n      <th>time</th>\n      <th>size</th>\n    </tr>\n  </thead>\n  <tbody>\n    <tr>\n      <th>0</th>\n      <td>16.99</td>\n      <td>1.01</td>\n      <td>Female</td>\n      <td>No</td>\n      <td>Sun</td>\n      <td>Dinner</td>\n      <td>2</td>\n    </tr>\n    <tr>\n      <th>1</th>\n      <td>10.34</td>\n      <td>1.66</td>\n      <td>Male</td>\n      <td>No</td>\n      <td>Sun</td>\n      <td>Dinner</td>\n      <td>3</td>\n    </tr>\n    <tr>\n      <th>2</th>\n      <td>21.01</td>\n      <td>3.50</td>\n      <td>Male</td>\n      <td>No</td>\n      <td>Sun</td>\n      <td>Dinner</td>\n      <td>3</td>\n    </tr>\n    <tr>\n      <th>3</th>\n      <td>23.68</td>\n      <td>3.31</td>\n      <td>Male</td>\n      <td>No</td>\n      <td>Sun</td>\n      <td>Dinner</td>\n      <td>2</td>\n    </tr>\n    <tr>\n      <th>4</th>\n      <td>24.59</td>\n      <td>3.61</td>\n      <td>Female</td>\n      <td>No</td>\n      <td>Sun</td>\n      <td>Dinner</td>\n      <td>4</td>\n    </tr>\n  </tbody>\n</table>\n</div>"
     },
     "execution_count": 26,
     "metadata": {},
     "output_type": "execute_result"
    }
   ],
   "source": [
    "url = (\n",
    "    \"https://raw.githubusercontent.com/pandas-dev\"\n",
    "    \"/pandas/main/pandas/tests/io/data/csv/tips.csv\"\n",
    ")\n",
    "\n",
    "tips = pd.read_csv(url)\n",
    "tips.head()"
   ],
   "metadata": {
    "collapsed": false
   }
  },
  {
   "cell_type": "code",
   "execution_count": 27,
   "outputs": [
    {
     "data": {
      "text/plain": "   user_id  total_bill   tip     sex smoker  day    time  size\n0        0       16.99  1.01  Female     No  Sun  Dinner     2\n1        1       10.34  1.66    Male     No  Sun  Dinner     3\n2        2       21.01  3.50    Male     No  Sun  Dinner     3\n3        3       23.68  3.31    Male     No  Sun  Dinner     2\n4        4       24.59  3.61  Female     No  Sun  Dinner     4",
      "text/html": "<div>\n<style scoped>\n    .dataframe tbody tr th:only-of-type {\n        vertical-align: middle;\n    }\n\n    .dataframe tbody tr th {\n        vertical-align: top;\n    }\n\n    .dataframe thead th {\n        text-align: right;\n    }\n</style>\n<table border=\"1\" class=\"dataframe\">\n  <thead>\n    <tr style=\"text-align: right;\">\n      <th></th>\n      <th>user_id</th>\n      <th>total_bill</th>\n      <th>tip</th>\n      <th>sex</th>\n      <th>smoker</th>\n      <th>day</th>\n      <th>time</th>\n      <th>size</th>\n    </tr>\n  </thead>\n  <tbody>\n    <tr>\n      <th>0</th>\n      <td>0</td>\n      <td>16.99</td>\n      <td>1.01</td>\n      <td>Female</td>\n      <td>No</td>\n      <td>Sun</td>\n      <td>Dinner</td>\n      <td>2</td>\n    </tr>\n    <tr>\n      <th>1</th>\n      <td>1</td>\n      <td>10.34</td>\n      <td>1.66</td>\n      <td>Male</td>\n      <td>No</td>\n      <td>Sun</td>\n      <td>Dinner</td>\n      <td>3</td>\n    </tr>\n    <tr>\n      <th>2</th>\n      <td>2</td>\n      <td>21.01</td>\n      <td>3.50</td>\n      <td>Male</td>\n      <td>No</td>\n      <td>Sun</td>\n      <td>Dinner</td>\n      <td>3</td>\n    </tr>\n    <tr>\n      <th>3</th>\n      <td>3</td>\n      <td>23.68</td>\n      <td>3.31</td>\n      <td>Male</td>\n      <td>No</td>\n      <td>Sun</td>\n      <td>Dinner</td>\n      <td>2</td>\n    </tr>\n    <tr>\n      <th>4</th>\n      <td>4</td>\n      <td>24.59</td>\n      <td>3.61</td>\n      <td>Female</td>\n      <td>No</td>\n      <td>Sun</td>\n      <td>Dinner</td>\n      <td>4</td>\n    </tr>\n  </tbody>\n</table>\n</div>"
     },
     "execution_count": 27,
     "metadata": {},
     "output_type": "execute_result"
    }
   ],
   "source": [
    "tips.reset_index(inplace=True)\n",
    "tips.rename(columns={\"index\": \"user_id\"}, inplace=True)\n",
    "tips.head()"
   ],
   "metadata": {
    "collapsed": false
   }
  },
  {
   "cell_type": "code",
   "execution_count": 28,
   "outputs": [
    {
     "data": {
      "text/plain": "     user_id  total_bill   tip     sex smoker   day    time  size  id\n0          0       16.99  1.01  Female     No   Sun  Dinner     2   5\n1          1       10.34  1.66    Male     No   Sun  Dinner     3   6\n2          2       21.01  3.50    Male     No   Sun  Dinner     3   1\n3          3       23.68  3.31    Male     No   Sun  Dinner     2   7\n4          4       24.59  3.61  Female     No   Sun  Dinner     4   7\n..       ...         ...   ...     ...    ...   ...     ...   ...  ..\n239      239       29.03  5.92    Male     No   Sat  Dinner     3   5\n240      240       27.18  2.00  Female    Yes   Sat  Dinner     2   3\n241      241       22.67  2.00    Male    Yes   Sat  Dinner     2   5\n242      242       17.82  1.75    Male     No   Sat  Dinner     2   7\n243      243       18.78  3.00  Female     No  Thur  Dinner     2   1\n\n[244 rows x 9 columns]",
      "text/html": "<div>\n<style scoped>\n    .dataframe tbody tr th:only-of-type {\n        vertical-align: middle;\n    }\n\n    .dataframe tbody tr th {\n        vertical-align: top;\n    }\n\n    .dataframe thead th {\n        text-align: right;\n    }\n</style>\n<table border=\"1\" class=\"dataframe\">\n  <thead>\n    <tr style=\"text-align: right;\">\n      <th></th>\n      <th>user_id</th>\n      <th>total_bill</th>\n      <th>tip</th>\n      <th>sex</th>\n      <th>smoker</th>\n      <th>day</th>\n      <th>time</th>\n      <th>size</th>\n      <th>id</th>\n    </tr>\n  </thead>\n  <tbody>\n    <tr>\n      <th>0</th>\n      <td>0</td>\n      <td>16.99</td>\n      <td>1.01</td>\n      <td>Female</td>\n      <td>No</td>\n      <td>Sun</td>\n      <td>Dinner</td>\n      <td>2</td>\n      <td>5</td>\n    </tr>\n    <tr>\n      <th>1</th>\n      <td>1</td>\n      <td>10.34</td>\n      <td>1.66</td>\n      <td>Male</td>\n      <td>No</td>\n      <td>Sun</td>\n      <td>Dinner</td>\n      <td>3</td>\n      <td>6</td>\n    </tr>\n    <tr>\n      <th>2</th>\n      <td>2</td>\n      <td>21.01</td>\n      <td>3.50</td>\n      <td>Male</td>\n      <td>No</td>\n      <td>Sun</td>\n      <td>Dinner</td>\n      <td>3</td>\n      <td>1</td>\n    </tr>\n    <tr>\n      <th>3</th>\n      <td>3</td>\n      <td>23.68</td>\n      <td>3.31</td>\n      <td>Male</td>\n      <td>No</td>\n      <td>Sun</td>\n      <td>Dinner</td>\n      <td>2</td>\n      <td>7</td>\n    </tr>\n    <tr>\n      <th>4</th>\n      <td>4</td>\n      <td>24.59</td>\n      <td>3.61</td>\n      <td>Female</td>\n      <td>No</td>\n      <td>Sun</td>\n      <td>Dinner</td>\n      <td>4</td>\n      <td>7</td>\n    </tr>\n    <tr>\n      <th>...</th>\n      <td>...</td>\n      <td>...</td>\n      <td>...</td>\n      <td>...</td>\n      <td>...</td>\n      <td>...</td>\n      <td>...</td>\n      <td>...</td>\n      <td>...</td>\n    </tr>\n    <tr>\n      <th>239</th>\n      <td>239</td>\n      <td>29.03</td>\n      <td>5.92</td>\n      <td>Male</td>\n      <td>No</td>\n      <td>Sat</td>\n      <td>Dinner</td>\n      <td>3</td>\n      <td>5</td>\n    </tr>\n    <tr>\n      <th>240</th>\n      <td>240</td>\n      <td>27.18</td>\n      <td>2.00</td>\n      <td>Female</td>\n      <td>Yes</td>\n      <td>Sat</td>\n      <td>Dinner</td>\n      <td>2</td>\n      <td>3</td>\n    </tr>\n    <tr>\n      <th>241</th>\n      <td>241</td>\n      <td>22.67</td>\n      <td>2.00</td>\n      <td>Male</td>\n      <td>Yes</td>\n      <td>Sat</td>\n      <td>Dinner</td>\n      <td>2</td>\n      <td>5</td>\n    </tr>\n    <tr>\n      <th>242</th>\n      <td>242</td>\n      <td>17.82</td>\n      <td>1.75</td>\n      <td>Male</td>\n      <td>No</td>\n      <td>Sat</td>\n      <td>Dinner</td>\n      <td>2</td>\n      <td>7</td>\n    </tr>\n    <tr>\n      <th>243</th>\n      <td>243</td>\n      <td>18.78</td>\n      <td>3.00</td>\n      <td>Female</td>\n      <td>No</td>\n      <td>Thur</td>\n      <td>Dinner</td>\n      <td>2</td>\n      <td>1</td>\n    </tr>\n  </tbody>\n</table>\n<p>244 rows × 9 columns</p>\n</div>"
     },
     "metadata": {},
     "output_type": "display_data"
    }
   ],
   "source": [
    "tips[\"id\"] = np.random.randint(1, 10, len(tips))\n",
    "display(tips)"
   ],
   "metadata": {
    "collapsed": false
   }
  },
  {
   "cell_type": "code",
   "execution_count": 31,
   "outputs": [
    {
     "name": "stdout",
     "output_type": "stream",
     "text": [
      "The original range : 2015-06-03 2024-07-01\n",
      "244\n",
      "K random dates in range : [datetime.date(2015, 7, 14), datetime.date(2024, 6, 12), datetime.date(2018, 6, 1), datetime.date(2024, 4, 20), datetime.date(2015, 6, 28), datetime.date(2022, 1, 20), datetime.date(2018, 12, 5), datetime.date(2016, 2, 18), datetime.date(2019, 7, 15), datetime.date(2016, 1, 7), datetime.date(2015, 7, 13), datetime.date(2022, 9, 10), datetime.date(2020, 9, 15), datetime.date(2017, 5, 16), datetime.date(2023, 8, 2), datetime.date(2018, 8, 10), datetime.date(2015, 7, 27), datetime.date(2023, 3, 19), datetime.date(2018, 1, 30), datetime.date(2017, 1, 21), datetime.date(2020, 9, 24), datetime.date(2017, 9, 28), datetime.date(2020, 12, 2), datetime.date(2021, 10, 20), datetime.date(2023, 4, 9), datetime.date(2015, 8, 15), datetime.date(2018, 11, 18), datetime.date(2015, 10, 9), datetime.date(2015, 7, 17), datetime.date(2016, 2, 2), datetime.date(2021, 11, 8), datetime.date(2018, 11, 26), datetime.date(2018, 7, 9), datetime.date(2017, 5, 31), datetime.date(2017, 9, 12), datetime.date(2024, 3, 4), datetime.date(2020, 10, 19), datetime.date(2022, 4, 3), datetime.date(2021, 2, 26), datetime.date(2019, 12, 10), datetime.date(2016, 7, 27), datetime.date(2017, 1, 28), datetime.date(2016, 3, 31), datetime.date(2018, 2, 14), datetime.date(2019, 10, 11), datetime.date(2017, 7, 5), datetime.date(2022, 2, 28), datetime.date(2019, 8, 21), datetime.date(2020, 8, 26), datetime.date(2017, 7, 9), datetime.date(2018, 4, 1), datetime.date(2016, 5, 29), datetime.date(2020, 11, 11), datetime.date(2017, 4, 20), datetime.date(2019, 12, 5), datetime.date(2016, 10, 1), datetime.date(2019, 10, 12), datetime.date(2023, 9, 19), datetime.date(2019, 3, 8), datetime.date(2024, 6, 19), datetime.date(2023, 1, 2), datetime.date(2016, 7, 12), datetime.date(2016, 8, 18), datetime.date(2024, 5, 26), datetime.date(2017, 4, 28), datetime.date(2022, 5, 27), datetime.date(2021, 2, 1), datetime.date(2020, 2, 22), datetime.date(2020, 8, 13), datetime.date(2021, 8, 7), datetime.date(2015, 9, 6), datetime.date(2023, 9, 27), datetime.date(2017, 11, 19), datetime.date(2021, 2, 25), datetime.date(2017, 8, 31), datetime.date(2017, 12, 19), datetime.date(2024, 6, 29), datetime.date(2021, 4, 23), datetime.date(2022, 10, 16), datetime.date(2016, 2, 3), datetime.date(2019, 10, 10), datetime.date(2018, 1, 6), datetime.date(2021, 2, 11), datetime.date(2015, 12, 25), datetime.date(2015, 12, 24), datetime.date(2015, 9, 8), datetime.date(2017, 1, 13), datetime.date(2016, 5, 14), datetime.date(2018, 9, 15), datetime.date(2018, 6, 2), datetime.date(2017, 6, 10), datetime.date(2023, 5, 31), datetime.date(2016, 3, 28), datetime.date(2020, 1, 4), datetime.date(2017, 4, 7), datetime.date(2021, 12, 18), datetime.date(2023, 3, 8), datetime.date(2023, 4, 1), datetime.date(2023, 4, 18), datetime.date(2020, 4, 22), datetime.date(2020, 4, 28), datetime.date(2024, 5, 11), datetime.date(2017, 4, 13), datetime.date(2020, 11, 13), datetime.date(2020, 4, 9), datetime.date(2018, 1, 13), datetime.date(2020, 2, 2), datetime.date(2024, 6, 14), datetime.date(2023, 5, 11), datetime.date(2017, 2, 6), datetime.date(2021, 8, 21), datetime.date(2017, 1, 27), datetime.date(2023, 9, 14), datetime.date(2020, 7, 4), datetime.date(2019, 9, 28), datetime.date(2022, 1, 25), datetime.date(2023, 9, 25), datetime.date(2016, 1, 30), datetime.date(2020, 3, 16), datetime.date(2024, 4, 2), datetime.date(2018, 2, 1), datetime.date(2021, 9, 6), datetime.date(2018, 10, 23), datetime.date(2016, 4, 8), datetime.date(2015, 12, 13), datetime.date(2018, 3, 3), datetime.date(2023, 8, 1), datetime.date(2024, 2, 16), datetime.date(2019, 10, 18), datetime.date(2017, 10, 24), datetime.date(2023, 5, 19), datetime.date(2022, 12, 3), datetime.date(2016, 12, 18), datetime.date(2019, 8, 2), datetime.date(2021, 11, 20), datetime.date(2017, 10, 2), datetime.date(2020, 7, 26), datetime.date(2016, 9, 21), datetime.date(2022, 1, 16), datetime.date(2018, 9, 25), datetime.date(2021, 11, 29), datetime.date(2019, 6, 3), datetime.date(2019, 7, 30), datetime.date(2023, 6, 28), datetime.date(2024, 1, 22), datetime.date(2020, 6, 30), datetime.date(2023, 3, 26), datetime.date(2021, 10, 14), datetime.date(2015, 11, 11), datetime.date(2020, 9, 17), datetime.date(2024, 2, 21), datetime.date(2019, 12, 27), datetime.date(2020, 11, 22), datetime.date(2020, 3, 29), datetime.date(2018, 7, 26), datetime.date(2016, 9, 16), datetime.date(2015, 6, 15), datetime.date(2023, 12, 11), datetime.date(2018, 10, 25), datetime.date(2022, 3, 3), datetime.date(2019, 9, 24), datetime.date(2022, 1, 24), datetime.date(2018, 3, 6), datetime.date(2023, 4, 25), datetime.date(2016, 6, 13), datetime.date(2023, 10, 19), datetime.date(2017, 9, 23), datetime.date(2016, 5, 18), datetime.date(2023, 6, 1), datetime.date(2015, 10, 1), datetime.date(2021, 4, 11), datetime.date(2015, 12, 11), datetime.date(2017, 2, 22), datetime.date(2020, 5, 21), datetime.date(2019, 8, 15), datetime.date(2018, 3, 24), datetime.date(2016, 10, 11), datetime.date(2021, 1, 25), datetime.date(2019, 8, 16), datetime.date(2022, 12, 6), datetime.date(2017, 12, 1), datetime.date(2016, 6, 19), datetime.date(2017, 5, 7), datetime.date(2021, 6, 2), datetime.date(2021, 2, 3), datetime.date(2019, 1, 25), datetime.date(2022, 7, 26), datetime.date(2024, 4, 27), datetime.date(2018, 2, 8), datetime.date(2021, 2, 22), datetime.date(2018, 7, 21), datetime.date(2018, 2, 26), datetime.date(2022, 4, 26), datetime.date(2017, 3, 11), datetime.date(2023, 6, 25), datetime.date(2017, 9, 6), datetime.date(2018, 5, 26), datetime.date(2020, 10, 8), datetime.date(2020, 7, 9), datetime.date(2022, 5, 23), datetime.date(2018, 8, 29), datetime.date(2020, 2, 15), datetime.date(2019, 12, 12), datetime.date(2023, 11, 29), datetime.date(2015, 6, 17), datetime.date(2020, 10, 25), datetime.date(2019, 1, 20), datetime.date(2019, 2, 19), datetime.date(2017, 8, 13), datetime.date(2022, 10, 2), datetime.date(2019, 2, 4), datetime.date(2019, 12, 21), datetime.date(2019, 9, 29), datetime.date(2017, 11, 21), datetime.date(2019, 2, 28), datetime.date(2017, 7, 8), datetime.date(2018, 2, 18), datetime.date(2018, 9, 16), datetime.date(2020, 11, 1), datetime.date(2023, 5, 7), datetime.date(2021, 8, 8), datetime.date(2022, 12, 27), datetime.date(2015, 7, 22), datetime.date(2019, 11, 14), datetime.date(2022, 4, 10), datetime.date(2020, 11, 30), datetime.date(2019, 4, 19), datetime.date(2017, 3, 21), datetime.date(2022, 5, 6), datetime.date(2017, 8, 10), datetime.date(2024, 4, 23), datetime.date(2020, 12, 31), datetime.date(2022, 1, 10), datetime.date(2018, 5, 11), datetime.date(2019, 7, 29), datetime.date(2024, 5, 3), datetime.date(2021, 1, 6), datetime.date(2018, 3, 21), datetime.date(2015, 7, 3), datetime.date(2022, 12, 31), datetime.date(2017, 12, 4), datetime.date(2018, 10, 7), datetime.date(2021, 8, 22), datetime.date(2018, 3, 25)]\n"
     ]
    }
   ],
   "source": [
    "from datetime import date, timedelta\n",
    "import numpy as np\n",
    "\n",
    "# initializing dates ranges\n",
    "test_date1, test_date2 = date(2015, 6, 3), date(2024, 7, 1)\n",
    "\n",
    "# printing dates\n",
    "print(\"The original range : \" + str(test_date1) + \" \" + str(test_date2))\n",
    "\n",
    "# initializing K\n",
    "K = len(tips)\n",
    "\n",
    "# getting days between dates\n",
    "dates_bet = test_date2 - test_date1\n",
    "total_days = dates_bet.days\n",
    "\n",
    "# create an array of total days and select K random values without replacement\n",
    "randays = np.random.choice(total_days, K, replace=False)\n",
    "\n",
    "# getting random dates\n",
    "res = [test_date1 + timedelta(days=int(day)) for day in randays]\n",
    "print(len(res))\n",
    "\n",
    "# printing\n",
    "print(\"K random dates in range : \" + str(res))"
   ],
   "metadata": {
    "collapsed": false
   }
  },
  {
   "cell_type": "code",
   "execution_count": 33,
   "outputs": [
    {
     "data": {
      "text/plain": "   user_id  total_bill   tip     sex smoker  day    time  size  id  created_at\n0        0       16.99  1.01  Female     No  Sun  Dinner     2   5  2015-07-14\n1        1       10.34  1.66    Male     No  Sun  Dinner     3   6  2024-06-12\n2        2       21.01  3.50    Male     No  Sun  Dinner     3   1  2018-06-01\n3        3       23.68  3.31    Male     No  Sun  Dinner     2   7  2024-04-20\n4        4       24.59  3.61  Female     No  Sun  Dinner     4   7  2015-06-28",
      "text/html": "<div>\n<style scoped>\n    .dataframe tbody tr th:only-of-type {\n        vertical-align: middle;\n    }\n\n    .dataframe tbody tr th {\n        vertical-align: top;\n    }\n\n    .dataframe thead th {\n        text-align: right;\n    }\n</style>\n<table border=\"1\" class=\"dataframe\">\n  <thead>\n    <tr style=\"text-align: right;\">\n      <th></th>\n      <th>user_id</th>\n      <th>total_bill</th>\n      <th>tip</th>\n      <th>sex</th>\n      <th>smoker</th>\n      <th>day</th>\n      <th>time</th>\n      <th>size</th>\n      <th>id</th>\n      <th>created_at</th>\n    </tr>\n  </thead>\n  <tbody>\n    <tr>\n      <th>0</th>\n      <td>0</td>\n      <td>16.99</td>\n      <td>1.01</td>\n      <td>Female</td>\n      <td>No</td>\n      <td>Sun</td>\n      <td>Dinner</td>\n      <td>2</td>\n      <td>5</td>\n      <td>2015-07-14</td>\n    </tr>\n    <tr>\n      <th>1</th>\n      <td>1</td>\n      <td>10.34</td>\n      <td>1.66</td>\n      <td>Male</td>\n      <td>No</td>\n      <td>Sun</td>\n      <td>Dinner</td>\n      <td>3</td>\n      <td>6</td>\n      <td>2024-06-12</td>\n    </tr>\n    <tr>\n      <th>2</th>\n      <td>2</td>\n      <td>21.01</td>\n      <td>3.50</td>\n      <td>Male</td>\n      <td>No</td>\n      <td>Sun</td>\n      <td>Dinner</td>\n      <td>3</td>\n      <td>1</td>\n      <td>2018-06-01</td>\n    </tr>\n    <tr>\n      <th>3</th>\n      <td>3</td>\n      <td>23.68</td>\n      <td>3.31</td>\n      <td>Male</td>\n      <td>No</td>\n      <td>Sun</td>\n      <td>Dinner</td>\n      <td>2</td>\n      <td>7</td>\n      <td>2024-04-20</td>\n    </tr>\n    <tr>\n      <th>4</th>\n      <td>4</td>\n      <td>24.59</td>\n      <td>3.61</td>\n      <td>Female</td>\n      <td>No</td>\n      <td>Sun</td>\n      <td>Dinner</td>\n      <td>4</td>\n      <td>7</td>\n      <td>2015-06-28</td>\n    </tr>\n  </tbody>\n</table>\n</div>"
     },
     "metadata": {},
     "output_type": "display_data"
    }
   ],
   "source": [
    "tips[\"created_at\"] = res\n",
    "display(tips.head())"
   ],
   "metadata": {
    "collapsed": false
   }
  },
  {
   "cell_type": "markdown",
   "source": [
    "2. table 주고\n",
    "\n",
    "    user-id, 무슨_id를 기준 group by,\n",
    "\n",
    "    created_at 기준으로 sort한 것 중 가장 최신 데이터를\n",
    "\n",
    "    user_id, 무슨_id, score, created_at 순서로 출력"
   ],
   "metadata": {
    "collapsed": false
   }
  },
  {
   "cell_type": "code",
   "execution_count": 54,
   "outputs": [
    {
     "data": {
      "text/plain": "            total\nuser_id id       \n0       5    1.01\n1       6    1.66\n2       1    3.50\n3       7    3.31\n4       7    3.61\n...           ...\n239     5    5.92\n240     3    2.00\n241     5    2.00\n242     7    1.75\n243     1    3.00\n\n[244 rows x 1 columns]",
      "text/html": "<div>\n<style scoped>\n    .dataframe tbody tr th:only-of-type {\n        vertical-align: middle;\n    }\n\n    .dataframe tbody tr th {\n        vertical-align: top;\n    }\n\n    .dataframe thead th {\n        text-align: right;\n    }\n</style>\n<table border=\"1\" class=\"dataframe\">\n  <thead>\n    <tr style=\"text-align: right;\">\n      <th></th>\n      <th></th>\n      <th>total</th>\n    </tr>\n    <tr>\n      <th>user_id</th>\n      <th>id</th>\n      <th></th>\n    </tr>\n  </thead>\n  <tbody>\n    <tr>\n      <th>0</th>\n      <th>5</th>\n      <td>1.01</td>\n    </tr>\n    <tr>\n      <th>1</th>\n      <th>6</th>\n      <td>1.66</td>\n    </tr>\n    <tr>\n      <th>2</th>\n      <th>1</th>\n      <td>3.50</td>\n    </tr>\n    <tr>\n      <th>3</th>\n      <th>7</th>\n      <td>3.31</td>\n    </tr>\n    <tr>\n      <th>4</th>\n      <th>7</th>\n      <td>3.61</td>\n    </tr>\n    <tr>\n      <th>...</th>\n      <th>...</th>\n      <td>...</td>\n    </tr>\n    <tr>\n      <th>239</th>\n      <th>5</th>\n      <td>5.92</td>\n    </tr>\n    <tr>\n      <th>240</th>\n      <th>3</th>\n      <td>2.00</td>\n    </tr>\n    <tr>\n      <th>241</th>\n      <th>5</th>\n      <td>2.00</td>\n    </tr>\n    <tr>\n      <th>242</th>\n      <th>7</th>\n      <td>1.75</td>\n    </tr>\n    <tr>\n      <th>243</th>\n      <th>1</th>\n      <td>3.00</td>\n    </tr>\n  </tbody>\n</table>\n<p>244 rows × 1 columns</p>\n</div>"
     },
     "metadata": {},
     "output_type": "display_data"
    }
   ],
   "source": [
    "grouped[\"total\"] = tips.groupby([\"user_id\", \"id\"])[\"tip\"].sum()\n",
    "display(grouped)"
   ],
   "metadata": {
    "collapsed": false
   }
  },
  {
   "cell_type": "code",
   "execution_count": 58,
   "outputs": [
    {
     "data": {
      "text/plain": "     user_id  id  created_at  total   tip\n0          0   5  2015-07-14   1.01  1.01\n1          1   6  2024-06-12   1.66  1.66\n2          2   1  2018-06-01   3.50  3.50\n3          3   7  2024-04-20   3.31  3.31\n4          4   7  2015-06-28   3.61  3.61\n..       ...  ..         ...    ...   ...\n239      239   5  2022-12-31   5.92  5.92\n240      240   3  2017-12-04   2.00  2.00\n241      241   5  2018-10-07   2.00  2.00\n242      242   7  2021-08-22   1.75  1.75\n243      243   1  2018-03-25   3.00  3.00\n\n[244 rows x 5 columns]",
      "text/html": "<div>\n<style scoped>\n    .dataframe tbody tr th:only-of-type {\n        vertical-align: middle;\n    }\n\n    .dataframe tbody tr th {\n        vertical-align: top;\n    }\n\n    .dataframe thead th {\n        text-align: right;\n    }\n</style>\n<table border=\"1\" class=\"dataframe\">\n  <thead>\n    <tr style=\"text-align: right;\">\n      <th></th>\n      <th>user_id</th>\n      <th>id</th>\n      <th>created_at</th>\n      <th>total</th>\n      <th>tip</th>\n    </tr>\n  </thead>\n  <tbody>\n    <tr>\n      <th>0</th>\n      <td>0</td>\n      <td>5</td>\n      <td>2015-07-14</td>\n      <td>1.01</td>\n      <td>1.01</td>\n    </tr>\n    <tr>\n      <th>1</th>\n      <td>1</td>\n      <td>6</td>\n      <td>2024-06-12</td>\n      <td>1.66</td>\n      <td>1.66</td>\n    </tr>\n    <tr>\n      <th>2</th>\n      <td>2</td>\n      <td>1</td>\n      <td>2018-06-01</td>\n      <td>3.50</td>\n      <td>3.50</td>\n    </tr>\n    <tr>\n      <th>3</th>\n      <td>3</td>\n      <td>7</td>\n      <td>2024-04-20</td>\n      <td>3.31</td>\n      <td>3.31</td>\n    </tr>\n    <tr>\n      <th>4</th>\n      <td>4</td>\n      <td>7</td>\n      <td>2015-06-28</td>\n      <td>3.61</td>\n      <td>3.61</td>\n    </tr>\n    <tr>\n      <th>...</th>\n      <td>...</td>\n      <td>...</td>\n      <td>...</td>\n      <td>...</td>\n      <td>...</td>\n    </tr>\n    <tr>\n      <th>239</th>\n      <td>239</td>\n      <td>5</td>\n      <td>2022-12-31</td>\n      <td>5.92</td>\n      <td>5.92</td>\n    </tr>\n    <tr>\n      <th>240</th>\n      <td>240</td>\n      <td>3</td>\n      <td>2017-12-04</td>\n      <td>2.00</td>\n      <td>2.00</td>\n    </tr>\n    <tr>\n      <th>241</th>\n      <td>241</td>\n      <td>5</td>\n      <td>2018-10-07</td>\n      <td>2.00</td>\n      <td>2.00</td>\n    </tr>\n    <tr>\n      <th>242</th>\n      <td>242</td>\n      <td>7</td>\n      <td>2021-08-22</td>\n      <td>1.75</td>\n      <td>1.75</td>\n    </tr>\n    <tr>\n      <th>243</th>\n      <td>243</td>\n      <td>1</td>\n      <td>2018-03-25</td>\n      <td>3.00</td>\n      <td>3.00</td>\n    </tr>\n  </tbody>\n</table>\n<p>244 rows × 5 columns</p>\n</div>"
     },
     "metadata": {},
     "output_type": "display_data"
    }
   ],
   "source": [
    "grouped_merge = pd.merge(grouped, tips, on=\"user_id\")[[\"user_id\", \"id\", \"created_at\", \"total\", \"tip\"]]\n",
    "display(grouped_merge)"
   ],
   "metadata": {
    "collapsed": false
   }
  },
  {
   "cell_type": "code",
   "execution_count": 64,
   "outputs": [
    {
     "data": {
      "text/plain": "     user_id  id  created_at  total   tip\n243      243   1  2018-03-25   3.00  3.00\n242      242   7  2021-08-22   1.75  1.75\n241      241   5  2018-10-07   2.00  2.00\n240      240   3  2017-12-04   2.00  2.00\n239      239   5  2022-12-31   5.92  5.92\n..       ...  ..         ...    ...   ...\n4          4   7  2015-06-28   3.61  3.61\n3          3   7  2024-04-20   3.31  3.31\n2          2   1  2018-06-01   3.50  3.50\n1          1   6  2024-06-12   1.66  1.66\n0          0   5  2015-07-14   1.01  1.01\n\n[244 rows x 5 columns]",
      "text/html": "<div>\n<style scoped>\n    .dataframe tbody tr th:only-of-type {\n        vertical-align: middle;\n    }\n\n    .dataframe tbody tr th {\n        vertical-align: top;\n    }\n\n    .dataframe thead th {\n        text-align: right;\n    }\n</style>\n<table border=\"1\" class=\"dataframe\">\n  <thead>\n    <tr style=\"text-align: right;\">\n      <th></th>\n      <th>user_id</th>\n      <th>id</th>\n      <th>created_at</th>\n      <th>total</th>\n      <th>tip</th>\n    </tr>\n  </thead>\n  <tbody>\n    <tr>\n      <th>243</th>\n      <td>243</td>\n      <td>1</td>\n      <td>2018-03-25</td>\n      <td>3.00</td>\n      <td>3.00</td>\n    </tr>\n    <tr>\n      <th>242</th>\n      <td>242</td>\n      <td>7</td>\n      <td>2021-08-22</td>\n      <td>1.75</td>\n      <td>1.75</td>\n    </tr>\n    <tr>\n      <th>241</th>\n      <td>241</td>\n      <td>5</td>\n      <td>2018-10-07</td>\n      <td>2.00</td>\n      <td>2.00</td>\n    </tr>\n    <tr>\n      <th>240</th>\n      <td>240</td>\n      <td>3</td>\n      <td>2017-12-04</td>\n      <td>2.00</td>\n      <td>2.00</td>\n    </tr>\n    <tr>\n      <th>239</th>\n      <td>239</td>\n      <td>5</td>\n      <td>2022-12-31</td>\n      <td>5.92</td>\n      <td>5.92</td>\n    </tr>\n    <tr>\n      <th>...</th>\n      <td>...</td>\n      <td>...</td>\n      <td>...</td>\n      <td>...</td>\n      <td>...</td>\n    </tr>\n    <tr>\n      <th>4</th>\n      <td>4</td>\n      <td>7</td>\n      <td>2015-06-28</td>\n      <td>3.61</td>\n      <td>3.61</td>\n    </tr>\n    <tr>\n      <th>3</th>\n      <td>3</td>\n      <td>7</td>\n      <td>2024-04-20</td>\n      <td>3.31</td>\n      <td>3.31</td>\n    </tr>\n    <tr>\n      <th>2</th>\n      <td>2</td>\n      <td>1</td>\n      <td>2018-06-01</td>\n      <td>3.50</td>\n      <td>3.50</td>\n    </tr>\n    <tr>\n      <th>1</th>\n      <td>1</td>\n      <td>6</td>\n      <td>2024-06-12</td>\n      <td>1.66</td>\n      <td>1.66</td>\n    </tr>\n    <tr>\n      <th>0</th>\n      <td>0</td>\n      <td>5</td>\n      <td>2015-07-14</td>\n      <td>1.01</td>\n      <td>1.01</td>\n    </tr>\n  </tbody>\n</table>\n<p>244 rows × 5 columns</p>\n</div>"
     },
     "execution_count": 64,
     "metadata": {},
     "output_type": "execute_result"
    }
   ],
   "source": [
    "grouped_merge.sort_values([\"user_id\", \"id\", \"total\", \"created_at\"], ascending=False)"
   ],
   "metadata": {
    "collapsed": false
   }
  },
  {
   "cell_type": "code",
   "execution_count": null,
   "outputs": [],
   "source": [],
   "metadata": {
    "collapsed": false
   }
  }
 ],
 "metadata": {
  "kernelspec": {
   "display_name": "Python 3",
   "language": "python",
   "name": "python3"
  },
  "language_info": {
   "codemirror_mode": {
    "name": "ipython",
    "version": 2
   },
   "file_extension": ".py",
   "mimetype": "text/x-python",
   "name": "python",
   "nbconvert_exporter": "python",
   "pygments_lexer": "ipython2",
   "version": "2.7.6"
  }
 },
 "nbformat": 4,
 "nbformat_minor": 0
}
