{
 "cells": [
  {
   "cell_type": "markdown",
   "source": [
    "# Pandas"
   ],
   "metadata": {
    "collapsed": false
   }
  },
  {
   "cell_type": "code",
   "execution_count": null,
   "outputs": [],
   "source": [
    "data.info()\n",
    "data.describe(include=\"all\")\n",
    "# Missing Value 확인\n",
    "data.isnull().sum()\n",
    "\n",
    "# option 1.\n",
    "# X = data[['Gender','Age', 'EstimatedSalary']]\n",
    "# y = data[['Purchased']]\n",
    "\n",
    "# option 2\n",
    "X = data.iloc[:, 1:-1] # user id는 feature에서 제외 함\n",
    "y = data.iloc[:, -1]"
   ],
   "metadata": {
    "collapsed": false
   }
  },
  {
   "cell_type": "code",
   "execution_count": null,
   "outputs": [],
   "source": [
    "df[df[] == \"[condition]\"]\n",
    "df[].count()\n",
    "df[].to_list() # datafrome -> list\n",
    "df.group_by(\"[colum_name1]\")[\"colum_name2\"].count()  # colum_name1으로 group 짓고, colum_name2 값들의 .count()/ .mean() etc.\n",
    "df.loc[df['item_name'].isin(['Barbacoa Bowl', 'Veggie Soft Tacos'])]\n",
    "df.loc[\"colum_name\"]\n",
    "df.iloc[\"index_number\"]\n",
    "df[].unique()\n",
    "df['item_price']=df['item_price'].str.replace('$','')\n",
    "df.values # convert into list\n",
    "feature = df.columns.values\n",
    "word_count = list(zip(feature, countTDM)) # feature, countTDM의 같은 index의 value들을 tuple쌍으로 묶은 list"
   ],
   "metadata": {
    "collapsed": false
   }
  },
  {
   "cell_type": "code",
   "execution_count": 85,
   "outputs": [
    {
     "output_type": "execute_result",
     "data": {
      "text/plain": [
       "item_name          soseu                               material          \n",
       "Barbacoa Bowl      [Fresh Tomato (Mild)                [Lettuce               2\n",
       "                   [Fresh Tomato Salsa                 [Fajita Vegetables     6\n",
       "                                                       [Rice                 11\n",
       "                   [Fresh Tomato Salsa (Mild)          [Black Beans           2\n",
       "                                                       [Rice                  2\n",
       "                                                                             ..\n",
       "Veggie Soft Tacos  [Fresh Tomato Salsa (Mild)          [Black Beans           1\n",
       "                                                       [Pinto Beans           1\n",
       "                   [Roasted Chili Corn Salsa           [Fajita Vegetables     1\n",
       "                   [Roasted Chili Corn Salsa (Medium)  [Black Beans           1\n",
       "                   [Tomatillo Red Chili Salsa          [Fajita Vegetables     1\n",
       "Name: material, Length: 587, dtype: int64"
      ]
     },
     "metadata": {},
     "execution_count": 85
    }
   ],
   "source": [
    "# 음식이름별, 소스별, 재료별 출현횟수(value_counts() 코드작성\n",
    "df.groupby(by=['item_name', 'soseu', 'material'])['material'].count()"
   ],
   "metadata": {
    "collapsed": false
   }
  }
 ],
 "metadata": {
  "kernelspec": {
   "display_name": "Python 3",
   "language": "python",
   "name": "python3"
  },
  "language_info": {
   "codemirror_mode": {
    "name": "ipython",
    "version": 2
   },
   "file_extension": ".py",
   "mimetype": "text/x-python",
   "name": "python",
   "nbconvert_exporter": "python",
   "pygments_lexer": "ipython2",
   "version": "2.7.6"
  }
 },
 "nbformat": 4,
 "nbformat_minor": 0
}
