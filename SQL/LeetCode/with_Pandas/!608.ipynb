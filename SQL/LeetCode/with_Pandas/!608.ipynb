{
 "cells": [
  {
   "cell_type": "markdown",
   "source": [
    "# <a href=\"https://leetcode.com/problems/tree-node/description/\">608. Tree Node</a>"
   ],
   "metadata": {
    "collapsed": false
   }
  },
  {
   "cell_type": "code",
   "execution_count": null,
   "outputs": [],
   "source": [
    "import pandas as pd\n",
    "\n",
    "def tree_node(tree: pd.DataFrame) -> pd.DataFrame:\n",
    "    \"\"\"\n",
    "    # Solution 1:\n",
    "    tree[\"type\"] = np.where(tree[\"p_id\"].isna(), \"Root\",\n",
    "                        np.where(tree[\"id\"].isin(tree[\"p_id\"]), \"Inner\", \"Leaf\"))\n",
    "    return tree[[\"id\", \"type\"]]\n",
    "    \"\"\"\n",
    "\n",
    "    # Solution 2:\n",
    "    parents = [x for x in tree[\"p_id\"].to_list() if type(x) == int]\n",
    "    def category_assign(row):\n",
    "        if str(row[\"p_id\"]) == \"<NA>\":\n",
    "            return \"Root\"\n",
    "        elif row[\"id\"] in parents:\n",
    "            return \"Inner\"\n",
    "        else:\n",
    "            return \"Leaf\"\n",
    "    tree[\"type\"] = tree.apply(category_assign, axis=1)\n",
    "    return tree[[\"id\", \"type\"]]\n"
   ],
   "metadata": {
    "collapsed": false
   }
  }
 ],
 "metadata": {
  "kernelspec": {
   "display_name": "Python 3",
   "language": "python",
   "name": "python3"
  },
  "language_info": {
   "codemirror_mode": {
    "name": "ipython",
    "version": 2
   },
   "file_extension": ".py",
   "mimetype": "text/x-python",
   "name": "python",
   "nbconvert_exporter": "python",
   "pygments_lexer": "ipython2",
   "version": "2.7.6"
  }
 },
 "nbformat": 4,
 "nbformat_minor": 0
}
