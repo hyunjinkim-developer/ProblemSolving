{
 "cells": [
  {
   "cell_type": "markdown",
   "source": [
    "# <a href=\"https://leetcode.com/problems/restaurant-growth/description/\">1321. Restaurant Growth</a>\n",
    "* DataFrame.rolling()\n",
    "* DataFrame.dropna()"
   ],
   "metadata": {
    "collapsed": false
   }
  },
  {
   "cell_type": "code",
   "execution_count": null,
   "metadata": {
    "collapsed": true
   },
   "outputs": [],
   "source": [
    "import pandas as pd\n",
    "\n",
    "def restaurant_growth(customer: pd.DataFrame) -> pd.DataFrame:\n",
    "    customer = customer.groupby(\"visited_on\")[\"amount\"].sum().reset_index()\n",
    "    customer[\"amount\"] = customer[\"amount\"].rolling(window=7).sum()\n",
    "    customer[\"average_amount\"] = (customer[\"amount\"] / 7).round(2)\n",
    "    return customer.dropna()"
   ]
  }
 ],
 "metadata": {
  "kernelspec": {
   "display_name": "Python 3",
   "language": "python",
   "name": "python3"
  },
  "language_info": {
   "codemirror_mode": {
    "name": "ipython",
    "version": 2
   },
   "file_extension": ".py",
   "mimetype": "text/x-python",
   "name": "python",
   "nbconvert_exporter": "python",
   "pygments_lexer": "ipython2",
   "version": "2.7.6"
  }
 },
 "nbformat": 4,
 "nbformat_minor": 0
}
