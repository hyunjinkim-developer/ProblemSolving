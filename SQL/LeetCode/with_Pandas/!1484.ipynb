{
 "cells": [
  {
   "cell_type": "markdown",
   "source": [
    "# <a href=\"https://leetcode.com/problems/group-sold-products-by-the-date/description/\">1484. Group Sold Products By The Date</a>\n",
    "* DataFrame.groupby.agg([(\"column_name1\", \"func1\"), (\"column_name2\", \"func2 with lambda\")])"
   ],
   "metadata": {
    "collapsed": false
   }
  },
  {
   "cell_type": "code",
   "execution_count": null,
   "outputs": [],
   "source": [
    "import pandas as pd\n",
    "\n",
    "def categorize_products(activities: pd.DataFrame) -> pd.DataFrame:\n",
    "    answer = activities.groupby(\n",
    "        \"sell_date\", as_index=False\n",
    "    )[\"product\"].agg([\n",
    "        (\"num_sold\", \"nunique\"),\n",
    "        (\"products\", lambda x: \",\".join(sorted(x.unique())))\n",
    "    ]).sort_values(\"sell_date\")\n",
    "    return answer\n",
    "\n",
    "# Use nunique, unique() because the problem indicates that the table may contain duplicates"
   ],
   "metadata": {
    "collapsed": false
   }
  }
 ],
 "metadata": {
  "kernelspec": {
   "display_name": "Python 3",
   "language": "python",
   "name": "python3"
  },
  "language_info": {
   "codemirror_mode": {
    "name": "ipython",
    "version": 2
   },
   "file_extension": ".py",
   "mimetype": "text/x-python",
   "name": "python",
   "nbconvert_exporter": "python",
   "pygments_lexer": "ipython2",
   "version": "2.7.6"
  }
 },
 "nbformat": 4,
 "nbformat_minor": 0
}
