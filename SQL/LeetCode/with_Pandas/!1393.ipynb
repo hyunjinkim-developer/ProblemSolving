{
 "cells": [
  {
   "cell_type": "markdown",
   "source": [
    "<a href=\"https://leetcode.com/problems/capital-gainloss/submissions/1247580740/>1393. Capital Gain/Loss</a>"
   ],
   "metadata": {
    "collapsed": false
   }
  },
  {
   "cell_type": "code",
   "execution_count": null,
   "metadata": {
    "collapsed": true
   },
   "outputs": [],
   "source": [
    "import pandas as pd\n",
    "\n",
    "def capital_gainloss(stocks: pd.DataFrame) -> pd.DataFrame:\n",
    "    def calculate_price(row):\n",
    "        if row[\"operation\"] == \"Sell\":\n",
    "            return row\n",
    "        else:\n",
    "            row[\"price\"] = -row[\"price\"]\n",
    "            return row\n",
    "    stocks = stocks.agg(calculate_price, axis=\"columns\")\n",
    "    return stocks.groupby(\"stock_name\")[\"price\"].sum().reset_index().rename(columns={\"price\": \"capital_gain_loss\"})"
   ]
  }
 ],
 "metadata": {
  "kernelspec": {
   "display_name": "Python 3",
   "language": "python",
   "name": "python3"
  },
  "language_info": {
   "codemirror_mode": {
    "name": "ipython",
    "version": 2
   },
   "file_extension": ".py",
   "mimetype": "text/x-python",
   "name": "python",
   "nbconvert_exporter": "python",
   "pygments_lexer": "ipython2",
   "version": "2.7.6"
  }
 },
 "nbformat": 4,
 "nbformat_minor": 0
}
