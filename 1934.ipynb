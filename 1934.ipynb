{
 "cells": [
  {
   "cell_type": "code",
   "execution_count": 13,
   "id": "a7ca482e",
   "metadata": {},
   "outputs": [
    {
     "name": "stdout",
     "output_type": "stream",
     "text": [
      "3\n",
      "1 45000\n",
      "45000\n",
      "6 10\n",
      "30\n",
      "13 17\n",
      "221\n"
     ]
    }
   ],
   "source": [
    "def gcd(A, B):\n",
    "    while A != 0 and B != 0:\n",
    "        if A >= B:\n",
    "            A = A % B\n",
    "        else:\n",
    "            B = B % A\n",
    "    if A == 0:\n",
    "        return B\n",
    "    elif B == 0:\n",
    "        return A\n",
    "\n",
    "def lcm(A, B):\n",
    "    gcd_result = gcd(A, B)\n",
    "    return gcd_result * (A // gcd_result) * (B // gcd_result)\n",
    "\n",
    "def main():\n",
    "    for _ in range(int(input())):\n",
    "        A, B = map(int, input().split(\" \"))\n",
    "        print(lcm(A, B))\n",
    "\n",
    "if __name__ == \"__main__\":\n",
    "    main()"
   ]
  },
  {
   "cell_type": "code",
   "execution_count": null,
   "id": "50a742f4",
   "metadata": {},
   "outputs": [],
   "source": []
  }
 ],
 "metadata": {
  "kernelspec": {
   "display_name": "Python 3 (ipykernel)",
   "language": "python",
   "name": "python3"
  },
  "language_info": {
   "codemirror_mode": {
    "name": "ipython",
    "version": 3
   },
   "file_extension": ".py",
   "mimetype": "text/x-python",
   "name": "python",
   "nbconvert_exporter": "python",
   "pygments_lexer": "ipython3",
   "version": "3.10.4"
  }
 },
 "nbformat": 4,
 "nbformat_minor": 5
}
