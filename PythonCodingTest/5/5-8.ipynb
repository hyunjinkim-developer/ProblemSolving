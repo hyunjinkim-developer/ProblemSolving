{
 "cells": [
  {
   "cell_type": "code",
   "execution_count": 3,
   "metadata": {
    "collapsed": true
   },
   "outputs": [
    {
     "name": "stdout",
     "output_type": "stream",
     "text": [
      "1 2 7 6 8 3 4 5 "
     ]
    }
   ],
   "source": [
    "\"\"\"\n",
    "DFS :\n",
    "1 탐색시작 노드를 스택에 삽입하고 방문처리를 한다. (recursive function을 실행함으로써 stack으로 처리 됨)\n",
    "2 스택의 최상단 노드에 방문하지 않은 인접노드가 있으면 그 인접노드를 스택에 넣고방문 처리를 한다.\n",
    "    방문하지 않은 인접 노드가 없으면 스택에서 최상단 노드를 꺼낸다.\n",
    "3 2번의 과정을 더 이상 수행할 수 없을 때까지 반복한다.\n",
    "\"\"\"\n",
    "\n",
    "\n",
    "def dfs(graph, v, visited):\n",
    "    # Set current node as visited\n",
    "    visited[v] = True\n",
    "    print(v, end=\" \")\n",
    "\n",
    "    # Visit adjacent nodes recursively\n",
    "    for i in graph[v]:\n",
    "        if not visited[i]:\n",
    "            dfs(graph, i, visited)\n",
    "\n",
    "# 각 노드가 연결된 정보를 리스트 자료형으로 표현(2차원 리스트)\n",
    "# Save adjacent nodes in 2 dimensional list\n",
    "graph = [ [], # to use graph number as index\n",
    "          [2, 3, 8], [1, 7], [1, 4, 5], [3, 5], [3, 4], [7], [2, 6, 8], [1, 7] ]\n",
    "# Set list for visited edges\n",
    "visited = [False] * 9\n",
    "\n",
    "# Call BFS method\n",
    "dfs(graph, 1, visited)"
   ]
  },
  {
   "cell_type": "code",
   "execution_count": null,
   "outputs": [],
   "source": [],
   "metadata": {
    "collapsed": false
   }
  }
 ],
 "metadata": {
  "kernelspec": {
   "display_name": "Python 3",
   "language": "python",
   "name": "python3"
  },
  "language_info": {
   "codemirror_mode": {
    "name": "ipython",
    "version": 2
   },
   "file_extension": ".py",
   "mimetype": "text/x-python",
   "name": "python",
   "nbconvert_exporter": "python",
   "pygments_lexer": "ipython2",
   "version": "2.7.6"
  }
 },
 "nbformat": 4,
 "nbformat_minor": 0
}
