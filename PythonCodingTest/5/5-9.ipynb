{
 "cells": [
  {
   "cell_type": "code",
   "execution_count": 1,
   "metadata": {
    "collapsed": true
   },
   "outputs": [
    {
     "name": "stdout",
     "output_type": "stream",
     "text": [
      "1 2 3 8 7 4 5 6 "
     ]
    }
   ],
   "source": [
    "\"\"\"\n",
    "BFS:\n",
    "1 탐색시작 노드를 큐에 삽입하고 방문처리를 한다.\n",
    "2 큐에서 노드를 꺼내 해당 노드의 인접 노드 중에서 \"방문하지 않은 노드를 모두 큐에 삽입\" 하고 방문 처리를 한다.\n",
    "3 2번의 과정을 더 이상 수행할 수 없을 때까지 반복한다.\n",
    "\"\"\"\n",
    "\n",
    "from collections import deque\n",
    "\n",
    "def bfs(graph, start, visited):\n",
    "    queue = deque([start])\n",
    "    # Set current node as visited\n",
    "    visited[start] = True\n",
    "    while queue: # Repeat until queue is empty\n",
    "        # Pop one node(firstly added among nodes in the queue) from deque\n",
    "        v = queue.popleft()\n",
    "        print(v, end=\" \")\n",
    "\n",
    "        # add adjacent nodes that are not visited yet\n",
    "        for i in graph[v]:\n",
    "            # if the node is not visited yet\n",
    "            if not visited[i]:\n",
    "                queue.append(i)\n",
    "                visited[i] = True\n",
    "\n",
    "# 각 노드가 연결된 정보를 리스트 자료형으로 표현(2차원 리스트)\n",
    "# Save connection of nodes into 2 dimensional list\n",
    "graph = [ [],\n",
    "        [2, 3, 8], [1, 7], [1, 4, 5], [3, 5], [3, 4], [7], [2, 6, 8], [1, 7] ]\n",
    "# 각 노드가 방문된 정보를 리스트 자료형으로 표현(1차원 리스트)\n",
    "# Check visited nodes\n",
    "visited = [False] * 9\n",
    "\n",
    "# 정의된 BFS 함수 호출\n",
    "bfs(graph, 1, visited)"
   ]
  },
  {
   "cell_type": "code",
   "execution_count": null,
   "outputs": [],
   "source": [],
   "metadata": {
    "collapsed": false
   }
  }
 ],
 "metadata": {
  "kernelspec": {
   "display_name": "Python 3",
   "language": "python",
   "name": "python3"
  },
  "language_info": {
   "codemirror_mode": {
    "name": "ipython",
    "version": 2
   },
   "file_extension": ".py",
   "mimetype": "text/x-python",
   "name": "python",
   "nbconvert_exporter": "python",
   "pygments_lexer": "ipython2",
   "version": "2.7.6"
  }
 },
 "nbformat": 4,
 "nbformat_minor": 0
}
