{
 "cells": [
  {
   "cell_type": "code",
   "execution_count": 2,
   "metadata": {
    "collapsed": true
   },
   "outputs": [
    {
     "name": "stdout",
     "output_type": "stream",
     "text": [
      "[0, 1, 2, 3, 4, 5, 6, 7, 8, 9]\n"
     ]
    }
   ],
   "source": [
    "array = [ 0 , 1 , 2 , 3 , 4 , 5 , 6 , 7 , 8 , 9 ]\n",
    "\n",
    "for i in range(len(array)):\n",
    "    min_idx = i # Index of the smallest element\n",
    "\n",
    "    # Find the smallest element among numbers on the right\n",
    "    for j in range(i + 1, len(array)):\n",
    "        if array[j] < array[min_idx]:\n",
    "            min_idx = j\n",
    "    array[i], array[min_idx] = array[min_idx], array[i]\n",
    "print(array)"
   ]
  },
  {
   "cell_type": "code",
   "execution_count": null,
   "outputs": [],
   "source": [],
   "metadata": {
    "collapsed": false
   }
  }
 ],
 "metadata": {
  "kernelspec": {
   "display_name": "Python 3",
   "language": "python",
   "name": "python3"
  },
  "language_info": {
   "codemirror_mode": {
    "name": "ipython",
    "version": 2
   },
   "file_extension": ".py",
   "mimetype": "text/x-python",
   "name": "python",
   "nbconvert_exporter": "python",
   "pygments_lexer": "ipython2",
   "version": "2.7.6"
  }
 },
 "nbformat": 4,
 "nbformat_minor": 0
}
