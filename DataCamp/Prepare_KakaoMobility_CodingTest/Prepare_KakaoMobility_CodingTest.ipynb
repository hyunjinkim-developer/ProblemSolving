{
 "cells": [
  {
   "cell_type": "code",
   "execution_count": 1,
   "metadata": {
    "collapsed": true
   },
   "outputs": [],
   "source": [
    "import pandas as pd\n",
    "import numpy as np"
   ]
  },
  {
   "cell_type": "code",
   "execution_count": 89,
   "outputs": [
    {
     "data": {
      "text/plain": "   Name  Salary  location\n0     A     NaN       NaN\n1     B     NaN       NaN\n2     C     NaN       NaN\n3     a     0.0       NaN\n4     b   100.0       NaN\n5     c   200.0       NaN\n6     d   300.0       NaN\n7     e   400.0       NaN\n8     f   500.0       NaN\n9     g   600.0       NaN\n10    h   700.0       NaN\n11    i   800.0       NaN\n12    j   900.0       NaN",
      "text/html": "<div>\n<style scoped>\n    .dataframe tbody tr th:only-of-type {\n        vertical-align: middle;\n    }\n\n    .dataframe tbody tr th {\n        vertical-align: top;\n    }\n\n    .dataframe thead th {\n        text-align: right;\n    }\n</style>\n<table border=\"1\" class=\"dataframe\">\n  <thead>\n    <tr style=\"text-align: right;\">\n      <th></th>\n      <th>Name</th>\n      <th>Salary</th>\n      <th>location</th>\n    </tr>\n  </thead>\n  <tbody>\n    <tr>\n      <th>0</th>\n      <td>A</td>\n      <td>NaN</td>\n      <td>NaN</td>\n    </tr>\n    <tr>\n      <th>1</th>\n      <td>B</td>\n      <td>NaN</td>\n      <td>NaN</td>\n    </tr>\n    <tr>\n      <th>2</th>\n      <td>C</td>\n      <td>NaN</td>\n      <td>NaN</td>\n    </tr>\n    <tr>\n      <th>3</th>\n      <td>a</td>\n      <td>0.0</td>\n      <td>NaN</td>\n    </tr>\n    <tr>\n      <th>4</th>\n      <td>b</td>\n      <td>100.0</td>\n      <td>NaN</td>\n    </tr>\n    <tr>\n      <th>5</th>\n      <td>c</td>\n      <td>200.0</td>\n      <td>NaN</td>\n    </tr>\n    <tr>\n      <th>6</th>\n      <td>d</td>\n      <td>300.0</td>\n      <td>NaN</td>\n    </tr>\n    <tr>\n      <th>7</th>\n      <td>e</td>\n      <td>400.0</td>\n      <td>NaN</td>\n    </tr>\n    <tr>\n      <th>8</th>\n      <td>f</td>\n      <td>500.0</td>\n      <td>NaN</td>\n    </tr>\n    <tr>\n      <th>9</th>\n      <td>g</td>\n      <td>600.0</td>\n      <td>NaN</td>\n    </tr>\n    <tr>\n      <th>10</th>\n      <td>h</td>\n      <td>700.0</td>\n      <td>NaN</td>\n    </tr>\n    <tr>\n      <th>11</th>\n      <td>i</td>\n      <td>800.0</td>\n      <td>NaN</td>\n    </tr>\n    <tr>\n      <th>12</th>\n      <td>j</td>\n      <td>900.0</td>\n      <td>NaN</td>\n    </tr>\n  </tbody>\n</table>\n</div>"
     },
     "metadata": {},
     "output_type": "display_data"
    }
   ],
   "source": [
    "employees = [\"A\", \"B\", \"C\", \"a\", \"b\", \"c\", \"d\", \"e\", \"f\", \"g\", \"h\", \"i\", \"j\"]\n",
    "salary = [None, None, None, 0, 100, 200, 300, 400, 500, 600, 700, 800, 900]\n",
    "df = pd.DataFrame(\n",
    "    {\"Name\": employees, \"Salary\": salary}\n",
    ")\n",
    "# 결측치를 지정하고 싶다면, 넘파이를 임포트하여 np.nan을 통해 쉽게 지정\n",
    "df[\"location\"] = np.nan\n",
    "\n",
    "display(df)"
   ],
   "metadata": {
    "collapsed": false
   }
  },
  {
   "cell_type": "markdown",
   "source": [
    "* null value 채우기\n",
    "    * column의 null 값을 제외한 나머지 중, 하위 10%, 상위 10%를 제외한 평균으로 값을 채워라\n",
    "    * 채운 값을 이용해서 연산하여 다른 column을 채워라"
   ],
   "metadata": {
    "collapsed": false
   }
  },
  {
   "cell_type": "code",
   "execution_count": 93,
   "outputs": [
    {
     "name": "stdout",
     "output_type": "stream",
     "text": [
      "450.0\n"
     ]
    },
    {
     "data": {
      "text/plain": "   Name  Salary  location  new_Salary Salary_Range    450_perc     Range_perc\n0     A     NaN       NaN       450.0       group3    0.230769       0.384615\n1     B     NaN       NaN       450.0       group3    0.230769       0.384615\n2     C     NaN       NaN       450.0       group3    0.230769       0.384615\n3     a     0.0       NaN         0.0         None    0.000000  not available\n4     b   100.0       NaN       100.0       group1  100.000000       0.153846\n5     c   200.0       NaN       200.0       group1  200.000000       0.153846\n6     d   300.0       NaN       300.0       group2  300.000000       0.153846\n7     e   400.0       NaN       400.0       group2  400.000000       0.153846\n8     f   500.0       NaN       500.0       group3  500.000000       0.384615\n9     g   600.0       NaN       600.0       group3  600.000000       0.384615\n10    h   700.0       NaN       700.0       group4  700.000000       0.230769\n11    i   800.0       NaN       800.0       group4  800.000000       0.230769\n12    j   900.0       NaN       900.0       group4  900.000000       0.230769",
      "text/html": "<div>\n<style scoped>\n    .dataframe tbody tr th:only-of-type {\n        vertical-align: middle;\n    }\n\n    .dataframe tbody tr th {\n        vertical-align: top;\n    }\n\n    .dataframe thead th {\n        text-align: right;\n    }\n</style>\n<table border=\"1\" class=\"dataframe\">\n  <thead>\n    <tr style=\"text-align: right;\">\n      <th></th>\n      <th>Name</th>\n      <th>Salary</th>\n      <th>location</th>\n      <th>new_Salary</th>\n      <th>Salary_Range</th>\n      <th>450_perc</th>\n      <th>Range_perc</th>\n    </tr>\n  </thead>\n  <tbody>\n    <tr>\n      <th>0</th>\n      <td>A</td>\n      <td>NaN</td>\n      <td>NaN</td>\n      <td>450.0</td>\n      <td>group3</td>\n      <td>0.230769</td>\n      <td>0.384615</td>\n    </tr>\n    <tr>\n      <th>1</th>\n      <td>B</td>\n      <td>NaN</td>\n      <td>NaN</td>\n      <td>450.0</td>\n      <td>group3</td>\n      <td>0.230769</td>\n      <td>0.384615</td>\n    </tr>\n    <tr>\n      <th>2</th>\n      <td>C</td>\n      <td>NaN</td>\n      <td>NaN</td>\n      <td>450.0</td>\n      <td>group3</td>\n      <td>0.230769</td>\n      <td>0.384615</td>\n    </tr>\n    <tr>\n      <th>3</th>\n      <td>a</td>\n      <td>0.0</td>\n      <td>NaN</td>\n      <td>0.0</td>\n      <td>None</td>\n      <td>0.000000</td>\n      <td>not available</td>\n    </tr>\n    <tr>\n      <th>4</th>\n      <td>b</td>\n      <td>100.0</td>\n      <td>NaN</td>\n      <td>100.0</td>\n      <td>group1</td>\n      <td>100.000000</td>\n      <td>0.153846</td>\n    </tr>\n    <tr>\n      <th>5</th>\n      <td>c</td>\n      <td>200.0</td>\n      <td>NaN</td>\n      <td>200.0</td>\n      <td>group1</td>\n      <td>200.000000</td>\n      <td>0.153846</td>\n    </tr>\n    <tr>\n      <th>6</th>\n      <td>d</td>\n      <td>300.0</td>\n      <td>NaN</td>\n      <td>300.0</td>\n      <td>group2</td>\n      <td>300.000000</td>\n      <td>0.153846</td>\n    </tr>\n    <tr>\n      <th>7</th>\n      <td>e</td>\n      <td>400.0</td>\n      <td>NaN</td>\n      <td>400.0</td>\n      <td>group2</td>\n      <td>400.000000</td>\n      <td>0.153846</td>\n    </tr>\n    <tr>\n      <th>8</th>\n      <td>f</td>\n      <td>500.0</td>\n      <td>NaN</td>\n      <td>500.0</td>\n      <td>group3</td>\n      <td>500.000000</td>\n      <td>0.384615</td>\n    </tr>\n    <tr>\n      <th>9</th>\n      <td>g</td>\n      <td>600.0</td>\n      <td>NaN</td>\n      <td>600.0</td>\n      <td>group3</td>\n      <td>600.000000</td>\n      <td>0.384615</td>\n    </tr>\n    <tr>\n      <th>10</th>\n      <td>h</td>\n      <td>700.0</td>\n      <td>NaN</td>\n      <td>700.0</td>\n      <td>group4</td>\n      <td>700.000000</td>\n      <td>0.230769</td>\n    </tr>\n    <tr>\n      <th>11</th>\n      <td>i</td>\n      <td>800.0</td>\n      <td>NaN</td>\n      <td>800.0</td>\n      <td>group4</td>\n      <td>800.000000</td>\n      <td>0.230769</td>\n    </tr>\n    <tr>\n      <th>12</th>\n      <td>j</td>\n      <td>900.0</td>\n      <td>NaN</td>\n      <td>900.0</td>\n      <td>group4</td>\n      <td>900.000000</td>\n      <td>0.230769</td>\n    </tr>\n  </tbody>\n</table>\n</div>"
     },
     "metadata": {},
     "output_type": "display_data"
    }
   ],
   "source": [
    "custom_fill = df[\"Salary\"][(df.Salary > df.Salary.quantile(.1)) & (df.Salary < df.Salary.quantile(.9))].mean()\n",
    "print(custom_fill)\n",
    "df[\"new_Salary\"] = df[\"Salary\"].fillna(custom_fill)\n",
    "display(df)"
   ],
   "metadata": {
    "collapsed": false
   }
  },
  {
   "cell_type": "markdown",
   "source": [
    "* column의 값이 (0, 200], (200, 400], (400, 600], (600, inf]에 해당하면\n",
    "각각 “group1”, “group2”, “group3”, “group4”의 값을 갖도록 새로운 column을 만들어라\n",
    "<a href=\"https://www.delftstack.com/ko/howto/python-pandas/how-to-create-dataframe-column-based-on-given-condition-in-pandas/\">Pandas에서 주어진 조건에 따라 DataFrame 열을 만드는 방법</a>"
   ],
   "metadata": {
    "collapsed": false
   }
  },
  {
   "cell_type": "code",
   "execution_count": 91,
   "outputs": [
    {
     "data": {
      "text/plain": "   Name  Salary  location  new_Salary Salary_Range\n0     A     NaN       NaN       450.0       group3\n1     B     NaN       NaN       450.0       group3\n2     C     NaN       NaN       450.0       group3\n3     a     0.0       NaN         0.0         None\n4     b   100.0       NaN       100.0       group1\n5     c   200.0       NaN       200.0       group1\n6     d   300.0       NaN       300.0       group2\n7     e   400.0       NaN       400.0       group2\n8     f   500.0       NaN       500.0       group3\n9     g   600.0       NaN       600.0       group3\n10    h   700.0       NaN       700.0       group4\n11    i   800.0       NaN       800.0       group4\n12    j   900.0       NaN       900.0       group4",
      "text/html": "<div>\n<style scoped>\n    .dataframe tbody tr th:only-of-type {\n        vertical-align: middle;\n    }\n\n    .dataframe tbody tr th {\n        vertical-align: top;\n    }\n\n    .dataframe thead th {\n        text-align: right;\n    }\n</style>\n<table border=\"1\" class=\"dataframe\">\n  <thead>\n    <tr style=\"text-align: right;\">\n      <th></th>\n      <th>Name</th>\n      <th>Salary</th>\n      <th>location</th>\n      <th>new_Salary</th>\n      <th>Salary_Range</th>\n    </tr>\n  </thead>\n  <tbody>\n    <tr>\n      <th>0</th>\n      <td>A</td>\n      <td>NaN</td>\n      <td>NaN</td>\n      <td>450.0</td>\n      <td>group3</td>\n    </tr>\n    <tr>\n      <th>1</th>\n      <td>B</td>\n      <td>NaN</td>\n      <td>NaN</td>\n      <td>450.0</td>\n      <td>group3</td>\n    </tr>\n    <tr>\n      <th>2</th>\n      <td>C</td>\n      <td>NaN</td>\n      <td>NaN</td>\n      <td>450.0</td>\n      <td>group3</td>\n    </tr>\n    <tr>\n      <th>3</th>\n      <td>a</td>\n      <td>0.0</td>\n      <td>NaN</td>\n      <td>0.0</td>\n      <td>None</td>\n    </tr>\n    <tr>\n      <th>4</th>\n      <td>b</td>\n      <td>100.0</td>\n      <td>NaN</td>\n      <td>100.0</td>\n      <td>group1</td>\n    </tr>\n    <tr>\n      <th>5</th>\n      <td>c</td>\n      <td>200.0</td>\n      <td>NaN</td>\n      <td>200.0</td>\n      <td>group1</td>\n    </tr>\n    <tr>\n      <th>6</th>\n      <td>d</td>\n      <td>300.0</td>\n      <td>NaN</td>\n      <td>300.0</td>\n      <td>group2</td>\n    </tr>\n    <tr>\n      <th>7</th>\n      <td>e</td>\n      <td>400.0</td>\n      <td>NaN</td>\n      <td>400.0</td>\n      <td>group2</td>\n    </tr>\n    <tr>\n      <th>8</th>\n      <td>f</td>\n      <td>500.0</td>\n      <td>NaN</td>\n      <td>500.0</td>\n      <td>group3</td>\n    </tr>\n    <tr>\n      <th>9</th>\n      <td>g</td>\n      <td>600.0</td>\n      <td>NaN</td>\n      <td>600.0</td>\n      <td>group3</td>\n    </tr>\n    <tr>\n      <th>10</th>\n      <td>h</td>\n      <td>700.0</td>\n      <td>NaN</td>\n      <td>700.0</td>\n      <td>group4</td>\n    </tr>\n    <tr>\n      <th>11</th>\n      <td>i</td>\n      <td>800.0</td>\n      <td>NaN</td>\n      <td>800.0</td>\n      <td>group4</td>\n    </tr>\n    <tr>\n      <th>12</th>\n      <td>j</td>\n      <td>900.0</td>\n      <td>NaN</td>\n      <td>900.0</td>\n      <td>group4</td>\n    </tr>\n  </tbody>\n</table>\n</div>"
     },
     "metadata": {},
     "output_type": "display_data"
    }
   ],
   "source": [
    "def set_values(row, value):\n",
    "    if 0 < row <= 200:\n",
    "        return value[200]\n",
    "    if 200 < row <= 400:\n",
    "        return value[400]\n",
    "    if 400 < row <= 600:\n",
    "        return value[600]\n",
    "    if 600 < row:\n",
    "        return value[np.inf]\n",
    "\n",
    "map_dictionary = {200: \"group1\", 400: \"group2\", 600: \"group3\", np.inf: \"group4\"}\n",
    "\n",
    "df[\"Salary_Range\"] = df[\"new_Salary\"].apply(set_values, args=(map_dictionary,))\n",
    "display(df)"
   ],
   "metadata": {
    "collapsed": false
   }
  },
  {
   "cell_type": "markdown",
   "source": [
    "column에서 (특정 값을 가지는 row의 수) / (전체 row 수) * 100를 소수점 아래 자리가 없는 정수로 반환하라\n",
    "<a href=\"https://rfriend.tistory.com/450\">Python pandas DataFrame, Series의 행, 열 개수 세기</a>"
   ],
   "metadata": {
    "collapsed": false
   }
  },
  {
   "cell_type": "code",
   "execution_count": 92,
   "outputs": [
    {
     "data": {
      "text/plain": "   Name  Salary  location  new_Salary Salary_Range    450_perc\n0     A     NaN       NaN       450.0       group3    0.230769\n1     B     NaN       NaN       450.0       group3    0.230769\n2     C     NaN       NaN       450.0       group3    0.230769\n3     a     0.0       NaN         0.0         None    0.000000\n4     b   100.0       NaN       100.0       group1  100.000000\n5     c   200.0       NaN       200.0       group1  200.000000\n6     d   300.0       NaN       300.0       group2  300.000000\n7     e   400.0       NaN       400.0       group2  400.000000\n8     f   500.0       NaN       500.0       group3  500.000000\n9     g   600.0       NaN       600.0       group3  600.000000\n10    h   700.0       NaN       700.0       group4  700.000000\n11    i   800.0       NaN       800.0       group4  800.000000\n12    j   900.0       NaN       900.0       group4  900.000000",
      "text/html": "<div>\n<style scoped>\n    .dataframe tbody tr th:only-of-type {\n        vertical-align: middle;\n    }\n\n    .dataframe tbody tr th {\n        vertical-align: top;\n    }\n\n    .dataframe thead th {\n        text-align: right;\n    }\n</style>\n<table border=\"1\" class=\"dataframe\">\n  <thead>\n    <tr style=\"text-align: right;\">\n      <th></th>\n      <th>Name</th>\n      <th>Salary</th>\n      <th>location</th>\n      <th>new_Salary</th>\n      <th>Salary_Range</th>\n      <th>450_perc</th>\n    </tr>\n  </thead>\n  <tbody>\n    <tr>\n      <th>0</th>\n      <td>A</td>\n      <td>NaN</td>\n      <td>NaN</td>\n      <td>450.0</td>\n      <td>group3</td>\n      <td>0.230769</td>\n    </tr>\n    <tr>\n      <th>1</th>\n      <td>B</td>\n      <td>NaN</td>\n      <td>NaN</td>\n      <td>450.0</td>\n      <td>group3</td>\n      <td>0.230769</td>\n    </tr>\n    <tr>\n      <th>2</th>\n      <td>C</td>\n      <td>NaN</td>\n      <td>NaN</td>\n      <td>450.0</td>\n      <td>group3</td>\n      <td>0.230769</td>\n    </tr>\n    <tr>\n      <th>3</th>\n      <td>a</td>\n      <td>0.0</td>\n      <td>NaN</td>\n      <td>0.0</td>\n      <td>None</td>\n      <td>0.000000</td>\n    </tr>\n    <tr>\n      <th>4</th>\n      <td>b</td>\n      <td>100.0</td>\n      <td>NaN</td>\n      <td>100.0</td>\n      <td>group1</td>\n      <td>100.000000</td>\n    </tr>\n    <tr>\n      <th>5</th>\n      <td>c</td>\n      <td>200.0</td>\n      <td>NaN</td>\n      <td>200.0</td>\n      <td>group1</td>\n      <td>200.000000</td>\n    </tr>\n    <tr>\n      <th>6</th>\n      <td>d</td>\n      <td>300.0</td>\n      <td>NaN</td>\n      <td>300.0</td>\n      <td>group2</td>\n      <td>300.000000</td>\n    </tr>\n    <tr>\n      <th>7</th>\n      <td>e</td>\n      <td>400.0</td>\n      <td>NaN</td>\n      <td>400.0</td>\n      <td>group2</td>\n      <td>400.000000</td>\n    </tr>\n    <tr>\n      <th>8</th>\n      <td>f</td>\n      <td>500.0</td>\n      <td>NaN</td>\n      <td>500.0</td>\n      <td>group3</td>\n      <td>500.000000</td>\n    </tr>\n    <tr>\n      <th>9</th>\n      <td>g</td>\n      <td>600.0</td>\n      <td>NaN</td>\n      <td>600.0</td>\n      <td>group3</td>\n      <td>600.000000</td>\n    </tr>\n    <tr>\n      <th>10</th>\n      <td>h</td>\n      <td>700.0</td>\n      <td>NaN</td>\n      <td>700.0</td>\n      <td>group4</td>\n      <td>700.000000</td>\n    </tr>\n    <tr>\n      <th>11</th>\n      <td>i</td>\n      <td>800.0</td>\n      <td>NaN</td>\n      <td>800.0</td>\n      <td>group4</td>\n      <td>800.000000</td>\n    </tr>\n    <tr>\n      <th>12</th>\n      <td>j</td>\n      <td>900.0</td>\n      <td>NaN</td>\n      <td>900.0</td>\n      <td>group4</td>\n      <td>900.000000</td>\n    </tr>\n  </tbody>\n</table>\n</div>"
     },
     "metadata": {},
     "output_type": "display_data"
    },
    {
     "name": "stdout",
     "output_type": "stream",
     "text": [
      "13\n",
      "Salary_Range\n",
      "group1    2\n",
      "group2    2\n",
      "group3    5\n",
      "group4    3\n",
      "dtype: int64\n"
     ]
    },
    {
     "data": {
      "text/plain": "   Name  Salary  location  new_Salary Salary_Range    450_perc     Range_perc\n0     A     NaN       NaN       450.0       group3    0.230769       0.384615\n1     B     NaN       NaN       450.0       group3    0.230769       0.384615\n2     C     NaN       NaN       450.0       group3    0.230769       0.384615\n3     a     0.0       NaN         0.0         None    0.000000  not available\n4     b   100.0       NaN       100.0       group1  100.000000       0.153846\n5     c   200.0       NaN       200.0       group1  200.000000       0.153846\n6     d   300.0       NaN       300.0       group2  300.000000       0.153846\n7     e   400.0       NaN       400.0       group2  400.000000       0.153846\n8     f   500.0       NaN       500.0       group3  500.000000       0.384615\n9     g   600.0       NaN       600.0       group3  600.000000       0.384615\n10    h   700.0       NaN       700.0       group4  700.000000       0.230769\n11    i   800.0       NaN       800.0       group4  800.000000       0.230769\n12    j   900.0       NaN       900.0       group4  900.000000       0.230769",
      "text/html": "<div>\n<style scoped>\n    .dataframe tbody tr th:only-of-type {\n        vertical-align: middle;\n    }\n\n    .dataframe tbody tr th {\n        vertical-align: top;\n    }\n\n    .dataframe thead th {\n        text-align: right;\n    }\n</style>\n<table border=\"1\" class=\"dataframe\">\n  <thead>\n    <tr style=\"text-align: right;\">\n      <th></th>\n      <th>Name</th>\n      <th>Salary</th>\n      <th>location</th>\n      <th>new_Salary</th>\n      <th>Salary_Range</th>\n      <th>450_perc</th>\n      <th>Range_perc</th>\n    </tr>\n  </thead>\n  <tbody>\n    <tr>\n      <th>0</th>\n      <td>A</td>\n      <td>NaN</td>\n      <td>NaN</td>\n      <td>450.0</td>\n      <td>group3</td>\n      <td>0.230769</td>\n      <td>0.384615</td>\n    </tr>\n    <tr>\n      <th>1</th>\n      <td>B</td>\n      <td>NaN</td>\n      <td>NaN</td>\n      <td>450.0</td>\n      <td>group3</td>\n      <td>0.230769</td>\n      <td>0.384615</td>\n    </tr>\n    <tr>\n      <th>2</th>\n      <td>C</td>\n      <td>NaN</td>\n      <td>NaN</td>\n      <td>450.0</td>\n      <td>group3</td>\n      <td>0.230769</td>\n      <td>0.384615</td>\n    </tr>\n    <tr>\n      <th>3</th>\n      <td>a</td>\n      <td>0.0</td>\n      <td>NaN</td>\n      <td>0.0</td>\n      <td>None</td>\n      <td>0.000000</td>\n      <td>not available</td>\n    </tr>\n    <tr>\n      <th>4</th>\n      <td>b</td>\n      <td>100.0</td>\n      <td>NaN</td>\n      <td>100.0</td>\n      <td>group1</td>\n      <td>100.000000</td>\n      <td>0.153846</td>\n    </tr>\n    <tr>\n      <th>5</th>\n      <td>c</td>\n      <td>200.0</td>\n      <td>NaN</td>\n      <td>200.0</td>\n      <td>group1</td>\n      <td>200.000000</td>\n      <td>0.153846</td>\n    </tr>\n    <tr>\n      <th>6</th>\n      <td>d</td>\n      <td>300.0</td>\n      <td>NaN</td>\n      <td>300.0</td>\n      <td>group2</td>\n      <td>300.000000</td>\n      <td>0.153846</td>\n    </tr>\n    <tr>\n      <th>7</th>\n      <td>e</td>\n      <td>400.0</td>\n      <td>NaN</td>\n      <td>400.0</td>\n      <td>group2</td>\n      <td>400.000000</td>\n      <td>0.153846</td>\n    </tr>\n    <tr>\n      <th>8</th>\n      <td>f</td>\n      <td>500.0</td>\n      <td>NaN</td>\n      <td>500.0</td>\n      <td>group3</td>\n      <td>500.000000</td>\n      <td>0.384615</td>\n    </tr>\n    <tr>\n      <th>9</th>\n      <td>g</td>\n      <td>600.0</td>\n      <td>NaN</td>\n      <td>600.0</td>\n      <td>group3</td>\n      <td>600.000000</td>\n      <td>0.384615</td>\n    </tr>\n    <tr>\n      <th>10</th>\n      <td>h</td>\n      <td>700.0</td>\n      <td>NaN</td>\n      <td>700.0</td>\n      <td>group4</td>\n      <td>700.000000</td>\n      <td>0.230769</td>\n    </tr>\n    <tr>\n      <th>11</th>\n      <td>i</td>\n      <td>800.0</td>\n      <td>NaN</td>\n      <td>800.0</td>\n      <td>group4</td>\n      <td>800.000000</td>\n      <td>0.230769</td>\n    </tr>\n    <tr>\n      <th>12</th>\n      <td>j</td>\n      <td>900.0</td>\n      <td>NaN</td>\n      <td>900.0</td>\n      <td>group4</td>\n      <td>900.000000</td>\n      <td>0.230769</td>\n    </tr>\n  </tbody>\n</table>\n</div>"
     },
     "metadata": {},
     "output_type": "display_data"
    }
   ],
   "source": [
    "# np.where(condition, x, y) : if condition is true return x, else return y\n",
    "df[\"450_perc\"] = np.where(df[\"new_Salary\"] == 450, len(df[df[\"new_Salary\"] == 450]) / len(df), df[\"new_Salary\"])\n",
    "display(df)\n",
    "\n",
    "print(len(df[\"Salary_Range\"]))\n",
    "print(df.groupby(\"Salary_Range\").size())\n",
    "def custom_perc(range):\n",
    "    df_range_perc = df.groupby(\"Salary_Range\").size() / len(df[\"Salary_Range\"])\n",
    "    if range in df_range_perc:\n",
    "        return df_range_perc[range]\n",
    "    else:\n",
    "        return \"not available\"\n",
    "\n",
    "df[\"Range_perc\"] = df[\"Salary_Range\"].apply(custom_perc)\n",
    "display(df)"
   ],
   "metadata": {
    "collapsed": false
   }
  },
  {
   "cell_type": "markdown",
   "source": [
    "* DataFrame Join\n",
    "* DataFrame Group by"
   ],
   "metadata": {
    "collapsed": false
   }
  },
  {
   "cell_type": "markdown",
   "source": [
    "![pandas_merge.png](./Image/pandas_merge.png)"
   ],
   "metadata": {
    "collapsed": false
   }
  },
  {
   "cell_type": "markdown",
   "source": [
    "<a href=\"https://www.geeksforgeeks.org/what-is-the-difference-between-join-and-merge-in-pandas/\">.join() VS .merge()</a>"
   ],
   "metadata": {
    "collapsed": false
   }
  },
  {
   "cell_type": "code",
   "execution_count": 102,
   "outputs": [
    {
     "data": {
      "text/plain": "   P  Q\nX  a  1\nY  b  2",
      "text/html": "<div>\n<style scoped>\n    .dataframe tbody tr th:only-of-type {\n        vertical-align: middle;\n    }\n\n    .dataframe tbody tr th {\n        vertical-align: top;\n    }\n\n    .dataframe thead th {\n        text-align: right;\n    }\n</style>\n<table border=\"1\" class=\"dataframe\">\n  <thead>\n    <tr style=\"text-align: right;\">\n      <th></th>\n      <th>P</th>\n      <th>Q</th>\n    </tr>\n  </thead>\n  <tbody>\n    <tr>\n      <th>X</th>\n      <td>a</td>\n      <td>1</td>\n    </tr>\n    <tr>\n      <th>Y</th>\n      <td>b</td>\n      <td>2</td>\n    </tr>\n  </tbody>\n</table>\n</div>"
     },
     "metadata": {},
     "output_type": "display_data"
    },
    {
     "data": {
      "text/plain": "   P  R\nX  c  3\nY  d  4",
      "text/html": "<div>\n<style scoped>\n    .dataframe tbody tr th:only-of-type {\n        vertical-align: middle;\n    }\n\n    .dataframe tbody tr th {\n        vertical-align: top;\n    }\n\n    .dataframe thead th {\n        text-align: right;\n    }\n</style>\n<table border=\"1\" class=\"dataframe\">\n  <thead>\n    <tr style=\"text-align: right;\">\n      <th></th>\n      <th>P</th>\n      <th>R</th>\n    </tr>\n  </thead>\n  <tbody>\n    <tr>\n      <th>X</th>\n      <td>c</td>\n      <td>3</td>\n    </tr>\n    <tr>\n      <th>Y</th>\n      <td>d</td>\n      <td>4</td>\n    </tr>\n  </tbody>\n</table>\n</div>"
     },
     "metadata": {},
     "output_type": "display_data"
    },
    {
     "data": {
      "text/plain": "  P_  Q  P  R\nX  a  1  c  3\nY  b  2  d  4",
      "text/html": "<div>\n<style scoped>\n    .dataframe tbody tr th:only-of-type {\n        vertical-align: middle;\n    }\n\n    .dataframe tbody tr th {\n        vertical-align: top;\n    }\n\n    .dataframe thead th {\n        text-align: right;\n    }\n</style>\n<table border=\"1\" class=\"dataframe\">\n  <thead>\n    <tr style=\"text-align: right;\">\n      <th></th>\n      <th>P_</th>\n      <th>Q</th>\n      <th>P</th>\n      <th>R</th>\n    </tr>\n  </thead>\n  <tbody>\n    <tr>\n      <th>X</th>\n      <td>a</td>\n      <td>1</td>\n      <td>c</td>\n      <td>3</td>\n    </tr>\n    <tr>\n      <th>Y</th>\n      <td>b</td>\n      <td>2</td>\n      <td>d</td>\n      <td>4</td>\n    </tr>\n  </tbody>\n</table>\n</div>"
     },
     "metadata": {},
     "output_type": "display_data"
    },
    {
     "name": "stdout",
     "output_type": "stream",
     "text": [
      "  index P_  Q  P  R\n",
      "0     X  a  1  c  3\n",
      "1     Y  b  2  d  4\n"
     ]
    }
   ],
   "source": [
    "import pandas as pd\n",
    "\n",
    "# Creating the two dataframes\n",
    "left = pd.DataFrame([['a', 1], ['b', 2]], list('XY'), list('PQ'))\n",
    "right = pd.DataFrame([['c', 3], ['d', 4]], list('XY'), list('PR'))\n",
    "display(left)\n",
    "display(right)\n",
    "\n",
    "joined_df = left.join(right, lsuffix=\"_\") # lsuffix : Suffix to use from left frame’s overlapping columns.\n",
    "display(joined_df)\n",
    "\n",
    "# display(left.reset_index())\n",
    "joined_df2 = left.reset_index().join(right, on='index', lsuffix='_')\n",
    "print(joined_df2)"
   ],
   "metadata": {
    "collapsed": false
   }
  },
  {
   "cell_type": "code",
   "execution_count": 101,
   "outputs": [
    {
     "data": {
      "text/plain": "   P  Q\nX  a  1\nY  b  2",
      "text/html": "<div>\n<style scoped>\n    .dataframe tbody tr th:only-of-type {\n        vertical-align: middle;\n    }\n\n    .dataframe tbody tr th {\n        vertical-align: top;\n    }\n\n    .dataframe thead th {\n        text-align: right;\n    }\n</style>\n<table border=\"1\" class=\"dataframe\">\n  <thead>\n    <tr style=\"text-align: right;\">\n      <th></th>\n      <th>P</th>\n      <th>Q</th>\n    </tr>\n  </thead>\n  <tbody>\n    <tr>\n      <th>X</th>\n      <td>a</td>\n      <td>1</td>\n    </tr>\n    <tr>\n      <th>Y</th>\n      <td>b</td>\n      <td>2</td>\n    </tr>\n  </tbody>\n</table>\n</div>"
     },
     "metadata": {},
     "output_type": "display_data"
    },
    {
     "data": {
      "text/plain": "   P  R\nX  c  3\nY  d  4",
      "text/html": "<div>\n<style scoped>\n    .dataframe tbody tr th:only-of-type {\n        vertical-align: middle;\n    }\n\n    .dataframe tbody tr th {\n        vertical-align: top;\n    }\n\n    .dataframe thead th {\n        text-align: right;\n    }\n</style>\n<table border=\"1\" class=\"dataframe\">\n  <thead>\n    <tr style=\"text-align: right;\">\n      <th></th>\n      <th>P</th>\n      <th>R</th>\n    </tr>\n  </thead>\n  <tbody>\n    <tr>\n      <th>X</th>\n      <td>c</td>\n      <td>3</td>\n    </tr>\n    <tr>\n      <th>Y</th>\n      <td>d</td>\n      <td>4</td>\n    </tr>\n  </tbody>\n</table>\n</div>"
     },
     "metadata": {},
     "output_type": "display_data"
    },
    {
     "data": {
      "text/plain": "   P    Q    R\n0  a  1.0  NaN\n1  b  2.0  NaN\n2  c  NaN  3.0\n3  d  NaN  4.0",
      "text/html": "<div>\n<style scoped>\n    .dataframe tbody tr th:only-of-type {\n        vertical-align: middle;\n    }\n\n    .dataframe tbody tr th {\n        vertical-align: top;\n    }\n\n    .dataframe thead th {\n        text-align: right;\n    }\n</style>\n<table border=\"1\" class=\"dataframe\">\n  <thead>\n    <tr style=\"text-align: right;\">\n      <th></th>\n      <th>P</th>\n      <th>Q</th>\n      <th>R</th>\n    </tr>\n  </thead>\n  <tbody>\n    <tr>\n      <th>0</th>\n      <td>a</td>\n      <td>1.0</td>\n      <td>NaN</td>\n    </tr>\n    <tr>\n      <th>1</th>\n      <td>b</td>\n      <td>2.0</td>\n      <td>NaN</td>\n    </tr>\n    <tr>\n      <th>2</th>\n      <td>c</td>\n      <td>NaN</td>\n      <td>3.0</td>\n    </tr>\n    <tr>\n      <th>3</th>\n      <td>d</td>\n      <td>NaN</td>\n      <td>4.0</td>\n    </tr>\n  </tbody>\n</table>\n</div>"
     },
     "metadata": {},
     "output_type": "display_data"
    },
    {
     "data": {
      "text/plain": "  P_left  Q P_right  R\nX      a  1       c  3\nY      b  2       d  4",
      "text/html": "<div>\n<style scoped>\n    .dataframe tbody tr th:only-of-type {\n        vertical-align: middle;\n    }\n\n    .dataframe tbody tr th {\n        vertical-align: top;\n    }\n\n    .dataframe thead th {\n        text-align: right;\n    }\n</style>\n<table border=\"1\" class=\"dataframe\">\n  <thead>\n    <tr style=\"text-align: right;\">\n      <th></th>\n      <th>P_left</th>\n      <th>Q</th>\n      <th>P_right</th>\n      <th>R</th>\n    </tr>\n  </thead>\n  <tbody>\n    <tr>\n      <th>X</th>\n      <td>a</td>\n      <td>1</td>\n      <td>c</td>\n      <td>3</td>\n    </tr>\n    <tr>\n      <th>Y</th>\n      <td>b</td>\n      <td>2</td>\n      <td>d</td>\n      <td>4</td>\n    </tr>\n  </tbody>\n</table>\n</div>"
     },
     "metadata": {},
     "output_type": "display_data"
    }
   ],
   "source": [
    "# Creating the two dataframes\n",
    "left = pd.DataFrame([['a', 1], ['b', 2]], list('XY'), list('PQ'))\n",
    "right = pd.DataFrame([['c', 3], ['d', 4]], list('XY'), list('PR'))\n",
    "display(left)\n",
    "display(right)\n",
    "\n",
    "merged_df = left.merge(right, on='P', how='outer')\n",
    "display(merged_df)\n",
    "\n",
    "merged_df = left.merge(right,\n",
    "                       left_index=True,\n",
    "                       right_index=True,\n",
    "                       suffixes=['_left', '_right'])\n",
    "display(merged_df)"
   ],
   "metadata": {
    "collapsed": false
   }
  },
  {
   "cell_type": "markdown",
   "source": [
    "## <a href=\"https://pandas.pydata.org/docs/user_guide/merging.html\">Merge, join, concatenate and compare</a>"
   ],
   "metadata": {
    "collapsed": false
   }
  },
  {
   "cell_type": "code",
   "execution_count": 103,
   "outputs": [
    {
     "data": {
      "text/plain": "      A    B    C    D\n0    A0   B0   C0   D0\n1    A1   B1   C1   D1\n2    A2   B2   C2   D2\n3    A3   B3   C3   D3\n4    A4   B4   C4   D4\n5    A5   B5   C5   D5\n6    A6   B6   C6   D6\n7    A7   B7   C7   D7\n8    A8   B8   C8   D8\n9    A9   B9   C9   D9\n10  A10  B10  C10  D10\n11  A11  B11  C11  D11",
      "text/html": "<div>\n<style scoped>\n    .dataframe tbody tr th:only-of-type {\n        vertical-align: middle;\n    }\n\n    .dataframe tbody tr th {\n        vertical-align: top;\n    }\n\n    .dataframe thead th {\n        text-align: right;\n    }\n</style>\n<table border=\"1\" class=\"dataframe\">\n  <thead>\n    <tr style=\"text-align: right;\">\n      <th></th>\n      <th>A</th>\n      <th>B</th>\n      <th>C</th>\n      <th>D</th>\n    </tr>\n  </thead>\n  <tbody>\n    <tr>\n      <th>0</th>\n      <td>A0</td>\n      <td>B0</td>\n      <td>C0</td>\n      <td>D0</td>\n    </tr>\n    <tr>\n      <th>1</th>\n      <td>A1</td>\n      <td>B1</td>\n      <td>C1</td>\n      <td>D1</td>\n    </tr>\n    <tr>\n      <th>2</th>\n      <td>A2</td>\n      <td>B2</td>\n      <td>C2</td>\n      <td>D2</td>\n    </tr>\n    <tr>\n      <th>3</th>\n      <td>A3</td>\n      <td>B3</td>\n      <td>C3</td>\n      <td>D3</td>\n    </tr>\n    <tr>\n      <th>4</th>\n      <td>A4</td>\n      <td>B4</td>\n      <td>C4</td>\n      <td>D4</td>\n    </tr>\n    <tr>\n      <th>5</th>\n      <td>A5</td>\n      <td>B5</td>\n      <td>C5</td>\n      <td>D5</td>\n    </tr>\n    <tr>\n      <th>6</th>\n      <td>A6</td>\n      <td>B6</td>\n      <td>C6</td>\n      <td>D6</td>\n    </tr>\n    <tr>\n      <th>7</th>\n      <td>A7</td>\n      <td>B7</td>\n      <td>C7</td>\n      <td>D7</td>\n    </tr>\n    <tr>\n      <th>8</th>\n      <td>A8</td>\n      <td>B8</td>\n      <td>C8</td>\n      <td>D8</td>\n    </tr>\n    <tr>\n      <th>9</th>\n      <td>A9</td>\n      <td>B9</td>\n      <td>C9</td>\n      <td>D9</td>\n    </tr>\n    <tr>\n      <th>10</th>\n      <td>A10</td>\n      <td>B10</td>\n      <td>C10</td>\n      <td>D10</td>\n    </tr>\n    <tr>\n      <th>11</th>\n      <td>A11</td>\n      <td>B11</td>\n      <td>C11</td>\n      <td>D11</td>\n    </tr>\n  </tbody>\n</table>\n</div>"
     },
     "metadata": {},
     "output_type": "display_data"
    }
   ],
   "source": [
    "# concat()\n",
    "\n",
    "df1 = pd.DataFrame(\n",
    "    {\n",
    "        \"A\": [\"A0\", \"A1\", \"A2\", \"A3\"],\n",
    "        \"B\": [\"B0\", \"B1\", \"B2\", \"B3\"],\n",
    "        \"C\": [\"C0\", \"C1\", \"C2\", \"C3\"],\n",
    "        \"D\": [\"D0\", \"D1\", \"D2\", \"D3\"],\n",
    "    },\n",
    "    index=[0, 1, 2, 3],\n",
    ")\n",
    "\n",
    "df2 = pd.DataFrame(\n",
    "    {\n",
    "        \"A\": [\"A4\", \"A5\", \"A6\", \"A7\"],\n",
    "        \"B\": [\"B4\", \"B5\", \"B6\", \"B7\"],\n",
    "        \"C\": [\"C4\", \"C5\", \"C6\", \"C7\"],\n",
    "        \"D\": [\"D4\", \"D5\", \"D6\", \"D7\"],\n",
    "    },\n",
    "    index=[4, 5, 6, 7],\n",
    ")\n",
    "\n",
    "df3 = pd.DataFrame(\n",
    "    {\n",
    "        \"A\": [\"A8\", \"A9\", \"A10\", \"A11\"],\n",
    "        \"B\": [\"B8\", \"B9\", \"B10\", \"B11\"],\n",
    "        \"C\": [\"C8\", \"C9\", \"C10\", \"C11\"],\n",
    "        \"D\": [\"D8\", \"D9\", \"D10\", \"D11\"],\n",
    "    },\n",
    "    index=[8, 9, 10, 11],\n",
    ")\n",
    "\n",
    "result = pd.concat( [df1, df2, df3] )\n",
    "display(result)"
   ],
   "metadata": {
    "collapsed": false
   }
  },
  {
   "cell_type": "code",
   "execution_count": 105,
   "outputs": [
    {
     "data": {
      "text/plain": "    A   B   C   D\n0  A0  B0  C0  D0\n1  A1  B1  C1  D1\n2  A2  B2  C2  D2\n3  A3  B3  C3  D3",
      "text/html": "<div>\n<style scoped>\n    .dataframe tbody tr th:only-of-type {\n        vertical-align: middle;\n    }\n\n    .dataframe tbody tr th {\n        vertical-align: top;\n    }\n\n    .dataframe thead th {\n        text-align: right;\n    }\n</style>\n<table border=\"1\" class=\"dataframe\">\n  <thead>\n    <tr style=\"text-align: right;\">\n      <th></th>\n      <th>A</th>\n      <th>B</th>\n      <th>C</th>\n      <th>D</th>\n    </tr>\n  </thead>\n  <tbody>\n    <tr>\n      <th>0</th>\n      <td>A0</td>\n      <td>B0</td>\n      <td>C0</td>\n      <td>D0</td>\n    </tr>\n    <tr>\n      <th>1</th>\n      <td>A1</td>\n      <td>B1</td>\n      <td>C1</td>\n      <td>D1</td>\n    </tr>\n    <tr>\n      <th>2</th>\n      <td>A2</td>\n      <td>B2</td>\n      <td>C2</td>\n      <td>D2</td>\n    </tr>\n    <tr>\n      <th>3</th>\n      <td>A3</td>\n      <td>B3</td>\n      <td>C3</td>\n      <td>D3</td>\n    </tr>\n  </tbody>\n</table>\n</div>"
     },
     "metadata": {},
     "output_type": "display_data"
    },
    {
     "data": {
      "text/plain": "    B   D   F\n2  B2  D2  F2\n3  B3  D3  F3\n6  B6  D6  F6\n7  B7  D7  F7",
      "text/html": "<div>\n<style scoped>\n    .dataframe tbody tr th:only-of-type {\n        vertical-align: middle;\n    }\n\n    .dataframe tbody tr th {\n        vertical-align: top;\n    }\n\n    .dataframe thead th {\n        text-align: right;\n    }\n</style>\n<table border=\"1\" class=\"dataframe\">\n  <thead>\n    <tr style=\"text-align: right;\">\n      <th></th>\n      <th>B</th>\n      <th>D</th>\n      <th>F</th>\n    </tr>\n  </thead>\n  <tbody>\n    <tr>\n      <th>2</th>\n      <td>B2</td>\n      <td>D2</td>\n      <td>F2</td>\n    </tr>\n    <tr>\n      <th>3</th>\n      <td>B3</td>\n      <td>D3</td>\n      <td>F3</td>\n    </tr>\n    <tr>\n      <th>6</th>\n      <td>B6</td>\n      <td>D6</td>\n      <td>F6</td>\n    </tr>\n    <tr>\n      <th>7</th>\n      <td>B7</td>\n      <td>D7</td>\n      <td>F7</td>\n    </tr>\n  </tbody>\n</table>\n</div>"
     },
     "metadata": {},
     "output_type": "display_data"
    },
    {
     "data": {
      "text/plain": "     A   B    C   D    F\n0   A0  B0   C0  D0  NaN\n1   A1  B1   C1  D1  NaN\n2   A2  B2   C2  D2  NaN\n3   A3  B3   C3  D3  NaN\n2  NaN  B2  NaN  D2   F2\n3  NaN  B3  NaN  D3   F3\n6  NaN  B6  NaN  D6   F6\n7  NaN  B7  NaN  D7   F7",
      "text/html": "<div>\n<style scoped>\n    .dataframe tbody tr th:only-of-type {\n        vertical-align: middle;\n    }\n\n    .dataframe tbody tr th {\n        vertical-align: top;\n    }\n\n    .dataframe thead th {\n        text-align: right;\n    }\n</style>\n<table border=\"1\" class=\"dataframe\">\n  <thead>\n    <tr style=\"text-align: right;\">\n      <th></th>\n      <th>A</th>\n      <th>B</th>\n      <th>C</th>\n      <th>D</th>\n      <th>F</th>\n    </tr>\n  </thead>\n  <tbody>\n    <tr>\n      <th>0</th>\n      <td>A0</td>\n      <td>B0</td>\n      <td>C0</td>\n      <td>D0</td>\n      <td>NaN</td>\n    </tr>\n    <tr>\n      <th>1</th>\n      <td>A1</td>\n      <td>B1</td>\n      <td>C1</td>\n      <td>D1</td>\n      <td>NaN</td>\n    </tr>\n    <tr>\n      <th>2</th>\n      <td>A2</td>\n      <td>B2</td>\n      <td>C2</td>\n      <td>D2</td>\n      <td>NaN</td>\n    </tr>\n    <tr>\n      <th>3</th>\n      <td>A3</td>\n      <td>B3</td>\n      <td>C3</td>\n      <td>D3</td>\n      <td>NaN</td>\n    </tr>\n    <tr>\n      <th>2</th>\n      <td>NaN</td>\n      <td>B2</td>\n      <td>NaN</td>\n      <td>D2</td>\n      <td>F2</td>\n    </tr>\n    <tr>\n      <th>3</th>\n      <td>NaN</td>\n      <td>B3</td>\n      <td>NaN</td>\n      <td>D3</td>\n      <td>F3</td>\n    </tr>\n    <tr>\n      <th>6</th>\n      <td>NaN</td>\n      <td>B6</td>\n      <td>NaN</td>\n      <td>D6</td>\n      <td>F6</td>\n    </tr>\n    <tr>\n      <th>7</th>\n      <td>NaN</td>\n      <td>B7</td>\n      <td>NaN</td>\n      <td>D7</td>\n      <td>F7</td>\n    </tr>\n  </tbody>\n</table>\n</div>"
     },
     "metadata": {},
     "output_type": "display_data"
    },
    {
     "data": {
      "text/plain": "    A   B   C   D   B   D   F\n2  A2  B2  C2  D2  B2  D2  F2\n3  A3  B3  C3  D3  B3  D3  F3",
      "text/html": "<div>\n<style scoped>\n    .dataframe tbody tr th:only-of-type {\n        vertical-align: middle;\n    }\n\n    .dataframe tbody tr th {\n        vertical-align: top;\n    }\n\n    .dataframe thead th {\n        text-align: right;\n    }\n</style>\n<table border=\"1\" class=\"dataframe\">\n  <thead>\n    <tr style=\"text-align: right;\">\n      <th></th>\n      <th>A</th>\n      <th>B</th>\n      <th>C</th>\n      <th>D</th>\n      <th>B</th>\n      <th>D</th>\n      <th>F</th>\n    </tr>\n  </thead>\n  <tbody>\n    <tr>\n      <th>2</th>\n      <td>A2</td>\n      <td>B2</td>\n      <td>C2</td>\n      <td>D2</td>\n      <td>B2</td>\n      <td>D2</td>\n      <td>F2</td>\n    </tr>\n    <tr>\n      <th>3</th>\n      <td>A3</td>\n      <td>B3</td>\n      <td>C3</td>\n      <td>D3</td>\n      <td>B3</td>\n      <td>D3</td>\n      <td>F3</td>\n    </tr>\n  </tbody>\n</table>\n</div>"
     },
     "metadata": {},
     "output_type": "display_data"
    }
   ],
   "source": [
    "# .join()\n",
    "\n",
    "df1 = pd.DataFrame(\n",
    "    {\n",
    "        \"A\": [\"A0\", \"A1\", \"A2\", \"A3\"],\n",
    "        \"B\": [\"B0\", \"B1\", \"B2\", \"B3\"],\n",
    "        \"C\": [\"C0\", \"C1\", \"C2\", \"C3\"],\n",
    "        \"D\": [\"D0\", \"D1\", \"D2\", \"D3\"],\n",
    "    },\n",
    "    index=[0, 1, 2, 3],\n",
    ")\n",
    "display(df1)\n",
    "\n",
    "df4 = pd.DataFrame(\n",
    "    {\n",
    "        \"B\": [\"B2\", \"B3\", \"B6\", \"B7\"],\n",
    "        \"D\": [\"D2\", \"D3\", \"D6\", \"D7\"],\n",
    "        \"F\": [\"F2\", \"F3\", \"F6\", \"F7\"],\n",
    "    },\n",
    "    index=[2, 3, 6, 7],\n",
    ")\n",
    "display(df4)\n",
    "\n",
    "result = pd.concat([df1, df4])\n",
    "display(result)\n",
    "\n",
    "\n",
    "# join='inner' takes the intersection of the axis values\n",
    "result = pd.concat([df1, df4], axis=1, join=\"inner\")\n",
    "display(result)"
   ],
   "metadata": {
    "collapsed": false
   }
  },
  {
   "cell_type": "code",
   "execution_count": null,
   "outputs": [],
   "source": [],
   "metadata": {
    "collapsed": false
   }
  }
 ],
 "metadata": {
  "kernelspec": {
   "display_name": "Python 3",
   "language": "python",
   "name": "python3"
  },
  "language_info": {
   "codemirror_mode": {
    "name": "ipython",
    "version": 2
   },
   "file_extension": ".py",
   "mimetype": "text/x-python",
   "name": "python",
   "nbconvert_exporter": "python",
   "pygments_lexer": "ipython2",
   "version": "2.7.6"
  }
 },
 "nbformat": 4,
 "nbformat_minor": 0
}
