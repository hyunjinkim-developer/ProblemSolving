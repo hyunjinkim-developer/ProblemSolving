{
 "cells": [
  {
   "cell_type": "code",
   "execution_count": 1,
   "metadata": {
    "collapsed": true
   },
   "outputs": [],
   "source": [
    "import pandas as pd\n",
    "import numpy as np"
   ]
  },
  {
   "cell_type": "code",
   "execution_count": 89,
   "outputs": [
    {
     "data": {
      "text/plain": "   Name  Salary  location\n0     A     NaN       NaN\n1     B     NaN       NaN\n2     C     NaN       NaN\n3     a     0.0       NaN\n4     b   100.0       NaN\n5     c   200.0       NaN\n6     d   300.0       NaN\n7     e   400.0       NaN\n8     f   500.0       NaN\n9     g   600.0       NaN\n10    h   700.0       NaN\n11    i   800.0       NaN\n12    j   900.0       NaN",
      "text/html": "<div>\n<style scoped>\n    .dataframe tbody tr th:only-of-type {\n        vertical-align: middle;\n    }\n\n    .dataframe tbody tr th {\n        vertical-align: top;\n    }\n\n    .dataframe thead th {\n        text-align: right;\n    }\n</style>\n<table border=\"1\" class=\"dataframe\">\n  <thead>\n    <tr style=\"text-align: right;\">\n      <th></th>\n      <th>Name</th>\n      <th>Salary</th>\n      <th>location</th>\n    </tr>\n  </thead>\n  <tbody>\n    <tr>\n      <th>0</th>\n      <td>A</td>\n      <td>NaN</td>\n      <td>NaN</td>\n    </tr>\n    <tr>\n      <th>1</th>\n      <td>B</td>\n      <td>NaN</td>\n      <td>NaN</td>\n    </tr>\n    <tr>\n      <th>2</th>\n      <td>C</td>\n      <td>NaN</td>\n      <td>NaN</td>\n    </tr>\n    <tr>\n      <th>3</th>\n      <td>a</td>\n      <td>0.0</td>\n      <td>NaN</td>\n    </tr>\n    <tr>\n      <th>4</th>\n      <td>b</td>\n      <td>100.0</td>\n      <td>NaN</td>\n    </tr>\n    <tr>\n      <th>5</th>\n      <td>c</td>\n      <td>200.0</td>\n      <td>NaN</td>\n    </tr>\n    <tr>\n      <th>6</th>\n      <td>d</td>\n      <td>300.0</td>\n      <td>NaN</td>\n    </tr>\n    <tr>\n      <th>7</th>\n      <td>e</td>\n      <td>400.0</td>\n      <td>NaN</td>\n    </tr>\n    <tr>\n      <th>8</th>\n      <td>f</td>\n      <td>500.0</td>\n      <td>NaN</td>\n    </tr>\n    <tr>\n      <th>9</th>\n      <td>g</td>\n      <td>600.0</td>\n      <td>NaN</td>\n    </tr>\n    <tr>\n      <th>10</th>\n      <td>h</td>\n      <td>700.0</td>\n      <td>NaN</td>\n    </tr>\n    <tr>\n      <th>11</th>\n      <td>i</td>\n      <td>800.0</td>\n      <td>NaN</td>\n    </tr>\n    <tr>\n      <th>12</th>\n      <td>j</td>\n      <td>900.0</td>\n      <td>NaN</td>\n    </tr>\n  </tbody>\n</table>\n</div>"
     },
     "metadata": {},
     "output_type": "display_data"
    }
   ],
   "source": [
    "employees = [\"A\", \"B\", \"C\", \"a\", \"b\", \"c\", \"d\", \"e\", \"f\", \"g\", \"h\", \"i\", \"j\"]\n",
    "salary = [None, None, None, 0, 100, 200, 300, 400, 500, 600, 700, 800, 900]\n",
    "df = pd.DataFrame(\n",
    "    {\"Name\": employees, \"Salary\": salary}\n",
    ")\n",
    "# 결측치를 지정하고 싶다면, 넘파이를 임포트하여 np.nan을 통해 쉽게 지정\n",
    "df[\"location\"] = np.nan\n",
    "\n",
    "display(df)"
   ],
   "metadata": {
    "collapsed": false
   }
  },
  {
   "cell_type": "markdown",
   "source": [
    "* null value 채우기\n",
    "    * column의 null 값을 제외한 나머지 중, 하위 10%, 상위 10%를 제외한 평균으로 값을 채워라\n",
    "    * 채운 값을 이용해서 연산하여 다른 column을 채워라"
   ],
   "metadata": {
    "collapsed": false
   }
  },
  {
   "cell_type": "code",
   "execution_count": 93,
   "outputs": [
    {
     "name": "stdout",
     "output_type": "stream",
     "text": [
      "450.0\n"
     ]
    },
    {
     "data": {
      "text/plain": "   Name  Salary  location  new_Salary Salary_Range    450_perc     Range_perc\n0     A     NaN       NaN       450.0       group3    0.230769       0.384615\n1     B     NaN       NaN       450.0       group3    0.230769       0.384615\n2     C     NaN       NaN       450.0       group3    0.230769       0.384615\n3     a     0.0       NaN         0.0         None    0.000000  not available\n4     b   100.0       NaN       100.0       group1  100.000000       0.153846\n5     c   200.0       NaN       200.0       group1  200.000000       0.153846\n6     d   300.0       NaN       300.0       group2  300.000000       0.153846\n7     e   400.0       NaN       400.0       group2  400.000000       0.153846\n8     f   500.0       NaN       500.0       group3  500.000000       0.384615\n9     g   600.0       NaN       600.0       group3  600.000000       0.384615\n10    h   700.0       NaN       700.0       group4  700.000000       0.230769\n11    i   800.0       NaN       800.0       group4  800.000000       0.230769\n12    j   900.0       NaN       900.0       group4  900.000000       0.230769",
      "text/html": "<div>\n<style scoped>\n    .dataframe tbody tr th:only-of-type {\n        vertical-align: middle;\n    }\n\n    .dataframe tbody tr th {\n        vertical-align: top;\n    }\n\n    .dataframe thead th {\n        text-align: right;\n    }\n</style>\n<table border=\"1\" class=\"dataframe\">\n  <thead>\n    <tr style=\"text-align: right;\">\n      <th></th>\n      <th>Name</th>\n      <th>Salary</th>\n      <th>location</th>\n      <th>new_Salary</th>\n      <th>Salary_Range</th>\n      <th>450_perc</th>\n      <th>Range_perc</th>\n    </tr>\n  </thead>\n  <tbody>\n    <tr>\n      <th>0</th>\n      <td>A</td>\n      <td>NaN</td>\n      <td>NaN</td>\n      <td>450.0</td>\n      <td>group3</td>\n      <td>0.230769</td>\n      <td>0.384615</td>\n    </tr>\n    <tr>\n      <th>1</th>\n      <td>B</td>\n      <td>NaN</td>\n      <td>NaN</td>\n      <td>450.0</td>\n      <td>group3</td>\n      <td>0.230769</td>\n      <td>0.384615</td>\n    </tr>\n    <tr>\n      <th>2</th>\n      <td>C</td>\n      <td>NaN</td>\n      <td>NaN</td>\n      <td>450.0</td>\n      <td>group3</td>\n      <td>0.230769</td>\n      <td>0.384615</td>\n    </tr>\n    <tr>\n      <th>3</th>\n      <td>a</td>\n      <td>0.0</td>\n      <td>NaN</td>\n      <td>0.0</td>\n      <td>None</td>\n      <td>0.000000</td>\n      <td>not available</td>\n    </tr>\n    <tr>\n      <th>4</th>\n      <td>b</td>\n      <td>100.0</td>\n      <td>NaN</td>\n      <td>100.0</td>\n      <td>group1</td>\n      <td>100.000000</td>\n      <td>0.153846</td>\n    </tr>\n    <tr>\n      <th>5</th>\n      <td>c</td>\n      <td>200.0</td>\n      <td>NaN</td>\n      <td>200.0</td>\n      <td>group1</td>\n      <td>200.000000</td>\n      <td>0.153846</td>\n    </tr>\n    <tr>\n      <th>6</th>\n      <td>d</td>\n      <td>300.0</td>\n      <td>NaN</td>\n      <td>300.0</td>\n      <td>group2</td>\n      <td>300.000000</td>\n      <td>0.153846</td>\n    </tr>\n    <tr>\n      <th>7</th>\n      <td>e</td>\n      <td>400.0</td>\n      <td>NaN</td>\n      <td>400.0</td>\n      <td>group2</td>\n      <td>400.000000</td>\n      <td>0.153846</td>\n    </tr>\n    <tr>\n      <th>8</th>\n      <td>f</td>\n      <td>500.0</td>\n      <td>NaN</td>\n      <td>500.0</td>\n      <td>group3</td>\n      <td>500.000000</td>\n      <td>0.384615</td>\n    </tr>\n    <tr>\n      <th>9</th>\n      <td>g</td>\n      <td>600.0</td>\n      <td>NaN</td>\n      <td>600.0</td>\n      <td>group3</td>\n      <td>600.000000</td>\n      <td>0.384615</td>\n    </tr>\n    <tr>\n      <th>10</th>\n      <td>h</td>\n      <td>700.0</td>\n      <td>NaN</td>\n      <td>700.0</td>\n      <td>group4</td>\n      <td>700.000000</td>\n      <td>0.230769</td>\n    </tr>\n    <tr>\n      <th>11</th>\n      <td>i</td>\n      <td>800.0</td>\n      <td>NaN</td>\n      <td>800.0</td>\n      <td>group4</td>\n      <td>800.000000</td>\n      <td>0.230769</td>\n    </tr>\n    <tr>\n      <th>12</th>\n      <td>j</td>\n      <td>900.0</td>\n      <td>NaN</td>\n      <td>900.0</td>\n      <td>group4</td>\n      <td>900.000000</td>\n      <td>0.230769</td>\n    </tr>\n  </tbody>\n</table>\n</div>"
     },
     "metadata": {},
     "output_type": "display_data"
    }
   ],
   "source": [
    "custom_fill = df[\"Salary\"][(df.Salary > df.Salary.quantile(.1)) & (df.Salary < df.Salary.quantile(.9))].mean()\n",
    "print(custom_fill)\n",
    "df[\"new_Salary\"] = df[\"Salary\"].fillna(custom_fill)\n",
    "display(df)"
   ],
   "metadata": {
    "collapsed": false
   }
  },
  {
   "cell_type": "markdown",
   "source": [
    "* column의 값이 (0, 200], (200, 400], (400, 600], (600, inf]에 해당하면\n",
    "각각 “group1”, “group2”, “group3”, “group4”의 값을 갖도록 새로운 column을 만들어라\n",
    "<a href=\"https://www.delftstack.com/ko/howto/python-pandas/how-to-create-dataframe-column-based-on-given-condition-in-pandas/\">Pandas에서 주어진 조건에 따라 DataFrame 열을 만드는 방법</a>"
   ],
   "metadata": {
    "collapsed": false
   }
  },
  {
   "cell_type": "code",
   "execution_count": 91,
   "outputs": [
    {
     "data": {
      "text/plain": "   Name  Salary  location  new_Salary Salary_Range\n0     A     NaN       NaN       450.0       group3\n1     B     NaN       NaN       450.0       group3\n2     C     NaN       NaN       450.0       group3\n3     a     0.0       NaN         0.0         None\n4     b   100.0       NaN       100.0       group1\n5     c   200.0       NaN       200.0       group1\n6     d   300.0       NaN       300.0       group2\n7     e   400.0       NaN       400.0       group2\n8     f   500.0       NaN       500.0       group3\n9     g   600.0       NaN       600.0       group3\n10    h   700.0       NaN       700.0       group4\n11    i   800.0       NaN       800.0       group4\n12    j   900.0       NaN       900.0       group4",
      "text/html": "<div>\n<style scoped>\n    .dataframe tbody tr th:only-of-type {\n        vertical-align: middle;\n    }\n\n    .dataframe tbody tr th {\n        vertical-align: top;\n    }\n\n    .dataframe thead th {\n        text-align: right;\n    }\n</style>\n<table border=\"1\" class=\"dataframe\">\n  <thead>\n    <tr style=\"text-align: right;\">\n      <th></th>\n      <th>Name</th>\n      <th>Salary</th>\n      <th>location</th>\n      <th>new_Salary</th>\n      <th>Salary_Range</th>\n    </tr>\n  </thead>\n  <tbody>\n    <tr>\n      <th>0</th>\n      <td>A</td>\n      <td>NaN</td>\n      <td>NaN</td>\n      <td>450.0</td>\n      <td>group3</td>\n    </tr>\n    <tr>\n      <th>1</th>\n      <td>B</td>\n      <td>NaN</td>\n      <td>NaN</td>\n      <td>450.0</td>\n      <td>group3</td>\n    </tr>\n    <tr>\n      <th>2</th>\n      <td>C</td>\n      <td>NaN</td>\n      <td>NaN</td>\n      <td>450.0</td>\n      <td>group3</td>\n    </tr>\n    <tr>\n      <th>3</th>\n      <td>a</td>\n      <td>0.0</td>\n      <td>NaN</td>\n      <td>0.0</td>\n      <td>None</td>\n    </tr>\n    <tr>\n      <th>4</th>\n      <td>b</td>\n      <td>100.0</td>\n      <td>NaN</td>\n      <td>100.0</td>\n      <td>group1</td>\n    </tr>\n    <tr>\n      <th>5</th>\n      <td>c</td>\n      <td>200.0</td>\n      <td>NaN</td>\n      <td>200.0</td>\n      <td>group1</td>\n    </tr>\n    <tr>\n      <th>6</th>\n      <td>d</td>\n      <td>300.0</td>\n      <td>NaN</td>\n      <td>300.0</td>\n      <td>group2</td>\n    </tr>\n    <tr>\n      <th>7</th>\n      <td>e</td>\n      <td>400.0</td>\n      <td>NaN</td>\n      <td>400.0</td>\n      <td>group2</td>\n    </tr>\n    <tr>\n      <th>8</th>\n      <td>f</td>\n      <td>500.0</td>\n      <td>NaN</td>\n      <td>500.0</td>\n      <td>group3</td>\n    </tr>\n    <tr>\n      <th>9</th>\n      <td>g</td>\n      <td>600.0</td>\n      <td>NaN</td>\n      <td>600.0</td>\n      <td>group3</td>\n    </tr>\n    <tr>\n      <th>10</th>\n      <td>h</td>\n      <td>700.0</td>\n      <td>NaN</td>\n      <td>700.0</td>\n      <td>group4</td>\n    </tr>\n    <tr>\n      <th>11</th>\n      <td>i</td>\n      <td>800.0</td>\n      <td>NaN</td>\n      <td>800.0</td>\n      <td>group4</td>\n    </tr>\n    <tr>\n      <th>12</th>\n      <td>j</td>\n      <td>900.0</td>\n      <td>NaN</td>\n      <td>900.0</td>\n      <td>group4</td>\n    </tr>\n  </tbody>\n</table>\n</div>"
     },
     "metadata": {},
     "output_type": "display_data"
    }
   ],
   "source": [
    "def set_values(row, value):\n",
    "    if 0 < row <= 200:\n",
    "        return value[200]\n",
    "    if 200 < row <= 400:\n",
    "        return value[400]\n",
    "    if 400 < row <= 600:\n",
    "        return value[600]\n",
    "    if 600 < row:\n",
    "        return value[np.inf]\n",
    "\n",
    "map_dictionary = {200: \"group1\", 400: \"group2\", 600: \"group3\", np.inf: \"group4\"}\n",
    "\n",
    "df[\"Salary_Range\"] = df[\"new_Salary\"].apply(set_values, args=(map_dictionary,))\n",
    "display(df)"
   ],
   "metadata": {
    "collapsed": false
   }
  },
  {
   "cell_type": "markdown",
   "source": [
    "column에서 (특정 값을 가지는 row의 수) / (전체 row 수) * 100를 소수점 아래 자리가 없는 정수로 반환하라\n",
    "<a href=\"https://rfriend.tistory.com/450\">Python pandas DataFrame, Series의 행, 열 개수 세기</a>"
   ],
   "metadata": {
    "collapsed": false
   }
  },
  {
   "cell_type": "code",
   "execution_count": 92,
   "outputs": [
    {
     "data": {
      "text/plain": "   Name  Salary  location  new_Salary Salary_Range    450_perc\n0     A     NaN       NaN       450.0       group3    0.230769\n1     B     NaN       NaN       450.0       group3    0.230769\n2     C     NaN       NaN       450.0       group3    0.230769\n3     a     0.0       NaN         0.0         None    0.000000\n4     b   100.0       NaN       100.0       group1  100.000000\n5     c   200.0       NaN       200.0       group1  200.000000\n6     d   300.0       NaN       300.0       group2  300.000000\n7     e   400.0       NaN       400.0       group2  400.000000\n8     f   500.0       NaN       500.0       group3  500.000000\n9     g   600.0       NaN       600.0       group3  600.000000\n10    h   700.0       NaN       700.0       group4  700.000000\n11    i   800.0       NaN       800.0       group4  800.000000\n12    j   900.0       NaN       900.0       group4  900.000000",
      "text/html": "<div>\n<style scoped>\n    .dataframe tbody tr th:only-of-type {\n        vertical-align: middle;\n    }\n\n    .dataframe tbody tr th {\n        vertical-align: top;\n    }\n\n    .dataframe thead th {\n        text-align: right;\n    }\n</style>\n<table border=\"1\" class=\"dataframe\">\n  <thead>\n    <tr style=\"text-align: right;\">\n      <th></th>\n      <th>Name</th>\n      <th>Salary</th>\n      <th>location</th>\n      <th>new_Salary</th>\n      <th>Salary_Range</th>\n      <th>450_perc</th>\n    </tr>\n  </thead>\n  <tbody>\n    <tr>\n      <th>0</th>\n      <td>A</td>\n      <td>NaN</td>\n      <td>NaN</td>\n      <td>450.0</td>\n      <td>group3</td>\n      <td>0.230769</td>\n    </tr>\n    <tr>\n      <th>1</th>\n      <td>B</td>\n      <td>NaN</td>\n      <td>NaN</td>\n      <td>450.0</td>\n      <td>group3</td>\n      <td>0.230769</td>\n    </tr>\n    <tr>\n      <th>2</th>\n      <td>C</td>\n      <td>NaN</td>\n      <td>NaN</td>\n      <td>450.0</td>\n      <td>group3</td>\n      <td>0.230769</td>\n    </tr>\n    <tr>\n      <th>3</th>\n      <td>a</td>\n      <td>0.0</td>\n      <td>NaN</td>\n      <td>0.0</td>\n      <td>None</td>\n      <td>0.000000</td>\n    </tr>\n    <tr>\n      <th>4</th>\n      <td>b</td>\n      <td>100.0</td>\n      <td>NaN</td>\n      <td>100.0</td>\n      <td>group1</td>\n      <td>100.000000</td>\n    </tr>\n    <tr>\n      <th>5</th>\n      <td>c</td>\n      <td>200.0</td>\n      <td>NaN</td>\n      <td>200.0</td>\n      <td>group1</td>\n      <td>200.000000</td>\n    </tr>\n    <tr>\n      <th>6</th>\n      <td>d</td>\n      <td>300.0</td>\n      <td>NaN</td>\n      <td>300.0</td>\n      <td>group2</td>\n      <td>300.000000</td>\n    </tr>\n    <tr>\n      <th>7</th>\n      <td>e</td>\n      <td>400.0</td>\n      <td>NaN</td>\n      <td>400.0</td>\n      <td>group2</td>\n      <td>400.000000</td>\n    </tr>\n    <tr>\n      <th>8</th>\n      <td>f</td>\n      <td>500.0</td>\n      <td>NaN</td>\n      <td>500.0</td>\n      <td>group3</td>\n      <td>500.000000</td>\n    </tr>\n    <tr>\n      <th>9</th>\n      <td>g</td>\n      <td>600.0</td>\n      <td>NaN</td>\n      <td>600.0</td>\n      <td>group3</td>\n      <td>600.000000</td>\n    </tr>\n    <tr>\n      <th>10</th>\n      <td>h</td>\n      <td>700.0</td>\n      <td>NaN</td>\n      <td>700.0</td>\n      <td>group4</td>\n      <td>700.000000</td>\n    </tr>\n    <tr>\n      <th>11</th>\n      <td>i</td>\n      <td>800.0</td>\n      <td>NaN</td>\n      <td>800.0</td>\n      <td>group4</td>\n      <td>800.000000</td>\n    </tr>\n    <tr>\n      <th>12</th>\n      <td>j</td>\n      <td>900.0</td>\n      <td>NaN</td>\n      <td>900.0</td>\n      <td>group4</td>\n      <td>900.000000</td>\n    </tr>\n  </tbody>\n</table>\n</div>"
     },
     "metadata": {},
     "output_type": "display_data"
    },
    {
     "name": "stdout",
     "output_type": "stream",
     "text": [
      "13\n",
      "Salary_Range\n",
      "group1    2\n",
      "group2    2\n",
      "group3    5\n",
      "group4    3\n",
      "dtype: int64\n"
     ]
    },
    {
     "data": {
      "text/plain": "   Name  Salary  location  new_Salary Salary_Range    450_perc     Range_perc\n0     A     NaN       NaN       450.0       group3    0.230769       0.384615\n1     B     NaN       NaN       450.0       group3    0.230769       0.384615\n2     C     NaN       NaN       450.0       group3    0.230769       0.384615\n3     a     0.0       NaN         0.0         None    0.000000  not available\n4     b   100.0       NaN       100.0       group1  100.000000       0.153846\n5     c   200.0       NaN       200.0       group1  200.000000       0.153846\n6     d   300.0       NaN       300.0       group2  300.000000       0.153846\n7     e   400.0       NaN       400.0       group2  400.000000       0.153846\n8     f   500.0       NaN       500.0       group3  500.000000       0.384615\n9     g   600.0       NaN       600.0       group3  600.000000       0.384615\n10    h   700.0       NaN       700.0       group4  700.000000       0.230769\n11    i   800.0       NaN       800.0       group4  800.000000       0.230769\n12    j   900.0       NaN       900.0       group4  900.000000       0.230769",
      "text/html": "<div>\n<style scoped>\n    .dataframe tbody tr th:only-of-type {\n        vertical-align: middle;\n    }\n\n    .dataframe tbody tr th {\n        vertical-align: top;\n    }\n\n    .dataframe thead th {\n        text-align: right;\n    }\n</style>\n<table border=\"1\" class=\"dataframe\">\n  <thead>\n    <tr style=\"text-align: right;\">\n      <th></th>\n      <th>Name</th>\n      <th>Salary</th>\n      <th>location</th>\n      <th>new_Salary</th>\n      <th>Salary_Range</th>\n      <th>450_perc</th>\n      <th>Range_perc</th>\n    </tr>\n  </thead>\n  <tbody>\n    <tr>\n      <th>0</th>\n      <td>A</td>\n      <td>NaN</td>\n      <td>NaN</td>\n      <td>450.0</td>\n      <td>group3</td>\n      <td>0.230769</td>\n      <td>0.384615</td>\n    </tr>\n    <tr>\n      <th>1</th>\n      <td>B</td>\n      <td>NaN</td>\n      <td>NaN</td>\n      <td>450.0</td>\n      <td>group3</td>\n      <td>0.230769</td>\n      <td>0.384615</td>\n    </tr>\n    <tr>\n      <th>2</th>\n      <td>C</td>\n      <td>NaN</td>\n      <td>NaN</td>\n      <td>450.0</td>\n      <td>group3</td>\n      <td>0.230769</td>\n      <td>0.384615</td>\n    </tr>\n    <tr>\n      <th>3</th>\n      <td>a</td>\n      <td>0.0</td>\n      <td>NaN</td>\n      <td>0.0</td>\n      <td>None</td>\n      <td>0.000000</td>\n      <td>not available</td>\n    </tr>\n    <tr>\n      <th>4</th>\n      <td>b</td>\n      <td>100.0</td>\n      <td>NaN</td>\n      <td>100.0</td>\n      <td>group1</td>\n      <td>100.000000</td>\n      <td>0.153846</td>\n    </tr>\n    <tr>\n      <th>5</th>\n      <td>c</td>\n      <td>200.0</td>\n      <td>NaN</td>\n      <td>200.0</td>\n      <td>group1</td>\n      <td>200.000000</td>\n      <td>0.153846</td>\n    </tr>\n    <tr>\n      <th>6</th>\n      <td>d</td>\n      <td>300.0</td>\n      <td>NaN</td>\n      <td>300.0</td>\n      <td>group2</td>\n      <td>300.000000</td>\n      <td>0.153846</td>\n    </tr>\n    <tr>\n      <th>7</th>\n      <td>e</td>\n      <td>400.0</td>\n      <td>NaN</td>\n      <td>400.0</td>\n      <td>group2</td>\n      <td>400.000000</td>\n      <td>0.153846</td>\n    </tr>\n    <tr>\n      <th>8</th>\n      <td>f</td>\n      <td>500.0</td>\n      <td>NaN</td>\n      <td>500.0</td>\n      <td>group3</td>\n      <td>500.000000</td>\n      <td>0.384615</td>\n    </tr>\n    <tr>\n      <th>9</th>\n      <td>g</td>\n      <td>600.0</td>\n      <td>NaN</td>\n      <td>600.0</td>\n      <td>group3</td>\n      <td>600.000000</td>\n      <td>0.384615</td>\n    </tr>\n    <tr>\n      <th>10</th>\n      <td>h</td>\n      <td>700.0</td>\n      <td>NaN</td>\n      <td>700.0</td>\n      <td>group4</td>\n      <td>700.000000</td>\n      <td>0.230769</td>\n    </tr>\n    <tr>\n      <th>11</th>\n      <td>i</td>\n      <td>800.0</td>\n      <td>NaN</td>\n      <td>800.0</td>\n      <td>group4</td>\n      <td>800.000000</td>\n      <td>0.230769</td>\n    </tr>\n    <tr>\n      <th>12</th>\n      <td>j</td>\n      <td>900.0</td>\n      <td>NaN</td>\n      <td>900.0</td>\n      <td>group4</td>\n      <td>900.000000</td>\n      <td>0.230769</td>\n    </tr>\n  </tbody>\n</table>\n</div>"
     },
     "metadata": {},
     "output_type": "display_data"
    }
   ],
   "source": [
    "# np.where(condition, x, y) : if condition is true return x, else return y\n",
    "df[\"450_perc\"] = np.where(df[\"new_Salary\"] == 450, len(df[df[\"new_Salary\"] == 450]) / len(df), df[\"new_Salary\"])\n",
    "display(df)\n",
    "\n",
    "print(len(df[\"Salary_Range\"]))\n",
    "print(df.groupby(\"Salary_Range\").size())\n",
    "def custom_perc(range):\n",
    "    df_range_perc = df.groupby(\"Salary_Range\").size() / len(df[\"Salary_Range\"])\n",
    "    if range in df_range_perc:\n",
    "        return df_range_perc[range]\n",
    "    else:\n",
    "        return \"not available\"\n",
    "\n",
    "df[\"Range_perc\"] = df[\"Salary_Range\"].apply(custom_perc)\n",
    "display(df)"
   ],
   "metadata": {
    "collapsed": false
   }
  },
  {
   "cell_type": "markdown",
   "source": [
    "* DataFrame Join\n",
    "* DataFrame Group by"
   ],
   "metadata": {
    "collapsed": false
   }
  },
  {
   "cell_type": "code",
   "execution_count": null,
   "outputs": [],
   "source": [],
   "metadata": {
    "collapsed": false
   }
  }
 ],
 "metadata": {
  "kernelspec": {
   "display_name": "Python 3",
   "language": "python",
   "name": "python3"
  },
  "language_info": {
   "codemirror_mode": {
    "name": "ipython",
    "version": 2
   },
   "file_extension": ".py",
   "mimetype": "text/x-python",
   "name": "python",
   "nbconvert_exporter": "python",
   "pygments_lexer": "ipython2",
   "version": "2.7.6"
  }
 },
 "nbformat": 4,
 "nbformat_minor": 0
}
