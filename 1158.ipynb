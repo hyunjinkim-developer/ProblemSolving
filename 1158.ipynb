{
 "cells": [
  {
   "cell_type": "code",
   "execution_count": 48,
   "id": "d64cfdf2",
   "metadata": {},
   "outputs": [
    {
     "name": "stdout",
     "output_type": "stream",
     "text": [
      "7 3\n",
      "< 3, 6, 2, 7, 5, 1, 4 >\n"
     ]
    }
   ],
   "source": [
    "N, K = input().split(\" \")\n",
    "N, K = int(N), int(K)\n",
    "seq_in = [i for i in range(1, N + 1)]\n",
    "\n",
    "sequence = []\n",
    "idx = 0\n",
    "while len(seq_in) != 0:\n",
    "    idx += K - 1\n",
    "    if idx >= len(seq_in):\n",
    "        idx = idx % len(seq_in)\n",
    "    sequence.append(seq_in.pop(idx))\n",
    "    \n",
    "print(\"<\", \", \".join(str(i) for i in sequence)[:], \">\")"
   ]
  },
  {
   "cell_type": "code",
   "execution_count": null,
   "id": "cd929c7e",
   "metadata": {},
   "outputs": [],
   "source": []
  }
 ],
 "metadata": {
  "kernelspec": {
   "display_name": "Python 3 (ipykernel)",
   "language": "python",
   "name": "python3"
  },
  "language_info": {
   "codemirror_mode": {
    "name": "ipython",
    "version": 3
   },
   "file_extension": ".py",
   "mimetype": "text/x-python",
   "name": "python",
   "nbconvert_exporter": "python",
   "pygments_lexer": "ipython3",
   "version": "3.10.4"
  }
 },
 "nbformat": 4,
 "nbformat_minor": 5
}
