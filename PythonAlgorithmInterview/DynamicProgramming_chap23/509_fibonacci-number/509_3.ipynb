{
 "cells": [
  {
   "cell_type": "code",
   "execution_count": null,
   "outputs": [],
   "source": [
    "# bottom-up: tabulation\n",
    "# time complexity: O(n)\n",
    "\n",
    "import collections\n",
    "\n",
    "class Solution:\n",
    "    dp = collections.defaultdict(int)\n",
    "\n",
    "    def fib(self, n: int) -> int:\n",
    "        self.dp[0] = 0\n",
    "        self.dp[1] = 1\n",
    "\n",
    "        for i in range(2, n + 1):\n",
    "            self.dp[i] = self.dp[i - 1] + self.dp[i - 2]\n",
    "        return self.dp[n]"
   ],
   "metadata": {
    "collapsed": false
   }
  }
 ],
 "metadata": {
  "kernelspec": {
   "display_name": "Python 3",
   "language": "python",
   "name": "python3"
  },
  "language_info": {
   "codemirror_mode": {
    "name": "ipython",
    "version": 2
   },
   "file_extension": ".py",
   "mimetype": "text/x-python",
   "name": "python",
   "nbconvert_exporter": "python",
   "pygments_lexer": "ipython2",
   "version": "2.7.6"
  }
 },
 "nbformat": 4,
 "nbformat_minor": 0
}
