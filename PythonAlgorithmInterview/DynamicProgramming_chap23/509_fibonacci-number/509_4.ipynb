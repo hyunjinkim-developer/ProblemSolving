{
 "cells": [
  {
   "cell_type": "code",
   "execution_count": null,
   "metadata": {
    "collapsed": true
   },
   "outputs": [],
   "source": [
    "# use only two variables\n",
    "# space complexity reduced to O(n)(using dictionary in 509_3) -> O(1)\n",
    "# time complexity: O(n)\n",
    "\n",
    "class Solution:\n",
    "    def fib(self, n: int) -> int:\n",
    "        x, y = 0, 1\n",
    "        for i in range(0, n):\n",
    "            x, y = y, x + y\n",
    "        return x"
   ]
  }
 ],
 "metadata": {
  "kernelspec": {
   "display_name": "Python 3",
   "language": "python",
   "name": "python3"
  },
  "language_info": {
   "codemirror_mode": {
    "name": "ipython",
    "version": 2
   },
   "file_extension": ".py",
   "mimetype": "text/x-python",
   "name": "python",
   "nbconvert_exporter": "python",
   "pygments_lexer": "ipython2",
   "version": "2.7.6"
  }
 },
 "nbformat": 4,
 "nbformat_minor": 0
}
