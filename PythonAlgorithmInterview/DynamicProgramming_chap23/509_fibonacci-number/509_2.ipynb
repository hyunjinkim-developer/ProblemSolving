{
 "cells": [
  {
   "cell_type": "markdown",
   "source": [
    "# <a href=https://leetcode.com/problems/fibonacci-number/>fibonacci-number</a>"
   ],
   "metadata": {
    "collapsed": false
   }
  },
  {
   "cell_type": "code",
   "execution_count": null,
   "outputs": [],
   "source": [
    "# top-down: recursive funtion with memoization\n",
    "# faster than only brute force with recursive function(509_1)\n",
    "\n",
    "import collections\n",
    "\n",
    "class Solution:\n",
    "    dp = collections.defaultdict(int)\n",
    "\n",
    "    def fib(self, n: int) -> int:\n",
    "        if n <= 1:\n",
    "            return n\n",
    "\n",
    "        if self.dp[n]:\n",
    "            return self.dp[n]\n",
    "\n",
    "        self.dp[n] = self.fib(n - 1) + self.fib(n - 2)\n",
    "        return self.dp[n] # * run only once, when fib(n) is finished\n",
    "        # because all the other terms are returned beforehand"
   ],
   "metadata": {
    "collapsed": false
   }
  }
 ],
 "metadata": {
  "kernelspec": {
   "display_name": "Python 3",
   "language": "python",
   "name": "python3"
  },
  "language_info": {
   "codemirror_mode": {
    "name": "ipython",
    "version": 2
   },
   "file_extension": ".py",
   "mimetype": "text/x-python",
   "name": "python",
   "nbconvert_exporter": "python",
   "pygments_lexer": "ipython2",
   "version": "2.7.6"
  }
 },
 "nbformat": 4,
 "nbformat_minor": 0
}
