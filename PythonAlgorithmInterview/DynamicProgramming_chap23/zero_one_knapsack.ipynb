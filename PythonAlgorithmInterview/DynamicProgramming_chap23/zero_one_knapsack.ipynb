{
 "cells": [
  {
   "cell_type": "code",
   "execution_count": null,
   "metadata": {
    "collapsed": true
   },
   "outputs": [],
   "source": [
    "def zero_one_knapsack(cargo):\n",
    "    capacity = 15\n",
    "    pack = []\n",
    "\n",
    "    for i in range(len(cargo) + 1):\n",
    "        pack.append([])\n",
    "        for c in range(capacity + 1):\n",
    "            if i == 0 or c == 0:\n",
    "                pack[i].append(0)\n",
    "            elif cargo[i - 1][1] <= c:\n",
    "                pack[i].append(\n",
    "                    max(\n",
    "                        cargo[i - 1][0]\n",
    "                    )\n",
    "                )\n",
    "\n",
    "# (price, weight)\n",
    "cargo = [(4, 12),\n",
    "         (2, 1),\n",
    "         (10, 4),\n",
    "         (1, 1),\n",
    "         (2, 2),]\n",
    "r = zero_one_knapsack(cargo)"
   ]
  }
 ],
 "metadata": {
  "kernelspec": {
   "display_name": "Python 3",
   "language": "python",
   "name": "python3"
  },
  "language_info": {
   "codemirror_mode": {
    "name": "ipython",
    "version": 2
   },
   "file_extension": ".py",
   "mimetype": "text/x-python",
   "name": "python",
   "nbconvert_exporter": "python",
   "pygments_lexer": "ipython2",
   "version": "2.7.6"
  }
 },
 "nbformat": 4,
 "nbformat_minor": 0
}
