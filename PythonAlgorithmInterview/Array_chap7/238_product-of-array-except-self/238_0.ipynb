{
 "cells": [
  {
   "cell_type": "markdown",
   "source": [
    "# <a href=https://leetcode.com/problems/product-of-array-except-self/>product-of-array-except-self</a>"
   ],
   "metadata": {
    "collapsed": false
   }
  },
  {
   "cell_type": "code",
   "execution_count": null,
   "outputs": [],
   "source": [
    "# time complexity: O(n)\n",
    "# without division operation\n",
    "\n",
    "class Solution:\n",
    "    def productExceptSelf(self, nums: List[int]) -> List[int]:\n",
    "        output = []\n",
    "        forward = []\n",
    "        backward = []\n",
    "\n",
    "        forward.append(nums[0])\n",
    "        for i in range(1, len(nums)):\n",
    "            forward.append(forward[-1] * nums[i])\n",
    "\n",
    "        backward.append(nums[-1])\n",
    "        for i in range(len(nums) - 2, -1, -1):\n",
    "            backward.append(backward[-1] * nums[i])\n",
    "        print(forward)\n",
    "        print(backward)\n",
    "\n",
    "        output.append(backward[-2])\n",
    "        for i in range(1, len(nums) -1):\n",
    "            output.append(forward[i - 1] * backward[len(nums) - i - 2])\n",
    "        output.append(forward[-2])\n",
    "\n",
    "        return output"
   ],
   "metadata": {
    "collapsed": false
   }
  },
  {
   "cell_type": "code",
   "execution_count": null,
   "metadata": {
    "collapsed": true
   },
   "outputs": [],
   "source": [
    "# using division operation\n",
    "\n",
    "import collections\n",
    "\n",
    "class Solution:\n",
    "    def productExceptSelf(self, nums: List[int]) -> List[int]:\n",
    "        output = []\n",
    "\n",
    "        counter = collections.Counter(nums)\n",
    "        if counter[0] >= 2:\n",
    "            output = [0 for i in range(len(nums))]\n",
    "            return output\n",
    "        else:\n",
    "            total = 1\n",
    "            for key, value in counter.items():\n",
    "                if key == 0:\n",
    "                    continue\n",
    "                total *= key ** value\n",
    "\n",
    "            if counter[0] == 1:\n",
    "                output = [total if num == 0 else 0 for num in nums]\n",
    "            else:\n",
    "                output = [total // num for num in nums]\n",
    "\n",
    "            return output"
   ]
  }
 ],
 "metadata": {
  "kernelspec": {
   "display_name": "Python 3",
   "language": "python",
   "name": "python3"
  },
  "language_info": {
   "codemirror_mode": {
    "name": "ipython",
    "version": 2
   },
   "file_extension": ".py",
   "mimetype": "text/x-python",
   "name": "python",
   "nbconvert_exporter": "python",
   "pygments_lexer": "ipython2",
   "version": "2.7.6"
  }
 },
 "nbformat": 4,
 "nbformat_minor": 0
}
