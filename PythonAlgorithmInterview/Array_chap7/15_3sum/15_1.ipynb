{
 "cells": [
  {
   "cell_type": "code",
   "execution_count": null,
   "metadata": {
    "collapsed": true
   },
   "outputs": [],
   "source": [
    "# Time Limit Exceeded\n",
    "\n",
    "# brute force: using 3 pointers\n",
    "# O(n^3)\n",
    "# sort -> check redundancy of each pointer\n",
    "\n",
    "class Solution:\n",
    "    def threeSum(self, nums: List[int]) -> List[List[int]]:\n",
    "        output = []\n",
    "        nums.sort() # O(n log n)\n",
    "        # for efficiency when the same number exists\n",
    "\n",
    "        for i in range(len(nums) - 2):\n",
    "            if i > 0 and nums[i] == nums[i - 1]: # from second index, check redundancy\n",
    "                continue\n",
    "            for j in range(i + 1, len(nums) - 1):\n",
    "                if j > i + 1 and nums[j] == nums[j - 1]: # from second index, check redundancy\n",
    "                    continue\n",
    "                for k in range(j + 1, len(nums)):\n",
    "                    if k > j + 1 and nums[k] == nums[k - 1]: # from second index, check redundancy\n",
    "                        continue\n",
    "                    if nums[i] + nums[j] + nums[k] == 0:\n",
    "                        output.append([nums[i], nums[j], nums[k]])\n",
    "        return output"
   ]
  }
 ],
 "metadata": {
  "kernelspec": {
   "display_name": "Python 3",
   "language": "python",
   "name": "python3"
  },
  "language_info": {
   "codemirror_mode": {
    "name": "ipython",
    "version": 2
   },
   "file_extension": ".py",
   "mimetype": "text/x-python",
   "name": "python",
   "nbconvert_exporter": "python",
   "pygments_lexer": "ipython2",
   "version": "2.7.6"
  }
 },
 "nbformat": 4,
 "nbformat_minor": 0
}
