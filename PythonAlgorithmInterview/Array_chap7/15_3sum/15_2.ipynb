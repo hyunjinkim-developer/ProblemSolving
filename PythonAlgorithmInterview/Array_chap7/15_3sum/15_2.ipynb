{
 "cells": [
  {
   "cell_type": "code",
   "execution_count": null,
   "outputs": [],
   "source": [
    "# time complexity: O(n^2)\n",
    "\n",
    "class Solution:\n",
    "    def threeSum(self, nums: List[int]) -> List[List[int]]:\n",
    "        results = []\n",
    "        nums.sort()\n",
    "\n",
    "        for i in range(len(nums) - 2):\n",
    "            # first numer is chosen: nums[i]\n",
    "\n",
    "            # check redundancy\n",
    "            if i > 0 and nums[i] == nums[i - 1]:\n",
    "                continue\n",
    "\n",
    "            left, right = i + 1, len(nums) - 1\n",
    "            while left < right:\n",
    "                sum = nums[i] + nums[left] + nums[right]\n",
    "                if sum < 0:\n",
    "                    left += 1\n",
    "                elif sum > 0:\n",
    "                    right -= 1\n",
    "                else:\n",
    "                    # sum == 0, found answer\n",
    "                    results.append([nums[i], nums[left], nums[right]])\n",
    "\n",
    "                    # check redundancy\n",
    "                    while left < right and nums[left] == nums[left + 1]:\n",
    "                        left += 1\n",
    "                    while left < right and nums[right] == nums[right - 1]: # * check from end to backwards\n",
    "                        right -= 1 # *\n",
    "\n",
    "                    left += 1\n",
    "                    right -= 1\n",
    "\n",
    "        return results"
   ],
   "metadata": {
    "collapsed": false
   }
  }
 ],
 "metadata": {
  "kernelspec": {
   "display_name": "Python 3",
   "language": "python",
   "name": "python3"
  },
  "language_info": {
   "codemirror_mode": {
    "name": "ipython",
    "version": 2
   },
   "file_extension": ".py",
   "mimetype": "text/x-python",
   "name": "python",
   "nbconvert_exporter": "python",
   "pygments_lexer": "ipython2",
   "version": "2.7.6"
  }
 },
 "nbformat": 4,
 "nbformat_minor": 0
}
