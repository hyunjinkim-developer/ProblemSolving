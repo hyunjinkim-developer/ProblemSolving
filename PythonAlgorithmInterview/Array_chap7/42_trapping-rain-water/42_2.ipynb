{
 "cells": [
  {
   "cell_type": "code",
   "execution_count": null,
   "metadata": {
    "collapsed": true
   },
   "outputs": [],
   "source": [
    "class Solution:\n",
    "    def trap(self, height: List[int]) -> int:\n",
    "        stack = []\n",
    "        volume = 0\n",
    "\n",
    "        for i in range(len(height)):\n",
    "            # current block is higher than previous blocks\n",
    "            while stack and height[i] > height[stack[-1]]:\n",
    "                top = stack.pop()\n",
    "\n",
    "                if not len(stack):\n",
    "                    break\n",
    "\n",
    "                # fill in gaps\n",
    "                distance = i - stack[-1] - 1\n",
    "                waters = min(height[i], height[stack[-1]]) - height[top]\n",
    "                volume += distance * waters\n",
    "\n",
    "            # append indexes until\n",
    "            stack.append(i)\n",
    "        return volume\n"
   ]
  }
 ],
 "metadata": {
  "kernelspec": {
   "display_name": "Python 3",
   "language": "python",
   "name": "python3"
  },
  "language_info": {
   "codemirror_mode": {
    "name": "ipython",
    "version": 2
   },
   "file_extension": ".py",
   "mimetype": "text/x-python",
   "name": "python",
   "nbconvert_exporter": "python",
   "pygments_lexer": "ipython2",
   "version": "2.7.6"
  }
 },
 "nbformat": 4,
 "nbformat_minor": 0
}
