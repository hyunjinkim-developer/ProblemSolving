{
 "cells": [
  {
   "cell_type": "markdown",
   "source": [
    "# <a href=https://leetcode.com/problems/trapping-rain-water/>trapping-rain-water</a>"
   ],
   "metadata": {
    "collapsed": false
   }
  },
  {
   "cell_type": "code",
   "execution_count": null,
   "metadata": {
    "collapsed": true
   },
   "outputs": [],
   "source": [
    "# Time Limit Exceeded: 318 / 322 testcases passed\n",
    "import collections\n",
    "\n",
    "class Solution:\n",
    "    def trap(self, height: List[int]) -> int:\n",
    "        output = 0\n",
    "\n",
    "        max_height = max(height)\n",
    "        for h in range(max_height, 0, -1):\n",
    "            queue = collections.deque()\n",
    "            count = 0\n",
    "            map_list = [True if i >= h else False for i in height]\n",
    "            # [ [value_for_condition_is_True] if [condition] else [value_for_contidion_is_False] for i in data]\n",
    "            for idx, value in enumerate(map_list):\n",
    "                if value == True:\n",
    "                    if len(queue) != 0: # end of block\n",
    "                        queue.popleft()\n",
    "                        output += count\n",
    "                        count = 0\n",
    "                    queue.append(idx)\n",
    "                    continue\n",
    "                elif len(queue) != 0: # inside block\n",
    "                    count += 1\n",
    "                    continue\n",
    "        return output"
   ]
  }
 ],
 "metadata": {
  "kernelspec": {
   "display_name": "Python 3",
   "language": "python",
   "name": "python3"
  },
  "language_info": {
   "codemirror_mode": {
    "name": "ipython",
    "version": 2
   },
   "file_extension": ".py",
   "mimetype": "text/x-python",
   "name": "python",
   "nbconvert_exporter": "python",
   "pygments_lexer": "ipython2",
   "version": "2.7.6"
  }
 },
 "nbformat": 4,
 "nbformat_minor": 0
}
