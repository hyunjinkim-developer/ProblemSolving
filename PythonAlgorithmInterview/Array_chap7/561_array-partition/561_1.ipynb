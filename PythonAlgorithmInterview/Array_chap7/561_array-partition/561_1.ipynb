{
 "cells": [
  {
   "cell_type": "code",
   "execution_count": null,
   "metadata": {
    "collapsed": true
   },
   "outputs": [],
   "source": [
    "# making pair from the start in ascending order\n",
    "\n",
    "class Solution:\n",
    "    def arrayPairSum(self, nums: List[int]) -> int:\n",
    "        sum = 0\n",
    "        pair = []\n",
    "        nums.sort()\n",
    "\n",
    "        for n in nums:\n",
    "            # making pair from the start in ascending order\n",
    "            pair.append(n)\n",
    "            if len(pair) == 2:\n",
    "                sum += min(pair)\n",
    "                pair = [] # empty pair list\n",
    "\n",
    "        return sum"
   ]
  }
 ],
 "metadata": {
  "kernelspec": {
   "display_name": "Python 3",
   "language": "python",
   "name": "python3"
  },
  "language_info": {
   "codemirror_mode": {
    "name": "ipython",
    "version": 2
   },
   "file_extension": ".py",
   "mimetype": "text/x-python",
   "name": "python",
   "nbconvert_exporter": "python",
   "pygments_lexer": "ipython2",
   "version": "2.7.6"
  }
 },
 "nbformat": 4,
 "nbformat_minor": 0
}
