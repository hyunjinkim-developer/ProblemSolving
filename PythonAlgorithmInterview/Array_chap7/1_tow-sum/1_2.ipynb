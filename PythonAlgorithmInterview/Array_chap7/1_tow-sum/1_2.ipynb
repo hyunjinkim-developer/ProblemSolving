{
 "cells": [
  {
   "cell_type": "markdown",
   "source": [
    "# <a href=https://leetcode.com/problems/two-sum/>two-sum</a>"
   ],
   "metadata": {
    "collapsed": false
   }
  },
  {
   "cell_type": "code",
   "execution_count": null,
   "outputs": [],
   "source": [
    "# in time complexity: O(n) (much faster than ==)\n",
    "# nums[i] + nums[j] == target in code 1_1\n",
    "# total time complexity: O(n^2)\n",
    "\n",
    "# n + complement == target\n",
    "# choose n first\n",
    "# find complement among nums list\n",
    "\n",
    "class Solution:\n",
    "    def twoSum(self, nums: List[int], target: int) -> List[int]:\n",
    "        for i, n in enumerate(nums):\n",
    "            complement = target - n # n is chosen\n",
    "\n",
    "            if complement in nums[i + 1:]: # find complement among nums list\n",
    "                return [nums.index(n), # index of n\n",
    "                        nums[i + 1:].index(complement) + (i + 1)] # index of complement (add (i + 1) because searching is executed within nums[i + 1:])"
   ],
   "metadata": {
    "collapsed": false
   }
  }
 ],
 "metadata": {
  "kernelspec": {
   "display_name": "Python 3",
   "language": "python",
   "name": "python3"
  },
  "language_info": {
   "codemirror_mode": {
    "name": "ipython",
    "version": 2
   },
   "file_extension": ".py",
   "mimetype": "text/x-python",
   "name": "python",
   "nbconvert_exporter": "python",
   "pygments_lexer": "ipython2",
   "version": "2.7.6"
  }
 },
 "nbformat": 4,
 "nbformat_minor": 0
}
