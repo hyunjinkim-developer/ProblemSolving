{
 "cells": [
  {
   "cell_type": "markdown",
   "source": [
    "# <a href=https://leetcode.com/problems/two-sum/>two-sum</a>\n"
   ],
   "metadata": {
    "collapsed": false
   }
  },
  {
   "cell_type": "code",
   "execution_count": null,
   "outputs": [],
   "source": [
    "# find 2nd number with target - first (chosen) number\n",
    "# using dictionary with index as key: values of nums list, value: index of nums list\n",
    "# time complexity using dictionary: search key in O(1)\n",
    "# total time complexity: O(n)\n",
    "\n",
    "class Solution:\n",
    "    def twoSum(self, nums: List[int], target: int) -> List[int]:\n",
    "        nums_map = {}\n",
    "        # set value of nums as key, index as value of the dictionary\n",
    "        for i, num in enumerate(nums):\n",
    "            nums_map[num] = i\n",
    "\n",
    "        for i, num in enumerate(nums):\n",
    "            complement = target - num\n",
    "            if complement in nums_map \\\n",
    "            and i != nums_map[complement]: # same number does not selected twice\n",
    "                return [i, nums_map[complement]]"
   ],
   "metadata": {
    "collapsed": false
   }
  }
 ],
 "metadata": {
  "kernelspec": {
   "display_name": "Python 3",
   "language": "python",
   "name": "python3"
  },
  "language_info": {
   "codemirror_mode": {
    "name": "ipython",
    "version": 2
   },
   "file_extension": ".py",
   "mimetype": "text/x-python",
   "name": "python",
   "nbconvert_exporter": "python",
   "pygments_lexer": "ipython2",
   "version": "2.7.6"
  }
 },
 "nbformat": 4,
 "nbformat_minor": 0
}
