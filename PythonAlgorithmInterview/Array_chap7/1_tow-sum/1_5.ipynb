{
 "cells": [
  {
   "cell_type": "code",
   "execution_count": null,
   "outputs": [],
   "source": [
    "# Using two pointers method\n",
    "# Not appropriate answer because this question asked to return indexes\n",
    "# two pointer method is available only when nums are sorted\n",
    "# overall time complexity: O(n)\n",
    "\n",
    "def twoSum(self, nums: List[int], target: int) -> List[int]:\n",
    "    left, right = 0, len(nums) - 1\n",
    "    while not left == right:\n",
    "        # if sum is lesser than target, send left pointer to right\n",
    "        if nums[left] + nums[right] < target:\n",
    "            left += 1\n",
    "        # if sum is greater than target, send right pointer to left\n",
    "        elif nums[left] + nums[right] > target:\n",
    "            right -= 1\n",
    "        else:\n",
    "            return [left, right]"
   ],
   "metadata": {
    "collapsed": false
   }
  }
 ],
 "metadata": {
  "kernelspec": {
   "display_name": "Python 3",
   "language": "python",
   "name": "python3"
  },
  "language_info": {
   "codemirror_mode": {
    "name": "ipython",
    "version": 2
   },
   "file_extension": ".py",
   "mimetype": "text/x-python",
   "name": "python",
   "nbconvert_exporter": "python",
   "pygments_lexer": "ipython2",
   "version": "2.7.6"
  }
 },
 "nbformat": 4,
 "nbformat_minor": 0
}
