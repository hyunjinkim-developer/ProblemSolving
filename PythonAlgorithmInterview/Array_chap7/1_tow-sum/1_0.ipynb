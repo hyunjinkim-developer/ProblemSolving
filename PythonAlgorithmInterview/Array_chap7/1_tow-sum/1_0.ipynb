{
 "cells": [
  {
   "cell_type": "markdown",
   "source": [
    "# <a href=https://leetcode.com/problems/two-sum/>two-sum</a>"
   ],
   "metadata": {
    "collapsed": false
   }
  },
  {
   "cell_type": "code",
   "execution_count": null,
   "metadata": {
    "collapsed": true
   },
   "outputs": [],
   "source": [
    "# brute force\n",
    "class Solution:\n",
    "    def twoSum(self, nums: List[int], target: int) -> List[int]:\n",
    "        for i in range(0, len(nums)):\n",
    "            for j in range(i + 1, len(nums)):\n",
    "                if nums[i] + nums[j] == target:\n",
    "                    return [i, j]"
   ]
  }
 ],
 "metadata": {
  "kernelspec": {
   "display_name": "Python 3",
   "language": "python",
   "name": "python3"
  },
  "language_info": {
   "codemirror_mode": {
    "name": "ipython",
    "version": 2
   },
   "file_extension": ".py",
   "mimetype": "text/x-python",
   "name": "python",
   "nbconvert_exporter": "python",
   "pygments_lexer": "ipython2",
   "version": "2.7.6"
  }
 },
 "nbformat": 4,
 "nbformat_minor": 0
}
