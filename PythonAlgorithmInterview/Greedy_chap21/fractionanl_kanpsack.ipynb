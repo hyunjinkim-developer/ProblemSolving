{
 "cells": [
  {
   "cell_type": "code",
   "execution_count": 9,
   "metadata": {
    "collapsed": true
   },
   "outputs": [
    {
     "name": "stdout",
     "output_type": "stream",
     "text": [
      "17.333333333333332\n"
     ]
    }
   ],
   "source": [
    "def fractional_knapsack(cargo):\n",
    "    total_value: float = 0\n",
    "    capacity = 15\n",
    "    pack = []\n",
    "\n",
    "    # sort by highest price per weight\n",
    "    for c in cargo:\n",
    "        pack.append((c[0] / c[1], c[0], c[1]))\n",
    "    pack.sort(reverse=True)\n",
    "\n",
    "    for p in pack:\n",
    "        # if there's available capacity\n",
    "        if capacity - p[2] >= 0:\n",
    "            capacity -= p[2]\n",
    "            total_value += p[1]\n",
    "        # split cargo\n",
    "        else:\n",
    "            total_value += capacity * p[0]\n",
    "            break\n",
    "    return total_value\n",
    "\n",
    "\n",
    "# (price, weight)\n",
    "cargo = [\n",
    "    (4, 12),\n",
    "    (2, 1),\n",
    "    (10, 4),\n",
    "    (1, 1),\n",
    "    (2, 2)\n",
    "]\n",
    "\n",
    "r = fractional_knapsack(cargo)\n",
    "print(r)"
   ]
  },
  {
   "cell_type": "code",
   "execution_count": null,
   "outputs": [],
   "source": [],
   "metadata": {
    "collapsed": false
   }
  }
 ],
 "metadata": {
  "kernelspec": {
   "display_name": "Python 3",
   "language": "python",
   "name": "python3"
  },
  "language_info": {
   "codemirror_mode": {
    "name": "ipython",
    "version": 2
   },
   "file_extension": ".py",
   "mimetype": "text/x-python",
   "name": "python",
   "nbconvert_exporter": "python",
   "pygments_lexer": "ipython2",
   "version": "2.7.6"
  }
 },
 "nbformat": 4,
 "nbformat_minor": 0
}
