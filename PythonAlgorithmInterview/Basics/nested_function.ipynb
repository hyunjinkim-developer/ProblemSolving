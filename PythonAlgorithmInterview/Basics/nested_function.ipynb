{
 "cells": [
  {
   "cell_type": "markdown",
   "source": [
    "# Nested function"
   ],
   "metadata": {
    "collapsed": false
   }
  },
  {
   "cell_type": "code",
   "execution_count": 1,
   "metadata": {
    "collapsed": true
   },
   "outputs": [
    {
     "name": "stdout",
     "output_type": "stream",
     "text": [
      "Hello\n"
     ]
    }
   ],
   "source": [
    "# nested function can access variables of its parent function\n",
    "\n",
    "def outer_function(t: str):\n",
    "    text: str = t\n",
    "\n",
    "    def inner_function():\n",
    "        print(text)\n",
    "\n",
    "    inner_function()\n",
    "\n",
    "outer_function(\"Hello\")"
   ]
  },
  {
   "cell_type": "code",
   "execution_count": 4,
   "outputs": [
    {
     "name": "stdout",
     "output_type": "stream",
     "text": [
      "Python version: 3.8.12 (default, Mar 15 2022, 04:31:09) \n",
      "[Clang 13.0.0 (clang-1300.0.29.30)]\n",
      "outer_function 4513945216 [1, 2, 3]\n",
      "inner_function1 4513945216 [1, 2, 3, 4]\n",
      "inner_function2 4513945216 [1, 2, 3, 4]\n"
     ]
    }
   ],
   "source": [
    "# https://stackoverflow.com/a/62712981\n",
    "from typing import List\n",
    "import sys\n",
    "print(\"Python version:\", sys.version)\n",
    "\n",
    "def outer_function(a: List[int]):\n",
    "    b: List[int] = a\n",
    "    print(\"outer_function\", id(b), b)\n",
    "\n",
    "    def inner_function1():\n",
    "        b.append(4)\n",
    "        print(\"inner_function1\", id(b), b)\n",
    "\n",
    "    def inner_function2():\n",
    "        print(\"inner_function2\", id(b), b)\n",
    "\n",
    "    inner_function1()\n",
    "    inner_function2()\n",
    "\n",
    "outer_function([1, 2, 3])"
   ],
   "metadata": {
    "collapsed": false
   }
  },
  {
   "cell_type": "code",
   "execution_count": 5,
   "outputs": [
    {
     "name": "stdout",
     "output_type": "stream",
     "text": [
      "outer_function: 4514281520 Hello\n",
      "inner_function1 4514675952 World!\n",
      "inner_function2 4514281520 Hello\n"
     ]
    }
   ],
   "source": [
    "# if variable with the same name as its parent function is assigned inside nested function\n",
    "# new object is assigned as local variable in the same variable name\n",
    "\n",
    "def outer_function(t: str):\n",
    "    text: str = t\n",
    "    print(\"outer_function:\", id(text), text)\n",
    "\n",
    "    def inner_function1():\n",
    "        text = \"World!\" # new object is assigned as local variable\n",
    "        print(\"inner_function1:\", id(text), text)\n",
    "\n",
    "    def inner_function2():\n",
    "        print(\"inner_function2:\", id(text), text)\n",
    "\n",
    "    inner_function1()\n",
    "    inner_function2()\n",
    "\n",
    "outer_function(\"Hello\")"
   ],
   "metadata": {
    "collapsed": false
   }
  },
  {
   "cell_type": "code",
   "execution_count": 9,
   "outputs": [
    {
     "name": "stdout",
     "output_type": "stream",
     "text": [
      "id: 4549819712 ['1', '2', '3']\n",
      "inside inner function ------------------------------\n",
      "id: 4549819712 ['1', '2', '3']\n",
      "id: 4549518464 ['a', 'b', 'c']\n",
      "------------------------------\n",
      "id: 4549819712 ['1', '2', '3']\n",
      "id: 4549518464 ['a', 'b', 'c']\n"
     ]
    }
   ],
   "source": [
    "\n",
    "def outer_function():\n",
    "    def inner_function(original_list):\n",
    "        print(\"inside inner function\", \"-\"*30)\n",
    "        print(\"id:\", id(original_list), original_list)\n",
    "\n",
    "        original_list = [\"a\", \"b\", \"c\"] # reassign, local variable has been made\n",
    "        print(\"id:\", id(original_list), original_list)\n",
    "        print(\"-\"*30)\n",
    "        return original_list\n",
    "\n",
    "    a = [\"1\", \"2\", \"3\"]\n",
    "    print(\"id:\", id(a), a)\n",
    "\n",
    "    returned_list = inner_function(a)\n",
    "    print(\"id:\", id(a), a)\n",
    "    print(\"id:\", id(returned_list), returned_list)\n",
    "\n",
    "outer_function()"
   ],
   "metadata": {
    "collapsed": false
   }
  },
  {
   "cell_type": "code",
   "execution_count": null,
   "outputs": [],
   "source": [],
   "metadata": {
    "collapsed": false
   }
  }
 ],
 "metadata": {
  "kernelspec": {
   "display_name": "Python 3",
   "language": "python",
   "name": "python3"
  },
  "language_info": {
   "codemirror_mode": {
    "name": "ipython",
    "version": 2
   },
   "file_extension": ".py",
   "mimetype": "text/x-python",
   "name": "python",
   "nbconvert_exporter": "python",
   "pygments_lexer": "ipython2",
   "version": "2.7.6"
  }
 },
 "nbformat": 4,
 "nbformat_minor": 0
}
