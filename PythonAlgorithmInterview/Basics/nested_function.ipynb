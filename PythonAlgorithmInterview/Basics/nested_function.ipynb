{
 "cells": [
  {
   "cell_type": "markdown",
   "source": [
    "# Nested function"
   ],
   "metadata": {
    "collapsed": false
   }
  },
  {
   "cell_type": "code",
   "execution_count": 1,
   "metadata": {
    "collapsed": true
   },
   "outputs": [
    {
     "name": "stdout",
     "output_type": "stream",
     "text": [
      "Hello\n"
     ]
    }
   ],
   "source": [
    "# nested function can access variables of its parent function\n",
    "\n",
    "def outer_function(t: str):\n",
    "    text: str = t\n",
    "\n",
    "    def inner_function():\n",
    "        print(text)\n",
    "\n",
    "    inner_function()\n",
    "\n",
    "outer_function(\"Hello\")"
   ]
  },
  {
   "cell_type": "code",
   "execution_count": 4,
   "outputs": [
    {
     "name": "stdout",
     "output_type": "stream",
     "text": [
      "Python version: 3.8.12 (default, Mar 15 2022, 04:31:09) \n",
      "[Clang 13.0.0 (clang-1300.0.29.30)]\n",
      "outer_function 4513945216 [1, 2, 3]\n",
      "inner_function1 4513945216 [1, 2, 3, 4]\n",
      "inner_function2 4513945216 [1, 2, 3, 4]\n"
     ]
    }
   ],
   "source": [
    "# https://stackoverflow.com/a/62712981\n",
    "from typing import List\n",
    "import sys\n",
    "print(\"Python version:\", sys.version)\n",
    "\n",
    "def outer_function(a: List[int]):\n",
    "    b: List[int] = a\n",
    "    print(\"outer_function\", id(b), b)\n",
    "\n",
    "    def inner_function1():\n",
    "        b.append(4)\n",
    "        print(\"inner_function1\", id(b), b)\n",
    "\n",
    "    def inner_function2():\n",
    "        print(\"inner_function2\", id(b), b)\n",
    "\n",
    "    inner_function1()\n",
    "    inner_function2()\n",
    "\n",
    "outer_function([1, 2, 3])"
   ],
   "metadata": {
    "collapsed": false
   }
  },
  {
   "cell_type": "code",
   "execution_count": 5,
   "outputs": [
    {
     "name": "stdout",
     "output_type": "stream",
     "text": [
      "outer_function: 4514281520 Hello\n",
      "inner_function1 4514675952 World!\n",
      "inner_function2 4514281520 Hello\n"
     ]
    }
   ],
   "source": [
    "# if variable with the same name as its parent function is assigned inside nested function\n",
    "# new object is assigned as local variable in the same variable name\n",
    "\n",
    "def outer_function(t: str):\n",
    "    text: str = t\n",
    "    print(\"outer_function:\", id(text), text)\n",
    "\n",
    "    def inner_function1():\n",
    "        text = \"World!\" # new object is assigned as local variable\n",
    "        print(\"inner_function1:\", id(text), text)\n",
    "\n",
    "    def inner_function2():\n",
    "        print(\"inner_function2:\", id(text), text)\n",
    "\n",
    "    inner_function1()\n",
    "    inner_function2()\n",
    "\n",
    "outer_function(\"Hello\")"
   ],
   "metadata": {
    "collapsed": false
   }
  },
  {
   "cell_type": "code",
   "execution_count": 6,
   "outputs": [
    {
     "name": "stdout",
     "output_type": "stream",
     "text": [
      "id: 5051337536 ['1', '2', '3']\n",
      "change and return object ==============================\n",
      "id: 5051337536 ['1', '2', '3']\n",
      "id: 5051338432 ['a', 'b', 'c']\n",
      "==================================================\n",
      "id: 5051337536 ['1', '2', '3']\n",
      "id: 5051338432 ['a', 'b', 'c']\n",
      "not return object ==============================\n",
      "id: 5051337536 ['1', '2', '3']\n",
      "id: 5051336320 ['4', '5', '6']\n",
      "==================================================\n",
      "id: 5051337536 ['1', '2', '3']\n"
     ]
    }
   ],
   "source": [
    "# if variable with the same name in side the inner funtion reassign,\n",
    "# local variable has been made\n",
    "\n",
    "def outer_function():\n",
    "    def inner_function1(original_list):\n",
    "        print(\"change and return object\", \"=\"*30)\n",
    "        print(\"id:\", id(original_list), original_list)\n",
    "\n",
    "        original_list = [\"a\", \"b\", \"c\"] # reassign, new local variable has been made\n",
    "        print(\"id:\", id(original_list), original_list)\n",
    "        print(\"=\"*50)\n",
    "        return original_list\n",
    "\n",
    "    a = [\"1\", \"2\", \"3\"]\n",
    "    print(\"id:\", id(a), a)\n",
    "\n",
    "    returned_list = inner_function1(a)\n",
    "    print(\"id:\", id(a), a)\n",
    "    print(\"id:\", id(returned_list), returned_list) # Can access new object\n",
    "\n",
    "    def inner_function2(original_list):\n",
    "        print(\"not return object\", \"=\"*30)\n",
    "        print(\"id:\", id(original_list), original_list)\n",
    "\n",
    "        original_list = [\"4\", \"5\", \"6\"] # reassign, new local variable has been made\n",
    "        print(\"id:\", id(original_list), original_list)\n",
    "        print(\"=\"*50)\n",
    "    inner_function2(a)\n",
    "    print(\"id:\", id(a), a)\n",
    "\n",
    "outer_function()"
   ],
   "metadata": {
    "collapsed": false
   }
  },
  {
   "cell_type": "code",
   "execution_count": 6,
   "outputs": [
    {
     "name": "stdout",
     "output_type": "stream",
     "text": [
      "Hi! I'm reassigned! :)\n"
     ]
    }
   ],
   "source": [
    "# keyword \"nonlocal\"\n",
    "# Use the same variable from outer_function and inner_function\n",
    "# even when the variable is reassigned\n",
    "\n",
    "def outer_function(t: str):\n",
    "    text: str = t\n",
    "\n",
    "    def inner_function():\n",
    "        nonlocal text # means text is the same variable from the outer function\n",
    "        text = \"Hi! I'm reassigned! :)\"\n",
    "        print(text)\n",
    "\n",
    "    inner_function()\n",
    "\n",
    "outer_function(\"Hello\")"
   ],
   "metadata": {
    "collapsed": false
   }
  }
 ],
 "metadata": {
  "kernelspec": {
   "display_name": "Python 3",
   "language": "python",
   "name": "python3"
  },
  "language_info": {
   "codemirror_mode": {
    "name": "ipython",
    "version": 2
   },
   "file_extension": ".py",
   "mimetype": "text/x-python",
   "name": "python",
   "nbconvert_exporter": "python",
   "pygments_lexer": "ipython2",
   "version": "2.7.6"
  }
 },
 "nbformat": 4,
 "nbformat_minor": 0
}
