{
 "cells": [
  {
   "cell_type": "markdown",
   "source": [
    "# List"
   ],
   "metadata": {
    "collapsed": false
   }
  },
  {
   "cell_type": "code",
   "execution_count": 87,
   "metadata": {
    "collapsed": true
   },
   "outputs": [
    {
     "name": "stdout",
     "output_type": "stream",
     "text": [
      "[1, 2, 3, 4, 5, 6, 7, 0]\n",
      "[1, 2, 3, 4, 5, 6, 7, 0, [0, 1]]\n",
      "[1, 2, 3, 4, 5, 6, 7, 0, [0, 1], -1, -2, -3]\n",
      "-3\n",
      "[1, 2, 3, 4, 5, 6, 7, 0, [0, 1], -1, -2]\n",
      "-2\n",
      "[1, 2, 3, 4, 5, 6, 7, 0, [0, 1], -1]\n",
      "None\n",
      "[1, 2, 3, 4, 5, 6, 7, 0, -1]\n"
     ]
    }
   ],
   "source": [
    "list_ = list()\n",
    "list_ = [1, 2, 3, 4, 5, 6, 7]\n",
    "\n",
    "# .append()\n",
    "list_.append(0)\n",
    "print(list_)\n",
    "list_.append([0, 1])\n",
    "print(list_)\n",
    "\n",
    "# .extend()\n",
    "list_to_extend = [-1, -2, -3]\n",
    "list_.extend(list_to_extend)\n",
    "print(list_)\n",
    "\n",
    "# .pop():  Removes the element at the required position.\n",
    "print(list_.pop())\n",
    "print(list_)\n",
    "\n",
    "print(list_.pop(-1))\n",
    "print(list_)\n",
    "\n",
    "# .remove()\n",
    "print(list_.remove([0, 1]))\n",
    "print(list_)"
   ]
  },
  {
   "cell_type": "markdown",
   "source": [
    "## Other methods"
   ],
   "metadata": {
    "collapsed": false
   }
  },
  {
   "cell_type": "code",
   "execution_count": 88,
   "outputs": [
    {
     "name": "stdout",
     "output_type": "stream",
     "text": [
      "[1, 2, 3, 4, 5, 6, 7, 0, -1]\n",
      "7\n",
      "-1\n",
      "9\n",
      "1\n",
      "[-1, 0, 7, 6, 5, 4, 3, 2, 1]\n",
      "[-1, 0, 7, 6, 5, 4, 3, 2, 1]\n",
      "[0, 0, 7, 6, 5, 4, 3, 2, 1]\n"
     ]
    }
   ],
   "source": [
    "print(list_)\n",
    "\n",
    "# max(list)\n",
    "print(max(list_))\n",
    "\n",
    "# min(list)\n",
    "print(min(list_))\n",
    "\n",
    "# len(list)\n",
    "print(len(list_))\n",
    "\n",
    "# .count(element)\n",
    "print(list_.count(0))\n",
    "\n",
    "#.reverse()\n",
    "list_.reverse()\n",
    "print(list_)\n",
    "\n",
    "# .copy()\n",
    "copied = list_.copy()\n",
    "copied[0] = 0\n",
    "print(list_)\n",
    "print(copied)"
   ],
   "metadata": {
    "collapsed": false
   }
  },
  {
   "cell_type": "markdown",
   "source": [
    "## sort"
   ],
   "metadata": {
    "collapsed": false
   }
  },
  {
   "cell_type": "code",
   "execution_count": 15,
   "outputs": [
    {
     "name": "stdout",
     "output_type": "stream",
     "text": [
      "[7, 6, 5, 4, 3, 2, 1]\n",
      "[1, 2, 3, 4, 5, 6, 7]\n",
      "[[2, 1], [3, 2], [4, 3], [5, 4], [5, 5], [6, 5], [6, 6], [7, 6], [7, 7]]\n",
      "[[2, 1], [3, 2], [4, 3], [5, 5], [5, 4], [6, 6], [6, 5], [7, 7], [7, 6]]\n"
     ]
    }
   ],
   "source": [
    "# .sort()\n",
    "list_.sort(reverse=True)\n",
    "print(list_)\n",
    "\n",
    "# .sorted()\n",
    "sorted_list = sorted(list_, reverse=False)\n",
    "print(sorted_list)\n",
    "\n",
    "# Custom .sorted()\n",
    "nested_list = [[7, 6], [7, 7], [6, 5], [6, 6], [5, 4], [5, 5], [4, 3], [3, 2], [2, 1]]\n",
    "def custom_sort_first_asc(element):\n",
    "    return element[0]\n",
    "\n",
    "def custom_sort_first_asc_second_desc(element):\n",
    "    return element[0], element[1] * -1\n",
    "\n",
    "sorted_first_asc = sorted(nested_list, key=custom_sort_first_asc)\n",
    "print(sorted_first_asc)\n",
    "sorted_second_desc = sorted(nested_list, key=custom_sort_first_asc_second_desc)\n",
    "print(sorted_second_desc)"
   ],
   "metadata": {
    "collapsed": false
   }
  },
  {
   "cell_type": "markdown",
   "source": [
    "# Deque"
   ],
   "metadata": {
    "collapsed": false
   }
  },
  {
   "cell_type": "code",
   "execution_count": 34,
   "outputs": [
    {
     "name": "stdout",
     "output_type": "stream",
     "text": [
      "9\n",
      "deque([0, 1, 2, 3, 4, 5, 6, 7, 8, 7, 8, 7])\n",
      "deque([0, 1, 2, 3, 4, 5, 6, 7, 8, 7, 8, 7, 9])\n",
      "deque([-1, 0, 1, 2, 3, 4, 5, 6, 7, 8, 7, 8, 7, 9])\n",
      "deque([-1, 0, 1, 2, 3, 4, 5, 6, 7, 8, 7, 8, 7])\n",
      "deque([0, 1, 2, 3, 4, 5, 6, 7, 8, 7, 8, 7])\n",
      "deque([1, 2, 3, 4, 5, 6, 7, 8, 7, 8, 7])\n"
     ]
    }
   ],
   "source": [
    "# When removing or adding first element requires O(N)\n",
    "# collections.deque() is better\n",
    "import collections\n",
    "\n",
    "deque_ = collections.deque([0, 1, 2, 3, 4, 5, 6, 7, 7, 8, 7])\n",
    "\n",
    "# index(element, begin, end)\n",
    "# returns the first index of the element mentioned in arguments,\n",
    "# starting searching from begin till end index. : [begin, end)\n",
    "print(deque_.index(8, 5, 10)) # .index(8, 5, 9) : not found\n",
    "\n",
    "# Adding element\n",
    "# insert(i, a) :-\n",
    "# inserts the value mentioned in arguments(a) at index(i)\n",
    "deque_.insert(8, 8)\n",
    "print(deque_)\n",
    "\n",
    "deque_.append(9)\n",
    "print(deque_)\n",
    "\n",
    "deque_.appendleft(-1)\n",
    "print(deque_)\n",
    "\n",
    "\n",
    "# Removing element\n",
    "# delete element from right end\n",
    "deque_.pop()\n",
    "print(deque_)\n",
    "\n",
    "# delete element from left end\n",
    "deque_.popleft()\n",
    "print(deque_)\n",
    "\n",
    "# removes the first occurrence of the element\n",
    "deque_.remove(0)\n",
    "print(deque_)"
   ],
   "metadata": {
    "collapsed": false
   }
  },
  {
   "cell_type": "code",
   "execution_count": 35,
   "outputs": [
    {
     "name": "stdout",
     "output_type": "stream",
     "text": [
      "deque([1, 2, 3, 4, 5, 6, 7, 8, 7, 8, 7, 9, 10])\n",
      "deque([-3, -2, 1, 2, 3, 4, 5, 6, 7, 8, 7, 8, 7, 9, 10])\n",
      "deque([7, 9, 10, -3, -2, 1, 2, 3, 4, 5, 6, 7, 8, 7, 8])\n",
      "deque([-3, -2, 1, 2, 3, 4, 5, 6, 7, 8, 7, 8, 7, 9, 10])\n",
      "deque([10, 9, 7, 8, 7, 8, 7, 6, 5, 4, 3, 2, 1, -2, -3])\n"
     ]
    }
   ],
   "source": [
    "# .extend()\n",
    "deque_.extend([9, 10])\n",
    "print(deque_)\n",
    "\n",
    "# .extendleft()\n",
    "deque_.extendleft([-2, -3])\n",
    "print(deque_)\n",
    "\n",
    "# .rotate()\n",
    "# rotates by 3 to right\n",
    "deque_.rotate(3)\n",
    "print(deque_)\n",
    "# rotates by 3 to left\n",
    "deque_.rotate(-3)\n",
    "print(deque_)\n",
    "\n",
    "# .reverse()\n",
    "deque_.reverse()\n",
    "print(deque_)"
   ],
   "metadata": {
    "collapsed": false
   }
  },
  {
   "cell_type": "markdown",
   "source": [
    "\n",
    "# Dictionary"
   ],
   "metadata": {
    "collapsed": false
   }
  },
  {
   "cell_type": "code",
   "execution_count": 61,
   "outputs": [
    {
     "name": "stdout",
     "output_type": "stream",
     "text": [
      "{0: 'a', 1: 'b', 2: 'c', 3: 'd', 4: 'e', 5: 'f', 6: 'g', 7: 'h', 8: 'i'}\n",
      "dict_keys([0, 1, 2, 3, 4, 5, 6, 7, 8])\n",
      "dict_values(['a', 'b', 'c', 'd', 'e', 'f', 'g', 'h', 'i'])\n",
      "0 a\n",
      "1 b\n",
      "2 c\n",
      "3 d\n",
      "4 e\n",
      "5 f\n",
      "6 g\n",
      "7 h\n",
      "8 i\n",
      "0 0 a\n",
      "1 1 b\n",
      "2 2 c\n",
      "3 3 d\n",
      "4 4 e\n",
      "5 5 f\n",
      "6 6 g\n",
      "7 7 h\n",
      "8 8 i\n",
      "{'key1': 0, 'key2': 0, 'key3': 0}\n",
      "{'key1': None, 'key2': None, 'key3': None}\n",
      "{1: 'b', 2: 'c', 3: 'd', 4: 'e', 5: 'f', 6: 'g', 7: 'h', 8: 'i'}\n"
     ]
    }
   ],
   "source": [
    "dict_ = dict()\n",
    "\n",
    "input_string = \"abcdefghi\"\n",
    "for idx, s in enumerate(input_string):\n",
    "    dict_[idx] = s\n",
    "print(dict_)\n",
    "\n",
    "# dict_.copy()\n",
    "\n",
    "# get keys\n",
    "keys = dict_.keys()\n",
    "print(keys)\n",
    "\n",
    "# get values\n",
    "values = dict_.values()\n",
    "print(values)\n",
    "\n",
    "# iterate dictionary\n",
    "for key, values in dict_.items():\n",
    "    print(key, values)\n",
    "\n",
    "for idx, (key, values) in enumerate(dict_.items()):\n",
    "    print(idx, key, values)\n",
    "\n",
    "# dict.fromkeys(key, value)\n",
    "# returns a dictionary with the specified keys and the specified value\n",
    "keys = (\"key1\", \"key2\", \"key3\")\n",
    "default_value = 0\n",
    "new_dict = dict.fromkeys(keys, default_value)\n",
    "print(new_dict)\n",
    "new_dict = dict.fromkeys(keys) # without default value\n",
    "print(new_dict)\n",
    "\n",
    "# Delete element\n",
    "# dict_.pop(key)\n",
    "dict_.pop(0)\n",
    "print(dict_)"
   ],
   "metadata": {
    "collapsed": false
   }
  },
  {
   "cell_type": "markdown",
   "source": [
    "# Set"
   ],
   "metadata": {
    "collapsed": false
   }
  },
  {
   "cell_type": "code",
   "execution_count": 81,
   "outputs": [
    {
     "name": "stdout",
     "output_type": "stream",
     "text": [
      "{0, 1, 2}\n",
      "{0, 1, 2, 3}\n",
      "{0, 1, 2, 3, 4, 5, 6}\n",
      "0\n",
      "{1, 2, 3, 4, 5, 6}\n",
      "{2, 3, 4, 5, 6}\n",
      "{'d'}\n",
      "{'d'}\n",
      "{'e'}\n",
      "{'e'}\n",
      "{'b', 'c', 'e', 'd', 'a'}\n",
      "{'b', 'c', 'e', 'd', 'a'}\n",
      "{'b', 'c', 'e', 'd', 'a'}\n",
      "{'e', 'g', 'd', 'b', 'f', 'a', 'i', 'c'}\n",
      "{'b', 'i', 'c', 'e', 'g', 'd', 'a', 'f'}\n"
     ]
    }
   ],
   "source": [
    "set_ = set([0, 1, 2])\n",
    "print(set_)\n",
    "\n",
    "# set_.add()\n",
    "set_.add(3)\n",
    "print(set_)\n",
    "\n",
    "# set_.update(set_)\n",
    "set_added = set([4, 5, 6])\n",
    "set_.update(set_added)\n",
    "print(set_)\n",
    "\n",
    "# set_.pop()\n",
    "first_element = set_.pop()\n",
    "print(first_element)\n",
    "print(set_)\n",
    "\n",
    "# set_.remove(element)\n",
    "set_.remove(1)\n",
    "print(set_)\n",
    "\n",
    "# difference\n",
    "a = {\"a\", \"b\", \"c\", \"d\"}\n",
    "b = {\"a\", \"b\", \"c\", \"e\"}\n",
    "print(a.difference(b))\n",
    "print(a - b)\n",
    "print(b.difference(a))\n",
    "print(b - a)\n",
    "\n",
    "# union\n",
    "a = {\"a\", \"b\", \"c\", \"d\"}\n",
    "b = {\"a\", \"b\", \"c\", \"e\"}\n",
    "c = {\"f\", \"g\", 'i'}\n",
    "print(a.union(b))\n",
    "print(b.union(a))\n",
    "print(a | b)\n",
    "\n",
    "print(a.union(b).union(c))\n",
    "print(a.union(b, c))"
   ],
   "metadata": {
    "collapsed": false
   }
  },
  {
   "cell_type": "markdown",
   "source": [],
   "metadata": {
    "collapsed": false
   }
  }
 ],
 "metadata": {
  "kernelspec": {
   "display_name": "Python 3",
   "language": "python",
   "name": "python3"
  },
  "language_info": {
   "codemirror_mode": {
    "name": "ipython",
    "version": 2
   },
   "file_extension": ".py",
   "mimetype": "text/x-python",
   "name": "python",
   "nbconvert_exporter": "python",
   "pygments_lexer": "ipython2",
   "version": "2.7.6"
  }
 },
 "nbformat": 4,
 "nbformat_minor": 0
}
