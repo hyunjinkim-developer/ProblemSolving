{
 "cells": [
  {
   "cell_type": "markdown",
   "source": [
    "# Dictionary"
   ],
   "metadata": {
    "collapsed": false
   }
  },
  {
   "cell_type": "markdown",
   "source": [
    "# Object\n",
    "(ref. Chap4, p.115)\n",
    "- Python is composed of only 'object.'\n",
    "- C supports only 'primitive type.'\n",
    "- Java supports both 'primitive type' and 'object.'\n",
    "\n",
    "### Immutable Object\n",
    "bool/ int/ float/ tuple/ str\n",
    "<hr>\n",
    "\n",
    "### Mutable Object\n",
    "list/ set/ dict"
   ],
   "metadata": {
    "collapsed": false
   }
  },
  {
   "cell_type": "markdown",
   "source": [
    "## Handling exceptions for KeyError"
   ],
   "metadata": {
    "collapsed": false
   }
  },
  {
   "cell_type": "code",
   "execution_count": 10,
   "outputs": [
    {
     "data": {
      "text/plain": "{'key1': 'value1'}"
     },
     "metadata": {},
     "output_type": "display_data"
    },
    {
     "data": {
      "text/plain": "{'key1': 'value1', 'key2': 'value2'}"
     },
     "metadata": {},
     "output_type": "display_data"
    }
   ],
   "source": [
    "import collections\n",
    "\n",
    "# Add key, value pair in a dictionary\n",
    "\n",
    "a = {'key1': 'value1'}\n",
    "display(a)\n",
    "\n",
    "a['key2'] = 'value2'\n",
    "display(a)"
   ],
   "metadata": {
    "collapsed": false
   }
  },
  {
   "cell_type": "code",
   "execution_count": 8,
   "outputs": [
    {
     "ename": "KeyError",
     "evalue": "'key4'",
     "output_type": "error",
     "traceback": [
      "\u001B[0;31m---------------------------------------------------------------------------\u001B[0m",
      "\u001B[0;31mKeyError\u001B[0m                                  Traceback (most recent call last)",
      "Cell \u001B[0;32mIn[8], line 3\u001B[0m\n\u001B[1;32m      1\u001B[0m \u001B[38;5;66;03m# search key that does not exist\u001B[39;00m\n\u001B[1;32m      2\u001B[0m \u001B[38;5;66;03m# return error key does not exist in the dictionary\u001B[39;00m\n\u001B[0;32m----> 3\u001B[0m display(\u001B[43ma\u001B[49m\u001B[43m[\u001B[49m\u001B[38;5;124;43m'\u001B[39;49m\u001B[38;5;124;43mkey4\u001B[39;49m\u001B[38;5;124;43m'\u001B[39;49m\u001B[43m]\u001B[49m)\n",
      "\u001B[0;31mKeyError\u001B[0m: 'key4'"
     ]
    }
   ],
   "source": [
    "# search key that does not exist\n",
    "# return error key does not exist in the dictionary\n",
    "display(a['key4'])"
   ],
   "metadata": {
    "collapsed": false
   }
  },
  {
   "cell_type": "code",
   "execution_count": 9,
   "outputs": [
    {
     "ename": "KeyError",
     "evalue": "'key4'",
     "output_type": "error",
     "traceback": [
      "\u001B[0;31m---------------------------------------------------------------------------\u001B[0m",
      "\u001B[0;31mKeyError\u001B[0m                                  Traceback (most recent call last)",
      "Cell \u001B[0;32mIn[9], line 2\u001B[0m\n\u001B[1;32m      1\u001B[0m \u001B[38;5;66;03m# delete key that does not exist\u001B[39;00m\n\u001B[0;32m----> 2\u001B[0m \u001B[38;5;28;01mdel\u001B[39;00m a[\u001B[38;5;124m'\u001B[39m\u001B[38;5;124mkey4\u001B[39m\u001B[38;5;124m'\u001B[39m]\n\u001B[1;32m      3\u001B[0m display(a)\n",
      "\u001B[0;31mKeyError\u001B[0m: 'key4'"
     ]
    }
   ],
   "source": [
    "# delete key that does not exist\n",
    "del a['key4']\n",
    "display(a)"
   ],
   "metadata": {
    "collapsed": false
   }
  },
  {
   "cell_type": "markdown",
   "source": [
    "# Iterate over a dictionary"
   ],
   "metadata": {
    "collapsed": false
   }
  },
  {
   "cell_type": "code",
   "execution_count": 15,
   "outputs": [
    {
     "data": {
      "text/plain": "{'key1': 'value1', 'key3': 'value3', 'key2': 'value2'}"
     },
     "metadata": {},
     "output_type": "display_data"
    },
    {
     "name": "stdout",
     "output_type": "stream",
     "text": [
      "key1 value1\n",
      "key3 value3\n",
      "key2 value2\n"
     ]
    }
   ],
   "source": [
    "# dictionary's keys/values are in the same order as declared from Python 3.7 onwards\n",
    "a = {'key1': 'value1', 'key3': 'value3'}\n",
    "a['key2'] = 'value2'\n",
    "display(a)\n",
    "\n",
    "for key, value in a.items():\n",
    "    print(key, value)"
   ],
   "metadata": {
    "collapsed": false
   }
  },
  {
   "cell_type": "markdown",
   "source": [
    "## collections.defaultdict"
   ],
   "metadata": {
    "collapsed": false
   }
  },
  {
   "cell_type": "code",
   "execution_count": 22,
   "outputs": [
    {
     "data": {
      "text/plain": "defaultdict(int, {'key': 1})"
     },
     "metadata": {},
     "output_type": "display_data"
    },
    {
     "data": {
      "text/plain": "defaultdict(str, {'key': 'a'})"
     },
     "metadata": {},
     "output_type": "display_data"
    }
   ],
   "source": [
    "import collections\n",
    "\n",
    "i = collections.defaultdict(int) # default : integer 0\n",
    "i['key'] += 1\n",
    "display(i)\n",
    "\n",
    "a = collections.defaultdict(str) # default : \"\" (empty string)\n",
    "a['key'] += \"a\"\n",
    "display(a)"
   ],
   "metadata": {
    "collapsed": false
   }
  },
  {
   "cell_type": "markdown",
   "source": [
    "## collections.Counter"
   ],
   "metadata": {
    "collapsed": false
   }
  },
  {
   "cell_type": "code",
   "execution_count": 23,
   "outputs": [
    {
     "data": {
      "text/plain": "Counter({1: 1, 2: 2, 3: 3})"
     },
     "metadata": {},
     "output_type": "display_data"
    },
    {
     "name": "stdout",
     "output_type": "stream",
     "text": [
      "<class 'collections.Counter'>\n"
     ]
    }
   ],
   "source": [
    "import collections\n",
    "\n",
    "a = [1, 2, 2, 3, 3, 3]\n",
    "\n",
    "b = collections.Counter(a)\n",
    "display(b)\n",
    "print(type(b))"
   ],
   "metadata": {
    "collapsed": false
   }
  },
  {
   "cell_type": "code",
   "execution_count": 28,
   "outputs": [
    {
     "data": {
      "text/plain": "[(3, 3), (4, 3)]"
     },
     "metadata": {},
     "output_type": "display_data"
    },
    {
     "name": "stdout",
     "output_type": "stream",
     "text": [
      "<class 'collections.Counter'>\n",
      "(4, 3)\n"
     ]
    }
   ],
   "source": [
    "# find most common key, value pair\n",
    "a = [1,  2, 2,  3, 3, 3,  4, 4, 4]\n",
    "b = collections.Counter(a)\n",
    "\n",
    "display(b.most_common(2))\n",
    "print(type(b))\n",
    "\n",
    "print(b.most_common(2)[1])"
   ],
   "metadata": {
    "collapsed": false
   }
  },
  {
   "cell_type": "code",
   "execution_count": 12,
   "outputs": [
    {
     "name": "stdout",
     "output_type": "stream",
     "text": [
      "Counter({3: 3, 2: 2, 1: 1})\n",
      "{1: 1, 2: 2, 3: 3}\n",
      "{3: 3, 2: 2, 1: 1}\n"
     ]
    }
   ],
   "source": [
    "# Sort dictionary\n",
    "# collections.Counter() sorted by values\n",
    "\n",
    "import collections\n",
    "\n",
    "a = [1, 2, 2, 3, 3, 3]\n",
    "counter = collections.Counter(a)\n",
    "\n",
    "# counter.items() returns key, value\n",
    "sorted_by_values_asc = dict(sorted(counter.items(), key=lambda item: item[1])) # item[1] means values of the dictionary\n",
    "sorted_by_values_desc = dict(sorted(counter.items(), key=lambda item: item[1], reverse=True))\n",
    "\n",
    "print(counter)\n",
    "print(sorted_by_values_asc)\n",
    "print(sorted_by_values_desc)"
   ],
   "metadata": {
    "collapsed": false
   }
  },
  {
   "cell_type": "markdown",
   "source": [
    "## collections.OrderedDict\n",
    "- guarantee the declared order\n",
    "- useful until Python 3.6"
   ],
   "metadata": {
    "collapsed": false
   }
  },
  {
   "cell_type": "code",
   "execution_count": 29,
   "outputs": [
    {
     "data": {
      "text/plain": "OrderedDict([('banana', 3), ('apple', 4), ('pear', 1), ('orange', 2)])"
     },
     "execution_count": 29,
     "metadata": {},
     "output_type": "execute_result"
    }
   ],
   "source": [
    "import collections\n",
    "\n",
    "collections.OrderedDict({'banana': 3, 'apple': 4, 'pear': 1, 'orange': 2})"
   ],
   "metadata": {
    "collapsed": false
   }
  },
  {
   "cell_type": "markdown",
   "source": [
    "## [dictionary].values()"
   ],
   "metadata": {
    "collapsed": false
   }
  },
  {
   "cell_type": "code",
   "execution_count": 3,
   "outputs": [
    {
     "name": "stdout",
     "output_type": "stream",
     "text": [
      "<class 'dict_values'>\n",
      "dict_values([1, 2, 3])\n",
      "------------------------------\n",
      "<class 'list'>\n",
      "[1, 2, 3]\n"
     ]
    }
   ],
   "source": [
    "# [dictionary].values() : extract values from dictionary\n",
    "dict = {\"a\": 1, \"b\": 2, \"c\": 3}\n",
    "\n",
    "dict_values = dict.values()\n",
    "print(type(dict_values))\n",
    "print(dict_values)\n",
    "\n",
    "print('-'*30)\n",
    "\n",
    "# convert extracted values into list\n",
    "list_dict_values = list(dict.values())\n",
    "print(type(list_dict_values))\n",
    "print(list_dict_values)"
   ],
   "metadata": {
    "collapsed": false
   }
  },
  {
   "cell_type": "code",
   "execution_count": 9,
   "outputs": [
    {
     "name": "stdout",
     "output_type": "stream",
     "text": [
      "{'a': 1, 'b': 2, 'c': 3}\n",
      "dict_keys(['a', 'b', 'c']) dict_values([1, 2, 3])\n",
      "<class 'dict_keys'> <class 'list'> a\n",
      "<class 'dict_values'> <class 'list'> 1\n"
     ]
    }
   ],
   "source": [
    "# Create dictionary with zip()\n",
    "# Split keys and values with .keys(), .values()\n",
    "\n",
    "key_list = ['a', 'b', 'c']\n",
    "value_list = [1, 2, 3]\n",
    "\n",
    "dictionary = dict(zip(key_list, value_list))\n",
    "print(dictionary)\n",
    "\n",
    "split_keys = dictionary.keys()\n",
    "split_values = dictionary.values()\n",
    "print(split_keys, split_values)\n",
    "\n",
    "print(type(split_keys), type(list(split_keys)), list(split_keys)[0])\n",
    "print(type(split_values), type(list(split_values)), list(split_values)[0])"
   ],
   "metadata": {
    "collapsed": false
   }
  },
  {
   "cell_type": "code",
   "execution_count": null,
   "outputs": [],
   "source": [],
   "metadata": {
    "collapsed": false
   }
  }
 ],
 "metadata": {
  "kernelspec": {
   "display_name": "Python 3",
   "language": "python",
   "name": "python3"
  },
  "language_info": {
   "codemirror_mode": {
    "name": "ipython",
    "version": 2
   },
   "file_extension": ".py",
   "mimetype": "text/x-python",
   "name": "python",
   "nbconvert_exporter": "python",
   "pygments_lexer": "ipython2",
   "version": "2.7.6"
  }
 },
 "nbformat": 4,
 "nbformat_minor": 0
}
