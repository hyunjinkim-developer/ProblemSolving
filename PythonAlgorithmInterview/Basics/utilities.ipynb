{
 "cells": [
  {
   "cell_type": "markdown",
   "source": [
    "# Round Down/ Round Up/ Round/"
   ],
   "metadata": {
    "collapsed": false
   }
  },
  {
   "cell_type": "code",
   "execution_count": 2,
   "outputs": [
    {
     "name": "stdout",
     "output_type": "stream",
     "text": [
      "3\n",
      "4\n",
      "3.14\n"
     ]
    }
   ],
   "source": [
    "import math, cmath\n",
    "\n",
    "target_number = cmath.pi\n",
    "\n",
    "# 내림\n",
    "print(math.floor(target_number))\n",
    "\n",
    "# 올림\n",
    "print(math.ceil(target_number))\n",
    "\n",
    "# 반올림\n",
    "print(round(target_number, 2))"
   ],
   "metadata": {
    "collapsed": false
   }
  },
  {
   "cell_type": "markdown",
   "source": [
    "# Time Conversion"
   ],
   "metadata": {
    "collapsed": false
   }
  },
  {
   "cell_type": "code",
   "execution_count": 2,
   "outputs": [
    {
     "name": "stdout",
     "output_type": "stream",
     "text": [
      "5 50\n"
     ]
    }
   ],
   "source": [
    "# Time conversion\n",
    "\n",
    "seconds = 350\n",
    "m, s = divmod(seconds, 60)\n",
    "print(m, s)"
   ],
   "metadata": {
    "collapsed": false
   }
  },
  {
   "cell_type": "markdown",
   "source": [
    "# Handle strings"
   ],
   "metadata": {
    "collapsed": false
   }
  },
  {
   "cell_type": "code",
   "execution_count": 7,
   "outputs": [
    {
     "name": "stdout",
     "output_type": "stream",
     "text": [
      "True\n",
      "False\n",
      "True\n",
      "False\n",
      "True\n"
     ]
    }
   ],
   "source": [
    "# Check whether the character is an alphabet\n",
    "\n",
    "# Using .isalpha()\n",
    "print(\"a\".isalpha())\n",
    "print(\"0\".isalpha())\n",
    "\n",
    "# Using ascii code\n",
    "print(\"a\" <= \"c\" <= 'z')\n",
    "print(\"A\" <= \"c\" <= 'Z')\n",
    "print(\"A\" <= \"C\" <= 'Z')"
   ],
   "metadata": {
    "collapsed": false
   }
  },
  {
   "cell_type": "code",
   "execution_count": null,
   "outputs": [],
   "source": [
    "# Check whether the character is a number\n",
    "\n",
    "print(\"0\".isnumeric())"
   ],
   "metadata": {
    "collapsed": false
   }
  },
  {
   "cell_type": "code",
   "execution_count": 28,
   "outputs": [
    {
     "name": "stdout",
     "output_type": "stream",
     "text": [
      "True\n",
      "True\n",
      "ABCDE -> abcde\n",
      "abcde -> ABCDE\n"
     ]
    }
   ],
   "source": [
    "# Find lower case, upper case\n",
    "lower_a = 'a'\n",
    "print(lower_a.islower())\n",
    "\n",
    "upper_a = 'A'\n",
    "print(upper_a.isupper())\n",
    "\n",
    "# Convert into lower case upper case\n",
    "convert_to_lower_case = \"ABCDE\"\n",
    "print(f\"{convert_to_lower_case} -> {convert_to_lower_case.lower()}\")\n",
    "\n",
    "convert_to_upper_case = \"abcde\"\n",
    "print(f\"{convert_to_upper_case} -> {convert_to_upper_case.upper()}\")"
   ],
   "metadata": {
    "collapsed": false
   }
  },
  {
   "cell_type": "code",
   "execution_count": 1,
   "outputs": [
    {
     "name": "stdout",
     "output_type": "stream",
     "text": [
      "7\n"
     ]
    }
   ],
   "source": [
    "# Length of string\n",
    "\n",
    "s = \"abcdefg\"\n",
    "print(len(s))"
   ],
   "metadata": {
    "collapsed": false
   }
  },
  {
   "cell_type": "code",
   "execution_count": 11,
   "outputs": [
    {
     "name": "stdout",
     "output_type": "stream",
     "text": [
      ".count(): 1\n",
      ".find(): 3\n",
      ".find(): -1\n",
      ".index(): 3\n",
      ".rfind(): 0\n"
     ]
    }
   ],
   "source": [
    "# Find substring in string\n",
    "\n",
    "s = \"abbcccddddeeeee\"\n",
    "\n",
    "print(f\".count(): {s.count('a')}\")\n",
    "\n",
    "# .find() , .index() 공통점 : 문자열 내에서 찾을 값이 처음 나타나는 위치를 탐색함\n",
    "# .find() , .index() : 문자열 내 찾을 값가 없는 경우 find는 -1 출력, ValueError: substring not found 발생\n",
    "# string.find(substring, start_index, end_index)\n",
    "print(f\".find(): {s.find('c', 0, 10)}\") # return first index where substring found\n",
    "print(f\".find(): {s.find('z', 0, 10)}\") # return -1\n",
    "# string.index(substring, start_index, end_index)\n",
    "print(f\".index(): {s.index('c', 0, 10)}\") # return first index where substring found\n",
    "# print(f\".index(): {s.index('z', 0, 10)}\") # ValueError: substring not found\n",
    "\n",
    "# .rfind() :\n",
    "# finds the last occurrence of the specified value.\n",
    "# returns -1 if the value is not found.\n",
    "print(f\".rfind(): {s.rfind('a')}\")"
   ],
   "metadata": {
    "collapsed": false
   }
  },
  {
   "cell_type": "code",
   "execution_count": 20,
   "outputs": [
    {
     "name": "stdout",
     "output_type": "stream",
     "text": [
      "['apple', 'banana', 'cherry', 'orange']\n",
      "['apple', 'banana#cherry#orange']\n",
      "name/country\n",
      "John/Norway\n"
     ]
    }
   ],
   "source": [
    "# string.split(separator, maxsplit): Split string\n",
    "txt = \"apple#banana#cherry#orange\"\n",
    "print(txt.split(\"#\"))\n",
    "print(txt.split(\"#\", 1))\n",
    "\n",
    "# string.join(iterable)\n",
    "myDict = {\"name\": \"John\", \"country\": \"Norway\"}\n",
    "mySeparator = \"/\"\n",
    "print(mySeparator.join(myDict))\n",
    "print(mySeparator.join(myDict.values()))"
   ],
   "metadata": {
    "collapsed": false
   }
  },
  {
   "cell_type": "code",
   "execution_count": 22,
   "outputs": [
    {
     "name": "stdout",
     "output_type": "stream",
     "text": [
      ".replace(): a/b/c/d/e\n",
      ".replace(): a|b|c,d,e\n"
     ]
    }
   ],
   "source": [
    "# string.replace(oldvalue, newvalue, count)\n",
    "\n",
    "s = \"a,b,c,d,e\"\n",
    "print(f\".replace(): {s.replace(',', '/')}\")\n",
    "print(f\".replace(): {s.replace(',', '|', 2)}\")"
   ],
   "metadata": {
    "collapsed": false
   }
  },
  {
   "cell_type": "code",
   "execution_count": 35,
   "outputs": [
    {
     "name": "stdout",
     "output_type": "stream",
     "text": [
      "abc\n",
      "abc   \n",
      "   abc\n",
      "----------\n",
      "abc\n",
      "abc***\n",
      "*****abc\n",
      "----------\n",
      "abc\n",
      "abc111\n",
      "12321abc\n"
     ]
    }
   ],
   "source": [
    "# string.strip(characters) :\n",
    "# can specify which character(s) to remove, if not, any whitespaces will be removed\n",
    "\n",
    "# string.lstrip(characters) :\n",
    "# removes any leading characters (space is the default leading character to remove)\n",
    "\n",
    "# string.rstrip(characters) :\n",
    "# removes any trailing characters (characters at the end a string), space is the default trailing character to remove.\n",
    "\n",
    "s = '   abc   '\n",
    "print(s.strip())\n",
    "print(s.lstrip())\n",
    "print(s.rstrip())\n",
    "print('-'*10)\n",
    "\n",
    "s = '*****abc***'\n",
    "print(s.strip(\"*\"))\n",
    "print(s.lstrip(\"*\"))\n",
    "print(s.rstrip(\"*\"))\n",
    "print('-'*10)\n",
    "\n",
    "s = \"12321abc111\"\n",
    "print(s.strip('123'))\n",
    "print(s.lstrip('123'))\n",
    "print(s.rstrip('123'))"
   ],
   "metadata": {
    "collapsed": false
   }
  },
  {
   "cell_type": "code",
   "execution_count": 40,
   "outputs": [
    {
     "name": "stdout",
     "output_type": "stream",
     "text": [
      "0000000abc\n",
      "abc\n",
      "*******abc\n",
      "abc*******\n",
      "***abc****\n"
     ]
    }
   ],
   "source": [
    "# string.zfill(len) :\n",
    "# adds zeros (0) at the beginning of the string, until it reaches the specified length\n",
    "# the value of the len parameter is less than the length of the string, no filling is done\n",
    "s = 'abc'\n",
    "print(s.zfill(10))\n",
    "print(s.zfill(1))\n",
    "\n",
    "# string.rjust(length, character) :\n",
    "s = \"abc\"\n",
    "print(s.rjust(10, \"*\")) # right align the string, using a specified character (space is default) as the fill character\n",
    "print(s.ljust(10, \"*\")) # left align the string\n",
    "print(s.center(10, \"*\")) # center align the string"
   ],
   "metadata": {
    "collapsed": false
   }
  },
  {
   "cell_type": "code",
   "execution_count": null,
   "outputs": [],
   "source": [],
   "metadata": {
    "collapsed": false
   }
  }
 ],
 "metadata": {
  "kernelspec": {
   "display_name": "Python 3",
   "language": "python",
   "name": "python3"
  },
  "language_info": {
   "codemirror_mode": {
    "name": "ipython",
    "version": 2
   },
   "file_extension": ".py",
   "mimetype": "text/x-python",
   "name": "python",
   "nbconvert_exporter": "python",
   "pygments_lexer": "ipython2",
   "version": "2.7.6"
  }
 },
 "nbformat": 4,
 "nbformat_minor": 0
}
