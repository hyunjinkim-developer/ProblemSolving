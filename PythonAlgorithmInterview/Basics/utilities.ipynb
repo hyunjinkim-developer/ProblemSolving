{
 "cells": [
  {
   "cell_type": "code",
   "execution_count": 2,
   "outputs": [
    {
     "name": "stdout",
     "output_type": "stream",
     "text": [
      "3\n",
      "4\n",
      "3.14\n"
     ]
    }
   ],
   "source": [
    "import math, cmath\n",
    "\n",
    "target_number = cmath.pi\n",
    "\n",
    "# 내림\n",
    "print(math.floor(target_number))\n",
    "\n",
    "# 올림\n",
    "print(math.ceil(target_number))\n",
    "\n",
    "# 반올림\n",
    "print(round(target_number, 2))"
   ],
   "metadata": {
    "collapsed": false
   }
  },
  {
   "cell_type": "code",
   "execution_count": 7,
   "outputs": [
    {
     "name": "stdout",
     "output_type": "stream",
     "text": [
      "True\n",
      "False\n",
      "True\n",
      "False\n",
      "True\n"
     ]
    }
   ],
   "source": [
    "# Check whether the character is an alphabet\n",
    "\n",
    "# Using .isalpha()\n",
    "print(\"a\".isalpha())\n",
    "print(\"0\".isalpha())\n",
    "\n",
    "# Using ascii code\n",
    "print(\"a\" <= \"c\" <= 'z')\n",
    "print(\"A\" <= \"c\" <= 'Z')\n",
    "print(\"A\" <= \"C\" <= 'Z')"
   ],
   "metadata": {
    "collapsed": false
   }
  },
  {
   "cell_type": "code",
   "execution_count": null,
   "outputs": [],
   "source": [
    "# Check whether the character is a number\n",
    "\n",
    "print(\"0\".isnumeric())"
   ],
   "metadata": {
    "collapsed": false
   }
  }
 ],
 "metadata": {
  "kernelspec": {
   "display_name": "Python 3",
   "language": "python",
   "name": "python3"
  },
  "language_info": {
   "codemirror_mode": {
    "name": "ipython",
    "version": 2
   },
   "file_extension": ".py",
   "mimetype": "text/x-python",
   "name": "python",
   "nbconvert_exporter": "python",
   "pygments_lexer": "ipython2",
   "version": "2.7.6"
  }
 },
 "nbformat": 4,
 "nbformat_minor": 0
}
