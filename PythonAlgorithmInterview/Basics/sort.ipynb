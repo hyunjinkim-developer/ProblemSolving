{
 "cells": [
  {
   "cell_type": "markdown",
   "source": [
    "# Sorting\n",
    "built-in soting algorithms are based on <b><a href=https://d2.naver.com/helloworld/0315536>timsort</a></b>\n",
    "- 전체를 작은 덩어리로 잘라 각각의 덩어리를 Insertion sort로 정렬한 뒤 병합하는 것이 기본 아이디어\n"
   ],
   "metadata": {
    "collapsed": false
   }
  },
  {
   "cell_type": "markdown",
   "source": [
    "## sorted()"
   ],
   "metadata": {
    "collapsed": false
   }
  },
  {
   "cell_type": "code",
   "execution_count": 5,
   "metadata": {
    "collapsed": true
   },
   "outputs": [
    {
     "data": {
      "text/plain": "[1, 2, 3, 4, 5]"
     },
     "metadata": {},
     "output_type": "display_data"
    },
    {
     "name": "stdout",
     "output_type": "stream",
     "text": [
      "['d', 'o', 'r', 'w']\n",
      "dorw\n"
     ]
    },
    {
     "data": {
      "text/plain": "['apple', 'car', 'house', 'tuition', 'yacht']"
     },
     "metadata": {},
     "output_type": "display_data"
    }
   ],
   "source": [
    "# sorted() : sort list/ numbers/ characters\n",
    "\n",
    "# sort numbers\n",
    "numbers = [2, 4, 5, 3, 1]\n",
    "display(sorted(numbers))\n",
    "\n",
    "# sort characters\n",
    "word = \"word\"\n",
    "print(sorted(word))\n",
    "# convert list of sorted characters into string\n",
    "print(\"\".join(sorted(word)))\n",
    "\n",
    "# sort list\n",
    "list = [\"yacht\", \"car\", \"house\", \"tuition\", \"apple\"]\n",
    "display(sorted(list))"
   ]
  },
  {
   "cell_type": "code",
   "execution_count": 10,
   "outputs": [
    {
     "name": "stdout",
     "output_type": "stream",
     "text": [
      "['e', 'b', 'dd', 'ccc', 'aaaaa']\n"
     ]
    }
   ],
   "source": [
    "# set key for sorting\n",
    "\n",
    "list = [\"e\", \"dd\", \"aaaaa\", \"ccc\", \"b\"]\n",
    "output = sorted(list, key=len)\n",
    "print(output)"
   ],
   "metadata": {
    "collapsed": false
   }
  },
  {
   "cell_type": "code",
   "execution_count": 18,
   "outputs": [
    {
     "name": "stdout",
     "output_type": "stream",
     "text": [
      "['abc', 'cfc', 'cde']\n"
     ]
    },
    {
     "data": {
      "text/plain": "['abc', 'cde', 'cfc']"
     },
     "metadata": {},
     "output_type": "display_data"
    }
   ],
   "source": [
    "# sort with function (set key as function)\n",
    "\n",
    "def fn(s):\n",
    "    return s[0], s[-1]\n",
    "\n",
    "list = ['cde', 'cfc', 'abc']\n",
    "\n",
    "print(sorted(list, key=fn))\n",
    "# sort with first letter,\n",
    "# if the same, sort with last letter\n",
    "\n",
    "display(sorted(list))"
   ],
   "metadata": {
    "collapsed": false
   }
  },
  {
   "cell_type": "markdown",
   "source": [
    "## .sort()"
   ],
   "metadata": {
    "collapsed": false
   }
  },
  {
   "cell_type": "code",
   "execution_count": 8,
   "outputs": [
    {
     "data": {
      "text/plain": "['apple', 'car', 'house', 'tuition', 'yacht']"
     },
     "metadata": {},
     "output_type": "display_data"
    },
    {
     "data": {
      "text/plain": "None"
     },
     "metadata": {},
     "output_type": "display_data"
    }
   ],
   "source": [
    "# sort() : in-place sort (replace input with output, no return value)\n",
    "\n",
    "list = [\"yacht\", \"car\", \"house\", \"tuition\", \"apple\"]\n",
    "\n",
    "list.sort()\n",
    "display(list)\n",
    "\n",
    "output = list.sort() # .sort() returns None\n",
    "display(output)"
   ],
   "metadata": {
    "collapsed": false
   }
  },
  {
   "cell_type": "markdown",
   "source": [
    "## Dictionary sort by values"
   ],
   "metadata": {
    "collapsed": false
   }
  },
  {
   "cell_type": "code",
   "execution_count": 4,
   "outputs": [
    {
     "name": "stdout",
     "output_type": "stream",
     "text": [
      "defaultdict(<class 'int'>, {'classic': 1450, 'pop': 3100})\n",
      "{'pop': 3100, 'classic': 1450}\n"
     ]
    }
   ],
   "source": [
    "import collections\n",
    "\n",
    "genres = [\"classic\", \"pop\", \"classic\", \"classic\", \"pop\"]\n",
    "plays = [500, 600, 150, 800, 2500]\n",
    "\n",
    "def sort_dictionary(genres, plays):\n",
    "    # Calculate each genres' sum of plays\n",
    "    genres_type = set(genres)\n",
    "    playes_per_genre = collections.defaultdict(int)\n",
    "    for idx in range(len(genres)):\n",
    "        playes_per_genre[genres[idx]] += plays[idx]\n",
    "    print(playes_per_genre)\n",
    "\n",
    "    # Sort by sum of plays (DESC order)\n",
    "    # sort by values of dictionary:\n",
    "    # plays_per_genre.items() returns key, value pair\n",
    "    # -> put item[1] (values of the dictionary) inside the key parameter of sorted()\n",
    "    # convert the result into dictionary\n",
    "    sorted_plays_per_genre = dict(sorted(playes_per_genre.items(), key=lambda item: item[1], reverse=True))\n",
    "    print(sorted_plays_per_genre)\n",
    "\n",
    "sort_dictionary(genres, plays)"
   ],
   "metadata": {
    "collapsed": false
   }
  },
  {
   "cell_type": "markdown",
   "source": [
    "## Customized sort"
   ],
   "metadata": {
    "collapsed": false
   }
  },
  {
   "cell_type": "code",
   "execution_count": 8,
   "outputs": [
    {
     "name": "stdout",
     "output_type": "stream",
     "text": [
      "[(5, 900), (4, 700), (0, 500), (3, 500), (2, 150)]\n"
     ]
    }
   ],
   "source": [
    "# Sort by numbers of plays first in DESC, then sort with index in ASC\n",
    "# items[1] : numbers of plays\n",
    "# items[0] : index of each song\n",
    "def custom_sort(items):\n",
    "    return items[1] * -1,  items[0]\n",
    "\n",
    "plays_dict = {0: 500, 2: 150, 3: 500, 4: 700, 5: 900} # [idx of songs]: [numbers of plays]\n",
    "\n",
    "sorted_plays_dict = sorted(plays_dict.items(), key=custom_sort)\n",
    "print(sorted_plays_dict)"
   ],
   "metadata": {
    "collapsed": false
   }
  },
  {
   "cell_type": "code",
   "execution_count": null,
   "outputs": [],
   "source": [],
   "metadata": {
    "collapsed": false
   }
  }
 ],
 "metadata": {
  "kernelspec": {
   "display_name": "Python 3",
   "language": "python",
   "name": "python3"
  },
  "language_info": {
   "codemirror_mode": {
    "name": "ipython",
    "version": 2
   },
   "file_extension": ".py",
   "mimetype": "text/x-python",
   "name": "python",
   "nbconvert_exporter": "python",
   "pygments_lexer": "ipython2",
   "version": "2.7.6"
  }
 },
 "nbformat": 4,
 "nbformat_minor": 0
}
