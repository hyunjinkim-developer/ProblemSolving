{
 "cells": [
  {
   "cell_type": "markdown",
   "source": [
    "# To find minimum, maximum (compare value)\n",
    "- <s>sys.maxsize</s> : python supports arbitrary-precision, so it can define inifinite number\n",
    "- float(\"inf\")\n",
    "- <b>Setting value based on limitation of the algorithm problem</a> is the saftest while solving the problem"
   ],
   "metadata": {
    "collapsed": false
   }
  },
  {
   "cell_type": "code",
   "execution_count": 2,
   "metadata": {
    "collapsed": true
   },
   "outputs": [
    {
     "name": "stdout",
     "output_type": "stream",
     "text": [
      "-9223372036854775807 9223372036854775807\n"
     ]
    }
   ],
   "source": [
    "# using sys module\n",
    "\n",
    "import sys\n",
    "\n",
    "max_value = -sys.maxsize # smallest number of the system\n",
    "min_value = sys.maxsize # biggest number of the system\n",
    "\n",
    "print(max_value, min_value)"
   ]
  },
  {
   "cell_type": "code",
   "execution_count": 6,
   "outputs": [
    {
     "name": "stdout",
     "output_type": "stream",
     "text": [
      "-inf inf\n"
     ]
    }
   ],
   "source": [
    "# using float(\"inf\") value\n",
    "\n",
    "max_value = float(\"-inf\")\n",
    "min_value = float(\"inf\")\n",
    "\n",
    "print(max_value, min_value)"
   ],
   "metadata": {
    "collapsed": false
   }
  },
  {
   "cell_type": "code",
   "execution_count": 7,
   "outputs": [
    {
     "name": "stdout",
     "output_type": "stream",
     "text": [
      "10\n"
     ]
    }
   ],
   "source": [
    "# cf.) python ternary operator\n",
    "# [condition] ? [true_value] : [false_value] is not supported in python\n",
    "# [true_value] if [condition] else [false_value] is available\n",
    "\n",
    "compare = 10\n",
    "print(compare if compare > max_value else max_value)"
   ],
   "metadata": {
    "collapsed": false
   }
  },
  {
   "cell_type": "markdown",
   "source": [
    "# functools: function that deals functions"
   ],
   "metadata": {
    "collapsed": false
   }
  },
  {
   "cell_type": "markdown",
   "source": [
    "## functools.reduce()\n",
    ": reduce(fun,seq) function is used to apply a particular function passed in its argument to all of the list elements mentioned in the sequence passed along."
   ],
   "metadata": {
    "collapsed": false
   }
  },
  {
   "cell_type": "code",
   "execution_count": 1,
   "outputs": [
    {
     "name": "stdout",
     "output_type": "stream",
     "text": [
      "15\n",
      "edcba\n",
      "12345\n"
     ]
    }
   ],
   "source": [
    "# functools.reduce()\n",
    "# functools: function that deals functions\n",
    "# reduce(): implement the function through iterator\n",
    "\n",
    "import functools\n",
    "\n",
    "a = [1, 2, 3, 4, 5]\n",
    "print(functools.reduce(lambda x, y: x + y, a))\n",
    "# ((((1 + 2) + 3) + 4) + 5)\n",
    "# y becomes next iteration's x\n",
    "\n",
    "b = \"abcde\"\n",
    "print(functools.reduce(lambda x, y: y + x, b))\n",
    "\n",
    "c = [1, 2, 3, 4, 5]\n",
    "print(functools.reduce(lambda x, y: 10 * x + y, c))"
   ],
   "metadata": {
    "collapsed": false
   }
  },
  {
   "cell_type": "markdown",
   "source": [
    "## functools.reduce() with operator module"
   ],
   "metadata": {
    "collapsed": false
   }
  },
  {
   "cell_type": "code",
   "execution_count": 2,
   "outputs": [
    {
     "name": "stdout",
     "output_type": "stream",
     "text": [
      "15\n",
      "120\n"
     ]
    }
   ],
   "source": [
    "# Using operator module\n",
    "\n",
    "import functools\n",
    "from operator import add, mul\n",
    "\n",
    "# add through iterator\n",
    "print(functools.reduce(add, [1, 2, 3, 4, 5]))\n",
    "\n",
    "# multiply through iterator\n",
    "print(functools.reduce(mul, [1, 2, 3, 4, 5]))"
   ],
   "metadata": {
    "collapsed": false
   }
  },
  {
   "cell_type": "code",
   "execution_count": 4,
   "outputs": [
    {
     "name": "stdout",
     "output_type": "stream",
     "text": [
      "[1, 2, 3, 4, 5, 6, 7, 8, 9]\n"
     ]
    }
   ],
   "source": [
    "# Convert 2-dimensional list to 1-dimensional list\n",
    "\n",
    "from functools import reduce\n",
    "import operator\n",
    "\n",
    "dim2 = [[1, 2, 3], [4, 5, 6], [7, 8], [9]]\n",
    "dim1 = list(reduce(operator.add, dim2))\n",
    "\n",
    "print(dim1)"
   ],
   "metadata": {
    "collapsed": false
   }
  },
  {
   "cell_type": "markdown",
   "source": [
    "# itertools"
   ],
   "metadata": {
    "collapsed": false
   }
  },
  {
   "cell_type": "markdown",
   "source": [
    "## itertools.combinations(iterable, r)"
   ],
   "metadata": {
    "collapsed": false
   }
  },
  {
   "cell_type": "code",
   "execution_count": 14,
   "outputs": [
    {
     "name": "stdout",
     "output_type": "stream",
     "text": [
      "[('A', 'B'), ('A', 'C'), ('A', 'D'), ('B', 'C'), ('B', 'D'), ('C', 'D')]\n"
     ]
    },
    {
     "ename": "TypeError",
     "evalue": "combinations() missing required argument 'r' (pos 2)",
     "output_type": "error",
     "traceback": [
      "\u001B[0;31m---------------------------------------------------------------------------\u001B[0m",
      "\u001B[0;31mTypeError\u001B[0m                                 Traceback (most recent call last)",
      "Cell \u001B[0;32mIn[14], line 7\u001B[0m\n\u001B[1;32m      4\u001B[0m combinations_list \u001B[38;5;241m=\u001B[39m \u001B[38;5;28mlist\u001B[39m(combinations(iterable, \u001B[38;5;241m2\u001B[39m)) \u001B[38;5;66;03m# len(iterable) C r\u001B[39;00m\n\u001B[1;32m      6\u001B[0m \u001B[38;5;28mprint\u001B[39m(combinations_list)\n\u001B[0;32m----> 7\u001B[0m \u001B[38;5;28mprint\u001B[39m(\u001B[38;5;28mlist\u001B[39m(\u001B[43mcombinations\u001B[49m\u001B[43m(\u001B[49m\u001B[43miterable\u001B[49m\u001B[43m,\u001B[49m\u001B[43m)\u001B[49m))\n",
      "\u001B[0;31mTypeError\u001B[0m: combinations() missing required argument 'r' (pos 2)"
     ]
    }
   ],
   "source": [
    "from itertools import combinations\n",
    "\n",
    "iterable = \"ABCD\"\n",
    "combinations_list = list(combinations(iterable, 2)) # len(iterable) C r\n",
    "\n",
    "print(combinations_list)\n",
    "# print(list(combinations(iterable,)))"
   ],
   "metadata": {
    "collapsed": false
   }
  },
  {
   "cell_type": "markdown",
   "source": [
    "## iterools.permutations(iterable, r=None)"
   ],
   "metadata": {
    "collapsed": false
   }
  },
  {
   "cell_type": "code",
   "execution_count": 19,
   "outputs": [
    {
     "name": "stdout",
     "output_type": "stream",
     "text": [
      "[('A', 'B'), ('A', 'C'), ('A', 'D'), ('B', 'A'), ('B', 'C'), ('B', 'D'), ('C', 'A'), ('C', 'B'), ('C', 'D'), ('D', 'A'), ('D', 'B'), ('D', 'C')]\n",
      "\n",
      "[('A', 'B', 'C', 'D'), ('A', 'B', 'D', 'C'), ('A', 'C', 'B', 'D'), ('A', 'C', 'D', 'B'), ('A', 'D', 'B', 'C'), ('A', 'D', 'C', 'B'), ('B', 'A', 'C', 'D'), ('B', 'A', 'D', 'C'), ('B', 'C', 'A', 'D'), ('B', 'C', 'D', 'A'), ('B', 'D', 'A', 'C'), ('B', 'D', 'C', 'A'), ('C', 'A', 'B', 'D'), ('C', 'A', 'D', 'B'), ('C', 'B', 'A', 'D'), ('C', 'B', 'D', 'A'), ('C', 'D', 'A', 'B'), ('C', 'D', 'B', 'A'), ('D', 'A', 'B', 'C'), ('D', 'A', 'C', 'B'), ('D', 'B', 'A', 'C'), ('D', 'B', 'C', 'A'), ('D', 'C', 'A', 'B'), ('D', 'C', 'B', 'A')]\n"
     ]
    }
   ],
   "source": [
    "from itertools import permutations\n",
    "\n",
    "iterable = \"ABCD\"\n",
    "permutations_list = list(permutations(iterable, 2)) # len(iterable) P r\n",
    "\n",
    "print(permutations_list, end=\"\\n\\n\")\n",
    "\n",
    "print(list(permutations(iterable))) # with no r value, r = len(iterable)"
   ],
   "metadata": {
    "collapsed": false
   }
  },
  {
   "cell_type": "markdown",
   "source": [
    "### Permuation of several lists"
   ],
   "metadata": {
    "collapsed": false
   }
  },
  {
   "cell_type": "code",
   "execution_count": 21,
   "outputs": [
    {
     "name": "stdout",
     "output_type": "stream",
     "text": [
      "[(1, 4, 7), (1, 4, 8), (1, 4, 9), (1, 5, 7), (1, 5, 8), (1, 5, 9), (1, 6, 7), (1, 6, 8), (1, 6, 9), (2, 4, 7), (2, 4, 8), (2, 4, 9), (2, 5, 7), (2, 5, 8), (2, 5, 9), (2, 6, 7), (2, 6, 8), (2, 6, 9), (3, 4, 7), (3, 4, 8), (3, 4, 9), (3, 5, 7), (3, 5, 8), (3, 5, 9), (3, 6, 7), (3, 6, 8), (3, 6, 9)]\n",
      "27\n"
     ]
    }
   ],
   "source": [
    "import itertools\n",
    "\n",
    "dices = [[1, 2, 3], [4, 5, 6], [7, 8, 9]]\n",
    "available_numbers = list(itertools.product(*dices))\n",
    "\n",
    "print(available_numbers)\n",
    "print(len(available_numbers))"
   ],
   "metadata": {
    "collapsed": false
   }
  },
  {
   "cell_type": "code",
   "execution_count": 23,
   "outputs": [
    {
     "name": "stdout",
     "output_type": "stream",
     "text": [
      "[[1, 4, 7], [1, 4, 8], [1, 4, 9], [1, 5, 7], [1, 5, 8], [1, 5, 9], [1, 6, 7], [1, 6, 8], [1, 6, 9], [2, 4, 7], [2, 4, 8], [2, 4, 9], [2, 5, 7], [2, 5, 8], [2, 5, 9], [2, 6, 7], [2, 6, 8], [2, 6, 9], [3, 4, 7], [3, 4, 8], [3, 4, 9], [3, 5, 7], [3, 5, 8], [3, 5, 9], [3, 6, 7], [3, 6, 8], [3, 6, 9]]\n"
     ]
    }
   ],
   "source": [
    "# Convert tuple list into 2-dimensional list\n",
    "\n",
    "tuple_list = [(1, 4, 7), (1, 4, 8), (1, 4, 9), (1, 5, 7), (1, 5, 8), (1, 5, 9), (1, 6, 7), (1, 6, 8), (1, 6, 9), (2, 4, 7), (2, 4, 8), (2, 4, 9), (2, 5, 7), (2, 5, 8), (2, 5, 9), (2, 6, 7), (2, 6, 8), (2, 6, 9), (3, 4, 7), (3, 4, 8), (3, 4, 9), (3, 5, 7), (3, 5, 8), (3, 5, 9), (3, 6, 7), (3, 6, 8), (3, 6, 9)]\n",
    "\n",
    "dim2 = [list(tuple) for tuple in tuple_list]\n",
    "print(dim2)"
   ],
   "metadata": {
    "collapsed": false
   }
  },
  {
   "cell_type": "code",
   "execution_count": null,
   "outputs": [],
   "source": [],
   "metadata": {
    "collapsed": false
   }
  }
 ],
 "metadata": {
  "kernelspec": {
   "display_name": "Python 3",
   "language": "python",
   "name": "python3"
  },
  "language_info": {
   "codemirror_mode": {
    "name": "ipython",
    "version": 2
   },
   "file_extension": ".py",
   "mimetype": "text/x-python",
   "name": "python",
   "nbconvert_exporter": "python",
   "pygments_lexer": "ipython2",
   "version": "2.7.6"
  }
 },
 "nbformat": 4,
 "nbformat_minor": 0
}
