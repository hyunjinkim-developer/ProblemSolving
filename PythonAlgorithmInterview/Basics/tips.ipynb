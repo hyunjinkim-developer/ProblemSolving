{
 "cells": [
  {
   "cell_type": "markdown",
   "source": [
    "# To find minimum, maximum (compare value)\n",
    "- <s>sys.maxsize</s> : python supports arbitrary-precision, so it can define inifinite number\n",
    "- float(\"inf\")\n",
    "- <b>Setting value based on limitation of the algorithm problem</a> is the saftest while solving the problem"
   ],
   "metadata": {
    "collapsed": false
   }
  },
  {
   "cell_type": "code",
   "execution_count": 2,
   "metadata": {
    "collapsed": true
   },
   "outputs": [
    {
     "name": "stdout",
     "output_type": "stream",
     "text": [
      "-9223372036854775807 9223372036854775807\n"
     ]
    }
   ],
   "source": [
    "# using sys module\n",
    "\n",
    "import sys\n",
    "\n",
    "max_value = -sys.maxsize # smallest number of the system\n",
    "min_value = sys.maxsize # biggest number of the system\n",
    "\n",
    "print(max_value, min_value)"
   ]
  },
  {
   "cell_type": "code",
   "execution_count": 6,
   "outputs": [
    {
     "name": "stdout",
     "output_type": "stream",
     "text": [
      "-inf inf\n"
     ]
    }
   ],
   "source": [
    "# using float(\"inf\") value\n",
    "\n",
    "max_value = float(\"-inf\")\n",
    "min_value = float(\"inf\")\n",
    "\n",
    "print(max_value, min_value)"
   ],
   "metadata": {
    "collapsed": false
   }
  },
  {
   "cell_type": "code",
   "execution_count": 7,
   "outputs": [
    {
     "name": "stdout",
     "output_type": "stream",
     "text": [
      "10\n"
     ]
    }
   ],
   "source": [
    "# cf.) python ternary operator\n",
    "# [condition] ? [true_value] : [false_value] is not supported in python\n",
    "# [true_value] if [condition] else [false_value] is available\n",
    "\n",
    "compare = 10\n",
    "print(compare if compare > max_value else max_value)"
   ],
   "metadata": {
    "collapsed": false
   }
  },
  {
   "cell_type": "code",
   "execution_count": null,
   "outputs": [],
   "source": [],
   "metadata": {
    "collapsed": false
   }
  }
 ],
 "metadata": {
  "kernelspec": {
   "display_name": "Python 3",
   "language": "python",
   "name": "python3"
  },
  "language_info": {
   "codemirror_mode": {
    "name": "ipython",
    "version": 2
   },
   "file_extension": ".py",
   "mimetype": "text/x-python",
   "name": "python",
   "nbconvert_exporter": "python",
   "pygments_lexer": "ipython2",
   "version": "2.7.6"
  }
 },
 "nbformat": 4,
 "nbformat_minor": 0
}
