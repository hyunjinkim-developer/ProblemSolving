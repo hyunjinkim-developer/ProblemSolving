{
 "cells": [
  {
   "cell_type": "markdown",
   "source": [
    "# DFS\n",
    "구현\n",
    "DFS는 주로 재귀 함수의 연속 호출로 구현을 하거나 스택으로 구현한다. 주로 재귀로 구현하는 것 같은데 백트래킹 알고리즘이 DFS를 대표적으로 구현하는 예이다.\n",
    "재귀로 구현할 때와, 스택으로 구현할 때의 탐색 순서가 다를 수 있다.\n",
    "[재귀]\n",
    "1. 재귀로는 일단 지점 1부터 지점1이 연결되는 끝까지 파고 들어간 다음,\n",
    "2. 다시 하나 올라와서 올라온 지점의 다른 경로로부터 탐색을 다시 시작한다.\n",
    "\n",
    "\n",
    "[스택]\n",
    "1. 스택은 시작 지점을 먼저 삽입하고, 시작지점과 연결된 지점들을 모두 스택에 넣는다.\n",
    "2. 그 후 가장 마지막에 삽입된 지점부터 꺼내서(pop),\n",
    "3. 그 지점의 하위 지점을 탐색하고 스택에 넣는다.\n",
    "4. 그리고 마지막에 삽입 된 지점을 꺼내기 때문에, 2번에 삽입한 지점이 끝까지 탐색하기 전까지는 1번에서 넣었던 나머지 지점을 탐색할 수 없다.\n",
    "즉, 가장 마지막에 넣은 지점부터 계속 탐색 한다고 보면 된다."
   ],
   "metadata": {
    "collapsed": false
   }
  },
  {
   "cell_type": "code",
   "execution_count": 2,
   "metadata": {
    "collapsed": true
   },
   "outputs": [
    {
     "name": "stdout",
     "output_type": "stream",
     "text": [
      "[1, 2, 5, 6, 7, 3, 4]\n",
      "[1, 4, 3, 5, 7, 6, 2]\n"
     ]
    }
   ],
   "source": [
    "graph = {\n",
    "\t1: [2,3,4],\n",
    "\t2:[5],\n",
    "\t3:[5],\n",
    "\t4:[],\n",
    "\t5:[6,7],\n",
    "\t6:[],\n",
    "\t7:[3],\n",
    "}\n",
    "\n",
    "# dfs in recursive function\n",
    "def recursive_dfs(vertex, visited=[]):\n",
    "    visited.append(vertex)\n",
    "    for item in graph[vertex]:\n",
    "        if not item in visited:\n",
    "            visited = recursive_dfs(item, visited)\n",
    "    return visited\n",
    "print(recursive_dfs(1))\n",
    "\n",
    "# dfs in stack\n",
    "def stack_dfs(start_vertex):\n",
    "    visited = []\n",
    "    stack = [start_vertex]\n",
    "    while stack:\n",
    "        vertex = stack.pop()\n",
    "        if vertex not in visited:\n",
    "            visited.append(vertex)\n",
    "            for item in graph[vertex]:\n",
    "                stack.append(item)\n",
    "    return visited\n",
    "print(stack_dfs(1))"
   ]
  },
  {
   "cell_type": "markdown",
   "source": [
    "# BFS\n",
    "BFS 또한 탐색방법으로서 너비 우선 탐색의 약자이다.\n",
    "DFS와 다르게 횡으로 움직이면서 지점을 탐색하는 것이다. 시작 지점으로부터 가까운 정점을 먼저 방문하고 멀리 떨어져있는 지점은 나중에 방문하는 개념이다. 그러니 넓게 탐색한다고 할 수 있다.\n",
    "주로 최단 경로를 찾고 싶을 때 BFS를 사용한다. 대표적으로 다익스트라 알고리즘에서 사용된다.\n",
    "구현\n",
    "BFS는 큐를 이용해 구현한다. 큐는 먼저 들어오는 순서대로 뽑아낼 수 있기 때문에,\n",
    "1. 지점들(vertex)을 순서대로 큐에 넣고 하나 뽑고(pop)\n",
    "2. 그 뽑은 지점의 하위 경로를 다시 큐에 넣고\n",
    "3. 그 다음 지점을 큐에서 뽑고\n",
    "4. 그 지점의 하위 경로를 다시 큐에 넣고.. 하는 식으로 진행된다."
   ],
   "metadata": {
    "collapsed": false
   }
  },
  {
   "cell_type": "code",
   "execution_count": 3,
   "outputs": [
    {
     "name": "stdout",
     "output_type": "stream",
     "text": [
      "[1, 2, 3, 4, 5, 6, 7]\n"
     ]
    }
   ],
   "source": [
    "graph = {\n",
    "\t1: [2,3,4],\n",
    "\t2:[5],\n",
    "\t3:[5],\n",
    "\t4:[],\n",
    "\t5:[6,7],\n",
    "\t6:[],\n",
    "\t7:[3],\n",
    "}\n",
    "\n",
    "def bfs(start_vertex):\n",
    "    visited = [start_vertex]\n",
    "    queue = [start_vertex]\n",
    "\n",
    "    while queue:\n",
    "        vertex = queue.pop(0)\n",
    "        for item in graph[vertex]:\n",
    "            if item not in visited:\n",
    "                visited.append(item)\n",
    "                queue.append(item)\n",
    "    return visited\n",
    "\n",
    "print(bfs(1))"
   ],
   "metadata": {
    "collapsed": false
   }
  },
  {
   "cell_type": "markdown",
   "source": [
    "# Permutaion, Combination"
   ],
   "metadata": {
    "collapsed": false
   }
  },
  {
   "cell_type": "code",
   "execution_count": 18,
   "outputs": [
    {
     "name": "stdout",
     "output_type": "stream",
     "text": [
      "[(1, 2), (1, 3), (1, 4), (1, 5), (2, 1), (2, 3), (2, 4), (2, 5), (3, 1), (3, 2), (3, 4), (3, 5), (4, 1), (4, 2), (4, 3), (4, 5), (5, 1), (5, 2), (5, 3), (5, 4)]\n",
      "[[], [], [], [], [], [], [], [], [], [], [], [], [], [], [], [], [], [], [], []]\n",
      "[[], [], [], [], [], [], [], [], [], [], [], [], [], [], [], [], [], [], [], []]\n"
     ]
    }
   ],
   "source": [
    "# Permutation\n",
    "\n",
    "import itertools\n",
    "\n",
    "pool = [1, 2, 3, 4, 5]\n",
    "print(list(itertools.permutations(pool, 2)))\n",
    "\n",
    "# Permutaion in recursive function\n",
    "def permutation(arr, r):\n",
    "    arr = sorted(arr)\n",
    "    used = [0 for _ in range(len(arr))]\n",
    "    result = [0] * len(arr)\n",
    "\n",
    "    def generate(chosen, used, result):\n",
    "        # end condition\n",
    "        if len(chosen) == r:\n",
    "            result.append(chosen)\n",
    "            return\n",
    "\n",
    "        for i in range(len(arr)):\n",
    "            if not used[i]:\n",
    "                chosen.append(arr[i])\n",
    "                used[i] = 1 # set as used\n",
    "                generate(chosen, used, result)\n",
    "                used[i] = 0\n",
    "                chosen.pop()\n",
    "\n",
    "    generate([], used, result)\n",
    "    return result\n",
    "\n",
    "print(permutation(pool, 2))"
   ],
   "metadata": {
    "collapsed": false
   }
  },
  {
   "cell_type": "code",
   "execution_count": 31,
   "outputs": [
    {
     "name": "stdout",
     "output_type": "stream",
     "text": [
      "[[1, 2], [1, 3], [1, 4], [1, 5], [2, 1], [2, 3], [2, 4], [2, 5], [3, 1], [3, 2], [3, 4], [3, 5], [4, 1], [4, 2], [4, 3], [4, 5], [5, 1], [5, 2], [5, 3], [5, 4]]\n",
      "0 2 ----------\n",
      "2 []\n",
      "1 3 ----------\n",
      "3 []\n",
      "2 4 ----------\n",
      "4 []\n",
      "3 5 ----------\n",
      "5 []\n",
      "0 3 ----------\n",
      "3 []\n",
      "1 4 ----------\n",
      "4 []\n",
      "2 5 ----------\n",
      "5 []\n",
      "0 4 ----------\n",
      "4 []\n",
      "1 5 ----------\n",
      "5 []\n",
      "0 5 ----------\n",
      "5 []\n",
      "[[1, 2], [1, 3], [1, 4], [1, 5], [2, 3], [2, 4], [2, 5], [3, 4], [3, 5], [4, 5]]\n"
     ]
    }
   ],
   "source": [
    "pool = [1, 2, 3, 4, 5]\n",
    "\n",
    "def permutation(arr, r):\n",
    "    result = []\n",
    "\n",
    "    if r > len(arr):\n",
    "        return result\n",
    "\n",
    "    # nP1 이면 rescursive하게 구할 필요 없음\n",
    "    if r == 1:\n",
    "        for i in arr:\n",
    "            result.append([i])\n",
    "    elif r > 1:\n",
    "        for i in range(len(arr)):\n",
    "            # arr copy except i 번째 원소\n",
    "            ans = [i for i in arr]\n",
    "            ans.remove(arr[i])\n",
    "\n",
    "            for p in permutation(ans, r - 1):\n",
    "                result.append([arr[i]] + p)\n",
    "    return result\n",
    "\n",
    "print(permutation(pool, 2))\n",
    "\n",
    "\n",
    "# Combination\n",
    "def combination(arr, r):\n",
    "    result = []\n",
    "\n",
    "    # 가능한 범위인지 확인\n",
    "    if r > len(arr):\n",
    "        return result\n",
    "    # nC1 이면 recursive 할 필요 없음\n",
    "    if r == 1:\n",
    "        for i in arr:\n",
    "            result.append([i])\n",
    "    # i가 시작하는 값 - len(population) - (n-1)이고\n",
    "    # 이 때 n은 lst로부터 추출할 개수와 같다.\n",
    "    elif r > 1:\n",
    "        for i in range(len(pool) - r + 1):\n",
    "            for temp in comb(pool[i + 1:], r - 1):\n",
    "                result.append([pool[i]] + temp)\n",
    "    return result\n",
    "\n",
    "print(combination(pool, 2))"
   ],
   "metadata": {
    "collapsed": false
   }
  },
  {
   "cell_type": "code",
   "execution_count": 20,
   "outputs": [
    {
     "name": "stdout",
     "output_type": "stream",
     "text": [
      "[0, 0, 0, 0, 0]\n"
     ]
    }
   ],
   "source": [
    "def permute(arr):\n",
    "    result = [arr[:]]\n",
    "    c = [0] * len(arr)\n",
    "    i = 0\n",
    "    while i < len(arr):\n",
    "        if c[i] < i:\n",
    "            if i % 2 == 0:\n",
    "                arr[0], arr[i] = arr[i], arr[0]\n",
    "            else:\n",
    "                arr[c[i]], arr[i] = arr[i], arr[c[i]]\n",
    "            result.append(arr[:])\n",
    "\n",
    "\n",
    "permute(pool)"
   ],
   "metadata": {
    "collapsed": false
   }
  },
  {
   "cell_type": "markdown",
   "source": [
    "# Combination"
   ],
   "metadata": {
    "collapsed": false
   }
  },
  {
   "cell_type": "code",
   "execution_count": 26,
   "outputs": [
    {
     "name": "stdout",
     "output_type": "stream",
     "text": [
      "0 1 ----------\n",
      "0 2 ----------\n",
      "2 []\n",
      "1 3 ----------\n",
      "3 []\n",
      "2 4 ----------\n",
      "4 []\n",
      "3 5 ----------\n",
      "5 []\n",
      "1 [2]\n",
      "1 [3]\n",
      "1 [4]\n",
      "1 [5]\n",
      "1 2 ----------\n",
      "0 3 ----------\n",
      "3 []\n",
      "1 4 ----------\n",
      "4 []\n",
      "2 5 ----------\n",
      "5 []\n",
      "2 [3]\n",
      "2 [4]\n",
      "2 [5]\n",
      "2 3 ----------\n",
      "0 4 ----------\n",
      "4 []\n",
      "1 5 ----------\n",
      "5 []\n",
      "3 [4]\n",
      "3 [5]\n",
      "3 4 ----------\n",
      "0 5 ----------\n",
      "5 []\n",
      "4 [5]\n",
      "4 5 ----------\n",
      "[[1, 2], [1, 3], [1, 4], [1, 5], [2, 3], [2, 4], [2, 5], [3, 4], [3, 5], [4, 5]]\n"
     ]
    }
   ],
   "source": [
    "def comb(pool, r):\n",
    "    result = []\n",
    "\n",
    "    if r == 0:\n",
    "        return [[]]\n",
    "\n",
    "    for (i, num) in enumerate(pool):\n",
    "        print(i, num, \"-\"*10)\n",
    "        for j in comb(pool[i + 1:], r - 1):\n",
    "            print(num, j)\n",
    "            result.append([num] + j)\n",
    "    return result\n",
    "\n",
    "pool = [1, 2, 3, 4, 5]\n",
    "print(comb(pool, 2))"
   ],
   "metadata": {
    "collapsed": false
   }
  },
  {
   "cell_type": "markdown",
   "source": [
    "# Dijkstra Algorithm\n",
    ": Given a graph and a source vertex in the graph, find the shortest paths from source to all vertices in the given graph."
   ],
   "metadata": {
    "collapsed": false
   }
  },
  {
   "cell_type": "code",
   "execution_count": 9,
   "outputs": [
    {
     "name": "stdout",
     "output_type": "stream",
     "text": [
      "Vertex\t Distance from Source\n",
      "0 \t\t 0\n",
      "1 \t\t 4\n",
      "2 \t\t 12\n",
      "3 \t\t 19\n",
      "4 \t\t 21\n",
      "5 \t\t 11\n",
      "6 \t\t 9\n",
      "7 \t\t 8\n",
      "8 \t\t 14\n"
     ]
    }
   ],
   "source": [
    "class Graph():\n",
    "    def __init__(self, vertices):\n",
    "        self.V = vertices\n",
    "        self.graph = [[0 for column in range(vertices)]\n",
    "                      for row in range(vertices)]\n",
    "\n",
    "    def printSolution(self, dist):\n",
    "        print(\"Vertex\\t Distance from Source\")\n",
    "        for node in range(self.V):\n",
    "            print(node, \"\\t\\t\", dist[node])\n",
    "\n",
    "    # A utility function to find the vertex with\n",
    "    # minimum distance value, from the set of vertices\n",
    "    # not yet included in the shortest path tree\n",
    "    def minDistance(self, dist, sptSet):\n",
    "        # Initialize minimum distance for next node\n",
    "        min = 1e7\n",
    "\n",
    "        # Search not the nearest vertex not in the shortest path tree\n",
    "        for v in range(self.V):\n",
    "            if dist[v] < min and sptSet[v] == False:\n",
    "                min = dist[v]\n",
    "                min_index = v\n",
    "        return min_index\n",
    "\n",
    "    def dijkstra(self, src):\n",
    "        dist = [1e7] * self.V\n",
    "        dist[src] = 0\n",
    "        sptSet = [False] * self.V\n",
    "\n",
    "        for cout in range(self.V):\n",
    "            # Pick the minimum distance vertex from\n",
    "            # the set of vertices not yet processed.\n",
    "            # u is always equal to src in first iteration\n",
    "            u = self.minDistance(dist, sptSet)\n",
    "\n",
    "            # Put the minimum distance vertex in the shortest path tree\n",
    "            sptSet[u] = True\n",
    "\n",
    "            # Update dist value of the adjacent vertices\n",
    "            # of the picked vertex only if the current\n",
    "            # distance is greater than new distance and\n",
    "            # the vertex in not in the shortest path tree\n",
    "            for v in range(self.V):\n",
    "                if (self.graph[u][v] > 0 and\n",
    "                    sptSet[v] == False and\n",
    "                    dist[v] > dist[u] + self.graph[u][v]):\n",
    "                    dist[v] = dist[u] + self.graph[u][v]\n",
    "        self.printSolution(dist)\n",
    "\n",
    "def main():\n",
    "    g = Graph(9)\n",
    "    g.graph = [[0, 4, 0, 0, 0, 0, 0, 8, 0],\n",
    "               [4, 0, 8, 0, 0, 0, 0, 11, 0],\n",
    "               [0, 8, 0, 7, 0, 4, 0, 0, 2],\n",
    "               [0, 0, 7, 0, 9, 14, 0, 0, 0],\n",
    "               [0, 0, 0, 9, 0, 10, 0, 0, 0],\n",
    "               [0, 0, 4, 14, 10, 0, 2, 0, 0],\n",
    "               [0, 0, 0, 0, 0, 2, 0, 1, 6],\n",
    "               [8, 11, 0, 0, 0, 0, 1, 0, 7],\n",
    "               [0, 0, 2, 0, 0, 0, 6, 7, 0]\n",
    "               ]\n",
    "    g.dijkstra(0)\n",
    "\n",
    "if __name__ == \"__main__\":\n",
    "    main()"
   ],
   "metadata": {
    "collapsed": false
   }
  },
  {
   "cell_type": "code",
   "execution_count": null,
   "outputs": [],
   "source": [],
   "metadata": {
    "collapsed": false
   }
  }
 ],
 "metadata": {
  "kernelspec": {
   "display_name": "Python 3",
   "language": "python",
   "name": "python3"
  },
  "language_info": {
   "codemirror_mode": {
    "name": "ipython",
    "version": 2
   },
   "file_extension": ".py",
   "mimetype": "text/x-python",
   "name": "python",
   "nbconvert_exporter": "python",
   "pygments_lexer": "ipython2",
   "version": "2.7.6"
  }
 },
 "nbformat": 4,
 "nbformat_minor": 0
}
