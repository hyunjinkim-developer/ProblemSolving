{
 "cells": [
  {
   "cell_type": "code",
   "execution_count": 1,
   "metadata": {
    "collapsed": true
   },
   "outputs": [
    {
     "name": "stdout",
     "output_type": "stream",
     "text": [
      "{'In': ['',\n",
      "        'import pprint\\n'\n",
      "        '\\n'\n",
      "        'nums = [1, 2, 3]\\n'\n",
      "        '\\n'\n",
      "        '# pprint.pprint() : Show all variables in local scope\\n'\n",
      "        'pprint.pprint(locals())'],\n",
      " 'Out': {},\n",
      " '_': '',\n",
      " '__': '',\n",
      " '___': '',\n",
      " '__builtin__': <module 'builtins' (built-in)>,\n",
      " '__builtins__': <module 'builtins' (built-in)>,\n",
      " '__doc__': 'Automatically created module for IPython interactive environment',\n",
      " '__loader__': None,\n",
      " '__name__': '__main__',\n",
      " '__package__': None,\n",
      " '__session__': 'PythonAlgorithmInterview/BasicMethods/pprint.ipynb',\n",
      " '__spec__': None,\n",
      " '_dh': [PosixPath('/Users/hyunjinkim/Documents/ProblemSolving/PythonAlgorithmInterview/BasicMethods')],\n",
      " '_i': '',\n",
      " '_i1': 'import pprint\\n'\n",
      "        '\\n'\n",
      "        'nums = [1, 2, 3]\\n'\n",
      "        '\\n'\n",
      "        '# pprint.pprint() : Show all variables in local scope\\n'\n",
      "        'pprint.pprint(locals())',\n",
      " '_ih': ['',\n",
      "         'import pprint\\n'\n",
      "         '\\n'\n",
      "         'nums = [1, 2, 3]\\n'\n",
      "         '\\n'\n",
      "         '# pprint.pprint() : Show all variables in local scope\\n'\n",
      "         'pprint.pprint(locals())'],\n",
      " '_ii': '',\n",
      " '_iii': '',\n",
      " '_oh': {},\n",
      " 'exit': <IPython.core.autocall.ZMQExitAutocall object at 0x10f4ca790>,\n",
      " 'get_ipython': <bound method InteractiveShell.get_ipython of <ipykernel.zmqshell.ZMQInteractiveShell object at 0x10f4bd970>>,\n",
      " 'nums': [1, 2, 3],\n",
      " 'open': <function open at 0x10ddad550>,\n",
      " 'pprint': <module 'pprint' from '/usr/local/Homebrew/Cellar/python@3.8/3.8.12_1/Frameworks/Python.framework/Versions/3.8/lib/python3.8/pprint.py'>,\n",
      " 'quit': <IPython.core.autocall.ZMQExitAutocall object at 0x10f4ca790>}\n"
     ]
    }
   ],
   "source": [
    "import pprint\n",
    "\n",
    "nums = [1, 2, 3]\n",
    "\n",
    "# locals() : Show all variables in local scope\n",
    "# pprint.pprint() : Prints the formatted representation of object on stream, followed by a newline\n",
    "pprint.pprint(locals())\n",
    "# output\n",
    "#  'nums': [1, 2, 3],"
   ]
  },
  {
   "cell_type": "code",
   "execution_count": 3,
   "outputs": [
    {
     "name": "stdout",
     "output_type": "stream",
     "text": [
      "{'In': ['',\n",
      "        'import pprint\\n'\n",
      "        '\\n'\n",
      "        'nums = [1, 2, 3]\\n'\n",
      "        '\\n'\n",
      "        '# pprint.pprint() : Show all variables in local scope\\n'\n",
      "        'pprint.pprint(locals())',\n",
      "        '# Add new variable\\n'\n",
      "        'new_nums = [4, 5, 6] # nums and new_nums assigned in the same local '\n",
      "        'scope\\n'\n",
      "        '\\n'\n",
      "        '# pprint.pprint() : Show all variables in local scope\\n'\n",
      "        'pprint.pprint(locals())',\n",
      "        '# Add new variable\\n'\n",
      "        'new_nums = [4, 5, 6]\\n'\n",
      "        '# nums and new_nums assigned in the same local scope\\n'\n",
      "        '\\n'\n",
      "        '# pprint.pprint() : Show all variables in local scope\\n'\n",
      "        'pprint.pprint(locals())\\n'\n",
      "        '# output\\n'\n",
      "        \"#  'new_nums': [4, 5, 6],\\n\"\n",
      "        \"#  'nums': [1, 2, 3],\"],\n",
      " 'Out': {},\n",
      " '_': '',\n",
      " '__': '',\n",
      " '___': '',\n",
      " '__builtin__': <module 'builtins' (built-in)>,\n",
      " '__builtins__': <module 'builtins' (built-in)>,\n",
      " '__doc__': 'Automatically created module for IPython interactive environment',\n",
      " '__loader__': None,\n",
      " '__name__': '__main__',\n",
      " '__package__': None,\n",
      " '__session__': 'PythonAlgorithmInterview/BasicMethods/pprint.ipynb',\n",
      " '__spec__': None,\n",
      " '_dh': [PosixPath('/Users/hyunjinkim/Documents/ProblemSolving/PythonAlgorithmInterview/BasicMethods')],\n",
      " '_i': '# Add new variable\\n'\n",
      "       'new_nums = [4, 5, 6] # nums and new_nums assigned in the same local '\n",
      "       'scope\\n'\n",
      "       '\\n'\n",
      "       '# pprint.pprint() : Show all variables in local scope\\n'\n",
      "       'pprint.pprint(locals())',\n",
      " '_i1': 'import pprint\\n'\n",
      "        '\\n'\n",
      "        'nums = [1, 2, 3]\\n'\n",
      "        '\\n'\n",
      "        '# pprint.pprint() : Show all variables in local scope\\n'\n",
      "        'pprint.pprint(locals())',\n",
      " '_i2': '# Add new variable\\n'\n",
      "        'new_nums = [4, 5, 6] # nums and new_nums assigned in the same local '\n",
      "        'scope\\n'\n",
      "        '\\n'\n",
      "        '# pprint.pprint() : Show all variables in local scope\\n'\n",
      "        'pprint.pprint(locals())',\n",
      " '_i3': '# Add new variable\\n'\n",
      "        'new_nums = [4, 5, 6]\\n'\n",
      "        '# nums and new_nums assigned in the same local scope\\n'\n",
      "        '\\n'\n",
      "        '# pprint.pprint() : Show all variables in local scope\\n'\n",
      "        'pprint.pprint(locals())\\n'\n",
      "        '# output\\n'\n",
      "        \"#  'new_nums': [4, 5, 6],\\n\"\n",
      "        \"#  'nums': [1, 2, 3],\",\n",
      " '_ih': ['',\n",
      "         'import pprint\\n'\n",
      "         '\\n'\n",
      "         'nums = [1, 2, 3]\\n'\n",
      "         '\\n'\n",
      "         '# pprint.pprint() : Show all variables in local scope\\n'\n",
      "         'pprint.pprint(locals())',\n",
      "         '# Add new variable\\n'\n",
      "         'new_nums = [4, 5, 6] # nums and new_nums assigned in the same local '\n",
      "         'scope\\n'\n",
      "         '\\n'\n",
      "         '# pprint.pprint() : Show all variables in local scope\\n'\n",
      "         'pprint.pprint(locals())',\n",
      "         '# Add new variable\\n'\n",
      "         'new_nums = [4, 5, 6]\\n'\n",
      "         '# nums and new_nums assigned in the same local scope\\n'\n",
      "         '\\n'\n",
      "         '# pprint.pprint() : Show all variables in local scope\\n'\n",
      "         'pprint.pprint(locals())\\n'\n",
      "         '# output\\n'\n",
      "         \"#  'new_nums': [4, 5, 6],\\n\"\n",
      "         \"#  'nums': [1, 2, 3],\"],\n",
      " '_ii': 'import pprint\\n'\n",
      "        '\\n'\n",
      "        'nums = [1, 2, 3]\\n'\n",
      "        '\\n'\n",
      "        '# pprint.pprint() : Show all variables in local scope\\n'\n",
      "        'pprint.pprint(locals())',\n",
      " '_iii': '',\n",
      " '_oh': {},\n",
      " '_pydevd_bundle': <module '_pydevd_bundle' from '/Applications/PyCharm.app/Contents/plugins/python/helpers/pydev/_pydevd_bundle/__init__.py'>,\n",
      " 'exit': <IPython.core.autocall.ZMQExitAutocall object at 0x10f4ca790>,\n",
      " 'get_ipython': <bound method InteractiveShell.get_ipython of <ipykernel.zmqshell.ZMQInteractiveShell object at 0x10f4bd970>>,\n",
      " 'new_nums': [4, 5, 6],\n",
      " 'nums': [1, 2, 3],\n",
      " 'open': <function open at 0x10ddad550>,\n",
      " 'pprint': <module 'pprint' from '/usr/local/Homebrew/Cellar/python@3.8/3.8.12_1/Frameworks/Python.framework/Versions/3.8/lib/python3.8/pprint.py'>,\n",
      " 'pydev_jupyter_vars': <module 'pydev_jupyter_vars' from '/Applications/PyCharm.app/Contents/plugins/python/helpers-pro/jupyter_debug/pydev_jupyter_vars.py'>,\n",
      " 'quit': <IPython.core.autocall.ZMQExitAutocall object at 0x10f4ca790>,\n",
      " 'remove_imported_pydev_package': <function remove_imported_pydev_package at 0x10f525280>,\n",
      " 'sys': <module 'sys' (built-in)>}\n"
     ]
    }
   ],
   "source": [
    "# Add new variable\n",
    "new_nums = [4, 5, 6]\n",
    "# nums and new_nums assigned in the same local scope\n",
    "\n",
    "# locals() : Show all variables in local scope\n",
    "# pprint.pprint() : Prints the formatted representation of object on stream, followed by a newline\n",
    "pprint.pprint(locals())\n",
    "# output\n",
    "#  'new_nums': [4, 5, 6],\n",
    "#  'nums': [1, 2, 3],"
   ],
   "metadata": {
    "collapsed": false
   }
  },
  {
   "cell_type": "code",
   "execution_count": 4,
   "outputs": [
    {
     "name": "stdout",
     "output_type": "stream",
     "text": [
      "{'__name__': '__main__', '__doc__': 'Automatically created module for IPython interactive environment', '__package__': None, '__loader__': None, '__spec__': None, '__builtin__': <module 'builtins' (built-in)>, '__builtins__': <module 'builtins' (built-in)>, '_ih': ['', 'import pprint\\n\\nnums = [1, 2, 3]\\n\\n# pprint.pprint() : Show all variables in local scope\\npprint.pprint(locals())', '# Add new variable\\nnew_nums = [4, 5, 6] # nums and new_nums assigned in the same local scope\\n\\n# pprint.pprint() : Show all variables in local scope\\npprint.pprint(locals())', \"# Add new variable\\nnew_nums = [4, 5, 6]\\n# nums and new_nums assigned in the same local scope\\n\\n# pprint.pprint() : Show all variables in local scope\\npprint.pprint(locals())\\n# output\\n#  'new_nums': [4, 5, 6],\\n#  'nums': [1, 2, 3],\", 'print(locals())'], '_oh': {}, '_dh': [PosixPath('/Users/hyunjinkim/Documents/ProblemSolving/PythonAlgorithmInterview/BasicMethods')], 'In': ['', 'import pprint\\n\\nnums = [1, 2, 3]\\n\\n# pprint.pprint() : Show all variables in local scope\\npprint.pprint(locals())', '# Add new variable\\nnew_nums = [4, 5, 6] # nums and new_nums assigned in the same local scope\\n\\n# pprint.pprint() : Show all variables in local scope\\npprint.pprint(locals())', \"# Add new variable\\nnew_nums = [4, 5, 6]\\n# nums and new_nums assigned in the same local scope\\n\\n# pprint.pprint() : Show all variables in local scope\\npprint.pprint(locals())\\n# output\\n#  'new_nums': [4, 5, 6],\\n#  'nums': [1, 2, 3],\", 'print(locals())'], 'Out': {}, 'get_ipython': <bound method InteractiveShell.get_ipython of <ipykernel.zmqshell.ZMQInteractiveShell object at 0x10f4bd970>>, 'exit': <IPython.core.autocall.ZMQExitAutocall object at 0x10f4ca790>, 'quit': <IPython.core.autocall.ZMQExitAutocall object at 0x10f4ca790>, 'open': <function open at 0x10ddad550>, '_': '', '__': '', '___': '', '__session__': 'PythonAlgorithmInterview/BasicMethods/pprint.ipynb', '_i': \"# Add new variable\\nnew_nums = [4, 5, 6]\\n# nums and new_nums assigned in the same local scope\\n\\n# pprint.pprint() : Show all variables in local scope\\npprint.pprint(locals())\\n# output\\n#  'new_nums': [4, 5, 6],\\n#  'nums': [1, 2, 3],\", '_ii': '# Add new variable\\nnew_nums = [4, 5, 6] # nums and new_nums assigned in the same local scope\\n\\n# pprint.pprint() : Show all variables in local scope\\npprint.pprint(locals())', '_iii': 'import pprint\\n\\nnums = [1, 2, 3]\\n\\n# pprint.pprint() : Show all variables in local scope\\npprint.pprint(locals())', '_i1': 'import pprint\\n\\nnums = [1, 2, 3]\\n\\n# pprint.pprint() : Show all variables in local scope\\npprint.pprint(locals())', 'pprint': <module 'pprint' from '/usr/local/Homebrew/Cellar/python@3.8/3.8.12_1/Frameworks/Python.framework/Versions/3.8/lib/python3.8/pprint.py'>, 'nums': [1, 2, 3], 'sys': <module 'sys' (built-in)>, 'remove_imported_pydev_package': <function remove_imported_pydev_package at 0x10f525280>, '_pydevd_bundle': <module '_pydevd_bundle' from '/Applications/PyCharm.app/Contents/plugins/python/helpers/pydev/_pydevd_bundle/__init__.py'>, 'pydev_jupyter_vars': <module 'pydev_jupyter_vars' from '/Applications/PyCharm.app/Contents/plugins/python/helpers-pro/jupyter_debug/pydev_jupyter_vars.py'>, '_i2': '# Add new variable\\nnew_nums = [4, 5, 6] # nums and new_nums assigned in the same local scope\\n\\n# pprint.pprint() : Show all variables in local scope\\npprint.pprint(locals())', 'new_nums': [4, 5, 6], '_i3': \"# Add new variable\\nnew_nums = [4, 5, 6]\\n# nums and new_nums assigned in the same local scope\\n\\n# pprint.pprint() : Show all variables in local scope\\npprint.pprint(locals())\\n# output\\n#  'new_nums': [4, 5, 6],\\n#  'nums': [1, 2, 3],\", '_i4': 'print(locals())'}\n"
     ]
    }
   ],
   "source": [
    "# pprint.pprint() VS print()\n",
    "print(locals())"
   ],
   "metadata": {
    "collapsed": false
   }
  }
 ],
 "metadata": {
  "kernelspec": {
   "display_name": "Python 3",
   "language": "python",
   "name": "python3"
  },
  "language_info": {
   "codemirror_mode": {
    "name": "ipython",
    "version": 2
   },
   "file_extension": ".py",
   "mimetype": "text/x-python",
   "name": "python",
   "nbconvert_exporter": "python",
   "pygments_lexer": "ipython2",
   "version": "2.7.6"
  }
 },
 "nbformat": 4,
 "nbformat_minor": 0
}
