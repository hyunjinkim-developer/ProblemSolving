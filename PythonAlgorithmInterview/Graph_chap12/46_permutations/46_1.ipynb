{
 "cells": [
  {
   "cell_type": "markdown",
   "source": [
    "# <a href=https://leetcode.com/problems/permutations/>permutations</a>"
   ],
   "metadata": {
    "collapsed": false
   }
  },
  {
   "cell_type": "code",
   "execution_count": null,
   "metadata": {
    "collapsed": true
   },
   "outputs": [],
   "source": [
    "import copy\n",
    "\n",
    "class Solution:\n",
    "    def permute(self, nums: List[int]) -> List[List[int]]:\n",
    "        result = []\n",
    "        prev_elements = []\n",
    "\n",
    "        def dfs(elements):\n",
    "            # add result when it's leaf node\n",
    "            if len(elements) == 0:\n",
    "                result.append(copy.deepcopy(prev_elements)) # new object with the same value\n",
    "                # result.append(prev_elements[:]) # the same as the code above\n",
    "                return\n",
    "\n",
    "            # create permutation\n",
    "            for ele in elements:\n",
    "                # elements that are left\n",
    "                next_elements = copy.deepcopy(elements) # new object with the same value\n",
    "                next_elements.remove(ele)\n",
    "                # elements that are included\n",
    "                prev_elements.append(ele)\n",
    "\n",
    "                dfs(next_elements)\n",
    "                prev_elements.pop() # * remove elements that are added at last to save memeory\n",
    "\n",
    "        dfs(nums)\n",
    "        return result\n"
   ]
  }
 ],
 "metadata": {
  "kernelspec": {
   "display_name": "Python 3",
   "language": "python",
   "name": "python3"
  },
  "language_info": {
   "codemirror_mode": {
    "name": "ipython",
    "version": 2
   },
   "file_extension": ".py",
   "mimetype": "text/x-python",
   "name": "python",
   "nbconvert_exporter": "python",
   "pygments_lexer": "ipython2",
   "version": "2.7.6"
  }
 },
 "nbformat": 4,
 "nbformat_minor": 0
}
