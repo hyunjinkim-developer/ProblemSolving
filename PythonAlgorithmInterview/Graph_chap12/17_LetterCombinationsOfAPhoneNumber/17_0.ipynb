{
 "cells": [
  {
   "cell_type": "markdown",
   "source": [],
   "metadata": {
    "collapsed": false
   }
  },
  {
   "cell_type": "markdown",
   "source": [
    "# <a href=https://leetcode.com/problems/letter-combinations-of-a-phone-number>letter-combinations-of-a-phone-number</a>"
   ],
   "metadata": {
    "collapsed": false
   }
  },
  {
   "cell_type": "code",
   "execution_count": null,
   "metadata": {
    "collapsed": true
   },
   "outputs": [],
   "source": [
    "class Solution:\n",
    "    def letterCombinations(self, digits: str) -> List[str]:\n",
    "        output = []\n",
    "\n",
    "        letters = {\"2\": [\"a\", \"b\", \"c\"], \\\n",
    "                    \"3\": [\"d\", \"e\", \"f\"], \\\n",
    "                    \"4\": [\"g\", \"h\", \"i\"], \\\n",
    "                    \"5\": [\"j\", \"k\", \"l\"], \\\n",
    "                    \"6\": [\"m\", \"n\", \"o\"], \\\n",
    "                    \"7\": [\"p\", \"q\", \"r\", \"s\"], \\\n",
    "                    \"8\": [\"t\", \"u\", \"v\"], \\\n",
    "                    \"9\": [\"w\", \"x\", \"y\", \"z\"]}\n",
    "        def dfs(i, j):\n",
    "            pass\n",
    "\n",
    "        length = len(digits)\n",
    "        if length > 0:\n",
    "            output = letters[digits[0]]\n",
    "            if length == 1:\n",
    "                return output\n",
    "\n",
    "            for idx in range(1, length):\n",
    "                result = []\n",
    "                for ele in output:\n",
    "                    for letter_added in letters[str(digits[idx])]:\n",
    "                        result.append(ele + letter_added)\n",
    "                output = result\n",
    "        return output"
   ]
  }
 ],
 "metadata": {
  "kernelspec": {
   "display_name": "Python 3",
   "language": "python",
   "name": "python3"
  },
  "language_info": {
   "codemirror_mode": {
    "name": "ipython",
    "version": 2
   },
   "file_extension": ".py",
   "mimetype": "text/x-python",
   "name": "python",
   "nbconvert_exporter": "python",
   "pygments_lexer": "ipython2",
   "version": "2.7.6"
  }
 },
 "nbformat": 4,
 "nbformat_minor": 0
}
