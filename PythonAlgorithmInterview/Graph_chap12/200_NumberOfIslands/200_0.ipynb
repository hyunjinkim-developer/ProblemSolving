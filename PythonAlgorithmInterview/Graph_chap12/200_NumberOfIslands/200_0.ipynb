{
 "cells": [
  {
   "cell_type": "markdown",
   "source": [
    "# <a href=https://leetcode.com/problems/number-of-islands/>number-of-islands</a>"
   ],
   "metadata": {
    "collapsed": false
   }
  },
  {
   "cell_type": "code",
   "execution_count": null,
   "outputs": [],
   "source": [
    "# Time Limit Exceeded at test case 47 / 49\n",
    "\n",
    "class Solution:\n",
    "    def numIslands(self, grid: List[List[str]]) -> int:\n",
    "        graph = {}\n",
    "        land = []\n",
    "        # from the top to counter clockwise\n",
    "        direction = [[-1, 0], [0, -1], [1, 0], [0, 1]]\n",
    "        m_size = len(grid)\n",
    "        n_size = len(grid[0]) # because grid is not a jagged array\n",
    "        for m_idx, m_list in enumerate(grid):\n",
    "            for n_idx in range(len(m_list)):\n",
    "                # find lands\n",
    "                if grid[m_idx][n_idx] == \"1\":\n",
    "                    land.append((m_idx, n_idx))\n",
    "\n",
    "                node_list = []\n",
    "                for d in direction:\n",
    "                    v_m_idx, v_n_idx = m_idx + d[0], n_idx + d[1]\n",
    "                    if 0 <= v_m_idx < m_size and 0 <= v_n_idx < n_size and grid[v_m_idx][v_n_idx] == \"1\":\n",
    "                        node_list.append((v_m_idx, v_n_idx))\n",
    "                graph[(m_idx, n_idx)] = node_list\n",
    "\n",
    "        visited = []\n",
    "        count = 0\n",
    "        while land:\n",
    "            stack = [land[0]]\n",
    "            while stack:\n",
    "                v = stack.pop()\n",
    "                if v not in visited:\n",
    "                    visited.append(v)\n",
    "                    land.remove(v)\n",
    "                    for w in graph[v]:\n",
    "                        if w not in visited:\n",
    "                            stack.append(w)\n",
    "            count += 1\n",
    "        return count"
   ],
   "metadata": {
    "collapsed": false
   }
  }
 ],
 "metadata": {
  "kernelspec": {
   "display_name": "Python 3",
   "language": "python",
   "name": "python3"
  },
  "language_info": {
   "codemirror_mode": {
    "name": "ipython",
    "version": 2
   },
   "file_extension": ".py",
   "mimetype": "text/x-python",
   "name": "python",
   "nbconvert_exporter": "python",
   "pygments_lexer": "ipython2",
   "version": "2.7.6"
  }
 },
 "nbformat": 4,
 "nbformat_minor": 0
}
