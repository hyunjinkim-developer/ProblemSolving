{
 "cells": [
  {
   "cell_type": "markdown",
   "source": [
    "# <a href=https://leetcode.com/problems/number-of-islands/>number-of-islands</a>"
   ],
   "metadata": {
    "collapsed": false
   }
  },
  {
   "cell_type": "code",
   "execution_count": null,
   "outputs": [],
   "source": [
    "class Solution:\n",
    "    def dfs(self, grid: List[List[str]], i: int, j: int):\n",
    "        # base case\n",
    "        # if current location is not a land\n",
    "        if i < 0 or i >= len(grid) or \\\n",
    "            j < 0 or j >= len(grid[0]) or \\\n",
    "            grid[i][j] != \"1\":\n",
    "                return\n",
    "\n",
    "        # if current location is a land\n",
    "        grid[i][j] = \"0\" # mark visited\n",
    "        # search\n",
    "        self.dfs(grid, i-1, j) # north\n",
    "        self.dfs(grid, i, j+1) # east\n",
    "        self.dfs(grid, i+1, j) # south\n",
    "        self.dfs(grid, i, j-1) # west\n",
    "\n",
    "\n",
    "    def numIslands(self, grid: List[List[str]]) -> int:\n",
    "        count = 0\n",
    "        for i in range(len(grid)):\n",
    "            for j in range(len(grid[0])):\n",
    "                if grid[i][j] == \"1\": # if current location is land\n",
    "                    self.dfs(grid, i, j)\n",
    "                    count += 1 # increase count after search all adjacent lands\n",
    "        return count\n",
    "\n",
    "# Cons:\n",
    "# - send grid:List[List[str]] to dfs method"
   ],
   "metadata": {
    "collapsed": false
   }
  },
  {
   "cell_type": "code",
   "execution_count": null,
   "outputs": [],
   "source": [
    "# set grid as class variable so that can all methods in class can access the variable\n",
    "\n",
    "class Solution:\n",
    "    grid: List[List[str]] # * declare class variable\n",
    "\n",
    "    def dfs(self, i: int, j: int):\n",
    "        # base case\n",
    "        # if current location is not a land\n",
    "        # * access with self.grid\n",
    "        if i < 0 or i >= len(self.grid) or \\\n",
    "            j < 0 or j >= len(self.grid[0]) or \\\n",
    "            self.grid[i][j] != \"1\":\n",
    "                return\n",
    "\n",
    "        # if current location is a land\n",
    "        self.grid[i][j] = \"0\" # mark visited\n",
    "        # search\n",
    "        self.dfs(i-1, j) # north\n",
    "        self.dfs(i, j+1) # east\n",
    "        self.dfs(i+1, j) # south\n",
    "        self.dfs(i, j-1) # west\n",
    "\n",
    "\n",
    "    def numIslands(self, grid: List[List[str]]) -> int:\n",
    "        self.grid = grid # * put grid into class variable\n",
    "\n",
    "        count = 0\n",
    "        for i in range(len(grid)):\n",
    "            for j in range(len(grid[0])):\n",
    "                if grid[i][j] == \"1\": # if current location is land\n",
    "                    self.dfs(i, j)\n",
    "                    count += 1 # increase count after search all adjacent lands\n",
    "        return count\n",
    "\n",
    "# Cons:\n",
    "# - using self. in front of method\n",
    "#   call method by self.dfs(grid, i, j)\n",
    "# - using self. in front of class variable when acessing inside methods\n",
    "#   call class variable by self.grid"
   ],
   "metadata": {
    "collapsed": false
   }
  },
  {
   "cell_type": "code",
   "execution_count": null,
   "outputs": [],
   "source": [
    "# Use nested function\n",
    "# acess variables and methods of parent method freely\n",
    "\n",
    "class Solution:\n",
    "    def numIslands(self, grid: List[List[str]]) -> int:\n",
    "        def dfs(i: int, j: int):\n",
    "            # base case\n",
    "            # if current location is not a land\n",
    "            if i < 0 or i >= len(grid) or \\\n",
    "                j < 0 or j >= len(grid[0]) or \\\n",
    "                grid[i][j] != \"1\":\n",
    "                    return\n",
    "\n",
    "            # if current location is a land\n",
    "            grid[i][j] = \"0\" # mark visited\n",
    "            # search\n",
    "            dfs(i-1, j) # north\n",
    "            dfs(i, j+1) # east\n",
    "            dfs(i+1, j) # south\n",
    "            dfs(i, j-1) # west\n",
    "\n",
    "        count = 0\n",
    "        for i in range(len(grid)):\n",
    "            for j in range(len(grid[0])):\n",
    "                if grid[i][j] == \"1\": # if current location is land\n",
    "                    dfs(i, j)\n",
    "                    count += 1 # increase count after search all adjacent lands\n",
    "        return count"
   ],
   "metadata": {
    "collapsed": false
   }
  }
 ],
 "metadata": {
  "kernelspec": {
   "display_name": "Python 3",
   "language": "python",
   "name": "python3"
  },
  "language_info": {
   "codemirror_mode": {
    "name": "ipython",
    "version": 2
   },
   "file_extension": ".py",
   "mimetype": "text/x-python",
   "name": "python",
   "nbconvert_exporter": "python",
   "pygments_lexer": "ipython2",
   "version": "2.7.6"
  }
 },
 "nbformat": 4,
 "nbformat_minor": 0
}
