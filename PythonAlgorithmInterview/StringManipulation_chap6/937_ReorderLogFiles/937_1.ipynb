{
 "cells": [
  {
   "cell_type": "markdown",
   "source": [
    "# <a href=https://leetcode.com/problems/reorder-data-in-log-files/>reorder-data-in-log-files</a>\n"
   ],
   "metadata": {
    "collapsed": false
   }
  },
  {
   "cell_type": "code",
   "execution_count": 13,
   "outputs": [
    {
     "name": "stdout",
     "output_type": "stream",
     "text": [
      "['let1 art can', 'let3 art can', 'let3 art zero', 'let3 art zero art', 'let3 art zero zero', 'let2 own kit dig']\n"
     ]
    }
   ],
   "source": [
    "letters =  ['let1 art can', 'let2 own kit dig', 'let3 art zero', \"let3 art can\", \"let3 art zero art\", \"let3 art zero zero\"]\n",
    "\n",
    "def func(x):\n",
    "    # print(x.split()[1:])\n",
    "    # print(x.split()[0])\n",
    "    # print(\"-\"*20)\n",
    "    return x.split()[1:], x.split()[0]\n",
    "\n",
    "letters.sort(key=func)\n",
    "print(letters)"
   ],
   "metadata": {
    "collapsed": false
   }
  },
  {
   "cell_type": "code",
   "execution_count": 15,
   "metadata": {
    "collapsed": true
   },
   "outputs": [
    {
     "name": "stdout",
     "output_type": "stream",
     "text": [
      "['let1 art can', 'let3 art can', 'let3 art zero', 'let3 art zero art', 'let3 art zero zero', 'let2 own kit dig']\n"
     ]
    }
   ],
   "source": [
    "letters =  ['let1 art can', 'let2 own kit dig', 'let3 art zero', \"let3 art can\", \"let3 art zero art\", \"let3 art zero zero\"]\n",
    "letters.sort(key=lambda x:(x.split()[1:], x.split()[0]))\n",
    "print(letters)"
   ]
  },
  {
   "cell_type": "code",
   "execution_count": 17,
   "outputs": [
    {
     "name": "stdout",
     "output_type": "stream",
     "text": [
      "['a', 'b', 'c', 1, 2, 3]\n"
     ]
    }
   ],
   "source": [
    "# list concatenation\n",
    "\n",
    "a = ['a', 'b', 'c']\n",
    "b = [1, 2, 3]\n",
    "print(a + b)"
   ],
   "metadata": {
    "collapsed": false
   }
  },
  {
   "cell_type": "code",
   "execution_count": null,
   "outputs": [],
   "source": [],
   "metadata": {
    "collapsed": false
   }
  }
 ],
 "metadata": {
  "kernelspec": {
   "display_name": "Python 3",
   "language": "python",
   "name": "python3"
  },
  "language_info": {
   "codemirror_mode": {
    "name": "ipython",
    "version": 2
   },
   "file_extension": ".py",
   "mimetype": "text/x-python",
   "name": "python",
   "nbconvert_exporter": "python",
   "pygments_lexer": "ipython2",
   "version": "2.7.6"
  }
 },
 "nbformat": 4,
 "nbformat_minor": 0
}
