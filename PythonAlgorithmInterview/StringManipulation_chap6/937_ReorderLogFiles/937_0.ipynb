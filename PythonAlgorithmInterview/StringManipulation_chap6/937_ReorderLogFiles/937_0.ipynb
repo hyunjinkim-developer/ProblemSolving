{
 "cells": [
  {
   "cell_type": "markdown",
   "source": [
    "# <a href=https://leetcode.com/problems/reorder-data-in-log-files/>reorder-data-in-log-files</a>"
   ],
   "metadata": {
    "collapsed": false
   }
  },
  {
   "cell_type": "code",
   "execution_count": null,
   "outputs": [],
   "source": [
    "import collections\n",
    "\n",
    "class Solution:\n",
    "    def reorderLogFiles(self, logs: List[str]) -> List[str]:\n",
    "        letter_logs = []\n",
    "        digit_logs = []\n",
    "\n",
    "        for log in logs:\n",
    "            log = log.split()\n",
    "\n",
    "            is_digit_log = False\n",
    "            for word in log[1:]:\n",
    "                if word.isdigit():\n",
    "                    is_digit_log = True\n",
    "                    break\n",
    "\n",
    "            # Find digit-logs\n",
    "            if is_digit_log:\n",
    "                digit_logs.append([log[0], \" \".join([word for word in log[1:]])])\n",
    "            else:\n",
    "                letter_logs.append([log[0], \" \".join([word for word in log[1:]])])\n",
    "\n",
    "        # sort letter-logs in lexicographically by their identifier\n",
    "        letter_logs = sorted(letter_logs, key=lambda item: item[0])\n",
    "        # sort letter-logs in lexicographically by their contents\n",
    "        letter_logs = sorted(letter_logs, key=lambda item: item[1])\n",
    "\n",
    "        # final logs with both letter-logs and digit-logs\n",
    "        final_logs = []\n",
    "        for logs in [letter_logs, digit_logs]:\n",
    "            for log in logs:\n",
    "                final_logs.append(\" \".join(log))\n",
    "\n",
    "        return final_logs"
   ],
   "metadata": {
    "collapsed": false
   }
  }
 ],
 "metadata": {
  "kernelspec": {
   "display_name": "Python 3",
   "language": "python",
   "name": "python3"
  },
  "language_info": {
   "codemirror_mode": {
    "name": "ipython",
    "version": 2
   },
   "file_extension": ".py",
   "mimetype": "text/x-python",
   "name": "python",
   "nbconvert_exporter": "python",
   "pygments_lexer": "ipython2",
   "version": "2.7.6"
  }
 },
 "nbformat": 4,
 "nbformat_minor": 0
}
