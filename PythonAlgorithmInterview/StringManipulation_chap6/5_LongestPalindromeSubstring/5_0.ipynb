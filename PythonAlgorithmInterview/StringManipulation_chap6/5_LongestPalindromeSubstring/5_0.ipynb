{
 "cells": [
  {
   "cell_type": "markdown",
   "source": [
    "# <a href=https://leetcode.com/problems/longest-palindromic-substring/>longest-palindromic-substring</a>"
   ],
   "metadata": {
    "collapsed": false
   }
  },
  {
   "cell_type": "code",
   "execution_count": null,
   "metadata": {
    "collapsed": true
   },
   "outputs": [],
   "source": [
    "# Time Limit Exceeded at test case 71/141\n",
    "\n",
    "import copy\n",
    "import collections\n",
    "\n",
    "class Solution:\n",
    "    def longestPalindrome(self, s: str) -> str:\n",
    "        longest_substring = \"\"\n",
    "\n",
    "        length = len(s)\n",
    "        while length:\n",
    "            for i in range(len(s) - length + 1):\n",
    "                substring = collections.deque(copy.deepcopy(s[i: i + length]))\n",
    "\n",
    "                # check palindrome\n",
    "                found = False\n",
    "                while len(substring) > 1:\n",
    "                    if substring[0] != substring[-1]:\n",
    "                        break\n",
    "                    substring.popleft()\n",
    "                    substring.pop()\n",
    "\n",
    "                    # palindrome is found\n",
    "                    if len(substring) <= 1:\n",
    "                        found = True\n",
    "\n",
    "                # cover string with 1 letter or empty string\n",
    "                if found or len(substring) <= 1:\n",
    "                    longest_substring = s[i: i+length]\n",
    "                    print(longest_substring)\n",
    "                    return longest_substring\n",
    "\n",
    "            length -= 1"
   ]
  }
 ],
 "metadata": {
  "kernelspec": {
   "display_name": "Python 3",
   "language": "python",
   "name": "python3"
  },
  "language_info": {
   "codemirror_mode": {
    "name": "ipython",
    "version": 2
   },
   "file_extension": ".py",
   "mimetype": "text/x-python",
   "name": "python",
   "nbconvert_exporter": "python",
   "pygments_lexer": "ipython2",
   "version": "2.7.6"
  }
 },
 "nbformat": 4,
 "nbformat_minor": 0
}
