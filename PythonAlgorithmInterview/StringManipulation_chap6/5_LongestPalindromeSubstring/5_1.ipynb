{
 "cells": [
  {
   "cell_type": "markdown",
   "source": [
    "# <a href=https://leetcode.com/problems/longest-palindromic-substring/>longest-palindromic-substring</a>"
   ],
   "metadata": {
    "collapsed": false
   }
  },
  {
   "cell_type": "code",
   "execution_count": null,
   "metadata": {
    "collapsed": true,
    "pycharm": {
     "is_executing": true
    }
   },
   "outputs": [],
   "source": [
    "class Solution:\n",
    "    def longestPalindrome(self, s: str) -> str:\n",
    "        def expand(left: int, right: int) -> str:\n",
    "            # if right end(pointer) and left end(pointer) are within string(appropriate range)\n",
    "            # && one end and the other end is the same\n",
    "            while left >= 0 and right < len(s) and s[left] == s[right]:\n",
    "                # move pointer\n",
    "                left -= 1\n",
    "                right += 1\n",
    "            return s[left + 1: right]\n",
    "\n",
    "        # no palindrome\n",
    "        if len(s) < 2 or s == s[::-1]: # s[::-1] : reversed string\n",
    "            return s\n",
    "\n",
    "        result = \"\"\n",
    "        # move sliding window into right\n",
    "        for i in range(len(s) - 1): # index : [0, len(s) - 2]\n",
    "            result = max(result,\n",
    "                            expand(i, i + 1),\n",
    "                            expand(i, i + 2),\n",
    "                            key=len)\n",
    "        return result"
   ]
  }
 ],
 "metadata": {
  "kernelspec": {
   "display_name": "Python 3",
   "language": "python",
   "name": "python3"
  },
  "language_info": {
   "codemirror_mode": {
    "name": "ipython",
    "version": 2
   },
   "file_extension": ".py",
   "mimetype": "text/x-python",
   "name": "python",
   "nbconvert_exporter": "python",
   "pygments_lexer": "ipython2",
   "version": "2.7.6"
  }
 },
 "nbformat": 4,
 "nbformat_minor": 0
}
