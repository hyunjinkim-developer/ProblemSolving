{
 "cells": [
  {
   "cell_type": "markdown",
   "source": [
    "# <a href=https://leetcode.com/problems/most-common-word/>most-common-word</a>"
   ],
   "metadata": {
    "collapsed": false
   }
  },
  {
   "cell_type": "code",
   "execution_count": null,
   "outputs": [],
   "source": [
    "import re\n",
    "import collections\n",
    "\n",
    "class Solution:\n",
    "    def mostCommonWord(self, paragraph: str, banned: List[str]) -> str:\n",
    "        print(paragraph)\n",
    "        paragraph = paragraph.lower()\n",
    "        # re.sub(pattern, replacement, original_string)\n",
    "        # pattern : \"[^]\" => ^ means not\n",
    "        paragraph = re.sub(\"[^a-z]\", \" \", paragraph)\n",
    "        print(paragraph)\n",
    "        paragraph = paragraph.split()\n",
    "        not_banned = []\n",
    "        for word in paragraph:\n",
    "            if word not in banned:\n",
    "                not_banned.append(word)\n",
    "\n",
    "        count = collections.Counter(not_banned)\n",
    "        # print(type(count.most_common(1))) # list : [('ball', 2)]\n",
    "        return count.most_common(1)[0][0]"
   ],
   "metadata": {
    "collapsed": false
   }
  }
 ],
 "metadata": {
  "kernelspec": {
   "display_name": "Python 3",
   "language": "python",
   "name": "python3"
  },
  "language_info": {
   "codemirror_mode": {
    "name": "ipython",
    "version": 2
   },
   "file_extension": ".py",
   "mimetype": "text/x-python",
   "name": "python",
   "nbconvert_exporter": "python",
   "pygments_lexer": "ipython2",
   "version": "2.7.6"
  }
 },
 "nbformat": 4,
 "nbformat_minor": 0
}
