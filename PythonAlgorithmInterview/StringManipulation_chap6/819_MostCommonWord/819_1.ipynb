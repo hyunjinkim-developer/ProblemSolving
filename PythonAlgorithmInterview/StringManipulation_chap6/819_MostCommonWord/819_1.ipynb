{
 "cells": [
  {
   "cell_type": "markdown",
   "source": [
    "# <a href=https://leetcode.com/problems/most-common-word/>most-common-word</a>"
   ],
   "metadata": {
    "collapsed": false
   }
  },
  {
   "cell_type": "code",
   "execution_count": null,
   "outputs": [],
   "source": [
    "import collections\n",
    "import re\n",
    "\n",
    "class Solution:\n",
    "    def mostCommonWord(self, paragraph: str, banned: List[str]) -> str:\n",
    "        # leave only word that does not exist in banned with loewrcase\n",
    "        words = [word for word in re.sub(r\"[^\\w]\", \" \", paragraph)\n",
    "                .lower().split()\n",
    "                if word not in banned]\n",
    "\n",
    "        # count frequency of words\n",
    "        # method 1] using collections.defaultdict() and max()\n",
    "        # counts = collections.defaultdict(int)\n",
    "        # for word in words:\n",
    "        #     counts[word] += 1\n",
    "        # return max(counts, key=counts.get)\n",
    "\n",
    "        # method 2] using collections.Counter()\n",
    "        counts = collections.Counter(words)\n",
    "        return counts.most_common(1)[0][0]"
   ],
   "metadata": {
    "collapsed": false
   }
  },
  {
   "cell_type": "markdown",
   "source": [
    "## Descriptions"
   ],
   "metadata": {
    "collapsed": false
   }
  },
  {
   "cell_type": "code",
   "execution_count": 3,
   "outputs": [
    {
     "name": "stdout",
     "output_type": "stream",
     "text": [
      "this is \n",
      " a test\n",
      "------------------------------\n",
      "this is \\n a test\n"
     ]
    }
   ],
   "source": [
    "# r string prefix meaning\n",
    "# https://stackoverflow.com/a/21104539\n",
    "\n",
    "print('this is \\n a test')\n",
    "print(\"-\" * 30)\n",
    "\n",
    "print(r\"this is \\n a test\")"
   ],
   "metadata": {
    "collapsed": false
   }
  },
  {
   "cell_type": "code",
   "execution_count": null,
   "outputs": [],
   "source": [
    "import collections\n",
    "import re\n",
    "\n",
    "class Solution:\n",
    "    def mostCommonWord(self, paragraph: str, banned: List[str]) -> str:\n",
    "        words = [word for word in re.sub(r\"[^\\w]\", \" \", paragraph)  # if not word, substitute into space\n",
    "                # re.sub(pattern, substitution, original_string)\n",
    "                # pattern :\n",
    "                    # r\"\" : for readability\n",
    "                    # \"[^]\" : not\n",
    "                    # \"[\\w]\" : for every word\n",
    "                .lower().split()\n",
    "                # .lower() : convert every character in [string] to lowercase\n",
    "                # .split() : split [string] with space and return [list]\n",
    "                if word not in banned]\n",
    "                # [word for word in word_list\n",
    "                #        if word not in banned_list]\n",
    "                # list comprehension :\n",
    "                # for every word in word_list that are not exist in banned_list, return into list\n",
    "\n",
    "# Count frequency of each word\n",
    "#         # method 1] using collections.defaultdict() with base of int\n",
    "#         counts = collections.defaultdict(int)\n",
    "#         for word in words:\n",
    "#             counts[word] += 1 # if the key does not exist, add the key and set value as default (int, 0)\n",
    "#         return max(counts, key=counts.get)\n",
    "        # max(iterable[, key=func])\n",
    "        # key : single argument function to customize the sort order\n",
    "        # counts.get : built-in method for collections.defaultdict\n",
    "\n",
    "        # method 2] using collections.Counter()\n",
    "        counts = collections.Counter(words)\n",
    "        # counts : Counter({'ball': 2, 'bob': 1, 'a': 1, 'the': 1, 'flew': 1, 'far': 1, 'after': 1, 'it': 1, 'was': 1})\n",
    "        # counts.most_common(1)) : [('ball', 2)]\n",
    "        return counts.most_common(1)[0][0]"
   ],
   "metadata": {
    "collapsed": false
   }
  }
 ],
 "metadata": {
  "kernelspec": {
   "display_name": "Python 3",
   "language": "python",
   "name": "python3"
  },
  "language_info": {
   "codemirror_mode": {
    "name": "ipython",
    "version": 2
   },
   "file_extension": ".py",
   "mimetype": "text/x-python",
   "name": "python",
   "nbconvert_exporter": "python",
   "pygments_lexer": "ipython2",
   "version": "2.7.6"
  }
 },
 "nbformat": 4,
 "nbformat_minor": 0
}
