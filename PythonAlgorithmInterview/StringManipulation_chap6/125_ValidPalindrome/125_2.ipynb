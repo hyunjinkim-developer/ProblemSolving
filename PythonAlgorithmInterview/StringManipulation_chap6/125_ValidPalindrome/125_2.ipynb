{
 "cells": [
  {
   "cell_type": "markdown",
   "source": [
    "# <a href=https://leetcode.com/problems/valid-palindrome/>125. valid-palindrome</a>\n",
    "## Optimization with deque\n",
    "5 times faster than 125_1\n",
    "This is because,\n",
    "- pop(0) is O(n) per every character of example string, which means O(n^2) in total (multiply by number of example strings)\n",
    "- deque popleft() is O(1), which means O(n) in total"
   ],
   "metadata": {
    "collapsed": false
   }
  },
  {
   "cell_type": "code",
   "execution_count": 22,
   "outputs": [],
   "source": [
    "examples = {\n",
    "    \"s1\": \"A man, a plan, a canal: Panama\",\n",
    "    \"s2\": \"race a car\",\n",
    "    \"s3\": \" \"\n",
    "}"
   ],
   "metadata": {
    "collapsed": false
   }
  },
  {
   "cell_type": "code",
   "execution_count": 23,
   "outputs": [],
   "source": [
    "import collections\n",
    "\n",
    "def isPalindrome(s: str) -> bool:\n",
    "    # Define deque\n",
    "    strs: Deque = collections.deque()\n",
    "    print(type(strs))\n",
    "\n",
    "    for char in s:\n",
    "        if char.isalnum():\n",
    "            strs.append(char.lower())\n",
    "\n",
    "    while(len(strs)) > 1:\n",
    "        if strs.popleft() != strs.pop():\n",
    "            return False\n",
    "\n",
    "    return True"
   ],
   "metadata": {
    "collapsed": false
   }
  },
  {
   "cell_type": "code",
   "execution_count": 24,
   "outputs": [
    {
     "name": "stdout",
     "output_type": "stream",
     "text": [
      "<class 'collections.deque'>\n"
     ]
    },
    {
     "data": {
      "text/plain": "True"
     },
     "metadata": {},
     "output_type": "display_data"
    },
    {
     "name": "stdout",
     "output_type": "stream",
     "text": [
      "--------------------------------------------------\n",
      "<class 'collections.deque'>\n"
     ]
    },
    {
     "data": {
      "text/plain": "False"
     },
     "metadata": {},
     "output_type": "display_data"
    },
    {
     "name": "stdout",
     "output_type": "stream",
     "text": [
      "--------------------------------------------------\n",
      "<class 'collections.deque'>\n"
     ]
    },
    {
     "data": {
      "text/plain": "True"
     },
     "metadata": {},
     "output_type": "display_data"
    },
    {
     "name": "stdout",
     "output_type": "stream",
     "text": [
      "--------------------------------------------------\n"
     ]
    }
   ],
   "source": [
    "for i in range(3):\n",
    "    # string concatenation\n",
    "    # s = \"s\" + str(i + 1)\n",
    "    s = \"\".join([\"s\", str(i + 1)])\n",
    "\n",
    "    display(isPalindrome(examples[s]))\n",
    "    print(\"-\" * 50)"
   ],
   "metadata": {
    "collapsed": false
   }
  },
  {
   "cell_type": "code",
   "execution_count": null,
   "outputs": [],
   "source": [],
   "metadata": {
    "collapsed": false
   }
  }
 ],
 "metadata": {
  "kernelspec": {
   "display_name": "Python 3",
   "language": "python",
   "name": "python3"
  },
  "language_info": {
   "codemirror_mode": {
    "name": "ipython",
    "version": 2
   },
   "file_extension": ".py",
   "mimetype": "text/x-python",
   "name": "python",
   "nbconvert_exporter": "python",
   "pygments_lexer": "ipython2",
   "version": "2.7.6"
  }
 },
 "nbformat": 4,
 "nbformat_minor": 0
}
