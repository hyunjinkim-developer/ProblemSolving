{
 "cells": [
  {
   "cell_type": "markdown",
   "source": [],
   "metadata": {
    "collapsed": false
   }
  },
  {
   "cell_type": "markdown",
   "source": [
    "# <a href=https://leetcode.com/problems/valid-palindrome/>125. valid-palindrome</a>\n",
    "## Using Python slicing\n",
    "2 times faster than 125_2\n",
    "- isalnum() is used for every character in 125_2\n",
    "- [::-1] can convert string in much faster, because it is implemented in C under the hood"
   ],
   "metadata": {
    "collapsed": false
   }
  },
  {
   "cell_type": "code",
   "execution_count": 3,
   "outputs": [],
   "source": [
    "examples = {\n",
    "    \"s1\": \"A man, a plan, a canal: Panama\",\n",
    "    \"s2\": \"race a car\",\n",
    "    \"s3\": \" \"\n",
    "}"
   ],
   "metadata": {
    "collapsed": false
   }
  },
  {
   "cell_type": "code",
   "execution_count": 4,
   "outputs": [],
   "source": [
    "import re\n",
    "\n",
    "def isPalindrome(s: str) -> bool:\n",
    "    s = s.lower()\n",
    "    # filter unnecessary characters with regular expression\n",
    "    # re.sub(pattern, replacement, string)\n",
    "    # pattern :\n",
    "        # [^set_of_characters]\n",
    "        # Matches any single character that is not in set_of_characters. By default, the match is case-sensitive.\n",
    "    s = re.sub(\"[^a-z0-9]\", \"\", s)\n",
    "\n",
    "    return s == s[::-1]"
   ],
   "metadata": {
    "collapsed": false
   }
  },
  {
   "cell_type": "code",
   "execution_count": 11,
   "outputs": [
    {
     "name": "stdout",
     "output_type": "stream",
     "text": [
      "amanaP :lanac a ,nalp a ,nam A\n",
      "A man, a plan, a canal: Panama\n"
     ]
    }
   ],
   "source": [
    "# Python slicing\n",
    "import copy\n",
    "\n",
    "s_temp = copy.deepcopy(examples[\"s1\"])\n",
    "print(s_temp[::-1])\n",
    "\n",
    "# original string remains\n",
    "print(s_temp)"
   ],
   "metadata": {
    "collapsed": false
   }
  },
  {
   "cell_type": "code",
   "execution_count": null,
   "metadata": {
    "collapsed": true
   },
   "outputs": [],
   "source": [
    "for i in range(3):\n",
    "    # string concatenation\n",
    "    # s = \"s\" + str(i + 1)\n",
    "    s = \"\".join([\"s\", str(i + 1)])\n",
    "\n",
    "    display(isPalindrome(examples[s]))\n",
    "    print(\"-\" * 50)"
   ]
  }
 ],
 "metadata": {
  "kernelspec": {
   "display_name": "Python 3",
   "language": "python",
   "name": "python3"
  },
  "language_info": {
   "codemirror_mode": {
    "name": "ipython",
    "version": 2
   },
   "file_extension": ".py",
   "mimetype": "text/x-python",
   "name": "python",
   "nbconvert_exporter": "python",
   "pygments_lexer": "ipython2",
   "version": "2.7.6"
  }
 },
 "nbformat": 4,
 "nbformat_minor": 0
}
