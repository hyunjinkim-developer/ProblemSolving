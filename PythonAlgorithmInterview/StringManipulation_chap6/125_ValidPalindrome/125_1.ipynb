{
 "cells": [
  {
   "cell_type": "markdown",
   "source": [
    "# <a href=https://leetcode.com/problems/valid-palindrome/>125. valid-palindrome</a>\n",
    "## conversion with list"
   ],
   "metadata": {
    "collapsed": false
   }
  },
  {
   "cell_type": "code",
   "execution_count": 12,
   "outputs": [],
   "source": [
    "s = \"A man, a plan, a canal: Panama\""
   ],
   "metadata": {
    "collapsed": false
   }
  },
  {
   "cell_type": "code",
   "execution_count": 19,
   "outputs": [],
   "source": [
    "def isPalindrome(s: str) -> bool:\n",
    "    strs = []\n",
    "    for char in s:\n",
    "        # isalnum() : returns True if all characters in the string are alphanumeric (either alphabets or numbers)\n",
    "        if char.isalnum():\n",
    "            strs.append(char.lower()) # char.lower() : convert into lowercase\n",
    "\n",
    "    while len(strs) > 1:\n",
    "        # compare the first and last character which pulled out from the list\n",
    "        if strs.pop(0) != strs.pop():\n",
    "            return False\n",
    "    # if len(strs) is 1, strs is a palindrome\n",
    "    return True"
   ],
   "metadata": {
    "collapsed": false
   }
  },
  {
   "cell_type": "code",
   "execution_count": 20,
   "outputs": [
    {
     "data": {
      "text/plain": "True"
     },
     "execution_count": 20,
     "metadata": {},
     "output_type": "execute_result"
    }
   ],
   "source": [
    "isPalindrome(s)"
   ],
   "metadata": {
    "collapsed": false
   }
  }
 ],
 "metadata": {
  "kernelspec": {
   "display_name": "Python 3",
   "language": "python",
   "name": "python3"
  },
  "language_info": {
   "codemirror_mode": {
    "name": "ipython",
    "version": 2
   },
   "file_extension": ".py",
   "mimetype": "text/x-python",
   "name": "python",
   "nbconvert_exporter": "python",
   "pygments_lexer": "ipython2",
   "version": "2.7.6"
  }
 },
 "nbformat": 4,
 "nbformat_minor": 0
}
