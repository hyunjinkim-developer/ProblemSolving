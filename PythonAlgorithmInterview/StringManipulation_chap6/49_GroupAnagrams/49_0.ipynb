{
 "cells": [
  {
   "cell_type": "markdown",
   "source": [
    "# <a href=https://leetcode.com/problems/group-anagrams/>group-anagrams</a>"
   ],
   "metadata": {
    "collapsed": false
   }
  },
  {
   "cell_type": "code",
   "execution_count": null,
   "metadata": {
    "collapsed": true
   },
   "outputs": [],
   "source": [
    "# Time Limit Exceeded at test case 111/119\n",
    "\n",
    "import collections\n",
    "\n",
    "class Solution:\n",
    "    def groupAnagrams(self, strs: List[str]) -> List[List[str]]:\n",
    "        word_list = collections.deque()\n",
    "\n",
    "        for word in strs:\n",
    "            word_list.append((word, collections.Counter(word)))\n",
    "\n",
    "        anagrams = []\n",
    "        while word_list:\n",
    "            base = word_list.popleft()\n",
    "\n",
    "            anagram = []\n",
    "            anagram.append(base[0])\n",
    "            not_included = collections.deque()\n",
    "            while len(word_list) > 0:\n",
    "                target =  word_list.pop()\n",
    "                if base[1] == target[1]:\n",
    "                    anagram.append(target[0])\n",
    "                else:\n",
    "                    not_included.append(target)\n",
    "\n",
    "            anagrams.append(anagram)\n",
    "            word_list = not_included\n",
    "\n",
    "        return anagrams"
   ]
  }
 ],
 "metadata": {
  "kernelspec": {
   "display_name": "Python 3",
   "language": "python",
   "name": "python3"
  },
  "language_info": {
   "codemirror_mode": {
    "name": "ipython",
    "version": 2
   },
   "file_extension": ".py",
   "mimetype": "text/x-python",
   "name": "python",
   "nbconvert_exporter": "python",
   "pygments_lexer": "ipython2",
   "version": "2.7.6"
  }
 },
 "nbformat": 4,
 "nbformat_minor": 0
}
