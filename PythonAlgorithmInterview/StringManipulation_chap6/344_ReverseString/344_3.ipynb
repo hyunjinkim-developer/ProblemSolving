{
 "cells": [
  {
   "cell_type": "code",
   "execution_count": null,
   "metadata": {
    "collapsed": true
   },
   "outputs": [],
   "source": [
    "# You must do this by modifying the input array in-place with O(1) extra memory.\n",
    "\n",
    "class Solution:\n",
    "    def reverseString(self, s: List[str]) -> None:\n",
    "        s[:] = s[::-1] # s[:] : trick for the condition above\n",
    "# depending on judge site, the trick right above might not work, get familiar with the platform that you should deal with"
   ]
  },
  {
   "cell_type": "markdown",
   "source": [
    "### <a href=https://stackoverflow.com/a/14433812>List[:]</a>\n",
    "= makes a reference, by using [:] you create a copy.\n",
    "For strings, which are immutable, this doesn't really matter, but for lists etc. it is crucial."
   ],
   "metadata": {
    "collapsed": false
   }
  },
  {
   "cell_type": "code",
   "execution_count": 4,
   "outputs": [
    {
     "data": {
      "text/plain": "'hello'"
     },
     "metadata": {},
     "output_type": "display_data"
    },
    {
     "data": {
      "text/plain": "'hello'"
     },
     "metadata": {},
     "output_type": "display_data"
    }
   ],
   "source": [
    "s = 'hello';\n",
    "\n",
    "foo = s\n",
    "bar = s[:]\n",
    "\n",
    "display(foo) # reference\n",
    "display(bar) # Copy"
   ],
   "metadata": {
    "collapsed": false
   }
  },
  {
   "cell_type": "code",
   "execution_count": 8,
   "outputs": [
    {
     "data": {
      "text/plain": "['h', 'e', 'l', 'l', 'o']"
     },
     "metadata": {},
     "output_type": "display_data"
    },
    {
     "name": "stdout",
     "output_type": "stream",
     "text": [
      "------------------------------\n"
     ]
    },
    {
     "data": {
      "text/plain": "['h', 'e', 'l', 'l', 'o']"
     },
     "metadata": {},
     "output_type": "display_data"
    },
    {
     "data": {
      "text/plain": "['h', 'e', 'l', 'l', 'o']"
     },
     "metadata": {},
     "output_type": "display_data"
    },
    {
     "name": "stdout",
     "output_type": "stream",
     "text": [
      "------------------------------\n"
     ]
    },
    {
     "data": {
      "text/plain": "['b', 'e', 'l', 'l', 'o']"
     },
     "metadata": {},
     "output_type": "display_data"
    },
    {
     "data": {
      "text/plain": "['h', 'e', 'l', 'l', 'o']"
     },
     "metadata": {},
     "output_type": "display_data"
    }
   ],
   "source": [
    "s_list = [x for x in s]\n",
    "display(s_list)\n",
    "print(\"-\" * 30)\n",
    "\n",
    "foo = s_list # reference\n",
    "bar = s_list[:] # copy\n",
    "\n",
    "display(foo, bar)\n",
    "print(\"-\" * 30)\n",
    "\n",
    "s_list[0] = \"b\"\n",
    "display(foo, bar)"
   ],
   "metadata": {
    "collapsed": false
   }
  },
  {
   "cell_type": "code",
   "execution_count": null,
   "outputs": [],
   "source": [],
   "metadata": {
    "collapsed": false
   }
  }
 ],
 "metadata": {
  "kernelspec": {
   "display_name": "Python 3",
   "language": "python",
   "name": "python3"
  },
  "language_info": {
   "codemirror_mode": {
    "name": "ipython",
    "version": 2
   },
   "file_extension": ".py",
   "mimetype": "text/x-python",
   "name": "python",
   "nbconvert_exporter": "python",
   "pygments_lexer": "ipython2",
   "version": "2.7.6"
  }
 },
 "nbformat": 4,
 "nbformat_minor": 0
}
