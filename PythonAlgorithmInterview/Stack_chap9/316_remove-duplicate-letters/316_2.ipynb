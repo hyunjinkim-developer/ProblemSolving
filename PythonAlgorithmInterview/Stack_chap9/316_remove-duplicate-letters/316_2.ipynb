{
 "cells": [
  {
   "cell_type": "code",
   "execution_count": null,
   "outputs": [],
   "source": [
    "import collections\n",
    "\n",
    "class Solution:\n",
    "    def removeDuplicateLetters(self, s: str) -> str:\n",
    "        counter, seen, stack = collections.Counter(s), set(), []\n",
    "\n",
    "        for char in s:\n",
    "            counter[char] -= 1\n",
    "            if char in seen:\n",
    "                continue\n",
    "\n",
    "            # stack is not empty\n",
    "            # and current character is smaller in lexicographical order\n",
    "            # and the previous letter can be added later on\n",
    "            while stack and char < stack[-1] and counter[stack[-1]] > 0:\n",
    "                seen.remove(stack.pop())\n",
    "            stack.append(char)\n",
    "            seen.add(char)\n",
    "\n",
    "        return \"\".join(stack)"
   ],
   "metadata": {
    "collapsed": false
   }
  }
 ],
 "metadata": {
  "kernelspec": {
   "display_name": "Python 3",
   "language": "python",
   "name": "python3"
  },
  "language_info": {
   "codemirror_mode": {
    "name": "ipython",
    "version": 2
   },
   "file_extension": ".py",
   "mimetype": "text/x-python",
   "name": "python",
   "nbconvert_exporter": "python",
   "pygments_lexer": "ipython2",
   "version": "2.7.6"
  }
 },
 "nbformat": 4,
 "nbformat_minor": 0
}
