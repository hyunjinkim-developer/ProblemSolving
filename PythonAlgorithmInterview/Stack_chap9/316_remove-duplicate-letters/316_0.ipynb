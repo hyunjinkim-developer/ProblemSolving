{
 "cells": [
  {
   "cell_type": "markdown",
   "source": [
    "# <a href=https://leetcode.com/problems/remove-duplicate-letters/>remove-duplicate-letters</a>"
   ],
   "metadata": {
    "collapsed": false
   }
  },
  {
   "cell_type": "code",
   "execution_count": null,
   "metadata": {
    "collapsed": true
   },
   "outputs": [],
   "source": [
    "# Memory Limit Exceeded, 273 / 290 testcases passed\n",
    "\n",
    "import collections\n",
    "from itertools import combinations\n",
    "import functools\n",
    "\n",
    "class Solution:\n",
    "    def removeDuplicateLetters(self, s: str) -> str:\n",
    "        output = []\n",
    "\n",
    "        dictionary = collections.defaultdict(list)\n",
    "        for idx, char in enumerate(s):\n",
    "            dictionary[char].append(idx)\n",
    "\n",
    "        comb = [item[1] for item in dictionary.items()]\n",
    "        available_words = list(itertools.product(*comb))\n",
    "        # print(available_words)\n",
    "        for word_idx in available_words:\n",
    "            word = sorted([idx for idx in word_idx])\n",
    "            single_word = \"\"\n",
    "            for idx in word:\n",
    "                single_word = single_word + s[idx]\n",
    "            output.append(single_word)\n",
    "\n",
    "        return sorted(output)[0]"
   ]
  }
 ],
 "metadata": {
  "kernelspec": {
   "display_name": "Python 3",
   "language": "python",
   "name": "python3"
  },
  "language_info": {
   "codemirror_mode": {
    "name": "ipython",
    "version": 2
   },
   "file_extension": ".py",
   "mimetype": "text/x-python",
   "name": "python",
   "nbconvert_exporter": "python",
   "pygments_lexer": "ipython2",
   "version": "2.7.6"
  }
 },
 "nbformat": 4,
 "nbformat_minor": 0
}
