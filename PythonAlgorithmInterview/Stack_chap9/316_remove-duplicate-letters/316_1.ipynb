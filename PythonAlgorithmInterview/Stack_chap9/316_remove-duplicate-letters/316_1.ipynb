{
 "cells": [
  {
   "cell_type": "code",
   "execution_count": null,
   "metadata": {
    "collapsed": true
   },
   "outputs": [],
   "source": [
    "class Solution:\n",
    "    def removeDuplicateLetters(self, s: str) -> str:\n",
    "        # sort set of s\n",
    "        for char in sorted(set(s)):\n",
    "            suffix = s[s.index(char): ]\n",
    "            # seperate substring\n",
    "            if set(s) == set(suffix):\n",
    "                # remove same characters\n",
    "                return char + self.removeDuplicateLetters(suffix.replace(char, \"\"))\n",
    "        return \"\""
   ]
  }
 ],
 "metadata": {
  "kernelspec": {
   "display_name": "Python 3",
   "language": "python",
   "name": "python3"
  },
  "language_info": {
   "codemirror_mode": {
    "name": "ipython",
    "version": 2
   },
   "file_extension": ".py",
   "mimetype": "text/x-python",
   "name": "python",
   "nbconvert_exporter": "python",
   "pygments_lexer": "ipython2",
   "version": "2.7.6"
  }
 },
 "nbformat": 4,
 "nbformat_minor": 0
}
