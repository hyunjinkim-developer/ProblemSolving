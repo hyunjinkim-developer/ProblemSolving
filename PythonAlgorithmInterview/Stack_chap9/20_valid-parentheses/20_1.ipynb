{
 "cells": [
  {
   "cell_type": "code",
   "execution_count": null,
   "metadata": {
    "collapsed": true
   },
   "outputs": [],
   "source": [
    "class Solution:\n",
    "    def isValid(self, s: str) -> bool:\n",
    "        stack = []\n",
    "        table = {\n",
    "            \")\": \"(\",\n",
    "            \"}\": \"{\",\n",
    "            \"]\": \"[\"\n",
    "        }\n",
    "\n",
    "        for char in s:\n",
    "            if char not in table: # (, [, {\n",
    "                stack.append(char)\n",
    "            # stack is empty\n",
    "            # or parentheses are not matched\n",
    "            elif not stack or table[char] != stack.pop(): # *\n",
    "                return False\n",
    "\n",
    "        # return true when stack is empty\n",
    "        return len(stack) == 0 # *"
   ]
  }
 ],
 "metadata": {
  "kernelspec": {
   "display_name": "Python 3",
   "language": "python",
   "name": "python3"
  },
  "language_info": {
   "codemirror_mode": {
    "name": "ipython",
    "version": 2
   },
   "file_extension": ".py",
   "mimetype": "text/x-python",
   "name": "python",
   "nbconvert_exporter": "python",
   "pygments_lexer": "ipython2",
   "version": "2.7.6"
  }
 },
 "nbformat": 4,
 "nbformat_minor": 0
}
