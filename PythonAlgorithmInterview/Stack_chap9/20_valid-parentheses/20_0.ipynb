{
 "cells": [
  {
   "cell_type": "markdown",
   "source": [
    "# <a href=https://leetcode.com/problems/valid-parentheses/>valid-parentheses</a>"
   ],
   "metadata": {
    "collapsed": false
   }
  },
  {
   "cell_type": "code",
   "execution_count": null,
   "metadata": {
    "collapsed": true
   },
   "outputs": [],
   "source": [
    "class Solution:\n",
    "    def isValid(self, s: str) -> bool:\n",
    "        stack = []\n",
    "        pair = {\")\": \"(\", \"]\": \"[\", \"}\": \"{\"}\n",
    "        for bracket in s:\n",
    "            if bracket not in pair: # (, [, {\n",
    "                stack.append(bracket)\n",
    "            else: # ), ], }\n",
    "                if len(stack) == 0: # i.e. \"]\"\n",
    "                    return False\n",
    "\n",
    "                if pair[bracket] != stack.pop():\n",
    "                    return False\n",
    "\n",
    "        if len(stack) == 0:\n",
    "            return True\n"
   ]
  }
 ],
 "metadata": {
  "kernelspec": {
   "display_name": "Python 3",
   "language": "python",
   "name": "python3"
  },
  "language_info": {
   "codemirror_mode": {
    "name": "ipython",
    "version": 2
   },
   "file_extension": ".py",
   "mimetype": "text/x-python",
   "name": "python",
   "nbconvert_exporter": "python",
   "pygments_lexer": "ipython2",
   "version": "2.7.6"
  }
 },
 "nbformat": 4,
 "nbformat_minor": 0
}
