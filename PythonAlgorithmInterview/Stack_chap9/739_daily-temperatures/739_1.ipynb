{
 "cells": [
  {
   "cell_type": "code",
   "execution_count": null,
   "metadata": {
    "collapsed": true
   },
   "outputs": [],
   "source": [
    "class Solution:\n",
    "    def dailyTemperatures(self, temperatures: List[int]) -> List[int]:\n",
    "        # Set default as 0\n",
    "        answer = [0] * len(temperatures)\n",
    "        stack = []\n",
    "        for i, current in enumerate(temperatures):\n",
    "            # Pop until current is bigger than stored numbers\n",
    "            while stack and current > temperatures[stack[-1]]:\n",
    "                last_idx = stack.pop()\n",
    "                answer[last_idx] = i - last_idx\n",
    "\n",
    "            stack.append(i)\n",
    "        return answer"
   ]
  }
 ],
 "metadata": {
  "kernelspec": {
   "display_name": "Python 3",
   "language": "python",
   "name": "python3"
  },
  "language_info": {
   "codemirror_mode": {
    "name": "ipython",
    "version": 2
   },
   "file_extension": ".py",
   "mimetype": "text/x-python",
   "name": "python",
   "nbconvert_exporter": "python",
   "pygments_lexer": "ipython2",
   "version": "2.7.6"
  }
 },
 "nbformat": 4,
 "nbformat_minor": 0
}
