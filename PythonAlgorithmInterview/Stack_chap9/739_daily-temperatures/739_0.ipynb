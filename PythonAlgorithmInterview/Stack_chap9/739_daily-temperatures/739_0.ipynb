{
 "cells": [
  {
   "cell_type": "markdown",
   "source": [
    "# <a href=https://leetcode.com/problems/daily-temperatures/>daily-temperatures</a>"
   ],
   "metadata": {
    "collapsed": false
   }
  },
  {
   "cell_type": "code",
   "execution_count": null,
   "metadata": {
    "collapsed": true
   },
   "outputs": [],
   "source": [
    "# Time Limit Exceeded 28 / 48 testcases passed\n",
    "class Solution:\n",
    "    def dailyTemperatures(self, temperatures: List[int]) -> List[int]:\n",
    "        output = []\n",
    "        for idx in range(len(temperatures)):\n",
    "            cur_temp = temperatures[idx]\n",
    "            stack = []\n",
    "            for days, temp in enumerate(temperatures[idx + 1: ]):\n",
    "                stack.append(temp)\n",
    "                if cur_temp < temp:\n",
    "                    break\n",
    "                # if it's last day and haven't found warmer day\n",
    "                if days == len(temperatures[idx + 1: ]) - 1:\n",
    "                    stack = []\n",
    "            output.append(len(stack))\n",
    "        return output"
   ]
  }
 ],
 "metadata": {
  "kernelspec": {
   "display_name": "Python 3",
   "language": "python",
   "name": "python3"
  },
  "language_info": {
   "codemirror_mode": {
    "name": "ipython",
    "version": 2
   },
   "file_extension": ".py",
   "mimetype": "text/x-python",
   "name": "python",
   "nbconvert_exporter": "python",
   "pygments_lexer": "ipython2",
   "version": "2.7.6"
  }
 },
 "nbformat": 4,
 "nbformat_minor": 0
}
