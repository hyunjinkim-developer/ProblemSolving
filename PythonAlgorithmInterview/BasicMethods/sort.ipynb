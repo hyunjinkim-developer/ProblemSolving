{
 "cells": [
  {
   "cell_type": "markdown",
   "source": [
    "# Sorting\n",
    "built-in soting algorithms are based on <b><a href=https://d2.naver.com/helloworld/0315536>timsort</a></b>\n",
    "- 전체를 작은 덩어리로 잘라 각각의 덩어리를 Insertion sort로 정렬한 뒤 병합하는 것이 기본 아이디어\n"
   ],
   "metadata": {
    "collapsed": false
   }
  },
  {
   "cell_type": "markdown",
   "source": [
    "## sorted()"
   ],
   "metadata": {
    "collapsed": false
   }
  },
  {
   "cell_type": "code",
   "execution_count": 5,
   "metadata": {
    "collapsed": true
   },
   "outputs": [
    {
     "data": {
      "text/plain": "[1, 2, 3, 4, 5]"
     },
     "metadata": {},
     "output_type": "display_data"
    },
    {
     "name": "stdout",
     "output_type": "stream",
     "text": [
      "['d', 'o', 'r', 'w']\n",
      "dorw\n"
     ]
    },
    {
     "data": {
      "text/plain": "['apple', 'car', 'house', 'tuition', 'yacht']"
     },
     "metadata": {},
     "output_type": "display_data"
    }
   ],
   "source": [
    "# sorted() : sort list/ numbers/ characters\n",
    "\n",
    "# sort numbers\n",
    "numbers = [2, 4, 5, 3, 1]\n",
    "display(sorted(numbers))\n",
    "\n",
    "# sort characters\n",
    "word = \"word\"\n",
    "print(sorted(word))\n",
    "# convert list of sorted characters into string\n",
    "print(\"\".join(sorted(word)))\n",
    "\n",
    "# sort list\n",
    "list = [\"yacht\", \"car\", \"house\", \"tuition\", \"apple\"]\n",
    "display(sorted(list))"
   ]
  },
  {
   "cell_type": "code",
   "execution_count": 10,
   "outputs": [
    {
     "name": "stdout",
     "output_type": "stream",
     "text": [
      "['e', 'b', 'dd', 'ccc', 'aaaaa']\n"
     ]
    }
   ],
   "source": [
    "# set key for sorting\n",
    "\n",
    "list = [\"e\", \"dd\", \"aaaaa\", \"ccc\", \"b\"]\n",
    "output = sorted(list, key=len)\n",
    "print(output)"
   ],
   "metadata": {
    "collapsed": false
   }
  },
  {
   "cell_type": "code",
   "execution_count": 18,
   "outputs": [
    {
     "name": "stdout",
     "output_type": "stream",
     "text": [
      "['abc', 'cfc', 'cde']\n"
     ]
    },
    {
     "data": {
      "text/plain": "['abc', 'cde', 'cfc']"
     },
     "metadata": {},
     "output_type": "display_data"
    }
   ],
   "source": [
    "# sort with function (set key as function)\n",
    "\n",
    "def fn(s):\n",
    "    return s[0], s[-1]\n",
    "\n",
    "list = ['cde', 'cfc', 'abc']\n",
    "\n",
    "print(sorted(list, key=fn))\n",
    "# sort with first letter,\n",
    "# if the same, sort with last letter\n",
    "\n",
    "display(sorted(list))"
   ],
   "metadata": {
    "collapsed": false
   }
  },
  {
   "cell_type": "markdown",
   "source": [
    "## .sort()"
   ],
   "metadata": {
    "collapsed": false
   }
  },
  {
   "cell_type": "code",
   "execution_count": 8,
   "outputs": [
    {
     "data": {
      "text/plain": "['apple', 'car', 'house', 'tuition', 'yacht']"
     },
     "metadata": {},
     "output_type": "display_data"
    },
    {
     "data": {
      "text/plain": "None"
     },
     "metadata": {},
     "output_type": "display_data"
    }
   ],
   "source": [
    "# sort() : in-place sort (replace input with output, no return value)\n",
    "\n",
    "list = [\"yacht\", \"car\", \"house\", \"tuition\", \"apple\"]\n",
    "\n",
    "list.sort()\n",
    "display(list)\n",
    "\n",
    "output = list.sort() # .sort() returns None\n",
    "display(output)"
   ],
   "metadata": {
    "collapsed": false
   }
  }
 ],
 "metadata": {
  "kernelspec": {
   "display_name": "Python 3",
   "language": "python",
   "name": "python3"
  },
  "language_info": {
   "codemirror_mode": {
    "name": "ipython",
    "version": 2
   },
   "file_extension": ".py",
   "mimetype": "text/x-python",
   "name": "python",
   "nbconvert_exporter": "python",
   "pygments_lexer": "ipython2",
   "version": "2.7.6"
  }
 },
 "nbformat": 4,
 "nbformat_minor": 0
}
