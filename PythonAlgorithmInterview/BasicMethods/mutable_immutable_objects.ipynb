{
 "cells": [
  {
   "cell_type": "markdown",
   "source": [
    "# Object\n",
    "(ref. Chap4, p.115)\n",
    "- Python is composed of only 'object.'\n",
    "- C supports only 'primitive type.'\n",
    "- Java supports both 'primitive type' and 'object.'\n",
    "\n",
    "### Immutable Object\n",
    "bool/ int/ float/ tuple/ str\n",
    "<hr>\n",
    "\n",
    "### Mutable Object\n",
    "list/ set/ dict"
   ],
   "metadata": {
    "collapsed": false
   }
  },
  {
   "cell_type": "code",
   "execution_count": 1,
   "outputs": [
    {
     "data": {
      "text/plain": "(4479152576, 4479152576, 4479152576)"
     },
     "execution_count": 1,
     "metadata": {},
     "output_type": "execute_result"
    }
   ],
   "source": [
    "# integer is assigned as an immutable object\n",
    "# both variable a and b reference object that was assigned 10\n",
    "# if a and b are primitive type, both a and b will be located in different location in the memory\n",
    "\n",
    "10\n",
    "a = 10\n",
    "b = a\n",
    "\n",
    "id(10), id(a), id(b)"
   ],
   "metadata": {
    "collapsed": false
   }
  },
  {
   "cell_type": "code",
   "execution_count": 2,
   "outputs": [
    {
     "data": {
      "text/plain": "(4479152608, 4479152608, 4479152608)"
     },
     "execution_count": 2,
     "metadata": {},
     "output_type": "execute_result"
    }
   ],
   "source": [
    "# 10 and 11 are different integer objects (immutable objects, which cannot change the value)\n",
    "\n",
    "11\n",
    "a = 11\n",
    "b = a\n",
    "\n",
    "id(11), id(a), id(b)"
   ],
   "metadata": {
    "collapsed": false
   }
  },
  {
   "cell_type": "markdown",
   "source": [
    "### is VS ==\n",
    "is\n",
    "- Compare id() value\n",
    "- None : only comparable with is (because id of None is null, so comparing None with == is not available)\n",
    "\n",
    "==\n",
    "- Compare value"
   ],
   "metadata": {
    "collapsed": false
   }
  },
  {
   "cell_type": "code",
   "execution_count": 10,
   "outputs": [
    {
     "data": {
      "text/plain": "True"
     },
     "metadata": {},
     "output_type": "display_data"
    },
    {
     "data": {
      "text/plain": "True"
     },
     "metadata": {},
     "output_type": "display_data"
    },
    {
     "data": {
      "text/plain": "False"
     },
     "metadata": {},
     "output_type": "display_data"
    },
    {
     "data": {
      "text/plain": "True"
     },
     "metadata": {},
     "output_type": "display_data"
    }
   ],
   "source": [
    "a = [1, 2, 3]\n",
    "\n",
    "display(a is a) # True\n",
    "display(a == a) # True\n",
    "\n",
    "# list() : copy in separable object, get different ids\n",
    "display(a is list(a)) # False\n",
    "display(a == list(a)) # True"
   ],
   "metadata": {
    "collapsed": false
   }
  },
  {
   "cell_type": "code",
   "execution_count": 12,
   "outputs": [
    {
     "data": {
      "text/plain": "False"
     },
     "metadata": {},
     "output_type": "display_data"
    },
    {
     "data": {
      "text/plain": "True"
     },
     "metadata": {},
     "output_type": "display_data"
    }
   ],
   "source": [
    "import copy\n",
    "\n",
    "a = [1, 2, 3]\n",
    "\n",
    "# copy.deepcopy() : copy in separable object, get the same value with different ids\n",
    "display(a is copy.deepcopy(a)) # False\n",
    "display(a == copy.deepcopy(a)) # True"
   ],
   "metadata": {
    "collapsed": false
   }
  },
  {
   "cell_type": "markdown",
   "source": [
    "## Type Definition"
   ],
   "metadata": {
    "collapsed": false
   }
  },
  {
   "cell_type": "code",
   "execution_count": 14,
   "outputs": [
    {
     "data": {
      "text/plain": "list"
     },
     "metadata": {},
     "output_type": "display_data"
    },
    {
     "data": {
      "text/plain": "tuple"
     },
     "metadata": {},
     "output_type": "display_data"
    },
    {
     "data": {
      "text/plain": "dict"
     },
     "metadata": {},
     "output_type": "display_data"
    },
    {
     "data": {
      "text/plain": "set"
     },
     "metadata": {},
     "output_type": "display_data"
    }
   ],
   "source": [
    "display(type([])) # list\n",
    "display(type(())) # tuple\n",
    "display(type({})) # dict # without value\n",
    "display(type({1})) # set # with value"
   ],
   "metadata": {
    "collapsed": false
   }
  },
  {
   "cell_type": "code",
   "execution_count": null,
   "outputs": [],
   "source": [],
   "metadata": {
    "collapsed": false
   }
  }
 ],
 "metadata": {
  "kernelspec": {
   "display_name": "Python 3",
   "language": "python",
   "name": "python3"
  },
  "language_info": {
   "codemirror_mode": {
    "name": "ipython",
    "version": 2
   },
   "file_extension": ".py",
   "mimetype": "text/x-python",
   "name": "python",
   "nbconvert_exporter": "python",
   "pygments_lexer": "ipython2",
   "version": "2.7.6"
  }
 },
 "nbformat": 4,
 "nbformat_minor": 0
}
