{
 "cells": [
  {
   "cell_type": "code",
   "execution_count": null,
   "outputs": [],
   "source": [
    "import functools\n",
    "\n",
    "\n",
    "# reverse given singly linked list -> convert to list\n",
    "# -> concatenate characters into string -> convert to int -> sum\n",
    "# -> generate reversed singly linked list\n",
    "\n",
    "# Definition for singly-linked list.\n",
    "# class ListNode:\n",
    "#     def __init__(self, val=0, next=None):\n",
    "#         self.val = val\n",
    "#         self.next = next\n",
    "class Solution:\n",
    "    # reverse singly linked list\n",
    "    def reverseLinkedList(self, head: ListNode) -> ListNode:\n",
    "        node, prev = head, None\n",
    "\n",
    "        while node:\n",
    "            next, node.next = node.next, prev\n",
    "            prev, node = node, next\n",
    "\n",
    "        return prev\n",
    "\n",
    "    # convert singly linked list into python list\n",
    "    def toList(self, node: ListNode) -> List:\n",
    "        list: List = []\n",
    "        while node:\n",
    "            list.append(node.val)\n",
    "            node = node.next\n",
    "        return list\n",
    "\n",
    "    def toReversedLinkedList(self, result: str) -> ListNode:\n",
    "        prev: ListNode = None\n",
    "        for r in result:\n",
    "            node = ListNode(r)\n",
    "            node.next = prev\n",
    "            prev = node\n",
    "        return prev\n",
    "\n",
    "    def addTwoNumbers(self, l1: Optional[ListNode], l2: Optional[ListNode]) -> Optional[ListNode]:\n",
    "        a = self.toList(self.reverseLinkedList(l1))\n",
    "        b = self.toList(self.reverseLinkedList(l2))\n",
    "\n",
    "        # convert int list to number\n",
    "        # resultStr = int(''.join(str(e) for e in a)) \\\n",
    "        #             + int(''.join(str(e) for e in b))\n",
    "        resultStr = int(''.join(map(str, a))) + int(''.join(map(str, b))) # using map(func, iterator)\n",
    "\n",
    "        return self.toReversedLinkedList(str(resultStr))"
   ],
   "metadata": {
    "collapsed": false
   }
  },
  {
   "cell_type": "markdown",
   "source": [
    "# Convert int list into single number"
   ],
   "metadata": {
    "collapsed": false
   }
  },
  {
   "cell_type": "code",
   "execution_count": 13,
   "outputs": [
    {
     "name": "stdout",
     "output_type": "stream",
     "text": [
      "15\n",
      "edcba\n",
      "12345\n"
     ]
    }
   ],
   "source": [
    "# functools.reduce()\n",
    "# functools: function that deals functions\n",
    "# reduce(): implement the function through iterator\n",
    "\n",
    "import functools\n",
    "\n",
    "a = [1, 2, 3, 4, 5]\n",
    "print(functools.reduce(lambda x, y: x + y, a))\n",
    "# ((((1 + 2) + 3) + 4) + 5)\n",
    "# y becomes next iteration's x\n",
    "\n",
    "b = \"abcde\"\n",
    "print(functools.reduce(lambda x, y: y + x, b))\n",
    "\n",
    "c = [1, 2, 3, 4, 5]\n",
    "print(functools.reduce(lambda x, y: 10 * x + y, c))"
   ],
   "metadata": {
    "collapsed": false
   }
  },
  {
   "cell_type": "code",
   "execution_count": 14,
   "outputs": [
    {
     "name": "stdout",
     "output_type": "stream",
     "text": [
      "15\n",
      "120\n"
     ]
    }
   ],
   "source": [
    "# using operator module\n",
    "\n",
    "import functools\n",
    "from operator import add, mul\n",
    "\n",
    "# add through iterator\n",
    "print(functools.reduce(add, [1, 2, 3, 4, 5]))\n",
    "\n",
    "# multiply through iterator\n",
    "print(functools.reduce(mul, [1, 2, 3, 4, 5]))"
   ],
   "metadata": {
    "collapsed": false
   }
  },
  {
   "cell_type": "code",
   "execution_count": null,
   "outputs": [],
   "source": [],
   "metadata": {
    "collapsed": false
   }
  }
 ],
 "metadata": {
  "kernelspec": {
   "display_name": "Python 3",
   "language": "python",
   "name": "python3"
  },
  "language_info": {
   "codemirror_mode": {
    "name": "ipython",
    "version": 2
   },
   "file_extension": ".py",
   "mimetype": "text/x-python",
   "name": "python",
   "nbconvert_exporter": "python",
   "pygments_lexer": "ipython2",
   "version": "2.7.6"
  }
 },
 "nbformat": 4,
 "nbformat_minor": 0
}
