{
 "cells": [
  {
   "cell_type": "markdown",
   "source": [
    "# <a href=https://leetcode.com/problems/add-two-numbers/>add-two-numbers</a>"
   ],
   "metadata": {
    "collapsed": false
   }
  },
  {
   "cell_type": "code",
   "execution_count": null,
   "outputs": [],
   "source": [
    "# convert numbers given in singly linked list to list\n",
    "# convert each digit(int) -> string -> make into single number -> sum -> split into string digit\n",
    "# make into singly linked list in reverse order\n",
    "\n",
    "# Definition for singly-linked list.\n",
    "# class ListNode:\n",
    "#     def __init__(self, val=0, next=None):\n",
    "#         self.val = val\n",
    "#         self.next = next\n",
    "class Solution:\n",
    "    def addTwoNumbers(self, l1: Optional[ListNode], l2: Optional[ListNode]) -> Optional[ListNode]:\n",
    "        n1 = []\n",
    "        n2 = []\n",
    "\n",
    "        # extract only numbers\n",
    "        while l1:\n",
    "            n1.append(str(l1.val))\n",
    "            l1 = l1.next\n",
    "        while l2:\n",
    "            n2.append(str(l2.val))\n",
    "            l2 = l2.next\n",
    "        # numbers are stored in reverse order\n",
    "        n1 = int(\"\".join(n1[::-1]))\n",
    "        n2 = int(\"\".join(n2[::-1]))\n",
    "        num_sum = n1 + n2\n",
    "        num_list = [char for char in str(num_sum)]\n",
    "\n",
    "        node = None\n",
    "        for num in num_list:\n",
    "            cur = ListNode()\n",
    "            cur.val = num\n",
    "            cur.next = node\n",
    "            node = cur\n",
    "\n",
    "        return node"
   ],
   "metadata": {
    "collapsed": false
   }
  }
 ],
 "metadata": {
  "kernelspec": {
   "display_name": "Python 3",
   "language": "python",
   "name": "python3"
  },
  "language_info": {
   "codemirror_mode": {
    "name": "ipython",
    "version": 2
   },
   "file_extension": ".py",
   "mimetype": "text/x-python",
   "name": "python",
   "nbconvert_exporter": "python",
   "pygments_lexer": "ipython2",
   "version": "2.7.6"
  }
 },
 "nbformat": 4,
 "nbformat_minor": 0
}
