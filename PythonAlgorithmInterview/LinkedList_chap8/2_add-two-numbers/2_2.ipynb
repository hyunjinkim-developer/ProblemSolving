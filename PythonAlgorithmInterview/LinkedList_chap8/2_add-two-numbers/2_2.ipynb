{
 "cells": [
  {
   "cell_type": "code",
   "execution_count": null,
   "metadata": {
    "collapsed": true
   },
   "outputs": [],
   "source": [
    "# Using the concept of full adder in logic gate\n",
    "\n",
    "# Definition for singly-linked list.\n",
    "# class ListNode:\n",
    "#     def __init__(self, val=0, next=None):\n",
    "#         self.val = val\n",
    "#         self.next = next\n",
    "class Solution:\n",
    "    def addTwoNumbers(self, l1: Optional[ListNode], l2: Optional[ListNode]) -> Optional[ListNode]:\n",
    "        root = head = ListNode(0)\n",
    "\n",
    "        carry = 0\n",
    "        while l1 or l2 or carry:\n",
    "            sum = 0\n",
    "\n",
    "            # add numbers from each list\n",
    "            if l1:\n",
    "                sum += l1.val\n",
    "                l1 = l1.next\n",
    "            if l2:\n",
    "                sum += l2.val\n",
    "                l2 = l2.next\n",
    "\n",
    "            # carry, remains\n",
    "            carry, remains = divmod(sum + carry, 10) # quotient and remainder\n",
    "            head.next = ListNode(remains)\n",
    "            head = head.next\n",
    "\n",
    "        return root.next # remove first node(initiated in 0)"
   ]
  }
 ],
 "metadata": {
  "kernelspec": {
   "display_name": "Python 3",
   "language": "python",
   "name": "python3"
  },
  "language_info": {
   "codemirror_mode": {
    "name": "ipython",
    "version": 2
   },
   "file_extension": ".py",
   "mimetype": "text/x-python",
   "name": "python",
   "nbconvert_exporter": "python",
   "pygments_lexer": "ipython2",
   "version": "2.7.6"
  }
 },
 "nbformat": 4,
 "nbformat_minor": 0
}
