{
 "cells": [
  {
   "cell_type": "markdown",
   "source": [
    "# Using runner\n",
    "* ## fast runner usually runs 2 steps at a time\n",
    "* ## slow runner usually runs 1 steps at a time\n",
    "* ## when the fast runner reaches the end, slow runner reaches at the middle"
   ],
   "metadata": {
    "collapsed": false
   }
  },
  {
   "cell_type": "code",
   "execution_count": null,
   "outputs": [],
   "source": [
    "# using runner\n",
    "\n",
    "# Definition for singly-linked list.\n",
    "# class ListNode:\n",
    "#     def __init__(self, val=0, next=None):\n",
    "#         self.val = val\n",
    "#         self.next = next\n",
    "class Solution:\n",
    "    def isPalindrome(self, head: Optional[ListNode]) -> bool:\n",
    "        rev = None # reverse singly linked list\n",
    "        slow = fast = head\n",
    "\n",
    "        # create reverse list using runner\n",
    "        # fast runner goes 2 steps at a time\n",
    "        # slow runner goes 1 step at a time\n",
    "        while fast and fast.next: # going 2 steps at a time\n",
    "            fast = fast.next.next\n",
    "            # create reverse list\n",
    "            rev, rev.next, slow = slow, rev, slow.next # *\n",
    "\n",
    "        # if length of linked list is odd\n",
    "        if fast is not None: # fast is not None, because fast runner runs evenly\n",
    "            slow = slow.next # slow runner runs to the middle of the linked list\n",
    "\n",
    "        # check palindrome\n",
    "        while rev and rev.val == slow.val:\n",
    "            slow, rev = slow.next, rev.next # *\n",
    "\n",
    "        # if the linked list is a palindrome,\n",
    "        # rev and slow run til the very end, end with None\n",
    "        return not rev # * return not slow\n",
    "\n"
   ],
   "metadata": {
    "collapsed": false
   }
  }
 ],
 "metadata": {
  "kernelspec": {
   "display_name": "Python 3",
   "language": "python",
   "name": "python3"
  },
  "language_info": {
   "codemirror_mode": {
    "name": "ipython",
    "version": 2
   },
   "file_extension": ".py",
   "mimetype": "text/x-python",
   "name": "python",
   "nbconvert_exporter": "python",
   "pygments_lexer": "ipython2",
   "version": "2.7.6"
  }
 },
 "nbformat": 4,
 "nbformat_minor": 0
}
