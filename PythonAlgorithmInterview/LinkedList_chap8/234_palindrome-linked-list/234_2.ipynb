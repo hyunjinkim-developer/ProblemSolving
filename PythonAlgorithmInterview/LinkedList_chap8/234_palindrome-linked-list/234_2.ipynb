{
 "cells": [
  {
   "cell_type": "code",
   "execution_count": null,
   "metadata": {
    "collapsed": true
   },
   "outputs": [],
   "source": [
    "# convert into deque\n",
    "# deque.pop(): O(1)\n",
    "# deque.popleft(): O(1)\n",
    "\n",
    "import collections\n",
    "\n",
    "# Definition for singly-linked list.\n",
    "# class ListNode:\n",
    "#     def __init__(self, val=0, next=None):\n",
    "#         self.val = val\n",
    "#         self.next = next\n",
    "class Solution:\n",
    "    def isPalindrome(self, head: Optional[ListNode]) -> bool:\n",
    "        q: Deque = collections.deque()\n",
    "\n",
    "        # empty linked list\n",
    "        if not head:\n",
    "            return True\n",
    "\n",
    "        # convert linked list into list\n",
    "        node = head\n",
    "        while node is not None:\n",
    "            q.append(node.val)\n",
    "            node = node.next\n",
    "\n",
    "        # check palindrome\n",
    "        while len(q) > 1: # length of palindrome can be even or odd\n",
    "            if q.popleft() != q.pop():\n",
    "                return False\n",
    "\n",
    "        return True"
   ]
  }
 ],
 "metadata": {
  "kernelspec": {
   "display_name": "Python 3",
   "language": "python",
   "name": "python3"
  },
  "language_info": {
   "codemirror_mode": {
    "name": "ipython",
    "version": 2
   },
   "file_extension": ".py",
   "mimetype": "text/x-python",
   "name": "python",
   "nbconvert_exporter": "python",
   "pygments_lexer": "ipython2",
   "version": "2.7.6"
  }
 },
 "nbformat": 4,
 "nbformat_minor": 0
}
