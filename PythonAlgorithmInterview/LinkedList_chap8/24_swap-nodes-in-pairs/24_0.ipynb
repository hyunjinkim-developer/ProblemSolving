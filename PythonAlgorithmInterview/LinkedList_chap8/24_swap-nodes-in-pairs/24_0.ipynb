{
 "cells": [
  {
   "cell_type": "markdown",
   "source": [
    "# <a href=https://leetcode.com/problems/swap-nodes-in-pairs/>swap-nodes-in-pairs</a>"
   ],
   "metadata": {
    "collapsed": false
   }
  },
  {
   "cell_type": "code",
   "execution_count": null,
   "metadata": {
    "collapsed": true
   },
   "outputs": [],
   "source": [
    "# Don't know what is the problem\n",
    "# AttributeError: 'NoneType' object has no attribute 'next'\n",
    "#     while head.next != None:\n",
    "\n",
    "# Definition for singly-linked list.\n",
    "# class ListNode:\n",
    "#     def __init__(self, val=0, next=None):\n",
    "#         self.val = val\n",
    "#         self.next = next\n",
    "class Solution:\n",
    "    def swapPairs(self, head: Optional[ListNode]) -> Optional[ListNode]:\n",
    "        node = head\n",
    "        next_head, fast, slow = None, None, None\n",
    "\n",
    "        while head.next != None:\n",
    "            next_head, fast, slow = head.next.next, head.next, head\n",
    "            fast.next = slow\n",
    "            slow.next = next_head\n",
    "            head = next_head\n"
   ]
  }
 ],
 "metadata": {
  "kernelspec": {
   "display_name": "Python 3",
   "language": "python",
   "name": "python3"
  },
  "language_info": {
   "codemirror_mode": {
    "name": "ipython",
    "version": 2
   },
   "file_extension": ".py",
   "mimetype": "text/x-python",
   "name": "python",
   "nbconvert_exporter": "python",
   "pygments_lexer": "ipython2",
   "version": "2.7.6"
  }
 },
 "nbformat": 4,
 "nbformat_minor": 0
}
