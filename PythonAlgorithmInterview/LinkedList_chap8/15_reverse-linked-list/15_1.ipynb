{
 "cells": [
  {
   "cell_type": "code",
   "execution_count": null,
   "metadata": {
    "collapsed": true
   },
   "outputs": [],
   "source": [
    "# using recursive function\n",
    "\n",
    "# Definition for singly-linked list.\n",
    "# class ListNode:\n",
    "#     def __init__(self, val=0, next=None):\n",
    "#         self.val = val\n",
    "#         self.next = next\n",
    "class Solution:\n",
    "    def reverseList(self, head: Optional[ListNode]) -> Optional[ListNode]:\n",
    "        # set first of prev as None using default value\n",
    "        def reverse(node: ListNode, prev: ListNode = None):\n",
    "            if not node: # if there is no list left\n",
    "                return prev\n",
    "            next, node.next = node.next, prev\n",
    "            # next: next element of node -> end of head\n",
    "            # first element of node -> prev: add prev at the end of fist element of node\n",
    "            return reverse(next, node)\n",
    "\n",
    "        return reverse(head)"
   ]
  }
 ],
 "metadata": {
  "kernelspec": {
   "display_name": "Python 3",
   "language": "python",
   "name": "python3"
  },
  "language_info": {
   "codemirror_mode": {
    "name": "ipython",
    "version": 2
   },
   "file_extension": ".py",
   "mimetype": "text/x-python",
   "name": "python",
   "nbconvert_exporter": "python",
   "pygments_lexer": "ipython2",
   "version": "2.7.6"
  }
 },
 "nbformat": 4,
 "nbformat_minor": 0
}
