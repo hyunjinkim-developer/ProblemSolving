{
 "cells": [
  {
   "cell_type": "code",
   "execution_count": null,
   "outputs": [],
   "source": [
    "# Using swap and recursive function\n",
    "\n",
    "# Definition for singly-linked list.\n",
    "# class ListNode:\n",
    "#     def __init__(self, val=0, next=None):\n",
    "#         self.val = val\n",
    "#         self.next = next\n",
    "class Solution:\n",
    "    def mergeTwoLists(self, list1: Optional[ListNode], list2: Optional[ListNode]) -> Optional[ListNode]:\n",
    "\n",
    "        if not list1 or list2 and list1.val > list2.val: # *\n",
    "        # operator priority: (higher) () > not and or (lower)\n",
    "        # if (not list1) or (list2 and (list1.val > list2.val)): # the same\n",
    "        # (not list1) # list1 is None\n",
    "        # or\n",
    "        # (list2 and (list1.val > list2.val)) # list2 is not None and the value of list1 is greater than the value of list2\n",
    "            list1, list2 = list2, list1 # ***\n",
    "\n",
    "        if list1:\n",
    "            list1.next = self.mergeTwoLists(list1.next, list2) # *\n",
    "\n",
    "        return list1\n"
   ],
   "metadata": {
    "collapsed": false
   }
  }
 ],
 "metadata": {
  "kernelspec": {
   "display_name": "Python 3",
   "language": "python",
   "name": "python3"
  },
  "language_info": {
   "codemirror_mode": {
    "name": "ipython",
    "version": 2
   },
   "file_extension": ".py",
   "mimetype": "text/x-python",
   "name": "python",
   "nbconvert_exporter": "python",
   "pygments_lexer": "ipython2",
   "version": "2.7.6"
  }
 },
 "nbformat": 4,
 "nbformat_minor": 0
}
