{
 "cells": [
  {
   "cell_type": "markdown",
   "source": [
    "# <a href=https://leetcode.com/problems/merge-two-sorted-lists/>merge-two-sorted-lists</a>"
   ],
   "metadata": {
    "collapsed": false
   }
  },
  {
   "cell_type": "code",
   "execution_count": null,
   "metadata": {
    "collapsed": true
   },
   "outputs": [],
   "source": [
    "# compare each node one after the other\n",
    "\n",
    "# Definition for singly-linked list.\n",
    "# class ListNode:\n",
    "#     def __init__(self, val=0, next=None):\n",
    "#         self.val = val\n",
    "#         self.next = next\n",
    "\n",
    "class Solution:\n",
    "    def mergeTwoLists(self, list1: Optional[ListNode], list2: Optional[ListNode]) -> Optional[ListNode]:\n",
    "        head = node = ListNode()\n",
    "\n",
    "        while list1 is not None and list2 is not None:\n",
    "            if list1.val <= list2.val:\n",
    "                head.next = list1\n",
    "                head = head.next\n",
    "                list1 = list1.next\n",
    "            else:\n",
    "                head.next = list2\n",
    "                head = head.next\n",
    "                list2 = list2.next\n",
    "\n",
    "        if list1 is not None:\n",
    "            head.next = list1\n",
    "\n",
    "        if list2 is not None:\n",
    "            head.next = list2\n",
    "\n",
    "        node = node.next\n",
    "        return node"
   ]
  }
 ],
 "metadata": {
  "kernelspec": {
   "display_name": "Python 3",
   "language": "python",
   "name": "python3"
  },
  "language_info": {
   "codemirror_mode": {
    "name": "ipython",
    "version": 2
   },
   "file_extension": ".py",
   "mimetype": "text/x-python",
   "name": "python",
   "nbconvert_exporter": "python",
   "pygments_lexer": "ipython2",
   "version": "2.7.6"
  }
 },
 "nbformat": 4,
 "nbformat_minor": 0
}
