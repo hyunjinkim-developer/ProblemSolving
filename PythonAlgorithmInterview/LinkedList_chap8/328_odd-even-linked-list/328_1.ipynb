{
 "cells": [
  {
   "cell_type": "code",
   "execution_count": null,
   "metadata": {
    "collapsed": true
   },
   "outputs": [],
   "source": [
    "# Definition for singly-linked list.\n",
    "# class ListNode:\n",
    "#     def __init__(self, val=0, next=None):\n",
    "#         self.val = val\n",
    "#         self.next = next\n",
    "class Solution:\n",
    "    def oddEvenList(self, head: Optional[ListNode]) -> Optional[ListNode]:\n",
    "        # exception handling\n",
    "        if head is None:\n",
    "            return None\n",
    "\n",
    "        odd = head\n",
    "        even = head.next\n",
    "        even_head = head.next\n",
    "\n",
    "        while even and even.next:\n",
    "            # i.e. odd(1) -> odd(3), even(2) -> even(4)\n",
    "            odd.next, even.next = odd.next.next, even.next.next # *\n",
    "            odd, even = odd.next, even.next\n",
    "\n",
    "        # odd nodes tail -> even nodes head\n",
    "        odd.next = even_head\n",
    "\n",
    "        return head # return head of tatoal singly linked list"
   ]
  }
 ],
 "metadata": {
  "kernelspec": {
   "display_name": "Python 3",
   "language": "python",
   "name": "python3"
  },
  "language_info": {
   "codemirror_mode": {
    "name": "ipython",
    "version": 2
   },
   "file_extension": ".py",
   "mimetype": "text/x-python",
   "name": "python",
   "nbconvert_exporter": "python",
   "pygments_lexer": "ipython2",
   "version": "2.7.6"
  }
 },
 "nbformat": 4,
 "nbformat_minor": 0
}
