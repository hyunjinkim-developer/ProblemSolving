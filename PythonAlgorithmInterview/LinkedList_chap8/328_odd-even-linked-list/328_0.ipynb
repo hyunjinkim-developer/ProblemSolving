{
 "cells": [
  {
   "cell_type": "markdown",
   "source": [
    "# <a href=https://leetcode.com/problems/odd-even-linked-list/>odd-even-linked-list</a>"
   ],
   "metadata": {
    "collapsed": false
   }
  },
  {
   "cell_type": "code",
   "execution_count": null,
   "outputs": [],
   "source": [
    "# Definition for singly-linked list.\n",
    "# class ListNode:\n",
    "#     def __init__(self, val=0, next=None):\n",
    "#         self.val = val\n",
    "#         self.next = next\n",
    "class Solution:\n",
    "    def oddEvenList(self, head: Optional[ListNode]) -> Optional[ListNode]:\n",
    "        even_head = even_cur = ListNode(None)\n",
    "        odd_head = odd_cur = ListNode(None)\n",
    "        cur = head\n",
    "\n",
    "        count = 1\n",
    "        while cur:\n",
    "            if count % 2 == 0:\n",
    "                even_cur.next = cur\n",
    "                even_cur = even_cur.next\n",
    "\n",
    "            else:\n",
    "                odd_cur.next = cur\n",
    "                odd_cur = odd_cur.next\n",
    "\n",
    "            cur = cur.next\n",
    "            count += 1\n",
    "\n",
    "        # Block end with None\n",
    "        even_cur.next = None # if not, even are linked like 2 -> 4 -> 5\n",
    "        odd_cur.next = None\n",
    "\n",
    "        odd_cur.next = even_head.next\n",
    "        return odd_head.next"
   ],
   "metadata": {
    "collapsed": false
   }
  }
 ],
 "metadata": {
  "kernelspec": {
   "display_name": "Python 3",
   "language": "python",
   "name": "python3"
  },
  "language_info": {
   "codemirror_mode": {
    "name": "ipython",
    "version": 2
   },
   "file_extension": ".py",
   "mimetype": "text/x-python",
   "name": "python",
   "nbconvert_exporter": "python",
   "pygments_lexer": "ipython2",
   "version": "2.7.6"
  }
 },
 "nbformat": 4,
 "nbformat_minor": 0
}
